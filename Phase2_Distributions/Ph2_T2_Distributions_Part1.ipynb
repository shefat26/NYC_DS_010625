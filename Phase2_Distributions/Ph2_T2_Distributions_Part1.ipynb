{
 "cells": [
  {
   "cell_type": "markdown",
   "metadata": {
    "cell_style": "center",
    "slideshow": {
     "slide_type": "slide"
    }
   },
   "source": [
    "<div style=\"color:white;\n",
    "           display:fill;\n",
    "           border-radius:5px;\n",
    "           background-color:#5642C5;\n",
    "           font-size:200%;\n",
    "           font-family:Arial;letter-spacing:0.5px\">\n",
    "\n",
    "<p width = 20%, style=\"padding: 10px;\n",
    "              color:white;\">\n",
    "Distributions and Sampling: Part I\n",
    "              \n",
    "</p>\n",
    "</div>\n",
    "\n",
    "Data Science Cohort Live NYC Aug 2024\n",
    "<p>Phase 2</p>\n",
    "<br>\n",
    "<br>\n",
    "\n",
    "<div align = \"right\">\n",
    "<img src=\"Images/flatiron-school-logo.png\" align = \"right\" width=\"200\"/>\n",
    "</div>\n",
    "    \n",
    "    "
   ]
  },
  {
   "cell_type": "markdown",
   "metadata": {
    "cell_style": "center",
    "hidden": true,
    "slideshow": {
     "slide_type": "subslide"
    }
   },
   "source": [
    "#### Probability distribution\n",
    "\n",
    "Representation of the expected frequencies of potential outcomes of experiment.\n",
    "\n",
    "How do we build expected frequencies?"
   ]
  },
  {
   "cell_type": "markdown",
   "metadata": {
    "cell_style": "split",
    "slideshow": {
     "slide_type": "fragment"
    }
   },
   "source": [
    "Have a large $N$ collection of all examples following distribution of interest:\n",
    "- known as a **population**"
   ]
  },
  {
   "cell_type": "markdown",
   "metadata": {
    "cell_style": "split",
    "slideshow": {
     "slide_type": "fragment"
    }
   },
   "source": [
    "**population**: the collection of all men in the world and their feet sizes."
   ]
  },
  {
   "cell_type": "markdown",
   "metadata": {
    "slideshow": {
     "slide_type": "slide"
    }
   },
   "source": [
    "**Another example of a population:** age bin distribution of all students that have ever attended Flatiron"
   ]
  },
  {
   "cell_type": "markdown",
   "metadata": {
    "cell_style": "split",
    "slideshow": {
     "slide_type": "subslide"
    }
   },
   "source": [
    "**The bins**\n",
    "\n",
    "- Age < 25.\n",
    "- 25 <= Age < 30.\n",
    "- 30 <= Age < 35.\n",
    "- 35 <= Age < 40.\n",
    "- Age >= 40"
   ]
  },
  {
   "cell_type": "markdown",
   "metadata": {
    "cell_style": "split"
   },
   "source": [
    "If we had access to every example in this population:\n",
    "\n",
    "- just get relative frequencies across bins\n",
    "- these are the **expected frequencies** or **probablity** given population level data."
   ]
  },
  {
   "cell_type": "markdown",
   "metadata": {
    "slideshow": {
     "slide_type": "slide"
    }
   },
   "source": [
    "#### Building probability distribution:"
   ]
  },
  {
   "cell_type": "markdown",
   "metadata": {
    "cell_style": "split",
    "slideshow": {
     "slide_type": "fragment"
    }
   },
   "source": [
    "- Get ages of all students at Flatiron (population)\n",
    "- Bin accordingly to build probability distribution."
   ]
  },
  {
   "cell_type": "markdown",
   "metadata": {
    "cell_style": "split",
    "slideshow": {
     "slide_type": "fragment"
    }
   },
   "source": [
    "\n",
    "- $15\\%$ are under the age of $25$\n",
    "- $30\\%$ are between $25$ & $30$\n",
    "- $25\\%$ are between $30$ & $35$\n",
    "- $20\\%$ are between $35$ & $40$\n",
    "- $10\\%$ are over the age of $40$\n",
    "\n",
    "**Built probability distribution from population percentages**"
   ]
  },
  {
   "cell_type": "markdown",
   "metadata": {
    "cell_style": "split",
    "slideshow": {
     "slide_type": "slide"
    }
   },
   "source": [
    "#### Sample from population\n",
    "\n",
    "<center><img src=\"Images/population_sample.png\" width=\"500\"/></center>\n",
    "\n",
    "    "
   ]
  },
  {
   "cell_type": "markdown",
   "metadata": {
    "cell_style": "split",
    "slideshow": {
     "slide_type": "fragment"
    }
   },
   "source": [
    "Once probability from population known:\n",
    "- Can estimate expected frequency of extracting a particular sample."
   ]
  },
  {
   "cell_type": "markdown",
   "metadata": {
    "cell_style": "split",
    "slideshow": {
     "slide_type": "subslide"
    }
   },
   "source": [
    "\n",
    "**Population**: whole group we're interested in. Population being the whole set of possible outcomes.\n",
    "\n",
    "**Sample**: random subset picked over the population. \n",
    "\n",
    "**Probabilities**: extracted from population"
   ]
  },
  {
   "cell_type": "markdown",
   "metadata": {
    "cell_style": "center",
    "slideshow": {
     "slide_type": "subslide"
    }
   },
   "source": [
    "#### Sampling\n",
    "\n",
    "- Picking a person randomly: \n",
    "\n",
    "What is the probability that the person is older than 40?"
   ]
  },
  {
   "cell_type": "markdown",
   "metadata": {
    "cell_style": "split",
    "slideshow": {
     "slide_type": "fragment"
    }
   },
   "source": [
    "\n",
    "- $15\\%$ are under the age of $25$\n",
    "- $30\\%$ are between $25$ & $30$\n",
    "- $25\\%$ are between $30$ & $35$\n",
    "- $20\\%$ are between $35$ & $40$\n",
    "- $10\\%$ are over the age of $40$\n",
    "\n",
    "**Built probability distribution from population percentages**"
   ]
  },
  {
   "cell_type": "markdown",
   "metadata": {
    "cell_style": "split",
    "slideshow": {
     "slide_type": "fragment"
    }
   },
   "source": [
    "$$ P = 0.1 $$"
   ]
  },
  {
   "cell_type": "markdown",
   "metadata": {
    "slideshow": {
     "slide_type": "subslide"
    }
   },
   "source": [
    "#### Sampling\n",
    "\n",
    "- Picking three people randomly: \n",
    "\n",
    "What is the probability that two are older than 40 and one is under the age of 25?"
   ]
  },
  {
   "cell_type": "code",
   "execution_count": 1,
   "metadata": {
    "slideshow": {
     "slide_type": "fragment"
    }
   },
   "outputs": [
    {
     "data": {
      "text/plain": [
       "0.0045000000000000005"
      ]
     },
     "execution_count": 1,
     "metadata": {},
     "output_type": "execute_result"
    }
   ],
   "source": [
    "from math import factorial\n",
    "\n",
    "combination_prefactor = factorial(3)/(factorial(2)*factorial(1))\n",
    "combination_prefactor*(.15)*(0.1)**2"
   ]
  },
  {
   "cell_type": "markdown",
   "metadata": {
    "slideshow": {
     "slide_type": "slide"
    }
   },
   "source": [
    "For discrete sample spaces:\n",
    "- probability distributions / tabulations have a fancy shmancy name."
   ]
  },
  {
   "cell_type": "markdown",
   "metadata": {
    "slideshow": {
     "slide_type": "subslide"
    }
   },
   "source": [
    "#### Probability Mass Function (PMF)\n",
    "\n",
    "Probability distribution over finite outcomes. Nothing fancy."
   ]
  },
  {
   "cell_type": "code",
   "execution_count": 2,
   "metadata": {
    "slideshow": {
     "slide_type": "fragment"
    }
   },
   "outputs": [
    {
     "data": {
      "text/html": [
       "<div>\n",
       "<style scoped>\n",
       "    .dataframe tbody tr th:only-of-type {\n",
       "        vertical-align: middle;\n",
       "    }\n",
       "\n",
       "    .dataframe tbody tr th {\n",
       "        vertical-align: top;\n",
       "    }\n",
       "\n",
       "    .dataframe thead th {\n",
       "        text-align: right;\n",
       "    }\n",
       "</style>\n",
       "<table border=\"1\" class=\"dataframe\">\n",
       "  <thead>\n",
       "    <tr style=\"text-align: right;\">\n",
       "      <th></th>\n",
       "      <th>Age Range</th>\n",
       "      <th>PMF</th>\n",
       "    </tr>\n",
       "  </thead>\n",
       "  <tbody>\n",
       "    <tr>\n",
       "      <th>0</th>\n",
       "      <td>&lt;25</td>\n",
       "      <td>0.15</td>\n",
       "    </tr>\n",
       "    <tr>\n",
       "      <th>1</th>\n",
       "      <td>25-30</td>\n",
       "      <td>0.30</td>\n",
       "    </tr>\n",
       "    <tr>\n",
       "      <th>2</th>\n",
       "      <td>30-35</td>\n",
       "      <td>0.20</td>\n",
       "    </tr>\n",
       "    <tr>\n",
       "      <th>3</th>\n",
       "      <td>35-40</td>\n",
       "      <td>0.25</td>\n",
       "    </tr>\n",
       "    <tr>\n",
       "      <th>4</th>\n",
       "      <td>&gt;40</td>\n",
       "      <td>0.10</td>\n",
       "    </tr>\n",
       "  </tbody>\n",
       "</table>\n",
       "</div>"
      ],
      "text/plain": [
       "  Age Range   PMF\n",
       "0       <25  0.15\n",
       "1     25-30  0.30\n",
       "2     30-35  0.20\n",
       "3     35-40  0.25\n",
       "4       >40  0.10"
      ]
     },
     "execution_count": 2,
     "metadata": {},
     "output_type": "execute_result"
    }
   ],
   "source": [
    "import pandas as pd\n",
    "import numpy as np\n",
    "outcome_df = pd.DataFrame([('<25', 0.15),('25-30', 0.3,),('30-35', 0.2,),('35-40', .25,),('>40', .1,)], columns=['Age Range', 'PMF'])\n",
    "outcome_df"
   ]
  },
  {
   "cell_type": "markdown",
   "metadata": {
    "cell_style": "center",
    "slideshow": {
     "slide_type": "subslide"
    }
   },
   "source": [
    "#### Plot PMF"
   ]
  },
  {
   "cell_type": "markdown",
   "metadata": {
    "slideshow": {
     "slide_type": "fragment"
    }
   },
   "source": [
    "Are often displayed visually by a specialized plot: *the stem plot*"
   ]
  },
  {
   "cell_type": "code",
   "execution_count": 3,
   "metadata": {
    "cell_style": "center",
    "scrolled": false,
    "slideshow": {
     "slide_type": "subslide"
    }
   },
   "outputs": [
    {
     "data": {
      "image/png": "[encoded data removed]",
      "text/plain": [
       "<Figure size 640x480 with 1 Axes>"
      ]
     },
     "metadata": {},
     "output_type": "display_data"
    }
   ],
   "source": [
    "import matplotlib.pyplot as plt\n",
    "from matplotlib.pyplot import stem\n",
    "\n",
    "\n",
    "plt.stem(outcome_df['Age Range'], outcome_df['PMF'], linefmt='b-', markerfmt='bo', basefmt='r-')\n",
    "plt.xlabel('Age groups')\n",
    "plt.ylabel('Probability')\n",
    "plt.title('Probability Mass Function (PMF)')\n",
    "plt.show()"
   ]
  },
  {
   "cell_type": "markdown",
   "metadata": {
    "hidden": true,
    "slideshow": {
     "slide_type": "slide"
    }
   },
   "source": [
    "Actual uses of using population data to build probability distributions:\n",
    "\n",
    "- **Galaxy distribution in our universe:** \n",
    "    - sampling: our galactic local group\n",
    "- **All ad click data on Facebook:**\n",
    "    - sampling: specific user likehood to click on given add given their preferences"
   ]
  },
  {
   "cell_type": "markdown",
   "metadata": {
    "slideshow": {
     "slide_type": "slide"
    }
   },
   "source": [
    "#### Mathematical models of distribution"
   ]
  },
  {
   "cell_type": "markdown",
   "metadata": {
    "cell_style": "center",
    "slideshow": {
     "slide_type": "fragment"
    }
   },
   "source": [
    "- In many cases: know what a population distribution _should_ be.\n",
    "- Can model uncertainty: mathematically define a model governing statistics or population level data.\n",
    "\n",
    "**Often referred to as generative modeling**"
   ]
  },
  {
   "cell_type": "markdown",
   "metadata": {
    "heading_collapsed": true,
    "hidden": true,
    "slideshow": {
     "slide_type": "slide"
    }
   },
   "source": [
    "#### Common types of distributions: Discrete "
   ]
  },
  {
   "cell_type": "markdown",
   "metadata": {
    "cell_style": "split",
    "slideshow": {
     "slide_type": "fragment"
    }
   },
   "source": [
    "Mathematical distribution of random variables $X$:\n",
    "- governed by specific functional form\n",
    "- parameters of distribution $\\theta$"
   ]
  },
  {
   "cell_type": "markdown",
   "metadata": {
    "cell_style": "split",
    "slideshow": {
     "slide_type": "fragment"
    }
   },
   "source": [
    "Probability has some specific functional form depending on $X$ and $\\theta$.\n",
    "\n",
    "$$ P(X|\\theta) $$\n",
    "\n",
    "*Note*: This is a probability of the random variable $X$ conditioned on $\\theta$.\n",
    "\n",
    "The parameters $\\theta$ are not random variables."
   ]
  },
  {
   "cell_type": "markdown",
   "metadata": {
    "slideshow": {
     "slide_type": "slide"
    }
   },
   "source": [
    "### Examples of discrete distributions"
   ]
  },
  {
   "cell_type": "markdown",
   "metadata": {
    "slideshow": {
     "slide_type": "subslide"
    }
   },
   "source": [
    "- **Bernoulli Distribution**\n",
    "    - Represents the probability of success for a certain experiment (binary outcome).\n",
    "    - Did someone click on an ad banner or not?"
   ]
  },
  {
   "cell_type": "markdown",
   "metadata": {
    "cell_style": "split",
    "slideshow": {
     "slide_type": "slide"
    }
   },
   "source": [
    "$$ B(X| p) = p^X(1-p)^{1-X} $$\n",
    "\n",
    "Random variable $X$:\n",
    "- Yes: X = 1 <br>\n",
    "- No: X = 0 <br>\n",
    "\n",
    "$p$: probability of banner clicked. This is a parameter."
   ]
  },
  {
   "cell_type": "markdown",
   "metadata": {
    "cell_style": "split",
    "slideshow": {
     "slide_type": "fragment"
    }
   },
   "source": [
    "Probability of clicked:\n",
    "$$ B(X = 1| p) = p $$ <br>\n",
    "\n",
    "Probability of not clicked:\n",
    "$$ B(X = 0| p) = 1 - p $$"
   ]
  },
  {
   "cell_type": "markdown",
   "metadata": {
    "slideshow": {
     "slide_type": "slide"
    }
   },
   "source": [
    "Scipy stats can help us with sampling distribution/plotting PMF, etc\n",
    "\n",
    "Probability is 4% of ad being clicked."
   ]
  },
  {
   "cell_type": "code",
   "execution_count": 4,
   "metadata": {
    "cell_style": "center",
    "slideshow": {
     "slide_type": "fragment"
    }
   },
   "outputs": [
    {
     "data": {
      "text/plain": [
       "[(0, 0.9599999999999997), (1, 0.04)]"
      ]
     },
     "execution_count": 4,
     "metadata": {},
     "output_type": "execute_result"
    }
   ],
   "source": [
    "# import bernoulli\n",
    "from scipy.stats import bernoulli\n",
    "\n",
    "bernoulli_pmf = [(x, bernoulli.pmf(x, p = .04)) for x in [0,1]]\n",
    "bernoulli_pmf"
   ]
  },
  {
   "cell_type": "markdown",
   "metadata": {
    "slideshow": {
     "slide_type": "slide"
    }
   },
   "source": [
    "The pmf can be visualized with a stem plot:"
   ]
  },
  {
   "cell_type": "code",
   "execution_count": 5,
   "metadata": {
    "slideshow": {
     "slide_type": "fragment"
    }
   },
   "outputs": [
    {
     "data": {
      "image/png": "[encoded data removed]",
      "text/plain": [
       "<Figure size 640x480 with 1 Axes>"
      ]
     },
     "metadata": {},
     "output_type": "display_data"
    }
   ],
   "source": [
    "# create list of x values and a list of y values for matplotlib\n",
    "unzipped_bernoulli = list(zip(*bernoulli_pmf))\n",
    "\n",
    "plt.stem(unzipped_bernoulli[0], unzipped_bernoulli[1], linefmt='b-', markerfmt='bo', basefmt='r-')\n",
    "plt.xlabel('X')\n",
    "plt.ylabel('Probability')\n",
    "plt.title('Bernoulli PMF')\n",
    "plt.show()"
   ]
  },
  {
   "cell_type": "markdown",
   "metadata": {
    "slideshow": {
     "slide_type": "slide"
    }
   },
   "source": [
    "#### Expectation values: mean and variance of a distribution"
   ]
  },
  {
   "cell_type": "markdown",
   "metadata": {
    "cell_style": "split",
    "slideshow": {
     "slide_type": "fragment"
    }
   },
   "source": [
    "The population mean (i.e. the expected value of $X$ under the distribution) is the a sum of:\n",
    "- possible values of the random variable $X$\n",
    "- weighted by the probability distribution of $X$ at these values."
   ]
  },
  {
   "cell_type": "markdown",
   "metadata": {
    "cell_style": "split",
    "slideshow": {
     "slide_type": "-"
    }
   },
   "source": [
    "$$ E[X] = \\sum_i X_i P(X_i|\\theta) $$\n",
    "\n",
    "where $\\theta$ is possible parameters of the distribution."
   ]
  },
  {
   "cell_type": "markdown",
   "metadata": {
    "cell_style": "split",
    "slideshow": {
     "slide_type": "fragment"
    }
   },
   "source": [
    "First calculate for a uniform distribution:"
   ]
  },
  {
   "cell_type": "markdown",
   "metadata": {
    "slideshow": {
     "slide_type": "subslide"
    }
   },
   "source": [
    "If we have three possible values for a each equally likely:\n",
    "    \n",
    "$$E[X] = X_1\\cdot\\frac{1}{3} + X_2\\cdot\\frac{1}{3} + X_3\\cdot\\frac{1}{3} $$\n",
    "\n",
    "\n",
    "$$ E[X] = \\frac{X_1 + X_2 + X_3}{3} $$"
   ]
  },
  {
   "cell_type": "markdown",
   "metadata": {
    "cell_style": "center",
    "slideshow": {
     "slide_type": "slide"
    }
   },
   "source": [
    "Let' do this for the Bernoulli distribution:\n",
    "\n",
    "$$ E[X] = 1\\cdot B(X =1 | p) + 0 \\cdot B(X = 0 | p) = p $$\n",
    "\n",
    "as  $ B(X =1 | p) = p $"
   ]
  },
  {
   "cell_type": "markdown",
   "metadata": {
    "slideshow": {
     "slide_type": "fragment"
    }
   },
   "source": [
    "The variance on the other hand is:\n",
    "\n",
    "$$ E[(X - E[X])^2] =  \\sum_i (X_i - E[X])^2 P(X_i|\\theta)$$\n",
    "\n",
    "which for the Bernulli distribution is:\n",
    "\n",
    "$$  (1 - p)^2 B(X = 1| p) + (0 - p)^2 B(X = 0| p) $$"
   ]
  },
  {
   "cell_type": "markdown",
   "metadata": {
    "slideshow": {
     "slide_type": "subslide"
    }
   },
   "source": [
    "implies that:\n",
    "    \n",
    "$$ Var[X] = (1 - p)^2p + (0 - p)^2(1 - p) $$\n",
    "\n",
    "and fully simplified:\n",
    "$$ Var[X] = p(1 - p) $$"
   ]
  },
  {
   "cell_type": "markdown",
   "metadata": {
    "slideshow": {
     "slide_type": "slide"
    }
   },
   "source": [
    "Mean and variance of $X$  for our ad clicking example?"
   ]
  },
  {
   "cell_type": "code",
   "execution_count": 57,
   "metadata": {
    "slideshow": {
     "slide_type": "fragment"
    }
   },
   "outputs": [
    {
     "name": "stdout",
     "output_type": "stream",
     "text": [
      "0.04 0.0384\n"
     ]
    }
   ],
   "source": [
    "# calculate it for me \n",
    "\n",
    "p = 0.04\n",
    "\n",
    "mean = p\n",
    "var = p*(1-p)\n",
    "print(mean, var)"
   ]
  },
  {
   "cell_type": "markdown",
   "metadata": {
    "slideshow": {
     "slide_type": "slide"
    }
   },
   "source": [
    "Scipy also has a useful method for getting mean, variance of the distribution:\n",
    "- .stats(parameters, ...)"
   ]
  },
  {
   "cell_type": "code",
   "execution_count": 7,
   "metadata": {
    "slideshow": {
     "slide_type": "-"
    }
   },
   "outputs": [
    {
     "data": {
      "text/plain": [
       "(0.04, 0.0384)"
      ]
     },
     "execution_count": 7,
     "metadata": {},
     "output_type": "execute_result"
    }
   ],
   "source": [
    "# gives mean and variance in a tuple\n",
    "bernoulli.stats(p = 0.04)"
   ]
  },
  {
   "cell_type": "markdown",
   "metadata": {
    "slideshow": {
     "slide_type": "slide"
    }
   },
   "source": [
    "#### Sampling\n",
    "- More often than not we use the Bernoulli distribution in simulations:\n",
    "    - create a finite size sample modeled from distribution.\n",
    "    "
   ]
  },
  {
   "cell_type": "markdown",
   "metadata": {
    "slideshow": {
     "slide_type": "subslide"
    }
   },
   "source": [
    "Let's random sample this distribution 100 times."
   ]
  },
  {
   "cell_type": "code",
   "execution_count": 68,
   "metadata": {
    "slideshow": {
     "slide_type": "fragment"
    }
   },
   "outputs": [
    {
     "data": {
      "text/plain": [
       "array([0, 0, 0, 0, 0, 0, 0, 0, 0, 0, 0, 0, 0, 0, 0, 0, 0, 0, 0, 0, 0, 0,\n",
       "       0, 0, 0, 0, 0, 0, 0, 0, 1, 0, 0, 0, 0, 0, 1, 0, 0, 0, 0, 0, 0, 0,\n",
       "       0, 0, 0, 0, 0, 0, 0, 0, 1, 0, 0, 0, 0, 0, 0, 0, 0, 0, 0, 0, 0, 0,\n",
       "       0, 1, 0, 0, 0, 0, 0, 1, 0, 0, 0, 0, 0, 0, 0, 0, 0, 1, 0, 0, 0, 0,\n",
       "       0, 0, 1, 0, 0, 0, 0, 0, 0, 0, 0, 0], dtype=int64)"
      ]
     },
     "execution_count": 68,
     "metadata": {},
     "output_type": "execute_result"
    }
   ],
   "source": [
    "bernoulli.rvs(p = 0.04, size = 100)"
   ]
  },
  {
   "cell_type": "markdown",
   "metadata": {
    "slideshow": {
     "slide_type": "subslide"
    }
   },
   "source": [
    "A very useful program:"
   ]
  },
  {
   "cell_type": "code",
   "execution_count": 75,
   "metadata": {
    "slideshow": {
     "slide_type": "fragment"
    }
   },
   "outputs": [
    {
     "name": "stdout",
     "output_type": "stream",
     "text": [
      "She loves me.\n",
      "She loves me.\n",
      "She loves me not.\n",
      "She loves me not.\n",
      "She loves me not.\n",
      "She loves me not.\n",
      "She loves me.\n",
      "She loves me not.\n",
      "She loves me.\n",
      "She loves me not.\n"
     ]
    }
   ],
   "source": [
    "for x in bernoulli.rvs(p = 0.5, size = 10):\n",
    "    if x == 1:\n",
    "        print('She loves me.')\n",
    "    else:\n",
    "        print('She loves me not.')"
   ]
  },
  {
   "cell_type": "markdown",
   "metadata": {
    "hidden": true,
    "slideshow": {
     "slide_type": "slide"
    }
   },
   "source": [
    "- **Binomial Distribution**\n",
    "    - Generalizes Bernoulli to fixed number of trials.\n",
    "    - Given $N$ trials, chance of observing $k$ successes.\n",
    "    "
   ]
  },
  {
   "cell_type": "markdown",
   "metadata": {
    "slideshow": {
     "slide_type": "slide"
    }
   },
   "source": [
    "#### Example\n",
    "\n",
    "-  Estimate number of successful free throw shots in 8 tries.\n",
    "- For Shaquille O'Neale: Career free throw pct = 52.7%"
   ]
  },
  {
   "cell_type": "markdown",
   "metadata": {
    "slideshow": {
     "slide_type": "fragment"
    }
   },
   "source": [
    "<img src = \"images/shaw.webp\" >\n",
    "<center> Shaq throwin free throw bricks. </center>"
   ]
  },
  {
   "cell_type": "markdown",
   "metadata": {
    "cell_style": "split",
    "slideshow": {
     "slide_type": "subslide"
    }
   },
   "source": [
    "scipy has functionality for binomial:\n",
    "- .binom class"
   ]
  },
  {
   "cell_type": "markdown",
   "metadata": {
    "cell_style": "split",
    "slideshow": {
     "slide_type": "fragment"
    }
   },
   "source": [
    "Define binomial:\n",
    "- distribution parameters:\n",
    "    - N = 8 trials\n",
    "    - Bernoulli success/failure p = .527"
   ]
  },
  {
   "cell_type": "code",
   "execution_count": 77,
   "metadata": {
    "cell_style": "split",
    "slideshow": {
     "slide_type": "fragment"
    }
   },
   "outputs": [],
   "source": [
    "from scipy.stats import binom\n",
    "N = 8\n",
    "p = 0.527\n",
    "\n",
    "pmf_binomial = [(x, binom.pmf(x, n = N, p = p)) \n",
    "                for x in range(9)]"
   ]
  },
  {
   "cell_type": "markdown",
   "metadata": {
    "slideshow": {
     "slide_type": "fragment"
    }
   },
   "source": [
    "Generates probability of $k$ sucesses in 8 trials:  $k$ ranging from 0 to 8."
   ]
  },
  {
   "cell_type": "code",
   "execution_count": 78,
   "metadata": {
    "slideshow": {
     "slide_type": "subslide"
    }
   },
   "outputs": [
    {
     "name": "stdout",
     "output_type": "stream",
     "text": [
      "[(0, 0.002505469532410441), (1, 0.02233204978571333), (2, 0.08708555143709994), (3, 0.1940553302636433), (4, 0.27026204822658584), (5, 0.24089319140027182), (6, 0.1341973698392635), (7, 0.042719428514220385), (8, 0.005949561000791267)]\n"
     ]
    }
   ],
   "source": [
    "print(pmf_binomial)"
   ]
  },
  {
   "cell_type": "markdown",
   "metadata": {
    "slideshow": {
     "slide_type": "slide"
    }
   },
   "source": [
    "Plot the pmf:"
   ]
  },
  {
   "cell_type": "code",
   "execution_count": 79,
   "metadata": {
    "cell_style": "center",
    "slideshow": {
     "slide_type": "fragment"
    }
   },
   "outputs": [],
   "source": [
    "%%capture binom_plot\n",
    "x,y = list(zip(*pmf_binomial))\n",
    "plt.stem(x, y, linefmt='b-', markerfmt='bo', basefmt='r-')\n",
    "plt.title('Binomial PMF: Shaq FTs made out of 8 shots')\n",
    "plt.ylabel('Probability')\n",
    "plt.xlabel('Number of shots made')\n",
    "plt.title\n",
    "plt.show()"
   ]
  },
  {
   "cell_type": "code",
   "execution_count": 80,
   "metadata": {
    "slideshow": {
     "slide_type": "subslide"
    }
   },
   "outputs": [
    {
     "data": {
      "image/png": "[encoded data removed]",
      "text/plain": [
       "<Figure size 640x480 with 1 Axes>"
      ]
     },
     "metadata": {},
     "output_type": "display_data"
    }
   ],
   "source": [
    "binom_plot()"
   ]
  },
  {
   "cell_type": "markdown",
   "metadata": {
    "slideshow": {
     "slide_type": "slide"
    }
   },
   "source": [
    "#### Let's compute Shaq free throw distribution statistics on 8 shots\n",
    "- based off of knowledge it must follow binomial\n",
    "- career percentage of 52.7%"
   ]
  },
  {
   "cell_type": "code",
   "execution_count": 14,
   "metadata": {
    "cell_style": "center",
    "slideshow": {
     "slide_type": "fragment"
    }
   },
   "outputs": [
    {
     "name": "stdout",
     "output_type": "stream",
     "text": [
      "Average shots made in 8 tries = 4.216\n",
      "Spread on shots made  in 8 tries= 1.994168\n"
     ]
    }
   ],
   "source": [
    "avg_shots_made, shots_made_std = binom.stats(n = 8, p =.527)\n",
    "print('Average shots made in 8 tries = ' + str(avg_shots_made))\n",
    "print('Spread on shots made  in 8 tries= ' + str(shots_made_std))"
   ]
  },
  {
   "cell_type": "markdown",
   "metadata": {
    "cell_style": "split",
    "slideshow": {
     "slide_type": "slide"
    }
   },
   "source": [
    "Note there is a small skew in this distribution:\n",
    "- other statistics: skew and kurtosis\n",
    "- expectation value of third and fourth moments"
   ]
  },
  {
   "cell_type": "code",
   "execution_count": 15,
   "metadata": {
    "cell_style": "split",
    "slideshow": {
     "slide_type": "fragment"
    }
   },
   "outputs": [
    {
     "data": {
      "image/png": "[encoded data removed]",
      "text/plain": [
       "<Figure size 640x480 with 1 Axes>"
      ]
     },
     "metadata": {},
     "output_type": "display_data"
    }
   ],
   "source": [
    "binom_plot()"
   ]
  },
  {
   "cell_type": "markdown",
   "metadata": {
    "slideshow": {
     "slide_type": "slide"
    }
   },
   "source": [
    "Can access these additional statistics:\n",
    "- 's' stands for skew, 'k' for kurtosis"
   ]
  },
  {
   "cell_type": "code",
   "execution_count": 81,
   "metadata": {
    "slideshow": {
     "slide_type": "fragment"
    }
   },
   "outputs": [
    {
     "data": {
      "text/plain": [
       "(4.216, 1.994168, -0.038239560166303636, -0.2485377360382876)"
      ]
     },
     "execution_count": 81,
     "metadata": {},
     "output_type": "execute_result"
    }
   ],
   "source": [
    " binom.stats(n = 8, p =.527, moments = 'mvsk' )"
   ]
  },
  {
   "cell_type": "markdown",
   "metadata": {
    "slideshow": {
     "slide_type": "slide"
    }
   },
   "source": [
    "Can sample this binomial distribution:\n",
    "- Get a list of number of successes for each trial (number of shots Shaq made)\n",
    "- 200 trials (e.g. maybe number of games where Shaq shot only 8 free throws)"
   ]
  },
  {
   "cell_type": "markdown",
   "metadata": {
    "slideshow": {
     "slide_type": "slide"
    }
   },
   "source": [
    "Can sample this binomial distribution:"
   ]
  },
  {
   "cell_type": "code",
   "execution_count": 82,
   "metadata": {
    "ExecuteTime": {
     "end_time": "2021-10-08T21:00:02.025541Z",
     "start_time": "2021-10-08T21:00:02.022231Z"
    },
    "slideshow": {
     "slide_type": "fragment"
    }
   },
   "outputs": [
    {
     "name": "stdout",
     "output_type": "stream",
     "text": [
      "Number of shots Shaq made in games where he took 8 free throws: \n",
      " [6 2 4 4 6 3 3 4 7 5 5 3 2 4 5 5 3 4 4 3 3 3 4 8 4 5 4 7 4 3 3 5 6 1 3 1 3\n",
      " 4 7 3 3 4 7 8 5 4 3 5 2 6 4 6 7 2 6 6 1 5 5 4 5 3 3 6 3 3 5 3 7 4 6 2 5 8\n",
      " 4 6 5 6 4 3 6 2 4 5 6 4 2 4 5 7 4 3 4 4 6 5 4 2 6 3 4 7 4 4 6 3 7 4 4 4 4\n",
      " 5 3 4 3 4 5 4 6 4 3 4 4 5 5 4 5 3 3 4 4 2 2 1 4 7 3 3 4 4 3 6 8 4 4 6 5 4\n",
      " 4 3 5 5 4 3 7 5 4 4 4 4 2 3 5 4 4 4 3 4 5 5 7 4 4 6 5 8 3 3 4 5 4 1 3 4 4\n",
      " 5 5 4 5 3 4 5 6 5 5 3 6 3 4 3] \n",
      "\n"
     ]
    }
   ],
   "source": [
    "\n",
    "N = 8  # number of samples for user-site interaction trial\n",
    "p = 0.527  # probability of success\n",
    "size = 200  # number of trials\n",
    "\n",
    "# Create a discrete distribution with the given parameter values\n",
    "binomial = binom.rvs(n = N, p=p, size=size)\n",
    "\n",
    "print(f'Number of shots Shaq made in games where he took 8 free throws: \\n {binomial} \\n')"
   ]
  },
  {
   "cell_type": "markdown",
   "metadata": {
    "slideshow": {
     "slide_type": "slide"
    }
   },
   "source": [
    "#### The Poisson Distribution"
   ]
  },
  {
   "cell_type": "markdown",
   "metadata": {
    "cell_style": "split",
    "slideshow": {
     "slide_type": "fragment"
    }
   },
   "source": [
    "A useful distribution when counting the number of counts in a fixed interval:\n",
    "- and we have knowledge of the mean counts"
   ]
  },
  {
   "cell_type": "markdown",
   "metadata": {
    "cell_style": "split",
    "slideshow": {
     "slide_type": "fragment"
    }
   },
   "source": [
    "Radioactive decay:\n",
    "- Tabulate mean counts / min on Geiger counter from Americum-241:\n",
    "    - $\\lambda$ (a parameter)\n",
    "- Now want distribution of counts per min $n$: \n",
    "    - a random variable"
   ]
  },
  {
   "cell_type": "markdown",
   "metadata": {
    "slideshow": {
     "slide_type": "slide"
    }
   },
   "source": [
    "\n",
    "\n",
    "A limiting case of the binomial distribution where $N \\rightarrow \\infty $"
   ]
  },
  {
   "cell_type": "markdown",
   "metadata": {
    "cell_style": "center",
    "slideshow": {
     "slide_type": "fragment"
    }
   },
   "source": [
    "PMF of Poisson counting process:\n",
    "$$ P(n|\\lambda) = \\frac {\\lambda ^{n}e^{-\\lambda }}{n!} $$\n",
    "\n",
    "- $\\lambda$ is observed average rate.\n",
    "- Parameter of distribution: observed from data."
   ]
  },
  {
   "cell_type": "markdown",
   "metadata": {
    "slideshow": {
     "slide_type": "subslide"
    }
   },
   "source": [
    "scipy.stats can really help us model/visualize this.\n",
    "- poisson.pmf(n, lambda)\n",
    "\n",
    "**Take lambda = 3 counts/min**"
   ]
  },
  {
   "cell_type": "code",
   "execution_count": 83,
   "metadata": {
    "cell_style": "split",
    "slideshow": {
     "slide_type": "subslide"
    }
   },
   "outputs": [],
   "source": [
    "from scipy.stats import poisson\n",
    "lambda_rate = 3\n",
    "call_pmf =[(x, poisson.pmf(x,  mu =lambda_rate)) \n",
    "           for x in range(10)]\n",
    "\n",
    "x_amer,y_amer = list(zip(*call_pmf))"
   ]
  },
  {
   "cell_type": "code",
   "execution_count": 84,
   "metadata": {
    "cell_style": "split",
    "slideshow": {
     "slide_type": "fragment"
    }
   },
   "outputs": [
    {
     "data": {
      "image/png": "[encoded data removed]",
      "text/plain": [
       "<Figure size 640x480 with 1 Axes>"
      ]
     },
     "metadata": {},
     "output_type": "display_data"
    }
   ],
   "source": [
    "plt.stem(x_amer, y_amer, linefmt='b-', markerfmt='bo', basefmt='r-')\n",
    "plt.xlabel('n')\n",
    "plt.ylabel('P(n)')\n",
    "plt.title('PMF (Poisson)')\n",
    "plt.show()"
   ]
  },
  {
   "cell_type": "markdown",
   "metadata": {
    "slideshow": {
     "slide_type": "fragment"
    }
   },
   "source": [
    "This distribution clearly has skew."
   ]
  },
  {
   "cell_type": "markdown",
   "metadata": {
    "slideshow": {
     "slide_type": "slide"
    }
   },
   "source": [
    "Calculate the distribution statistics:"
   ]
  },
  {
   "cell_type": "code",
   "execution_count": 20,
   "metadata": {
    "cell_style": "center",
    "slideshow": {
     "slide_type": "fragment"
    }
   },
   "outputs": [
    {
     "data": {
      "text/plain": [
       "(3.0, 3.0, 0.5773502691896257, 0.3333333333333333)"
      ]
     },
     "execution_count": 20,
     "metadata": {},
     "output_type": "execute_result"
    }
   ],
   "source": [
    "poisson.stats(mu = lambda_rate, moments = 'mvsk')"
   ]
  },
  {
   "cell_type": "markdown",
   "metadata": {
    "slideshow": {
     "slide_type": "fragment"
    }
   },
   "source": [
    "See anything interesting?"
   ]
  },
  {
   "cell_type": "markdown",
   "metadata": {
    "slideshow": {
     "slide_type": "slide"
    }
   },
   "source": [
    "For Poisson:\n",
    "\n",
    "$$ E[n] = \\lambda $$\n",
    "$$ Var[n] = \\lambda $$"
   ]
  },
  {
   "cell_type": "markdown",
   "metadata": {
    "slideshow": {
     "slide_type": "slide"
    }
   },
   "source": [
    "Sometime parameter determined from laws of physics, domain knowledge, etc.:\n",
    "\n",
    "- Mean nuclear decay rate of Iodine-131 is 31.5 decay events/year. Quantum physics."
   ]
  },
  {
   "cell_type": "code",
   "execution_count": 21,
   "metadata": {
    "scrolled": false,
    "slideshow": {
     "slide_type": "subslide"
    }
   },
   "outputs": [
    {
     "data": {
      "image/png": "[encoded data removed]",
      "text/plain": [
       "<Figure size 640x480 with 1 Axes>"
      ]
     },
     "metadata": {},
     "output_type": "display_data"
    }
   ],
   "source": [
    "nuclear_pmf =[(x, poisson.pmf(x, 31.5)) for x in range(70)]\n",
    "x,y = list(zip(*nuclear_pmf))\n",
    "plt.stem(x, y, linefmt='b-', markerfmt='bo', basefmt='r-')\n",
    "plt.xlabel('n')\n",
    "plt.ylabel('P(n)')\n",
    "plt.title('PMF (Poisson): Calls/min')\n",
    "plt.show()\n"
   ]
  },
  {
   "cell_type": "markdown",
   "metadata": {
    "slideshow": {
     "slide_type": "fragment"
    }
   },
   "source": [
    "Gets more symmetric and bell-shaped as $\\lambda$ gets larger."
   ]
  },
  {
   "cell_type": "markdown",
   "metadata": {
    "slideshow": {
     "slide_type": "slide"
    }
   },
   "source": [
    "Poisson distribution pops up pretty regularly in data science:\n",
    "- Natural language processing with bag-of-words document vectorization \n",
    "- Count distribution in political polling, etc."
   ]
  },
  {
   "cell_type": "markdown",
   "metadata": {
    "slideshow": {
     "slide_type": "slide"
    }
   },
   "source": [
    "#### Common types of distributions: Continuous "
   ]
  },
  {
   "cell_type": "markdown",
   "metadata": {
    "cell_style": "center",
    "slideshow": {
     "slide_type": "subslide"
    }
   },
   "source": [
    "So far dealt with distributions over discrete variables.\n",
    "\n",
    "What about when $X$ a random variable: continuous spectrum of values?"
   ]
  },
  {
   "cell_type": "markdown",
   "metadata": {
    "cell_style": "split",
    "slideshow": {
     "slide_type": "slide"
    }
   },
   "source": [
    "But we can define probability in an interval:\n",
    "- probability that $X$ lies in [0.1, 0.25]\n",
    "- given sample space is [0, 1]"
   ]
  },
  {
   "cell_type": "markdown",
   "metadata": {
    "cell_style": "split",
    "slideshow": {
     "slide_type": "fragment"
    }
   },
   "source": [
    "$$ P(0.1 \\leq X \\leq 0.25) = 0.15$$"
   ]
  },
  {
   "cell_type": "markdown",
   "metadata": {
    "slideshow": {
     "slide_type": "slide"
    }
   },
   "source": [
    "Thus we can define probability in a collection of finite size intervals:\n",
    "- Have already done this.\n",
    "- Histograms."
   ]
  },
  {
   "cell_type": "code",
   "execution_count": 22,
   "metadata": {
    "slideshow": {
     "slide_type": "subslide"
    }
   },
   "outputs": [
    {
     "data": {
      "image/png": "[encoded data removed]",
      "text/plain": [
       "<Figure size 640x480 with 1 Axes>"
      ]
     },
     "metadata": {},
     "output_type": "display_data"
    }
   ],
   "source": [
    "import seaborn as sns\n",
    "penguins_df = sns.load_dataset('penguins')\n",
    "sns.histplot(x = 'body_mass_g', data = penguins_df, stat = 'proportion')\n",
    "plt.show()"
   ]
  },
  {
   "cell_type": "markdown",
   "metadata": {
    "cell_style": "center",
    "slideshow": {
     "slide_type": "slide"
    }
   },
   "source": [
    "But enumerating probability of a single value of $X$ is not the correct thing to do. "
   ]
  },
  {
   "cell_type": "markdown",
   "metadata": {
    "cell_style": "split",
    "slideshow": {
     "slide_type": "slide"
    }
   },
   "source": [
    "**Why?**\n",
    "- Let's imagine a continuous line [0,1]\n",
    "- Infinite number of points.\n",
    "- Probability of getting X = 0.5?\n"
   ]
  },
  {
   "cell_type": "markdown",
   "metadata": {
    "cell_style": "split",
    "slideshow": {
     "slide_type": "fragment"
    }
   },
   "source": [
    "$$ P(X = 0.5) = \\frac{1}{\\infty} = 0$$ \n",
    "\n",
    "Probability of getting exactly a point on this interval is 0."
   ]
  },
  {
   "cell_type": "markdown",
   "metadata": {
    "heading_collapsed": true,
    "slideshow": {
     "slide_type": "slide"
    }
   },
   "source": [
    "#### PDF: Probability Density Function\n"
   ]
  },
  {
   "cell_type": "markdown",
   "metadata": {
    "cell_style": "split",
    "hidden": true,
    "slideshow": {
     "slide_type": "fragment"
    }
   },
   "source": [
    "**Probability density functions (PDF)** similar to PMFs but:\n",
    "\n",
    "- continuous variable\n",
    "- probability of **exactly** having a given value of continuous not defined. \n",
    "- *density* is defined. \n",
    "- probability in small interval defined as density*interval\n",
    "\n",
    "![](images/pdf_temp.png)"
   ]
  },
  {
   "cell_type": "markdown",
   "metadata": {
    "cell_style": "split",
    "slideshow": {
     "slide_type": "fragment"
    }
   },
   "source": [
    "- PDFs give us probability density.\n",
    "- Area under PDF in given range yields probability.  \n",
    "\n",
    "<center><img src=\"Images/pdf_proba.gif\" width=\"450\"/></center>"
   ]
  },
  {
   "cell_type": "markdown",
   "metadata": {
    "cell_style": "split",
    "slideshow": {
     "slide_type": "slide"
    }
   },
   "source": [
    "Area under entire curve:\n",
    "\n",
    "- Probability of entire interval of possible values\n",
    "\n",
    "**Must equal 1**"
   ]
  },
  {
   "cell_type": "markdown",
   "metadata": {
    "cell_style": "split",
    "slideshow": {
     "slide_type": "fragment"
    }
   },
   "source": [
    "<center><img src = \"Images/total_area_probunity.png\"></center>"
   ]
  },
  {
   "cell_type": "markdown",
   "metadata": {
    "cell_style": "split",
    "slideshow": {
     "slide_type": "slide"
    }
   },
   "source": [
    "Probability in an interval:"
   ]
  },
  {
   "cell_type": "markdown",
   "metadata": {
    "cell_style": "split",
    "slideshow": {
     "slide_type": "fragment"
    }
   },
   "source": [
    "<center><img src = \"Images/pdf_interval.png\"></center>"
   ]
  },
  {
   "cell_type": "markdown",
   "metadata": {
    "cell_style": "split",
    "hidden": true,
    "slideshow": {
     "slide_type": "slide"
    }
   },
   "source": [
    "- **Continuous Uniform**\n",
    "    - A continuous distribution that takes values within a specified range *a* to *b*, when each value within the range is equally likely.\n"
   ]
  },
  {
   "cell_type": "markdown",
   "metadata": {
    "cell_style": "split",
    "slideshow": {
     "slide_type": "fragment"
    }
   },
   "source": [
    "e.g. position of ball bouncing elastically between two walls"
   ]
  },
  {
   "cell_type": "markdown",
   "metadata": {
    "cell_style": "split",
    "slideshow": {
     "slide_type": "fragment"
    }
   },
   "source": [
    "<img src = \"Images/wallbounce.jpg\" >"
   ]
  },
  {
   "cell_type": "markdown",
   "metadata": {
    "slideshow": {
     "slide_type": "slide"
    }
   },
   "source": [
    "**Spicy stats time!**\n",
    "- uniform defaults to interval [0,1] as sample space"
   ]
  },
  {
   "cell_type": "code",
   "execution_count": 85,
   "metadata": {
    "slideshow": {
     "slide_type": "fragment"
    }
   },
   "outputs": [],
   "source": [
    "from scipy.stats import uniform"
   ]
  },
  {
   "cell_type": "markdown",
   "metadata": {
    "slideshow": {
     "slide_type": "slide"
    }
   },
   "source": [
    "#### PDF: Probability Density Function\n",
    "Instead of PMF:\n",
    "- has .pdf() function to get probability density function"
   ]
  },
  {
   "cell_type": "code",
   "execution_count": 24,
   "metadata": {
    "cell_style": "split",
    "scrolled": false,
    "slideshow": {
     "slide_type": "subslide"
    }
   },
   "outputs": [
    {
     "name": "stdout",
     "output_type": "stream",
     "text": [
      "[-1.         -0.99398798 -0.98797595 -0.98196393 -0.9759519  -0.96993988\n",
      " -0.96392786 -0.95791583 -0.95190381 -0.94589178 -0.93987976 -0.93386774\n",
      " -0.92785571 -0.92184369 -0.91583166 -0.90981964 -0.90380762 -0.89779559\n",
      " -0.89178357 -0.88577154 -0.87975952 -0.87374749 -0.86773547 -0.86172345\n",
      " -0.85571142 -0.8496994  -0.84368737 -0.83767535 -0.83166333 -0.8256513\n",
      " -0.81963928 -0.81362725 -0.80761523 -0.80160321 -0.79559118 -0.78957916\n",
      " -0.78356713 -0.77755511 -0.77154309 -0.76553106 -0.75951904 -0.75350701\n",
      " -0.74749499 -0.74148297 -0.73547094 -0.72945892 -0.72344689 -0.71743487\n",
      " -0.71142285 -0.70541082 -0.6993988  -0.69338677 -0.68737475 -0.68136273\n",
      " -0.6753507  -0.66933868 -0.66332665 -0.65731463 -0.65130261 -0.64529058\n",
      " -0.63927856 -0.63326653 -0.62725451 -0.62124248 -0.61523046 -0.60921844\n",
      " -0.60320641 -0.59719439 -0.59118236 -0.58517034 -0.57915832 -0.57314629\n",
      " -0.56713427 -0.56112224 -0.55511022 -0.5490982  -0.54308617 -0.53707415\n",
      " -0.53106212 -0.5250501  -0.51903808 -0.51302605 -0.50701403 -0.501002\n",
      " -0.49498998 -0.48897796 -0.48296593 -0.47695391 -0.47094188 -0.46492986\n",
      " -0.45891784 -0.45290581 -0.44689379 -0.44088176 -0.43486974 -0.42885772\n",
      " -0.42284569 -0.41683367 -0.41082164 -0.40480962 -0.3987976  -0.39278557\n",
      " -0.38677355 -0.38076152 -0.3747495  -0.36873747 -0.36272545 -0.35671343\n",
      " -0.3507014  -0.34468938 -0.33867735 -0.33266533 -0.32665331 -0.32064128\n",
      " -0.31462926 -0.30861723 -0.30260521 -0.29659319 -0.29058116 -0.28456914\n",
      " -0.27855711 -0.27254509 -0.26653307 -0.26052104 -0.25450902 -0.24849699\n",
      " -0.24248497 -0.23647295 -0.23046092 -0.2244489  -0.21843687 -0.21242485\n",
      " -0.20641283 -0.2004008  -0.19438878 -0.18837675 -0.18236473 -0.17635271\n",
      " -0.17034068 -0.16432866 -0.15831663 -0.15230461 -0.14629259 -0.14028056\n",
      " -0.13426854 -0.12825651 -0.12224449 -0.11623246 -0.11022044 -0.10420842\n",
      " -0.09819639 -0.09218437 -0.08617234 -0.08016032 -0.0741483  -0.06813627\n",
      " -0.06212425 -0.05611222 -0.0501002  -0.04408818 -0.03807615 -0.03206413\n",
      " -0.0260521  -0.02004008 -0.01402806 -0.00801603 -0.00200401  0.00400802\n",
      "  0.01002004  0.01603206  0.02204409  0.02805611  0.03406814  0.04008016\n",
      "  0.04609218  0.05210421  0.05811623  0.06412826  0.07014028  0.0761523\n",
      "  0.08216433  0.08817635  0.09418838  0.1002004   0.10621242  0.11222445\n",
      "  0.11823647  0.1242485   0.13026052  0.13627255  0.14228457  0.14829659\n",
      "  0.15430862  0.16032064  0.16633267  0.17234469  0.17835671  0.18436874\n",
      "  0.19038076  0.19639279  0.20240481  0.20841683  0.21442886  0.22044088\n",
      "  0.22645291  0.23246493  0.23847695  0.24448898  0.250501    0.25651303\n",
      "  0.26252505  0.26853707  0.2745491   0.28056112  0.28657315  0.29258517\n",
      "  0.29859719  0.30460922  0.31062124  0.31663327  0.32264529  0.32865731\n",
      "  0.33466934  0.34068136  0.34669339  0.35270541  0.35871743  0.36472946\n",
      "  0.37074148  0.37675351  0.38276553  0.38877756  0.39478958  0.4008016\n",
      "  0.40681363  0.41282565  0.41883768  0.4248497   0.43086172  0.43687375\n",
      "  0.44288577  0.4488978   0.45490982  0.46092184  0.46693387  0.47294589\n",
      "  0.47895792  0.48496994  0.49098196  0.49699399  0.50300601  0.50901804\n",
      "  0.51503006  0.52104208  0.52705411  0.53306613  0.53907816  0.54509018\n",
      "  0.5511022   0.55711423  0.56312625  0.56913828  0.5751503   0.58116232\n",
      "  0.58717435  0.59318637  0.5991984   0.60521042  0.61122244  0.61723447\n",
      "  0.62324649  0.62925852  0.63527054  0.64128257  0.64729459  0.65330661\n",
      "  0.65931864  0.66533066  0.67134269  0.67735471  0.68336673  0.68937876\n",
      "  0.69539078  0.70140281  0.70741483  0.71342685  0.71943888  0.7254509\n",
      "  0.73146293  0.73747495  0.74348697  0.749499    0.75551102  0.76152305\n",
      "  0.76753507  0.77354709  0.77955912  0.78557114  0.79158317  0.79759519\n",
      "  0.80360721  0.80961924  0.81563126  0.82164329  0.82765531  0.83366733\n",
      "  0.83967936  0.84569138  0.85170341  0.85771543  0.86372745  0.86973948\n",
      "  0.8757515   0.88176353  0.88777555  0.89378758  0.8997996   0.90581162\n",
      "  0.91182365  0.91783567  0.9238477   0.92985972  0.93587174  0.94188377\n",
      "  0.94789579  0.95390782  0.95991984  0.96593186  0.97194389  0.97795591\n",
      "  0.98396794  0.98997996  0.99599198  1.00200401  1.00801603  1.01402806\n",
      "  1.02004008  1.0260521   1.03206413  1.03807615  1.04408818  1.0501002\n",
      "  1.05611222  1.06212425  1.06813627  1.0741483   1.08016032  1.08617234\n",
      "  1.09218437  1.09819639  1.10420842  1.11022044  1.11623246  1.12224449\n",
      "  1.12825651  1.13426854  1.14028056  1.14629259  1.15230461  1.15831663\n",
      "  1.16432866  1.17034068  1.17635271  1.18236473  1.18837675  1.19438878\n",
      "  1.2004008   1.20641283  1.21242485  1.21843687  1.2244489   1.23046092\n",
      "  1.23647295  1.24248497  1.24849699  1.25450902  1.26052104  1.26653307\n",
      "  1.27254509  1.27855711  1.28456914  1.29058116  1.29659319  1.30260521\n",
      "  1.30861723  1.31462926  1.32064128  1.32665331  1.33266533  1.33867735\n",
      "  1.34468938  1.3507014   1.35671343  1.36272545  1.36873747  1.3747495\n",
      "  1.38076152  1.38677355  1.39278557  1.3987976   1.40480962  1.41082164\n",
      "  1.41683367  1.42284569  1.42885772  1.43486974  1.44088176  1.44689379\n",
      "  1.45290581  1.45891784  1.46492986  1.47094188  1.47695391  1.48296593\n",
      "  1.48897796  1.49498998  1.501002    1.50701403  1.51302605  1.51903808\n",
      "  1.5250501   1.53106212  1.53707415  1.54308617  1.5490982   1.55511022\n",
      "  1.56112224  1.56713427  1.57314629  1.57915832  1.58517034  1.59118236\n",
      "  1.59719439  1.60320641  1.60921844  1.61523046  1.62124248  1.62725451\n",
      "  1.63326653  1.63927856  1.64529058  1.65130261  1.65731463  1.66332665\n",
      "  1.66933868  1.6753507   1.68136273  1.68737475  1.69338677  1.6993988\n",
      "  1.70541082  1.71142285  1.71743487  1.72344689  1.72945892  1.73547094\n",
      "  1.74148297  1.74749499  1.75350701  1.75951904  1.76553106  1.77154309\n",
      "  1.77755511  1.78356713  1.78957916  1.79559118  1.80160321  1.80761523\n",
      "  1.81362725  1.81963928  1.8256513   1.83166333  1.83767535  1.84368737\n",
      "  1.8496994   1.85571142  1.86172345  1.86773547  1.87374749  1.87975952\n",
      "  1.88577154  1.89178357  1.89779559  1.90380762  1.90981964  1.91583166\n",
      "  1.92184369  1.92785571  1.93386774  1.93987976  1.94589178  1.95190381\n",
      "  1.95791583  1.96392786  1.96993988  1.9759519   1.98196393  1.98797595\n",
      "  1.99398798  2.        ]\n"
     ]
    }
   ],
   "source": [
    "# list of X values on interval\n",
    "X = np.linspace(-1,2, 500)\n",
    "print(X)"
   ]
  },
  {
   "cell_type": "markdown",
   "metadata": {
    "cell_style": "split",
    "slideshow": {
     "slide_type": "fragment"
    }
   },
   "source": [
    ".pdf() can take in a numpy array for $X$ and return the pdf evaluated on array:"
   ]
  },
  {
   "cell_type": "code",
   "execution_count": 25,
   "metadata": {
    "cell_style": "split",
    "slideshow": {
     "slide_type": "-"
    }
   },
   "outputs": [
    {
     "data": {
      "text/plain": [
       "array([0., 0., 0., 0., 0., 0., 0., 0., 0., 0., 0., 0., 0., 0., 0., 0., 0.,\n",
       "       0., 0., 0., 0., 0., 0., 0., 0., 0., 0., 0., 0., 0., 0., 0., 0., 0.,\n",
       "       0., 0., 0., 0., 0., 0., 0., 0., 0., 0., 0., 0., 0., 0., 0., 0., 0.,\n",
       "       0., 0., 0., 0., 0., 0., 0., 0., 0., 0., 0., 0., 0., 0., 0., 0., 0.,\n",
       "       0., 0., 0., 0., 0., 0., 0., 0., 0., 0., 0., 0., 0., 0., 0., 0., 0.,\n",
       "       0., 0., 0., 0., 0., 0., 0., 0., 0., 0., 0., 0., 0., 0., 0., 0., 0.,\n",
       "       0., 0., 0., 0., 0., 0., 0., 0., 0., 0., 0., 0., 0., 0., 0., 0., 0.,\n",
       "       0., 0., 0., 0., 0., 0., 0., 0., 0., 0., 0., 0., 0., 0., 0., 0., 0.,\n",
       "       0., 0., 0., 0., 0., 0., 0., 0., 0., 0., 0., 0., 0., 0., 0., 0., 0.,\n",
       "       0., 0., 0., 0., 0., 0., 0., 0., 0., 0., 0., 0., 0., 0., 1., 1., 1.,\n",
       "       1., 1., 1., 1., 1., 1., 1., 1., 1., 1., 1., 1., 1., 1., 1., 1., 1.,\n",
       "       1., 1., 1., 1., 1., 1., 1., 1., 1., 1., 1., 1., 1., 1., 1., 1., 1.,\n",
       "       1., 1., 1., 1., 1., 1., 1., 1., 1., 1., 1., 1., 1., 1., 1., 1., 1.,\n",
       "       1., 1., 1., 1., 1., 1., 1., 1., 1., 1., 1., 1., 1., 1., 1., 1., 1.,\n",
       "       1., 1., 1., 1., 1., 1., 1., 1., 1., 1., 1., 1., 1., 1., 1., 1., 1.,\n",
       "       1., 1., 1., 1., 1., 1., 1., 1., 1., 1., 1., 1., 1., 1., 1., 1., 1.,\n",
       "       1., 1., 1., 1., 1., 1., 1., 1., 1., 1., 1., 1., 1., 1., 1., 1., 1.,\n",
       "       1., 1., 1., 1., 1., 1., 1., 1., 1., 1., 1., 1., 1., 1., 1., 1., 1.,\n",
       "       1., 1., 1., 1., 1., 1., 1., 1., 1., 1., 1., 1., 1., 1., 1., 1., 1.,\n",
       "       1., 1., 1., 1., 1., 1., 1., 1., 1., 1., 0., 0., 0., 0., 0., 0., 0.,\n",
       "       0., 0., 0., 0., 0., 0., 0., 0., 0., 0., 0., 0., 0., 0., 0., 0., 0.,\n",
       "       0., 0., 0., 0., 0., 0., 0., 0., 0., 0., 0., 0., 0., 0., 0., 0., 0.,\n",
       "       0., 0., 0., 0., 0., 0., 0., 0., 0., 0., 0., 0., 0., 0., 0., 0., 0.,\n",
       "       0., 0., 0., 0., 0., 0., 0., 0., 0., 0., 0., 0., 0., 0., 0., 0., 0.,\n",
       "       0., 0., 0., 0., 0., 0., 0., 0., 0., 0., 0., 0., 0., 0., 0., 0., 0.,\n",
       "       0., 0., 0., 0., 0., 0., 0., 0., 0., 0., 0., 0., 0., 0., 0., 0., 0.,\n",
       "       0., 0., 0., 0., 0., 0., 0., 0., 0., 0., 0., 0., 0., 0., 0., 0., 0.,\n",
       "       0., 0., 0., 0., 0., 0., 0., 0., 0., 0., 0., 0., 0., 0., 0., 0., 0.,\n",
       "       0., 0., 0., 0., 0., 0., 0., 0., 0., 0., 0., 0., 0., 0., 0., 0., 0.,\n",
       "       0., 0., 0., 0., 0., 0., 0.])"
      ]
     },
     "execution_count": 25,
     "metadata": {},
     "output_type": "execute_result"
    }
   ],
   "source": [
    "# remember uniform distribution over [0,1]\n",
    "unif_pdf = uniform.pdf(X)\n",
    "unif_pdf"
   ]
  },
  {
   "cell_type": "markdown",
   "metadata": {
    "slideshow": {
     "slide_type": "slide"
    }
   },
   "source": [
    "#### Visualization of uniform distribution"
   ]
  },
  {
   "cell_type": "code",
   "execution_count": 26,
   "metadata": {
    "cell_style": "split",
    "slideshow": {
     "slide_type": "fragment"
    }
   },
   "outputs": [
    {
     "data": {
      "image/png": "[encoded data removed]",
      "text/plain": [
       "<Figure size 640x480 with 1 Axes>"
      ]
     },
     "metadata": {},
     "output_type": "display_data"
    }
   ],
   "source": [
    "fig,ax = plt.subplots()\n",
    "ax.plot(X, unif_pdf)\n",
    "ax.set_title('PDF of uniform distribution')\n",
    "ax.set_xlabel('X')\n",
    "ax.set_ylabel('pdf')\n",
    "plt.show()"
   ]
  },
  {
   "cell_type": "markdown",
   "metadata": {
    "cell_style": "split",
    "slideshow": {
     "slide_type": "fragment"
    }
   },
   "source": [
    "What is area under this curve?"
   ]
  },
  {
   "cell_type": "markdown",
   "metadata": {
    "cell_style": "center",
    "slideshow": {
     "slide_type": "slide"
    }
   },
   "source": [
    "Uniform .pdf() has location and scale argument:\n",
    "- loc = ___ is start of interval\n",
    "- scale = ___ is range of sample space\n",
    "- uniform probability density over [loc, loc + scale]"
   ]
  },
  {
   "cell_type": "markdown",
   "metadata": {
    "slideshow": {
     "slide_type": "slide"
    }
   },
   "source": [
    "Bouncing ball:\n",
    "$ X = \\pm 5$\n",
    "\n",
    "Get pdf"
   ]
  },
  {
   "cell_type": "code",
   "execution_count": 86,
   "metadata": {
    "cell_style": "split",
    "slideshow": {
     "slide_type": "fragment"
    }
   },
   "outputs": [],
   "source": [
    "X_b = np.linspace(-6,6, 1000)\n",
    "\n",
    "# sample space is [-5,5]\n",
    "bouncing_pdf = uniform.pdf(X_b, loc = -5,\n",
    "                         scale = 10)"
   ]
  },
  {
   "cell_type": "code",
   "execution_count": 87,
   "metadata": {
    "cell_style": "split",
    "slideshow": {
     "slide_type": "fragment"
    }
   },
   "outputs": [
    {
     "data": {
      "image/png": "[encoded data removed]",
      "text/plain": [
       "<Figure size 640x480 with 1 Axes>"
      ]
     },
     "metadata": {},
     "output_type": "display_data"
    }
   ],
   "source": [
    "fig,ax = plt.subplots()\n",
    "ax.plot(X_b, bouncing_pdf)\n",
    "ax.set_title('PDF of uniform distribution')\n",
    "ax.set_xlabel('X')\n",
    "ax.set_ylabel('pdf')\n",
    "plt.show()"
   ]
  },
  {
   "cell_type": "markdown",
   "metadata": {
    "slideshow": {
     "slide_type": "slide"
    }
   },
   "source": [
    "- **Normal (Gaussian)**\n",
    "    - The bell curve. Governs many continuous variables.\n",
    "    - Particularly: variables made up of many random subfactors.\n",
    "    - heights in a population."
   ]
  },
  {
   "cell_type": "markdown",
   "metadata": {
    "heading_collapsed": true,
    "hidden": true,
    "slideshow": {
     "slide_type": "slide"
    }
   },
   "source": [
    "#### Sampling and the PDF with the normal distribution"
   ]
  },
  {
   "cell_type": "markdown",
   "metadata": {
    "cell_style": "split",
    "slideshow": {
     "slide_type": "subslide"
    }
   },
   "source": [
    "Mathematical form for pdf:\n",
    "$$ N(x | \\mu, \\sigma^2) = \\frac{1}{\\sqrt{2\\pi\\sigma^2}} e^{-\\frac{(x-\\mu)^2}{2\\sigma^2}} $$\n",
    "\n",
    "- $\\mu$ is mean.\n",
    "- $\\sigma$ is standard deviation."
   ]
  },
  {
   "cell_type": "markdown",
   "metadata": {
    "cell_style": "split",
    "slideshow": {
     "slide_type": "fragment"
    }
   },
   "source": [
    "- $\\mu$ governs position of mean of distribution\n",
    "- $\\sigma$ governs width of distribution"
   ]
  },
  {
   "cell_type": "markdown",
   "metadata": {
    "cell_style": "center",
    "slideshow": {
     "slide_type": "slide"
    }
   },
   "source": [
    "With scipy.stats:\n",
    "\n",
    "- norm.pdf(loc = mean, scale = std)\n",
    "- by default loc = 0 and scale = 1\n",
    "\n",
    "**The standard normal distribution**"
   ]
  },
  {
   "cell_type": "code",
   "execution_count": 88,
   "metadata": {
    "cell_style": "split",
    "slideshow": {
     "slide_type": "fragment"
    }
   },
   "outputs": [],
   "source": [
    "from scipy.stats import norm\n",
    "x = np.linspace(-4,4, 100)\n",
    "pdf_norm = norm.pdf(x)"
   ]
  },
  {
   "cell_type": "code",
   "execution_count": 30,
   "metadata": {
    "cell_style": "split",
    "slideshow": {
     "slide_type": "fragment"
    }
   },
   "outputs": [
    {
     "data": {
      "image/png": "[encoded data removed]",
      "text/plain": [
       "<Figure size 640x480 with 1 Axes>"
      ]
     },
     "metadata": {},
     "output_type": "display_data"
    }
   ],
   "source": [
    "plt.plot(x, pdf_norm)\n",
    "plt.show()"
   ]
  },
  {
   "cell_type": "markdown",
   "metadata": {
    "slideshow": {
     "slide_type": "slide"
    }
   },
   "source": [
    "Screwing around with the distribution parameters:"
   ]
  },
  {
   "cell_type": "code",
   "execution_count": 89,
   "metadata": {
    "cell_style": "center",
    "slideshow": {
     "slide_type": "fragment"
    }
   },
   "outputs": [],
   "source": [
    "# Moving mean around\n",
    "mu_list = [-2,0,2]\n",
    "sigma = 1\n",
    "\n",
    "x = np.linspace(-7,7)\n",
    "y_list = [norm.pdf(x, loc = mu, scale = sigma)\n",
    "          for mu in mu_list]"
   ]
  },
  {
   "cell_type": "code",
   "execution_count": 32,
   "metadata": {
    "cell_style": "center",
    "slideshow": {
     "slide_type": "subslide"
    }
   },
   "outputs": [
    {
     "data": {
      "image/png": "[encoded data removed]",
      "text/plain": [
       "<Figure size 640x480 with 1 Axes>"
      ]
     },
     "metadata": {},
     "output_type": "display_data"
    }
   ],
   "source": [
    "fig,ax = plt.subplots()\n",
    "[ax.plot(x,y) for y in y_list]\n",
    "plt.show()"
   ]
  },
  {
   "cell_type": "code",
   "execution_count": 90,
   "metadata": {
    "cell_style": "center",
    "slideshow": {
     "slide_type": "subslide"
    }
   },
   "outputs": [],
   "source": [
    "# mess with std/variance\n",
    "mu = 0\n",
    "sigma_list = [1,2,4]\n",
    "\n",
    "x = np.linspace(-8,8)\n",
    "y_list = [norm.pdf(x, loc = mu, scale = sigma)\n",
    "          for sigma in sigma_list]"
   ]
  },
  {
   "cell_type": "code",
   "execution_count": 34,
   "metadata": {
    "cell_style": "center",
    "slideshow": {
     "slide_type": "fragment"
    }
   },
   "outputs": [
    {
     "data": {
      "image/png": "[encoded data removed]",
      "text/plain": [
       "<Figure size 640x480 with 1 Axes>"
      ]
     },
     "metadata": {},
     "output_type": "display_data"
    }
   ],
   "source": [
    "fig,ax = plt.subplots()\n",
    "[ax.plot(x,y) for y in y_list]\n",
    "plt.show()"
   ]
  },
  {
   "cell_type": "markdown",
   "metadata": {
    "hidden": true,
    "slideshow": {
     "slide_type": "subslide"
    }
   },
   "source": [
    "The variance/std describes how closely the points gathered around the mean.  \n",
    "- Low variance means tight and skinny, high variance short and wide."
   ]
  },
  {
   "cell_type": "markdown",
   "metadata": {
    "slideshow": {
     "slide_type": "slide"
    }
   },
   "source": [
    "The statistics of the standard normal:"
   ]
  },
  {
   "cell_type": "code",
   "execution_count": 91,
   "metadata": {
    "slideshow": {
     "slide_type": "-"
    }
   },
   "outputs": [
    {
     "data": {
      "text/plain": [
       "(0.0, 1.0, 0.0, 0.0)"
      ]
     },
     "execution_count": 91,
     "metadata": {},
     "output_type": "execute_result"
    }
   ],
   "source": [
    "norm.stats(moments = 'mvsk')"
   ]
  },
  {
   "cell_type": "markdown",
   "metadata": {
    "slideshow": {
     "slide_type": "slide"
    }
   },
   "source": [
    "For non-standard normal:"
   ]
  },
  {
   "cell_type": "code",
   "execution_count": 36,
   "metadata": {
    "slideshow": {
     "slide_type": "-"
    }
   },
   "outputs": [
    {
     "data": {
      "text/plain": [
       "(2.0, 2.25, 0.0, 0.0)"
      ]
     },
     "execution_count": 36,
     "metadata": {},
     "output_type": "execute_result"
    }
   ],
   "source": [
    "norm.stats(loc = 2, scale = 1.5, moments = 'mvsk')"
   ]
  },
  {
   "cell_type": "markdown",
   "metadata": {
    "slideshow": {
     "slide_type": "fragment"
    }
   },
   "source": [
    "Skew, kurtosis, and in fact all higher order moments of pdf vanish."
   ]
  },
  {
   "cell_type": "markdown",
   "metadata": {
    "slideshow": {
     "slide_type": "slide"
    }
   },
   "source": [
    "#### Sampling from normal distribution\n",
    "\n",
    "- rvs method:"
   ]
  },
  {
   "cell_type": "code",
   "execution_count": 101,
   "metadata": {
    "scrolled": true,
    "slideshow": {
     "slide_type": "subslide"
    }
   },
   "outputs": [
    {
     "data": {
      "text/plain": [
       "array([-0.07827619,  0.02019232, -0.7481405 , ..., -0.81198841,\n",
       "       -0.11294593,  0.90944359])"
      ]
     },
     "execution_count": 101,
     "metadata": {},
     "output_type": "execute_result"
    }
   ],
   "source": [
    "# 20 random samples from normal with mean 0 and std 1.\n",
    "norm_sample = norm.rvs(loc = 0, scale = 1, size = 10000)\n",
    "norm_sample"
   ]
  },
  {
   "cell_type": "markdown",
   "metadata": {
    "slideshow": {
     "slide_type": "subslide"
    }
   },
   "source": [
    "Looking at a histogram of sample:"
   ]
  },
  {
   "cell_type": "code",
   "execution_count": 102,
   "metadata": {
    "scrolled": false,
    "slideshow": {
     "slide_type": "fragment"
    }
   },
   "outputs": [
    {
     "data": {
      "image/png": "[encoded data removed]",
      "text/plain": [
       "<Figure size 640x480 with 1 Axes>"
      ]
     },
     "metadata": {},
     "output_type": "display_data"
    }
   ],
   "source": [
    "plt.hist(norm_sample)\n",
    "plt.title('Histogram of normal distribution sample')\n",
    "plt.xlabel('X')\n",
    "plt.ylabel('Count')\n",
    "plt.show()"
   ]
  },
  {
   "cell_type": "markdown",
   "metadata": {
    "cell_style": "center",
    "heading_collapsed": true,
    "slideshow": {
     "slide_type": "slide"
    }
   },
   "source": [
    "#### CDF: Cumulative Distribution Function\n",
    "Probability random variable <= a certain value. "
   ]
  },
  {
   "cell_type": "markdown",
   "metadata": {
    "cell_style": "split",
    "slideshow": {
     "slide_type": "fragment"
    }
   },
   "source": [
    "\n",
    "Mathematically, CDF is:\n",
    "\n",
    "$$F(x) = P(X\\leq x)$$"
   ]
  },
  {
   "cell_type": "markdown",
   "metadata": {
    "cell_style": "split",
    "slideshow": {
     "slide_type": "slide"
    }
   },
   "source": [
    "CDF exists for all probability distributions (discrete/continuous):\n",
    "\n",
    "\n",
    "**Applies to both continuous pds and discrete pmfs**\n",
    "\n"
   ]
  },
  {
   "cell_type": "markdown",
   "metadata": {
    "cell_style": "split",
    "slideshow": {
     "slide_type": "fragment"
    }
   },
   "source": [
    "Mathematically, CDF is:\n",
    "\n",
    "$$F(x) = P(X\\leq x)$$"
   ]
  },
  {
   "cell_type": "markdown",
   "metadata": {
    "cell_style": "split",
    "slideshow": {
     "slide_type": "slide"
    }
   },
   "source": [
    "Why use the CDF?\n",
    "- Continuous variables:\n",
    "- Actually reports probability\n",
    "- Simple arithmetic operations to calculate probability of given range."
   ]
  },
  {
   "cell_type": "markdown",
   "metadata": {
    "cell_style": "split",
    "slideshow": {
     "slide_type": "fragment"
    }
   },
   "source": [
    "Implicitly used in most hypothesis tests:\n",
    "- Calculate probability of a measured value or values more extreme\n",
    "- CDF yields whether measured value is likely under a given distribution."
   ]
  },
  {
   "cell_type": "markdown",
   "metadata": {
    "cell_style": "split",
    "slideshow": {
     "slide_type": "slide"
    }
   },
   "source": [
    "####  Discrete case:\n",
    "\n",
    "An ad-clicking example: \n",
    "\n",
    "- Use CDF to calculate probability of having <= 2 clicks in 50 random samples.\n",
    "- where $p = 0.1$ for a click.\n",
    "\n",
    "$$P(x \\leq 2)$$"
   ]
  },
  {
   "cell_type": "markdown",
   "metadata": {
    "cell_style": "split",
    "slideshow": {
     "slide_type": "fragment"
    }
   },
   "source": [
    "#### CDF in scipy.stats\n",
    "\n",
    "- scipy.stats.binom.cdf()\n",
    "\n",
    "- Generally, scipy.stats.distribution.cdf(arguments)\n"
   ]
  },
  {
   "cell_type": "code",
   "execution_count": 107,
   "metadata": {
    "ExecuteTime": {
     "end_time": "2021-10-08T21:00:07.840276Z",
     "start_time": "2021-10-08T21:00:07.836086Z"
    },
    "slideshow": {
     "slide_type": "slide"
    }
   },
   "outputs": [
    {
     "data": {
      "text/plain": [
       "0.1117287563463473"
      ]
     },
     "execution_count": 107,
     "metadata": {},
     "output_type": "execute_result"
    }
   ],
   "source": [
    "# Create the random discrete value for the number of success\n",
    "\n",
    "n = 50\n",
    "p = 0.1\n",
    "\n",
    "# Calculate the probability for x equal or less than 2\n",
    "binom.cdf(2, n = n , p = p)"
   ]
  },
  {
   "cell_type": "markdown",
   "metadata": {
    "slideshow": {
     "slide_type": "slide"
    }
   },
   "source": [
    "Visualize pmf and cdf side by side"
   ]
  },
  {
   "cell_type": "code",
   "execution_count": 108,
   "metadata": {
    "cell_style": "split",
    "slideshow": {
     "slide_type": "fragment"
    }
   },
   "outputs": [
    {
     "data": {
      "image/png": "[encoded data removed]",
      "text/plain": [
       "<Figure size 640x480 with 1 Axes>"
      ]
     },
     "metadata": {},
     "output_type": "display_data"
    }
   ],
   "source": [
    "x = np.arange(0,15,1)\n",
    "y = binom.pmf(x, n = n , p = p)\n",
    "plt.stem(x, y, linefmt='b-', markerfmt='bo', basefmt='r-')\n",
    "plt.xlabel('Number of clicks')\n",
    "plt.ylabel('Probability')\n",
    "plt.title('PMF (Binomial): Clicks for 50 samples')\n",
    "plt.show()"
   ]
  },
  {
   "cell_type": "code",
   "execution_count": 109,
   "metadata": {
    "cell_style": "split",
    "slideshow": {
     "slide_type": "fragment"
    }
   },
   "outputs": [
    {
     "data": {
      "image/png": "[encoded data removed]",
      "text/plain": [
       "<Figure size 640x480 with 1 Axes>"
      ]
     },
     "metadata": {},
     "output_type": "display_data"
    }
   ],
   "source": [
    "cdf_y = binom.cdf(k = x, n=n, p=p)\n",
    "plt.plot(x, cdf_y, c = 'b', linestyle = '--')\n",
    "plt.xlabel('Number of clicks')\n",
    "plt.ylabel('P($X \\leq x$)')\n",
    "plt.title('CDF of binomial: Ad click rate')\n",
    "plt.show()"
   ]
  },
  {
   "cell_type": "markdown",
   "metadata": {
    "cell_style": "center",
    "slideshow": {
     "slide_type": "subslide"
    }
   },
   "source": [
    "- What is the probability of getting less than or equal to 8 clicks?"
   ]
  },
  {
   "cell_type": "code",
   "execution_count": 110,
   "metadata": {
    "slideshow": {
     "slide_type": "fragment"
    }
   },
   "outputs": [
    {
     "data": {
      "text/plain": [
       "0.9421327942819058"
      ]
     },
     "execution_count": 110,
     "metadata": {},
     "output_type": "execute_result"
    }
   ],
   "source": [
    "binom.cdf(8, n = n, p = p)"
   ]
  },
  {
   "cell_type": "markdown",
   "metadata": {},
   "source": [
    "$$ P (X > 8) $$"
   ]
  },
  {
   "cell_type": "code",
   "execution_count": 112,
   "metadata": {},
   "outputs": [
    {
     "data": {
      "text/plain": [
       "0.057867205718094256"
      ]
     },
     "execution_count": 112,
     "metadata": {},
     "output_type": "execute_result"
    }
   ],
   "source": [
    "# survival function\n",
    "\n",
    "binom.sf(8, n = n, p =p)"
   ]
  },
  {
   "cell_type": "markdown",
   "metadata": {
    "slideshow": {
     "slide_type": "fragment"
    }
   },
   "source": [
    "- Probability of getting less than infinity?\n",
    "(this is all possible values)"
   ]
  },
  {
   "cell_type": "code",
   "execution_count": 44,
   "metadata": {
    "slideshow": {
     "slide_type": "fragment"
    }
   },
   "outputs": [
    {
     "data": {
      "text/plain": [
       "1.0"
      ]
     },
     "execution_count": 44,
     "metadata": {},
     "output_type": "execute_result"
    }
   ],
   "source": [
    "binom.cdf(np.inf, n = n, p = p)"
   ]
  },
  {
   "cell_type": "code",
   "execution_count": 45,
   "metadata": {
    "cell_style": "split",
    "slideshow": {
     "slide_type": "slide"
    }
   },
   "outputs": [
    {
     "data": {
      "image/png": "[encoded data removed]",
      "text/plain": [
       "<Figure size 640x480 with 1 Axes>"
      ]
     },
     "metadata": {},
     "output_type": "display_data"
    }
   ],
   "source": [
    "cdf_y = binom.cdf(k = x, n=n, p=p)\n",
    "plt.plot(x, cdf_y, c = 'b', linestyle = '--')\n",
    "plt.xlabel('Number of clicks')\n",
    "plt.ylabel('Probability')\n",
    "plt.title('CDF of binomial: Ad click rate')\n",
    "plt.axvline(2, c = 'r', linestyle = '--')\n",
    "plt.axvline(4, c = 'r', linestyle = '--')\n",
    "plt.show()"
   ]
  },
  {
   "cell_type": "markdown",
   "metadata": {
    "cell_style": "split",
    "slideshow": {
     "slide_type": "fragment"
    }
   },
   "source": [
    "What is probability of getting between 2 and 4 with 4 inclusive?\n",
    "- $ P(x <= 4) - P(x<=2)$"
   ]
  },
  {
   "cell_type": "code",
   "execution_count": 46,
   "metadata": {
    "cell_style": "split",
    "slideshow": {
     "slide_type": "fragment"
    }
   },
   "outputs": [
    {
     "data": {
      "text/plain": [
       "0.31946965048271503"
      ]
     },
     "execution_count": 46,
     "metadata": {},
     "output_type": "execute_result"
    }
   ],
   "source": [
    "Pless4 = binom.cdf(k = 4, n=n, p=p)  \n",
    "Pless2 = binom.cdf(k = 2, n=n, p=p)\n",
    "\n",
    "Pless4 - Pless2"
   ]
  },
  {
   "cell_type": "markdown",
   "metadata": {
    "slideshow": {
     "slide_type": "slide"
    }
   },
   "source": [
    "What is the probability that we have greater than 4 clicks?\n",
    "$$ P(x <= \\infty) - P(x<=4)$$"
   ]
  },
  {
   "cell_type": "markdown",
   "metadata": {
    "slideshow": {
     "slide_type": "fragment"
    }
   },
   "source": [
    "$$ 1 - P(x<=4) $$"
   ]
  },
  {
   "cell_type": "markdown",
   "metadata": {
    "slideshow": {
     "slide_type": "slide"
    }
   },
   "source": [
    "In python:"
   ]
  },
  {
   "cell_type": "code",
   "execution_count": 113,
   "metadata": {
    "cell_style": "split",
    "slideshow": {
     "slide_type": "fragment"
    }
   },
   "outputs": [
    {
     "data": {
      "text/plain": [
       "0.5688015931709377"
      ]
     },
     "execution_count": 113,
     "metadata": {},
     "output_type": "execute_result"
    }
   ],
   "source": [
    "1 - binom.cdf(4, n, p)"
   ]
  },
  {
   "cell_type": "markdown",
   "metadata": {
    "cell_style": "split",
    "slideshow": {
     "slide_type": "fragment"
    }
   },
   "source": [
    "Equivalently, though faster:\n",
    "- $P(X >x)$ as survival function: distribution.sf()"
   ]
  },
  {
   "cell_type": "code",
   "execution_count": 114,
   "metadata": {
    "cell_style": "split",
    "scrolled": true,
    "slideshow": {
     "slide_type": "fragment"
    }
   },
   "outputs": [
    {
     "data": {
      "text/plain": [
       "0.5688015931709377"
      ]
     },
     "execution_count": 114,
     "metadata": {},
     "output_type": "execute_result"
    }
   ],
   "source": [
    "binom.sf(4, n , p)"
   ]
  },
  {
   "cell_type": "markdown",
   "metadata": {
    "slideshow": {
     "slide_type": "fragment"
    }
   },
   "source": [
    "5\\% chance of getting greater than 4 clicks in 50 randomized user-site interactions."
   ]
  },
  {
   "cell_type": "markdown",
   "metadata": {
    "slideshow": {
     "slide_type": "slide"
    }
   },
   "source": [
    "Generally:\n",
    "$$ P(X > x) = 1 - P(X <= x) $$\n",
    "\n",
    "<center>1 - distribution.cdf(x, parameters) </center>"
   ]
  },
  {
   "cell_type": "markdown",
   "metadata": {
    "cell_style": "split",
    "slideshow": {
     "slide_type": "slide"
    }
   },
   "source": [
    "#### Continuous Distribution\n",
    "- CDF of the normal distribution\n",
    "\n",
    "Example case: distribution of heights. \n",
    "\n",
    "We observe the mean is 5.5 ft with a standard deviation of 0.5 ft.\n",
    "\n",
    "Model with normal distribution."
   ]
  },
  {
   "cell_type": "code",
   "execution_count": 115,
   "metadata": {
    "cell_style": "split",
    "slideshow": {
     "slide_type": "fragment"
    }
   },
   "outputs": [
    {
     "data": {
      "image/png": "[encoded data removed]",
      "text/plain": [
       "<Figure size 640x480 with 1 Axes>"
      ]
     },
     "metadata": {},
     "output_type": "display_data"
    }
   ],
   "source": [
    "mu = 5.5 # mean\n",
    "sigma = 0.5 # standard deviation\n",
    "\n",
    "x = np.linspace(2,9)\n",
    "y_norm = norm.pdf(x, loc = mu, scale = sigma)\n",
    "plt.plot(x, y_norm)\n",
    "plt.xlabel('Height (ft.)')\n",
    "plt.ylabel('PDF')\n",
    "plt.title('PDF:  Normally distributed Heights')\n",
    "plt.show()\n"
   ]
  },
  {
   "cell_type": "markdown",
   "metadata": {
    "cell_style": "center",
    "slideshow": {
     "slide_type": "slide"
    }
   },
   "source": [
    "Probability that height <= 4.7:"
   ]
  },
  {
   "cell_type": "code",
   "execution_count": 50,
   "metadata": {
    "cell_style": "split",
    "scrolled": true,
    "slideshow": {
     "slide_type": "subslide"
    }
   },
   "outputs": [
    {
     "data": {
      "image/png": "[encoded data removed]",
      "text/plain": [
       "<Figure size 640x480 with 1 Axes>"
      ]
     },
     "metadata": {},
     "output_type": "display_data"
    }
   ],
   "source": [
    "mu = 5.5 # mean\n",
    "sigma = 0.5 # standard deviation\n",
    "\n",
    "x = np.linspace(2,9, num = 100)\n",
    "y_norm = norm.pdf(x, loc = mu, scale = sigma)\n",
    "plt.plot(x, y_norm)\n",
    "plt.fill_between(x,y_norm, where = (x <= 4.7), color='r')\n",
    "plt.axvline(x = 4.7, c = 'r', linestyle = '--')\n",
    "plt.xlabel('Height (ft.)')\n",
    "plt.ylabel('PDF')\n",
    "plt.title('PDF:  Normally distributed Heights')\n",
    "plt.show()"
   ]
  },
  {
   "cell_type": "code",
   "execution_count": 51,
   "metadata": {
    "cell_style": "split",
    "slideshow": {
     "slide_type": "fragment"
    }
   },
   "outputs": [
    {
     "data": {
      "image/png": "[encoded data removed]",
      "text/plain": [
       "<Figure size 640x480 with 1 Axes>"
      ]
     },
     "metadata": {},
     "output_type": "display_data"
    }
   ],
   "source": [
    "mu = 5.5 # mean\n",
    "sigma = 0.5 # standard deviation\n",
    "\n",
    "x = np.linspace(2,9, num = 100)\n",
    "y_norm_cdf = norm.cdf(x, loc = mu, scale = sigma)\n",
    "plt.plot(x, y_norm_cdf)\n",
    "plt.axvline(x = 4.7, c = 'r', linestyle = '--')\n",
    "plt.xlabel('Height (ft.)')\n",
    "plt.ylabel('CDF')\n",
    "plt.title('CDF:  Normally distributed Heights')\n",
    "plt.show()"
   ]
  },
  {
   "cell_type": "markdown",
   "metadata": {
    "slideshow": {
     "slide_type": "slide"
    }
   },
   "source": [
    "#### Continuous variables\n",
    "\n",
    "- Value of cdf at x = 4.7\n",
    "- area under pdf at x <= 4.7"
   ]
  },
  {
   "cell_type": "code",
   "execution_count": 52,
   "metadata": {
    "cell_style": "center",
    "slideshow": {
     "slide_type": "-"
    }
   },
   "outputs": [
    {
     "data": {
      "text/plain": [
       "0.05479929169955804"
      ]
     },
     "execution_count": 52,
     "metadata": {},
     "output_type": "execute_result"
    }
   ],
   "source": [
    "norm.cdf(4.7, loc = mu, scale = 0.5 )"
   ]
  },
  {
   "cell_type": "markdown",
   "metadata": {
    "slideshow": {
     "slide_type": "slide"
    }
   },
   "source": [
    "Probability that height is greater than 4.5 ft and less than 6 ft?\n",
    "- Help me out. Use cdf."
   ]
  },
  {
   "cell_type": "code",
   "execution_count": 53,
   "metadata": {
    "slideshow": {
     "slide_type": "subslide"
    }
   },
   "outputs": [
    {
     "data": {
      "image/png": "[encoded data removed]",
      "text/plain": [
       "<Figure size 640x480 with 1 Axes>"
      ]
     },
     "metadata": {},
     "output_type": "display_data"
    }
   ],
   "source": [
    "mu = 5.5 # mean\n",
    "sigma = 0.5 # standard deviation\n",
    "\n",
    "x = np.linspace(2,9, num = 100)\n",
    "y_norm = norm.pdf(x, loc = mu, scale = sigma)\n",
    "plt.plot(x, y_norm)\n",
    "plt.fill_between(x,y_norm, where = (x <= 4.7), color='r', alpha = 0.2)\n",
    "plt.fill_between(x,y_norm, where = (x <= 6), color='b', alpha = 0.2)\n",
    "plt.axvline(x = 4.7, c = 'r', linestyle = '--')\n",
    "plt.axvline(x = 6, c = 'b', linestyle = '--')\n",
    "plt.xlabel('Height (ft.)')\n",
    "plt.ylabel('PDF')\n",
    "plt.title('PDF:  Normally distributed Heights')\n",
    "plt.show()"
   ]
  },
  {
   "cell_type": "code",
   "execution_count": 119,
   "metadata": {
    "cell_style": "center",
    "slideshow": {
     "slide_type": "subslide"
    }
   },
   "outputs": [
    {
     "data": {
      "text/plain": [
       "0.7865454543689849"
      ]
     },
     "execution_count": 119,
     "metadata": {},
     "output_type": "execute_result"
    }
   ],
   "source": [
    "# mu is defined as mean already, set scale to 0.5 (std)\n",
    "mu = 5.5\n",
    "stdev = 0.5\n",
    "\n",
    "dist_paramsaved = norm(loc = mu, scale = stdev)\n",
    "#norm.cdf(6, loc = mu, scale = stdev) - norm.cdf(4.7, loc = mu, scale = stdev )\n",
    "\n",
    "dist_paramsaved.cdf(6) - dist_paramsaved.cdf(4.7)"
   ]
  }
 ],
 "metadata": {
  "celltoolbar": "Slideshow",
  "kernelspec": {
   "display_name": "Python 3 (ipykernel)",
   "language": "python",
   "name": "python3"
  },
  "language_info": {
   "codemirror_mode": {
    "name": "ipython",
    "version": 3
   },
   "file_extension": ".py",
   "mimetype": "text/x-python",
   "name": "python",
   "nbconvert_exporter": "python",
   "pygments_lexer": "ipython3",
   "version": "3.11.7"
  }
 },
 "nbformat": 4,
 "nbformat_minor": 4
}
