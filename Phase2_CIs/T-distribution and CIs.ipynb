{
 "cells": [
  {
   "cell_type": "markdown",
   "metadata": {
    "cell_style": "center",
    "slideshow": {
     "slide_type": "slide"
    }
   },
   "source": [
    "<div style=\"color:white;\n",
    "           display:fill;\n",
    "           border-radius:5px;\n",
    "           background-color:#5642C5;\n",
    "           font-size:200%;\n",
    "           font-family:Arial;letter-spacing:0.5px\">\n",
    "\n",
    "<p width = 20%, style=\"padding: 10px;\n",
    "              color:white;\">\n",
    "The t-distribution and confidence interval of small sample sizes\n",
    "              \n",
    "</p>\n",
    "</div>\n",
    "\n",
    "Data Science Cohort Live NYC Aug 2024\n",
    "<p>Phase 2</p>\n",
    "<br>\n",
    "<br>\n",
    "\n",
    "<div align = \"right\">\n",
    "<img src=\"Images/flatiron-school-logo.png\" align = \"right\" width=\"200\"/>\n",
    "</div>\n",
    "    \n",
    "    "
   ]
  },
  {
   "cell_type": "code",
   "execution_count": 1,
   "metadata": {
    "slideshow": {
     "slide_type": "slide"
    }
   },
   "outputs": [],
   "source": [
    "from scipy import stats\n",
    "import numpy as np\n",
    "import seaborn as sns\n",
    "import matplotlib.pyplot as plt"
   ]
  },
  {
   "cell_type": "markdown",
   "metadata": {
    "cell_style": "split",
    "slideshow": {
     "slide_type": "slide"
    }
   },
   "source": [
    "So given a population with:\n",
    "- Mean $\\mu$\n",
    "- Standard deviation $\\sigma$"
   ]
  },
  {
   "cell_type": "markdown",
   "metadata": {
    "cell_style": "split",
    "slideshow": {
     "slide_type": "slide"
    }
   },
   "source": [
    "#### Often faced with a situation where"
   ]
  },
  {
   "cell_type": "markdown",
   "metadata": {
    "cell_style": "split",
    "slideshow": {
     "slide_type": "fragment"
    }
   },
   "source": [
    "- $\\mu$ is unkown: something to be estimated by sampling \n",
    "- $\\sigma$ is unknown."
   ]
  },
  {
   "cell_type": "markdown",
   "metadata": {
    "cell_style": "split",
    "slideshow": {
     "slide_type": "subslide"
    }
   },
   "source": [
    "Provide $N$ is large enough: \n",
    " \n",
    "- CLT give us ability to make some statements about sampling from population:\n"
   ]
  },
  {
   "cell_type": "markdown",
   "metadata": {
    "cell_style": "split",
    "slideshow": {
     "slide_type": "fragment"
    }
   },
   "source": [
    "- Distribution of $\\bar{X}$ of samples of size N: \n",
    "- Normal distribution with mean $\\mu$ and std $\\frac{\\sigma}{\\sqrt{N}}$"
   ]
  },
  {
   "cell_type": "markdown",
   "metadata": {
    "slideshow": {
     "slide_type": "subslide"
    }
   },
   "source": [
    "Or in terms of rescaled variables:\n",
    "$$ Z = \\frac{(\\bar{X} - \\mu)}{\\sigma/\\sqrt{N}} $$\n",
    "\n",
    "follows the standardized normal distribution $N(0,1)$."
   ]
  },
  {
   "cell_type": "markdown",
   "metadata": {
    "slideshow": {
     "slide_type": "slide"
    }
   },
   "source": [
    "And as long as $N$ of sample used for mean estimation is large enough:\n",
    "\n",
    "$$ Z = \\frac{(\\bar{X} - \\mu)}{\\sigma/\\sqrt{N}} \\approx \\frac{(\\bar{X} - \\mu)}{s/\\sqrt{N}}  $$ \n",
    "\n",
    "where $s^2$ is our sample variance:\n",
    "\n",
    "$$ s^2 = \\sum_{i=1}^{N}\\frac{(X_i - \\bar{X})^2}{N-1} $$\n"
   ]
  },
  {
   "cell_type": "markdown",
   "metadata": {
    "slideshow": {
     "slide_type": "subslide"
    }
   },
   "source": [
    "- And then apply CLT and use $Z$ for:\n",
    "    - Confidence interval estimation"
   ]
  },
  {
   "cell_type": "markdown",
   "metadata": {
    "slideshow": {
     "slide_type": "slide"
    }
   },
   "source": [
    "#### But when N is small..."
   ]
  },
  {
   "cell_type": "markdown",
   "metadata": {
    "slideshow": {
     "slide_type": "fragment"
    }
   },
   "source": [
    "This doesn't really work. Why?"
   ]
  },
  {
   "cell_type": "markdown",
   "metadata": {
    "slideshow": {
     "slide_type": "subslide"
    }
   },
   "source": [
    "Sample-to-sample fluctuations in $s$ appreciable:\n",
    "- Let's see this for samples of various sizes drawn from the standard normal."
   ]
  },
  {
   "cell_type": "code",
   "execution_count": 6,
   "metadata": {
    "cell_style": "center",
    "scrolled": false,
    "slideshow": {
     "slide_type": "subslide"
    }
   },
   "outputs": [
    {
     "data": {
      "image/png": "[encoded data removed]",
      "text/plain": [
       "<Figure size 432x288 with 1 Axes>"
      ]
     },
     "metadata": {
      "needs_background": "light"
     },
     "output_type": "display_data"
    }
   ],
   "source": [
    "from scipy.stats import norm\n",
    "\n",
    "N_list = [5,10, 30,50, 500]\n",
    "for N in N_list:\n",
    "    s_list = [norm.rvs(loc = 0, scale = 1, size = N).std() for trial in range(10000)]\n",
    "    plt.hist(s_list, bins = 25, density = True, histtype = 'step', label = \"N = \" + str(N))\n",
    "\n",
    "plt.legend()\n",
    "plt.xlabel('Sample standard deviation')\n",
    "plt.ylabel('PDF')\n",
    "plt.title('Effect of $N$ on sample std $s$')\n",
    "plt.show()"
   ]
  },
  {
   "cell_type": "markdown",
   "metadata": {
    "slideshow": {
     "slide_type": "slide"
    }
   },
   "source": [
    "The sample standard deviation fluctuation amplifies for smaller sample size $N < 30$"
   ]
  },
  {
   "cell_type": "markdown",
   "metadata": {
    "slideshow": {
     "slide_type": "fragment"
    }
   },
   "source": [
    "$$ \\frac{(\\bar{X} - \\mu)}{s/\\sqrt{N}} $$\n",
    "\n",
    "- $\\bar{X}$ is random variable.\n",
    "- $s$ must be treated as random variable.\n"
   ]
  },
  {
   "cell_type": "markdown",
   "metadata": {
    "slideshow": {
     "slide_type": "slide"
    }
   },
   "source": [
    "$$t = \\frac{(\\bar{X} - \\mu)}{s/\\sqrt{N}} $$\n",
    "\n",
    "\n",
    "- **CLT cannot be invoked to see how t distributed**\n",
    "    - $t$ statistic is a composite random variable. \n",
    "    - N is small"
   ]
  },
  {
   "cell_type": "markdown",
   "metadata": {
    "slideshow": {
     "slide_type": "subslide"
    }
   },
   "source": [
    "If **population** normally distributed (or have good reason to believe this):\n",
    "\n",
    "- t follows another distribution: **the standardized t-distribution**.\n",
    "- correction to normal because:\n",
    "    - $\\sigma$ uncertain.\n",
    "    - $s$ for a given sample fluctuates a lot about unknown $\\sigma$"
   ]
  },
  {
   "cell_type": "markdown",
   "metadata": {
    "slideshow": {
     "slide_type": "subslide"
    }
   },
   "source": [
    "Import t distribution in scipy:\n",
    "- Assumes underlying population distribution samples is normal. \n",
    "- Sampling distribution of **means** of sample size N w/ unknown population std"
   ]
  },
  {
   "cell_type": "code",
   "execution_count": 26,
   "metadata": {
    "slideshow": {
     "slide_type": "fragment"
    }
   },
   "outputs": [],
   "source": [
    "from scipy.stats import t"
   ]
  },
  {
   "cell_type": "markdown",
   "metadata": {
    "slideshow": {
     "slide_type": "slide"
    }
   },
   "source": [
    "- pdf needs degree of freedom argument (df):\n",
    "    - loc = 0, scale = 1 (standardized) default\n",
    "    - $df = N - 1$ for t-distribution."
   ]
  },
  {
   "cell_type": "code",
   "execution_count": 27,
   "metadata": {
    "cell_style": "center",
    "scrolled": false,
    "slideshow": {
     "slide_type": "fragment"
    }
   },
   "outputs": [],
   "source": [
    "\n",
    "# define t pdf for a few degrees of freedom and normal\n",
    "x = np.linspace(-4,4,400)\n",
    "t_distribution5 = t.pdf(x, loc = 0, df = 4) # N = 5\n",
    "t_distribution10 = t.pdf(x, loc = 0, df = 9) # N = 10 \n",
    "t_distribution20 = t.pdf(x, loc = 0, df = 19) # N = 20\n",
    "norm_distribution = norm.pdf(x, loc = 0, scale = 1)"
   ]
  },
  {
   "cell_type": "code",
   "execution_count": 5,
   "metadata": {
    "slideshow": {
     "slide_type": "skip"
    }
   },
   "outputs": [],
   "source": [
    "%%capture tdistplot\n",
    "\n",
    "fig, ax = plt.subplots(figsize = (12,8))\n",
    "ax.plot(x,t_distribution5, label = 't-distribution: df = 4' )\n",
    "ax.plot(x,t_distribution10, label = 't-distribution: df = 9' )\n",
    "ax.plot(x,t_distribution20, label = 't-distribution: df = 19' )\n",
    "ax.plot(x,norm_distribution, label = 'normal')\n",
    "ax.set_xlabel('t',  fontsize = 16)\n",
    "ax.set_ylabel('PDF', fontsize = 16)\n",
    "ax.set_title('t-distribution PDF approach to normal', fontsize = 18)\n",
    "ax.legend()\n",
    "plt.show()"
   ]
  },
  {
   "cell_type": "code",
   "execution_count": 6,
   "metadata": {
    "cell_style": "center",
    "scrolled": true,
    "slideshow": {
     "slide_type": "subslide"
    }
   },
   "outputs": [
    {
     "data": {
      "image/png": "[encoded data removed]",
      "text/plain": [
       "<Figure size 1200x800 with 1 Axes>"
      ]
     },
     "metadata": {},
     "output_type": "display_data"
    }
   ],
   "source": [
    "tdistplot()"
   ]
  },
  {
   "cell_type": "markdown",
   "metadata": {
    "cell_style": "center",
    "slideshow": {
     "slide_type": "slide"
    }
   },
   "source": [
    "Looks similar to normal: but tails are fatter.\n",
    "- But area under tails:\n",
    "    - can change confidence intervals at a given confidence level drastically\n",
    "    - particularly for high confidence levels\n",
    "        "
   ]
  },
  {
   "cell_type": "markdown",
   "metadata": {
    "hidden": true,
    "slideshow": {
     "slide_type": "slide"
    }
   },
   "source": [
    " **Scenario**\n",
    "\n",
    " - Wildlife Conservation Society of Gabon: measured weights of $15$ African elephants in Gabon  \n",
    "\n",
    " Infer range of possible population means for the weight of Gabonese elephants at 0.95 confidence."
   ]
  },
  {
   "cell_type": "code",
   "execution_count": 28,
   "metadata": {
    "cell_style": "split",
    "hidden": true,
    "slideshow": {
     "slide_type": "-"
    }
   },
   "outputs": [],
   "source": [
    "# We're given these values from the sample weights\n",
    "gab = np.array([\n",
    "        8234, 8929, 7922, 8688, 8840, \n",
    "        8759, 8127, 8574, 8533, 8944, \n",
    "        8631, 8665, 8712, 8984, 8601\n",
    "])\n",
    "\n",
    "N = len(gab)"
   ]
  },
  {
   "cell_type": "markdown",
   "metadata": {
    "cell_style": "split"
   },
   "source": [
    "Weights, heights, etc at the population level are often normally distributed."
   ]
  },
  {
   "cell_type": "markdown",
   "metadata": {
    "hidden": true,
    "slideshow": {
     "slide_type": "slide"
    }
   },
   "source": [
    "#### Confidence Intervals: t-distribution"
   ]
  },
  {
   "cell_type": "markdown",
   "metadata": {
    "cell_style": "split",
    "slideshow": {
     "slide_type": "fragment"
    }
   },
   "source": [
    "- Again, same idea as with Z-distribution\n",
    "- Have sample: estimate population mean.\n",
    "- Uncertainty in population mean"
   ]
  },
  {
   "cell_type": "markdown",
   "metadata": {
    "cell_style": "split"
   },
   "source": [
    "But $ N < 30$ and population distribution is assumed normal."
   ]
  },
  {
   "cell_type": "markdown",
   "metadata": {
    "cell_style": "center",
    "slideshow": {
     "slide_type": "slide"
    }
   },
   "source": [
    "Confidence interval at confidence level $c$:\n",
    "- Measure $\\bar{X_0}$\n",
    "- assuming underlying population is normally distributed\n",
    "\n",
    "$$\\bar{X_0} \\pm t^* \\frac{s}{\\sqrt{N}} $$\n",
    "\n",
    "\n",
    "- $c$ fraction of means lie in range $\\pm t^*$ range in standardized t-distribution.\n"
   ]
  },
  {
   "cell_type": "code",
   "execution_count": 8,
   "metadata": {
    "cell_style": "center",
    "slideshow": {
     "slide_type": "skip"
    }
   },
   "outputs": [],
   "source": [
    "\n",
    "def plot_confidence_interval_t(c, N):\n",
    "    \n",
    "    x_scaled = np.linspace(-5,5,800)\n",
    "    Y_scaled = t.pdf(x_scaled, df = N-1)\n",
    "\n",
    "    fig,ax = plt.subplots()\n",
    "    \n",
    "    t_crit = np.abs(t.ppf((1 - c)/2, df = N - 1))\n",
    "\n",
    "    ax.plot(x_scaled, Y_scaled, c ='r', linewidth = 3)\n",
    "    ax.axvline(-t_crit, c = 'b')\n",
    "    ax.axvline(t_crit, c = 'b')\n",
    "\n",
    "    ax.fill_between(x_scaled, Y_scaled, where = (x_scaled > -t_crit )& (x_scaled < t_crit), alpha = 0.5, color='r')\n",
    "\n",
    "\n",
    "    ax.annotate('c = 0.95', xytext = (-5.0,.25), xy = (-.5,.20), fontsize=16, arrowprops=dict(facecolor='r', shrink=0.05), c ='r' )\n",
    "    ax.set_xlabel('t')\n",
    "    ax.set_ylabel('PDF')\n",
    "    ax.set_title('Confidence Interval: standardized t')\n",
    "    plt.show()\n"
   ]
  },
  {
   "cell_type": "code",
   "execution_count": 9,
   "metadata": {
    "cell_style": "split",
    "scrolled": true,
    "slideshow": {
     "slide_type": "slide"
    }
   },
   "outputs": [
    {
     "data": {
      "image/png": "[encoded data removed]",
      "text/plain": [
       "<Figure size 640x480 with 1 Axes>"
      ]
     },
     "metadata": {},
     "output_type": "display_data"
    }
   ],
   "source": [
    "plot_confidence_interval_t(0.95, N)"
   ]
  },
  {
   "cell_type": "markdown",
   "metadata": {
    "cell_style": "split",
    "slideshow": {
     "slide_type": "fragment"
    }
   },
   "source": [
    "Compute (-$t^*$, $t^*$) for given confidence level:\n",
    "    "
   ]
  },
  {
   "cell_type": "code",
   "execution_count": 10,
   "metadata": {
    "cell_style": "split",
    "slideshow": {
     "slide_type": "fragment"
    }
   },
   "outputs": [],
   "source": [
    "# 95% confidence interval\n",
    "c = 0.95"
   ]
  },
  {
   "cell_type": "code",
   "execution_count": 11,
   "metadata": {
    "cell_style": "split",
    "slideshow": {
     "slide_type": "fragment"
    }
   },
   "outputs": [
    {
     "data": {
      "text/plain": [
       "(-2.1447866879169273, 2.1447866879169273)"
      ]
     },
     "execution_count": 11,
     "metadata": {},
     "output_type": "execute_result"
    }
   ],
   "source": [
    "# outputs (-t*, +t*)\n",
    "\n",
    "# with no loc, scale assumes \n",
    "# standardized t\n",
    "CI_norm = t.interval(c, df = N - 1)\n",
    "CI_norm\n"
   ]
  },
  {
   "cell_type": "markdown",
   "metadata": {
    "slideshow": {
     "slide_type": "slide"
    }
   },
   "source": [
    "Or can calculate t* the other way: "
   ]
  },
  {
   "cell_type": "code",
   "execution_count": 12,
   "metadata": {
    "cell_style": "split",
    "slideshow": {
     "slide_type": "fragment"
    }
   },
   "outputs": [
    {
     "data": {
      "text/plain": [
       "2.1447866879169273"
      ]
     },
     "execution_count": 12,
     "metadata": {},
     "output_type": "execute_result"
    }
   ],
   "source": [
    "t_star = np.abs(t.ppf((1-c)/2, df = N - 1))\n",
    "t_star"
   ]
  },
  {
   "cell_type": "code",
   "execution_count": 13,
   "metadata": {
    "cell_style": "split"
   },
   "outputs": [
    {
     "data": {
      "text/plain": [
       "(-2.1447866879169273, 2.1447866879169273)"
      ]
     },
     "execution_count": 13,
     "metadata": {},
     "output_type": "execute_result"
    }
   ],
   "source": [
    "CI_norm"
   ]
  },
  {
   "cell_type": "markdown",
   "metadata": {
    "cell_style": "center",
    "slideshow": {
     "slide_type": "slide"
    }
   },
   "source": [
    "- sample mean $\\bar{X_0}$ is our central estimate of population mean\n",
    "- The confidence interval will then just be:\n",
    "    \n",
    "    As $$\\bar{X_0} \\pm t^* \\frac{s}{\\sqrt{N}}$$\n",
    "   "
   ]
  },
  {
   "cell_type": "code",
   "execution_count": 29,
   "metadata": {
    "cell_style": "split",
    "slideshow": {
     "slide_type": "fragment"
    }
   },
   "outputs": [
    {
     "data": {
      "text/plain": [
       "305.14162207704396"
      ]
     },
     "execution_count": 29,
     "metadata": {},
     "output_type": "execute_result"
    }
   ],
   "source": [
    "# Remember our Galbonese elephant data\n",
    "s = gab.std(ddof = 1)\n",
    "s"
   ]
  },
  {
   "cell_type": "code",
   "execution_count": 30,
   "metadata": {
    "cell_style": "split",
    "slideshow": {
     "slide_type": "fragment"
    }
   },
   "outputs": [
    {
     "data": {
      "text/plain": [
       "15"
      ]
     },
     "execution_count": 30,
     "metadata": {},
     "output_type": "execute_result"
    }
   ],
   "source": [
    "N = len(gab)\n",
    "N"
   ]
  },
  {
   "cell_type": "code",
   "execution_count": 16,
   "metadata": {
    "cell_style": "split",
    "slideshow": {
     "slide_type": "fragment"
    }
   },
   "outputs": [
    {
     "data": {
      "text/plain": [
       "8609.533333333333"
      ]
     },
     "execution_count": 16,
     "metadata": {},
     "output_type": "execute_result"
    }
   ],
   "source": [
    "Xbar0 = gab.mean()\n",
    "Xbar0"
   ]
  },
  {
   "cell_type": "markdown",
   "metadata": {
    "cell_style": "center",
    "slideshow": {
     "slide_type": "slide"
    }
   },
   "source": [
    "To get our unscaled CI is easy now:\n",
    "- multiply numpy array of lower/upper $t^*$ values\n",
    "- by $s/\\sqrt{N}$\n",
    "- add sample mean $\\bar{X}_0$"
   ]
  },
  {
   "cell_type": "code",
   "execution_count": 17,
   "metadata": {
    "cell_style": "split",
    "slideshow": {
     "slide_type": "fragment"
    }
   },
   "outputs": [
    {
     "data": {
      "text/plain": [
       "array([-2.14478669,  2.14478669])"
      ]
     },
     "execution_count": 17,
     "metadata": {},
     "output_type": "execute_result"
    }
   ],
   "source": [
    "np.array(CI_norm)"
   ]
  },
  {
   "cell_type": "code",
   "execution_count": 18,
   "metadata": {
    "cell_style": "split",
    "slideshow": {
     "slide_type": "fragment"
    }
   },
   "outputs": [
    {
     "data": {
      "text/plain": [
       "array([8440.55153546, 8778.5151312 ])"
      ]
     },
     "execution_count": 18,
     "metadata": {},
     "output_type": "execute_result"
    }
   ],
   "source": [
    "Xbar0 + np.array(CI_norm)*(s/np.sqrt(N))"
   ]
  },
  {
   "cell_type": "markdown",
   "metadata": {
    "slideshow": {
     "slide_type": "slide"
    }
   },
   "source": [
    "Or can call the t.interval() method with loc and scale specified:"
   ]
  },
  {
   "cell_type": "code",
   "execution_count": 31,
   "metadata": {
    "slideshow": {
     "slide_type": "fragment"
    }
   },
   "outputs": [
    {
     "data": {
      "text/plain": [
       "(8440.551535463972, 8778.515131202694)"
      ]
     },
     "execution_count": 31,
     "metadata": {},
     "output_type": "execute_result"
    }
   ],
   "source": [
    "tdist_95CI = t.interval(c, loc = Xbar0, scale = (s/np.sqrt(N)), df = N - 1 )\n",
    "tdist_95CI"
   ]
  },
  {
   "cell_type": "markdown",
   "metadata": {
    "slideshow": {
     "slide_type": "-"
    }
   },
   "source": [
    "Let's compare this to what we would estimate if we had use the normal distribution."
   ]
  },
  {
   "cell_type": "code",
   "execution_count": 33,
   "metadata": {
    "slideshow": {
     "slide_type": "slide"
    }
   },
   "outputs": [
    {
     "name": "stdout",
     "output_type": "stream",
     "text": [
      "(8455.113203941144, 8763.953462725522) (8440.551535463972, 8778.515131202694)\n"
     ]
    }
   ],
   "source": [
    "from scipy.stats import norm\n",
    "normdist_95CI = norm.interval(c, loc = Xbar0, scale = (s/np.sqrt(N)))\n",
    "\n",
    "print(normdist_95CI, tdist_95CI)"
   ]
  },
  {
   "cell_type": "markdown",
   "metadata": {
    "slideshow": {
     "slide_type": "slide"
    }
   },
   "source": [
    "What about the interval at a 99.9% confidence level?"
   ]
  },
  {
   "cell_type": "code",
   "execution_count": 21,
   "metadata": {
    "cell_style": "split",
    "slideshow": {
     "slide_type": "fragment"
    }
   },
   "outputs": [
    {
     "name": "stdout",
     "output_type": "stream",
     "text": [
      "(8350.281853380922, 8868.784813285745)\n"
     ]
    }
   ],
   "source": [
    "c2 = .999\n",
    "\n",
    "print(norm.interval(c2, loc = Xbar0, \n",
    "                    scale = (s/np.sqrt(N))))\n"
   ]
  },
  {
   "cell_type": "code",
   "execution_count": 22,
   "metadata": {
    "cell_style": "split",
    "slideshow": {
     "slide_type": "fragment"
    }
   },
   "outputs": [
    {
     "name": "stdout",
     "output_type": "stream",
     "text": [
      "(8283.31843098068, 8935.748235685991)\n"
     ]
    }
   ],
   "source": [
    "print(t.interval(c2, loc = Xbar0,\n",
    "                 scale = (s/np.sqrt(N)),\n",
    "                 df = N - 1 ))"
   ]
  },
  {
   "cell_type": "markdown",
   "metadata": {
    "slideshow": {
     "slide_type": "fragment"
    }
   },
   "source": [
    "A sizeable difference in confidence interval ranges!\n",
    "\n",
    "Fluctuations in the standard deviation in the low N limit:\n",
    "- will affect CI estimation at high confidence substantially"
   ]
  }
 ],
 "metadata": {
  "celltoolbar": "Slideshow",
  "kernelspec": {
   "display_name": "Python 3",
   "language": "python",
   "name": "python3"
  },
  "language_info": {
   "codemirror_mode": {
    "name": "ipython",
    "version": 3
   },
   "file_extension": ".py",
   "mimetype": "text/x-python",
   "name": "python",
   "nbconvert_exporter": "python",
   "pygments_lexer": "ipython3",
   "version": "3.8.5"
  },
  "toc": {
   "base_numbering": 1,
   "nav_menu": {},
   "number_sections": true,
   "sideBar": true,
   "skip_h1_title": false,
   "title_cell": "Table of Contents",
   "title_sidebar": "TOC",
   "toc_cell": true,
   "toc_position": {
    "height": "calc(100% - 180px)",
    "left": "10px",
    "top": "150px",
    "width": "288px"
   },
   "toc_section_display": true,
   "toc_window_display": true
  }
 },
 "nbformat": 4,
 "nbformat_minor": 4
}
