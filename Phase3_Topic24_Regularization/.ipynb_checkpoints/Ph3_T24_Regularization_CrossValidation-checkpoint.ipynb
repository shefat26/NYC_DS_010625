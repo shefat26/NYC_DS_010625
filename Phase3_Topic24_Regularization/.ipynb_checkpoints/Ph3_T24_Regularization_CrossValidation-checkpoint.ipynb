{
 "cells": [
  {
   "cell_type": "markdown",
   "id": "79adf0f5",
   "metadata": {
    "slideshow": {
     "slide_type": "slide"
    }
   },
   "source": [
    "<div style=\"color:white;\n",
    "           display:fill;\n",
    "           border-radius:5px;\n",
    "           background-color:#5642C5;\n",
    "           font-size:200%;\n",
    "           font-\\amily:Arial;letter-spacing:0.5px\">\n",
    "\n",
    "<p width = 20%, style=\"padding: 10px;\n",
    "              color:white;\">\n",
    "Cross-Validation and Regularization\n",
    "              \n",
    "</p>\n",
    "</div>\n",
    "\n",
    "Data Science Cohort Live NYC Feb 2022\n",
    "<p>Phase 3: Topic 24</p>\n",
    "<br>\n",
    "<br>\n",
    "\n",
    "<div align = \"right\">\n",
    "<img src=\"Images/flatiron-school-logo.png\" align = \"right\" width=\"200\"/>\n",
    "</div>"
   ]
  },
  {
   "cell_type": "markdown",
   "id": "53d60bb0",
   "metadata": {
    "slideshow": {
     "slide_type": "slide"
    }
   },
   "source": [
    "Recall:"
   ]
  },
  {
   "cell_type": "markdown",
   "id": "964163f4",
   "metadata": {
    "cell_style": "split",
    "slideshow": {
     "slide_type": "fragment"
    }
   },
   "source": [
    "Bias: \n",
    "- when model not complex enough\n",
    "- feature space not adequately rich enough to explain target\n",
    "\n"
   ]
  },
  {
   "cell_type": "markdown",
   "id": "93de6662",
   "metadata": {
    "cell_style": "split",
    "slideshow": {
     "slide_type": "fragment"
    }
   },
   "source": [
    "Variance: \n",
    "\n",
    "- model/weights: large fluctuations about true model given different train sets\n",
    "\n",
    "- High $ \\mathrm{Var}[\\textbf{w}] $ over realization of training sets\n",
    "\n",
    "- High fluctuation in MAE over test sets."
   ]
  },
  {
   "cell_type": "markdown",
   "id": "13a950a3",
   "metadata": {
    "cell_style": "split",
    "slideshow": {
     "slide_type": "slide"
    }
   },
   "source": [
    "The bulls-eye diagrams of fitting model to different training set realizations:\n",
    "<center><img src = \"Images/biasvar_bullseye.png\" width = 400/></center>"
   ]
  },
  {
   "cell_type": "markdown",
   "id": "dc220f63",
   "metadata": {
    "cell_style": "split",
    "slideshow": {
     "slide_type": "fragment"
    }
   },
   "source": [
    "Each dot is a model:\n",
    "- Bulls-eye: the *true* model (generating mean of $y$ given $X$ in the population) \n",
    "- Each dot: models trained on different samples."
   ]
  },
  {
   "cell_type": "markdown",
   "id": "ca8a5634",
   "metadata": {
    "slideshow": {
     "slide_type": "fragment"
    }
   },
   "source": [
    "**Our goal**: lowering bias and variance in training predictive models\n",
    "\n",
    "but the two often at odds."
   ]
  },
  {
   "cell_type": "markdown",
   "id": "3c9e6729",
   "metadata": {
    "slideshow": {
     "slide_type": "slide"
    }
   },
   "source": [
    "**Multicollinearity**\n",
    "\n",
    "Have to grapple with these issues when constructing linear models with multicollinear features"
   ]
  },
  {
   "cell_type": "markdown",
   "id": "a1194921",
   "metadata": {
    "slideshow": {
     "slide_type": "fragment"
    }
   },
   "source": [
    "We talked about this way back. But how does it increase Var[$\\textbf{w}$]?"
   ]
  },
  {
   "cell_type": "code",
   "execution_count": 2,
   "id": "2da55d1a",
   "metadata": {
    "slideshow": {
     "slide_type": "slide"
    }
   },
   "outputs": [],
   "source": [
    "import numpy as np\n",
    "import pandas as pd\n",
    "import seaborn as sns\n",
    "import matplotlib.pyplot as plt\n",
    "\n",
    "WHO_data = pd.read_csv(\"Data\\WHO_life.csv\")\n",
    "X_WHO = WHO_data.drop(columns = [\"Life expectancy \"])\n",
    "X_WHO.columns = X_WHO.columns.str.strip()\n",
    "y = WHO_data[\"Life expectancy \"]"
   ]
  },
  {
   "cell_type": "code",
   "execution_count": 3,
   "id": "d8dd4f6d",
   "metadata": {
    "scrolled": true,
    "slideshow": {
     "slide_type": "subslide"
    }
   },
   "outputs": [
    {
     "data": {
      "text/html": [
       "<div>\n",
       "<style scoped>\n",
       "    .dataframe tbody tr th:only-of-type {\n",
       "        vertical-align: middle;\n",
       "    }\n",
       "\n",
       "    .dataframe tbody tr th {\n",
       "        vertical-align: top;\n",
       "    }\n",
       "\n",
       "    .dataframe thead th {\n",
       "        text-align: right;\n",
       "    }\n",
       "</style>\n",
       "<table border=\"1\" class=\"dataframe\">\n",
       "  <thead>\n",
       "    <tr style=\"text-align: right;\">\n",
       "      <th></th>\n",
       "      <th>Country</th>\n",
       "      <th>Year</th>\n",
       "      <th>Status</th>\n",
       "      <th>Adult Mortality</th>\n",
       "      <th>infant deaths</th>\n",
       "      <th>Alcohol</th>\n",
       "      <th>percentage expenditure</th>\n",
       "      <th>Hepatitis B</th>\n",
       "      <th>Measles</th>\n",
       "      <th>BMI</th>\n",
       "      <th>...</th>\n",
       "      <th>Polio</th>\n",
       "      <th>Total expenditure</th>\n",
       "      <th>Diphtheria</th>\n",
       "      <th>HIV/AIDS</th>\n",
       "      <th>GDP</th>\n",
       "      <th>Population</th>\n",
       "      <th>thinness  1-19 years</th>\n",
       "      <th>thinness 5-9 years</th>\n",
       "      <th>Income composition of resources</th>\n",
       "      <th>Schooling</th>\n",
       "    </tr>\n",
       "  </thead>\n",
       "  <tbody>\n",
       "    <tr>\n",
       "      <th>0</th>\n",
       "      <td>Afghanistan</td>\n",
       "      <td>2015</td>\n",
       "      <td>Developing</td>\n",
       "      <td>263.0</td>\n",
       "      <td>62</td>\n",
       "      <td>0.01</td>\n",
       "      <td>71.279624</td>\n",
       "      <td>65.0</td>\n",
       "      <td>1154</td>\n",
       "      <td>19.1</td>\n",
       "      <td>...</td>\n",
       "      <td>6.0</td>\n",
       "      <td>8.16</td>\n",
       "      <td>65.0</td>\n",
       "      <td>0.1</td>\n",
       "      <td>584.259210</td>\n",
       "      <td>33736494.0</td>\n",
       "      <td>17.2</td>\n",
       "      <td>17.3</td>\n",
       "      <td>0.479</td>\n",
       "      <td>10.1</td>\n",
       "    </tr>\n",
       "    <tr>\n",
       "      <th>1</th>\n",
       "      <td>Afghanistan</td>\n",
       "      <td>2014</td>\n",
       "      <td>Developing</td>\n",
       "      <td>271.0</td>\n",
       "      <td>64</td>\n",
       "      <td>0.01</td>\n",
       "      <td>73.523582</td>\n",
       "      <td>62.0</td>\n",
       "      <td>492</td>\n",
       "      <td>18.6</td>\n",
       "      <td>...</td>\n",
       "      <td>58.0</td>\n",
       "      <td>8.18</td>\n",
       "      <td>62.0</td>\n",
       "      <td>0.1</td>\n",
       "      <td>612.696514</td>\n",
       "      <td>327582.0</td>\n",
       "      <td>17.5</td>\n",
       "      <td>17.5</td>\n",
       "      <td>0.476</td>\n",
       "      <td>10.0</td>\n",
       "    </tr>\n",
       "    <tr>\n",
       "      <th>2</th>\n",
       "      <td>Afghanistan</td>\n",
       "      <td>2013</td>\n",
       "      <td>Developing</td>\n",
       "      <td>268.0</td>\n",
       "      <td>66</td>\n",
       "      <td>0.01</td>\n",
       "      <td>73.219243</td>\n",
       "      <td>64.0</td>\n",
       "      <td>430</td>\n",
       "      <td>18.1</td>\n",
       "      <td>...</td>\n",
       "      <td>62.0</td>\n",
       "      <td>8.13</td>\n",
       "      <td>64.0</td>\n",
       "      <td>0.1</td>\n",
       "      <td>631.744976</td>\n",
       "      <td>31731688.0</td>\n",
       "      <td>17.7</td>\n",
       "      <td>17.7</td>\n",
       "      <td>0.470</td>\n",
       "      <td>9.9</td>\n",
       "    </tr>\n",
       "    <tr>\n",
       "      <th>3</th>\n",
       "      <td>Afghanistan</td>\n",
       "      <td>2012</td>\n",
       "      <td>Developing</td>\n",
       "      <td>272.0</td>\n",
       "      <td>69</td>\n",
       "      <td>0.01</td>\n",
       "      <td>78.184215</td>\n",
       "      <td>67.0</td>\n",
       "      <td>2787</td>\n",
       "      <td>17.6</td>\n",
       "      <td>...</td>\n",
       "      <td>67.0</td>\n",
       "      <td>8.52</td>\n",
       "      <td>67.0</td>\n",
       "      <td>0.1</td>\n",
       "      <td>669.959000</td>\n",
       "      <td>3696958.0</td>\n",
       "      <td>17.9</td>\n",
       "      <td>18.0</td>\n",
       "      <td>0.463</td>\n",
       "      <td>9.8</td>\n",
       "    </tr>\n",
       "    <tr>\n",
       "      <th>4</th>\n",
       "      <td>Afghanistan</td>\n",
       "      <td>2011</td>\n",
       "      <td>Developing</td>\n",
       "      <td>275.0</td>\n",
       "      <td>71</td>\n",
       "      <td>0.01</td>\n",
       "      <td>7.097109</td>\n",
       "      <td>68.0</td>\n",
       "      <td>3013</td>\n",
       "      <td>17.2</td>\n",
       "      <td>...</td>\n",
       "      <td>68.0</td>\n",
       "      <td>7.87</td>\n",
       "      <td>68.0</td>\n",
       "      <td>0.1</td>\n",
       "      <td>63.537231</td>\n",
       "      <td>2978599.0</td>\n",
       "      <td>18.2</td>\n",
       "      <td>18.2</td>\n",
       "      <td>0.454</td>\n",
       "      <td>9.5</td>\n",
       "    </tr>\n",
       "  </tbody>\n",
       "</table>\n",
       "<p>5 rows × 21 columns</p>\n",
       "</div>"
      ],
      "text/plain": [
       "       Country  Year      Status  Adult Mortality  infant deaths  Alcohol  \\\n",
       "0  Afghanistan  2015  Developing            263.0             62     0.01   \n",
       "1  Afghanistan  2014  Developing            271.0             64     0.01   \n",
       "2  Afghanistan  2013  Developing            268.0             66     0.01   \n",
       "3  Afghanistan  2012  Developing            272.0             69     0.01   \n",
       "4  Afghanistan  2011  Developing            275.0             71     0.01   \n",
       "\n",
       "   percentage expenditure  Hepatitis B  Measles   BMI  ...  Polio  \\\n",
       "0               71.279624         65.0     1154  19.1  ...    6.0   \n",
       "1               73.523582         62.0      492  18.6  ...   58.0   \n",
       "2               73.219243         64.0      430  18.1  ...   62.0   \n",
       "3               78.184215         67.0     2787  17.6  ...   67.0   \n",
       "4                7.097109         68.0     3013  17.2  ...   68.0   \n",
       "\n",
       "   Total expenditure  Diphtheria  HIV/AIDS         GDP  Population  \\\n",
       "0               8.16        65.0       0.1  584.259210  33736494.0   \n",
       "1               8.18        62.0       0.1  612.696514    327582.0   \n",
       "2               8.13        64.0       0.1  631.744976  31731688.0   \n",
       "3               8.52        67.0       0.1  669.959000   3696958.0   \n",
       "4               7.87        68.0       0.1   63.537231   2978599.0   \n",
       "\n",
       "   thinness  1-19 years  thinness 5-9 years  Income composition of resources  \\\n",
       "0                  17.2                17.3                            0.479   \n",
       "1                  17.5                17.5                            0.476   \n",
       "2                  17.7                17.7                            0.470   \n",
       "3                  17.9                18.0                            0.463   \n",
       "4                  18.2                18.2                            0.454   \n",
       "\n",
       "   Schooling  \n",
       "0       10.1  \n",
       "1       10.0  \n",
       "2        9.9  \n",
       "3        9.8  \n",
       "4        9.5  \n",
       "\n",
       "[5 rows x 21 columns]"
      ]
     },
     "execution_count": 3,
     "metadata": {},
     "output_type": "execute_result"
    }
   ],
   "source": [
    "X_WHO.head()"
   ]
  },
  {
   "cell_type": "markdown",
   "id": "16282345",
   "metadata": {
    "cell_style": "center",
    "slideshow": {
     "slide_type": "slide"
    }
   },
   "source": [
    "Many features from WHO dataset:\n",
    "\n",
    "Regressing to find weights life expectancy"
   ]
  },
  {
   "cell_type": "code",
   "execution_count": 4,
   "id": "47166a1b",
   "metadata": {
    "slideshow": {
     "slide_type": "fragment"
    }
   },
   "outputs": [
    {
     "data": {
      "text/plain": [
       "Index(['Country', 'Year', 'Status', 'Adult Mortality', 'infant deaths',\n",
       "       'Alcohol', 'percentage expenditure', 'Hepatitis B', 'Measles', 'BMI',\n",
       "       'under-five deaths', 'Polio', 'Total expenditure', 'Diphtheria',\n",
       "       'HIV/AIDS', 'GDP', 'Population', 'thinness  1-19 years',\n",
       "       'thinness 5-9 years', 'Income composition of resources', 'Schooling'],\n",
       "      dtype='object')"
      ]
     },
     "execution_count": 4,
     "metadata": {},
     "output_type": "execute_result"
    }
   ],
   "source": [
    "X_WHO.columns"
   ]
  },
  {
   "cell_type": "markdown",
   "id": "0d4af08a",
   "metadata": {
    "slideshow": {
     "slide_type": "slide"
    }
   },
   "source": [
    "But let's take a look at a few of these and their correlations:"
   ]
  },
  {
   "cell_type": "code",
   "execution_count": 5,
   "id": "12a98830",
   "metadata": {
    "scrolled": false,
    "slideshow": {
     "slide_type": "subslide"
    }
   },
   "outputs": [
    {
     "data": {
      "image/png": "[encoded data removed]",
      "text/plain": [
       "<Figure size 640x480 with 2 Axes>"
      ]
     },
     "metadata": {},
     "output_type": "display_data"
    }
   ],
   "source": [
    "col_selector = ['Income composition of resources', 'Schooling','Alcohol', 'thinness  1-19 years']\n",
    "subsetX = X_WHO[col_selector]\n",
    "sns.heatmap(subsetX.corr())\n",
    "plt.show()"
   ]
  },
  {
   "cell_type": "markdown",
   "id": "b144992f",
   "metadata": {
    "slideshow": {
     "slide_type": "slide"
    }
   },
   "source": [
    "Let's focus on Schooling and income composite resources (ICR):"
   ]
  },
  {
   "cell_type": "markdown",
   "id": "b7276cad",
   "metadata": {
    "slideshow": {
     "slide_type": "fragment"
    }
   },
   "source": [
    "$$ Life= w_1*Alcohol + w_2*Polio + w_3*Schooling + w_4*Measles + w_5*ICR + ... $$"
   ]
  },
  {
   "cell_type": "markdown",
   "id": "b7e6f8e9",
   "metadata": {
    "cell_style": "split",
    "slideshow": {
     "slide_type": "fragment"
    }
   },
   "source": [
    "Correlation is very high!"
   ]
  },
  {
   "cell_type": "code",
   "execution_count": 6,
   "id": "24ba4dd4",
   "metadata": {
    "cell_style": "split",
    "slideshow": {
     "slide_type": "fragment"
    }
   },
   "outputs": [
    {
     "data": {
      "text/html": [
       "<div>\n",
       "<style scoped>\n",
       "    .dataframe tbody tr th:only-of-type {\n",
       "        vertical-align: middle;\n",
       "    }\n",
       "\n",
       "    .dataframe tbody tr th {\n",
       "        vertical-align: top;\n",
       "    }\n",
       "\n",
       "    .dataframe thead th {\n",
       "        text-align: right;\n",
       "    }\n",
       "</style>\n",
       "<table border=\"1\" class=\"dataframe\">\n",
       "  <thead>\n",
       "    <tr style=\"text-align: right;\">\n",
       "      <th></th>\n",
       "      <th>Income composition of resources</th>\n",
       "      <th>Schooling</th>\n",
       "    </tr>\n",
       "  </thead>\n",
       "  <tbody>\n",
       "    <tr>\n",
       "      <th>Income composition of resources</th>\n",
       "      <td>1.000000</td>\n",
       "      <td>0.800092</td>\n",
       "    </tr>\n",
       "    <tr>\n",
       "      <th>Schooling</th>\n",
       "      <td>0.800092</td>\n",
       "      <td>1.000000</td>\n",
       "    </tr>\n",
       "  </tbody>\n",
       "</table>\n",
       "</div>"
      ],
      "text/plain": [
       "                                 Income composition of resources  Schooling\n",
       "Income composition of resources                         1.000000   0.800092\n",
       "Schooling                                               0.800092   1.000000"
      ]
     },
     "execution_count": 6,
     "metadata": {},
     "output_type": "execute_result"
    }
   ],
   "source": [
    "col_selector = ['Income composition of resources', 'Schooling']\n",
    "X_WHO[col_selector].corr()"
   ]
  },
  {
   "cell_type": "markdown",
   "id": "2498e01d",
   "metadata": {
    "cell_style": "split",
    "slideshow": {
     "slide_type": "slide"
    }
   },
   "source": [
    "Our regression: \n",
    "- Y = life expectancy\n",
    "\n",
    "$$ Y - \\sum_{i \\neq 3,5} w_i x_i = w_3 Schooling + w_5 ICR $$"
   ]
  },
  {
   "cell_type": "markdown",
   "id": "3c26724a",
   "metadata": {
    "cell_style": "split",
    "slideshow": {
     "slide_type": "fragment"
    }
   },
   "source": [
    "- Schooling and ICR highly related:\n",
    "\n",
    "- Implies that $w_3$ and $w_5$ introduce too much flexibility.\n",
    "- Maybe could fit almost as well with just $w_3$."
   ]
  },
  {
   "cell_type": "markdown",
   "id": "89056b45",
   "metadata": {
    "cell_style": "split",
    "slideshow": {
     "slide_type": "fragment"
    }
   },
   "source": [
    "- $w_3$ and $w_5$ are floppy and can become big in either direction to fit data.\n",
    "- Var[$\\textbf{w}$] from $w_3$ and $w_5$ high."
   ]
  },
  {
   "cell_type": "markdown",
   "id": "40bd9ca0",
   "metadata": {
    "slideshow": {
     "slide_type": "slide"
    }
   },
   "source": [
    "Modeling data by linear model w/ multicollinear features:\n",
    "- intoduces high weight variance\n",
    "- unnecessary model complexity"
   ]
  },
  {
   "cell_type": "markdown",
   "id": "24b4930f",
   "metadata": {
    "slideshow": {
     "slide_type": "slide"
    }
   },
   "source": [
    "These considerations are all nice and theoretical:\n",
    "    \n",
    "- how do we actually assess whether model suffers from bias / variance or both?"
   ]
  },
  {
   "cell_type": "markdown",
   "id": "4b09965e",
   "metadata": {
    "slideshow": {
     "slide_type": "subslide"
    }
   },
   "source": [
    "#### How to assess model variance: cross-validation"
   ]
  },
  {
   "cell_type": "markdown",
   "id": "43237dcc",
   "metadata": {
    "cell_style": "split",
    "slideshow": {
     "slide_type": "fragment"
    }
   },
   "source": [
    "Could get many different training sets:\n",
    "- Train weights $\\textbf{w}$ for each.\n",
    "- Get variance of $\\textbf{w}$\n"
   ]
  },
  {
   "cell_type": "markdown",
   "id": "0eb76059",
   "metadata": {
    "cell_style": "split",
    "slideshow": {
     "slide_type": "fragment"
    }
   },
   "source": [
    "Semi-equivalently:\n",
    "- Test performance of each model on test set.\n",
    "- Evaluate model performance/variance by looking at average/standard deviation of performance on test set."
   ]
  },
  {
   "cell_type": "markdown",
   "id": "89d56a10",
   "metadata": {
    "slideshow": {
     "slide_type": "slide"
    }
   },
   "source": [
    "Problem: \n",
    "- likely don't have this much data available to make enough independent training sets large enough to for each model to train on effectively."
   ]
  },
  {
   "cell_type": "markdown",
   "id": "d4a2b769",
   "metadata": {
    "slideshow": {
     "slide_type": "slide"
    }
   },
   "source": [
    "#### Solution: Cross validation"
   ]
  },
  {
   "cell_type": "markdown",
   "id": "42ffea86",
   "metadata": {
    "cell_style": "split",
    "slideshow": {
     "slide_type": "fragment"
    }
   },
   "source": [
    "So first we created our train / test split: \n",
    "\n",
    "- the **training set** can be used to develop models\n",
    "- can assess variance of a model and average performance\n"
   ]
  },
  {
   "cell_type": "markdown",
   "id": "00730978",
   "metadata": {
    "cell_style": "split"
   },
   "source": [
    "<img src = \"Images/traintestsplit.png\"  width = 800/>\n",
    "<center> Splitting up training set </center>"
   ]
  },
  {
   "cell_type": "markdown",
   "id": "011b2821",
   "metadata": {
    "cell_style": "split",
    "slideshow": {
     "slide_type": "slide"
    }
   },
   "source": [
    "<img src = \"Images/crossval.png\"  width = 800/>\n",
    "<center> Splitting up training set </center>"
   ]
  },
  {
   "cell_type": "markdown",
   "id": "bee35c4d",
   "metadata": {
    "cell_style": "split",
    "slideshow": {
     "slide_type": "fragment"
    }
   },
   "source": [
    "Split up **training set** into folds:\n",
    "- Training fold\n",
    "- Validation fold"
   ]
  },
  {
   "cell_type": "markdown",
   "id": "67599a49",
   "metadata": {
    "cell_style": "split",
    "slideshow": {
     "slide_type": "fragment"
    }
   },
   "source": [
    "- For each iteration:\n",
    "    - train a model on train fold\n",
    "    - test on validation fold"
   ]
  },
  {
   "cell_type": "markdown",
   "id": "b3b324be",
   "metadata": {
    "cell_style": "split",
    "slideshow": {
     "slide_type": "slide"
    }
   },
   "source": [
    "<img src = \"Images/crossval.png\"  width = 800/>\n",
    "<center> Splitting up training set </center>"
   ]
  },
  {
   "cell_type": "markdown",
   "id": "c00a0ea6",
   "metadata": {
    "cell_style": "split",
    "slideshow": {
     "slide_type": "fragment"
    }
   },
   "source": [
    "Effectively sampling multiple training sets:\n",
    "- each iteration model trained on different training set.\n",
    "- testing each model performance on different **validation set**.\n",
    "\n"
   ]
  },
  {
   "cell_type": "markdown",
   "id": "265a7419",
   "metadata": {
    "cell_style": "split",
    "slideshow": {
     "slide_type": "fragment"
    }
   },
   "source": [
    "- Good for estimating model performance on average\n",
    "- Good for estimating model variance as well."
   ]
  },
  {
   "cell_type": "markdown",
   "id": "bd02b829",
   "metadata": {
    "cell_style": "split",
    "slideshow": {
     "slide_type": "subslide"
    }
   },
   "source": [
    "So in the end:\n",
    "- Performance metrics measured on validation\n",
    "- We get average performance metric across all the models for each cross validation iteration.\n",
    "- Get variance of performance metric."
   ]
  },
  {
   "cell_type": "markdown",
   "id": "dbf96ba6",
   "metadata": {
    "cell_style": "split",
    "slideshow": {
     "slide_type": "slide"
    }
   },
   "source": [
    "<img src = \"Images/crossval.png\"  width = 800/>\n",
    "<center> Splitting up training set </center>"
   ]
  },
  {
   "cell_type": "markdown",
   "id": "f39672d6",
   "metadata": {
    "cell_style": "center",
    "slideshow": {
     "slide_type": "subslide"
    }
   },
   "source": [
    "Note: **validation set** is part of training set:\n",
    "- Not part of true test/hold-out set."
   ]
  },
  {
   "cell_type": "markdown",
   "id": "4929c5b1",
   "metadata": {
    "slideshow": {
     "slide_type": "fragment"
    }
   },
   "source": [
    "How is validation fold/set different from test set?"
   ]
  },
  {
   "cell_type": "markdown",
   "id": "84a6403f",
   "metadata": {
    "cell_style": "split",
    "slideshow": {
     "slide_type": "slide"
    }
   },
   "source": [
    "We are often trying out different model types:\n",
    "- OLS with raw features\n",
    "- OLS with collinear features dropped\n",
    "- OLS with polynomial features\n",
    "- Ridge regressor (will see later)"
   ]
  },
  {
   "cell_type": "markdown",
   "id": "0cfb505f",
   "metadata": {
    "cell_style": "split",
    "slideshow": {
     "slide_type": "fragment"
    }
   },
   "source": [
    "Idea is that we try out different model types / tune models: \n",
    "- assess variance\n",
    "- assess average performance\n",
    "\n",
    "**Use train/validation for this**: \n",
    "- for each model type: estimate model average performance and variance *across different train/validation realizations* "
   ]
  },
  {
   "cell_type": "markdown",
   "id": "3545a942",
   "metadata": {
    "slideshow": {
     "slide_type": "subslide"
    }
   },
   "source": [
    "<img src = \"Images/cvtuningflow.png\"  width = 800/>\n",
    "<center> Model comparison/selection using cross-validation </center>"
   ]
  },
  {
   "cell_type": "markdown",
   "id": "87de86f7",
   "metadata": {
    "cell_style": "split",
    "slideshow": {
     "slide_type": "subslide"
    }
   },
   "source": [
    "Selected best model based on:\n",
    "- what worked best on the given validation folds.\n",
    "\n",
    "**Iterative optimization of models based on the train/validation data**"
   ]
  },
  {
   "cell_type": "markdown",
   "id": "462fdc7f",
   "metadata": {
    "cell_style": "split",
    "slideshow": {
     "slide_type": "fragment"
    }
   },
   "source": [
    "Ultimately: \n",
    "\n",
    "- want to evaluate our best model class (found by optimizing over the validation sets) \n",
    "- on data that has neither been trained or validated on"
   ]
  },
  {
   "cell_type": "markdown",
   "id": "027246d4",
   "metadata": {
    "cell_style": "center",
    "slideshow": {
     "slide_type": "slide"
    }
   },
   "source": [
    "**The true test/hold-out test**: The modeling / tuning process has never seen this data.\n",
    "\n",
    "- Take best model from model iteration/ cross-validation.\n",
    "- Evaluate test performance."
   ]
  },
  {
   "cell_type": "markdown",
   "id": "de208f87",
   "metadata": {
    "cell_style": "center",
    "slideshow": {
     "slide_type": "slide"
    }
   },
   "source": [
    "\n",
    "<img src = \"Images/test_phase_afterCV.png\"  width = 800/>\n",
    "<center> Best model from cross-validation in test phase</center>"
   ]
  },
  {
   "cell_type": "markdown",
   "id": "92ed806d",
   "metadata": {
    "cell_style": "split",
    "slideshow": {
     "slide_type": "slide"
    }
   },
   "source": [
    "Cross validation gives us a way to test statistical robustness of model performance:\n",
    "- evaluate average performance\n",
    "- evaluate model variance"
   ]
  },
  {
   "cell_type": "markdown",
   "id": "28b41857",
   "metadata": {
    "cell_style": "split",
    "slideshow": {
     "slide_type": "fragment"
    }
   },
   "source": [
    "But seeing a set of models have high variance:\n",
    "- How to address this problem found in cross-validation trials?\n",
    "- i.e., how do we lower the variance?"
   ]
  },
  {
   "cell_type": "markdown",
   "id": "d6452054",
   "metadata": {
    "cell_style": "center",
    "slideshow": {
     "slide_type": "slide"
    }
   },
   "source": [
    "#### Ways to limit/deal with high variance."
   ]
  },
  {
   "cell_type": "markdown",
   "id": "fe7b9508",
   "metadata": {
    "cell_style": "split",
    "slideshow": {
     "slide_type": "subslide"
    }
   },
   "source": [
    "- Get more data. With enough training data, even with floppy weights model will do a decent job approximating data."
   ]
  },
  {
   "cell_type": "markdown",
   "id": "67aae30f",
   "metadata": {
    "cell_style": "split",
    "slideshow": {
     "slide_type": "fragment"
    }
   },
   "source": [
    "- Yeah, but often not possible/easy to get enough data for this."
   ]
  },
  {
   "cell_type": "markdown",
   "id": "d846a64e",
   "metadata": {
    "cell_style": "split",
    "slideshow": {
     "slide_type": "slide"
    }
   },
   "source": [
    "- Get rid of columns that exhibit a high degree of collinearity with other columns."
   ]
  },
  {
   "cell_type": "markdown",
   "id": "cecf3b38",
   "metadata": {
    "cell_style": "split",
    "slideshow": {
     "slide_type": "fragment"
    }
   },
   "source": [
    "- Yeah, but did we throw out some useful information for prediction? \n",
    "- ICR and schooling not the same thing.\n",
    "- How many of the collinear columns should we throw away? Which ones?"
   ]
  },
  {
   "cell_type": "markdown",
   "id": "53528735",
   "metadata": {
    "slideshow": {
     "slide_type": "subslide"
    }
   },
   "source": [
    "Getting rid of columns like this:\n",
    "- Can lower variance\n",
    "- But can also increase bias in an arbitrary, non-optimal way"
   ]
  },
  {
   "cell_type": "markdown",
   "id": "0a679fcd",
   "metadata": {
    "cell_style": "split",
    "slideshow": {
     "slide_type": "slide"
    }
   },
   "source": [
    "- Or we could come up with ways to directly limit the variance through the cost function itself."
   ]
  },
  {
   "cell_type": "markdown",
   "id": "325de02c",
   "metadata": {
    "cell_style": "split",
    "slideshow": {
     "slide_type": "fragment"
    }
   },
   "source": [
    "The hope is that with this method:\n",
    "- decrease variance\n",
    "- without increasing bias too much\n",
    "\n",
    "Doing this in an optimal and principled way."
   ]
  },
  {
   "cell_type": "markdown",
   "id": "662089c6",
   "metadata": {
    "cell_style": "center",
    "slideshow": {
     "slide_type": "subslide"
    }
   },
   "source": [
    "Let's try this."
   ]
  },
  {
   "cell_type": "markdown",
   "id": "39232bd9",
   "metadata": {
    "slideshow": {
     "slide_type": "slide"
    }
   },
   "source": [
    "#### Regularization for Linear Regression"
   ]
  },
  {
   "cell_type": "markdown",
   "id": "d05c5d0a",
   "metadata": {
    "slideshow": {
     "slide_type": "subslide"
    }
   },
   "source": [
    "Modify our squared error loss function."
   ]
  },
  {
   "cell_type": "markdown",
   "id": "96060411",
   "metadata": {
    "slideshow": {
     "slide_type": "fragment"
    }
   },
   "source": [
    "$$ L = |\\textbf{y} - X \\textbf{w}|_2^2 + \\lambda |\\textbf{w}|_2^2 $$\n",
    "\n",
    "with $|\\textbf{w}|_2^2 = w_1^2 + w_2^2 + ... + w_m^2$ as sum of squares of the feature weights.\n",
    "\n",
    "*We'll see why we use the subscript on the norm shortly.*"
   ]
  },
  {
   "cell_type": "markdown",
   "id": "cbdcd374",
   "metadata": {
    "slideshow": {
     "slide_type": "subslide"
    }
   },
   "source": [
    "<img src = \"Images/ridge_regression_geometric.png\" width = 450>"
   ]
  },
  {
   "cell_type": "markdown",
   "id": "f4f5cdd1",
   "metadata": {
    "cell_style": "split",
    "slideshow": {
     "slide_type": "fragment"
    }
   },
   "source": [
    "Tug of war between:\n",
    "\n",
    "Ridge cost: $ \\lambda |\\textbf{w}|_2^2 = \\lambda (w_1^2 + w_2^2)  $\n",
    "- L2 Regularization (Euclidean distance)"
   ]
  },
  {
   "cell_type": "markdown",
   "id": "a0ec07e0",
   "metadata": {
    "cell_style": "split",
    "slideshow": {
     "slide_type": "slide"
    }
   },
   "source": [
    "Least squares cost: $ |\\textbf{y} - X\\textbf{w}|_2^2 $\n",
    "    "
   ]
  },
  {
   "cell_type": "markdown",
   "id": "4b9fae68",
   "metadata": {
    "slideshow": {
     "slide_type": "subslide"
    }
   },
   "source": [
    "<img src = \"Images/ridge_regression_geometric.png\" width = 450>"
   ]
  },
  {
   "cell_type": "markdown",
   "id": "839b2dae",
   "metadata": {
    "cell_style": "split",
    "slideshow": {
     "slide_type": "fragment"
    }
   },
   "source": [
    "Regularization term penalizes large weights: \n",
    "- **strongly** discourages large fluctuations in $\\textbf{w}$ depending on training set.\n",
    "- i.e. reduces Var[$\\textbf{w}$]\n",
    "- **Can lead to large performance boost on unseen data.**"
   ]
  },
  {
   "cell_type": "markdown",
   "id": "89552a9f",
   "metadata": {
    "cell_style": "split",
    "slideshow": {
     "slide_type": "fragment"
    }
   },
   "source": [
    "- the tradeoff: repeating fitting on large number of distinct training sets:\n",
    "    - Average of $\\textbf{w}$ is off from least squares best fit to population"
   ]
  },
  {
   "cell_type": "markdown",
   "id": "5bb3e1a0",
   "metadata": {
    "cell_style": "center",
    "slideshow": {
     "slide_type": "slide"
    }
   },
   "source": [
    "Our goal is to construct a model with:\n",
    "- as low a bias as possible (gets close to the true $\\textbf{w}$ if we had/fit on the entire population)\n",
    "- as low a *model* variance as possible (spread in $\\textbf{w}$ is low):\n",
    "    - implies $\\textbf{w}$ is tightly clustered\n"
   ]
  },
  {
   "cell_type": "markdown",
   "id": "10570897",
   "metadata": {
    "cell_style": "split",
    "slideshow": {
     "slide_type": "fragment"
    }
   },
   "source": [
    "Idea of Ridge: \n",
    "- Tune $\\lambda$ just right. This is something we input as external parameter to model. **Hyperparameter** \n",
    "- Cluster of $\\textbf{w}$ little off the center of the bullseye\n",
    "- But: tightly clustered."
   ]
  },
  {
   "cell_type": "markdown",
   "id": "b46e65db",
   "metadata": {
    "cell_style": "split",
    "slideshow": {
     "slide_type": "slide"
    }
   },
   "source": [
    "With $\\lambda$ tuned well:\n",
    "\n",
    "- not likely to make generalization errors due to large fluctuation in $\\textbf{w}$\n",
    "- But doesnt shift $\\textbf{w}$ too far from least squares estimate"
   ]
  },
  {
   "cell_type": "markdown",
   "id": "f95ee25e",
   "metadata": {
    "slideshow": {
     "slide_type": "slide"
    }
   },
   "source": [
    "OK let's do a Ridge regression."
   ]
  },
  {
   "cell_type": "code",
   "execution_count": 7,
   "id": "cbca8ef1",
   "metadata": {
    "slideshow": {
     "slide_type": "slide"
    }
   },
   "outputs": [],
   "source": [
    "from sklearn.linear_model import LinearRegression\n",
    "from sklearn. linear_model import Ridge\n",
    "\n",
    "# train test split\n",
    "from sklearn.model_selection import train_test_split\n",
    "\n",
    "# preprocessing\n",
    "from sklearn.preprocessing import OneHotEncoder\n",
    "from sklearn.preprocessing import StandardScaler\n",
    "\n",
    "# model validation: testing model variance with cross validation\n",
    "\n",
    "from sklearn.model_selection import KFold, cross_val_score, cross_validate, ShuffleSplit"
   ]
  },
  {
   "cell_type": "code",
   "execution_count": 8,
   "id": "82e47efe",
   "metadata": {
    "hidden": true,
    "slideshow": {
     "slide_type": "slide"
    }
   },
   "outputs": [],
   "source": [
    "birds = sns.load_dataset('penguins')\n",
    "birds = birds.dropna()"
   ]
  },
  {
   "cell_type": "code",
   "execution_count": 9,
   "id": "df85aabe",
   "metadata": {
    "slideshow": {
     "slide_type": "fragment"
    }
   },
   "outputs": [
    {
     "data": {
      "text/html": [
       "<div>\n",
       "<style scoped>\n",
       "    .dataframe tbody tr th:only-of-type {\n",
       "        vertical-align: middle;\n",
       "    }\n",
       "\n",
       "    .dataframe tbody tr th {\n",
       "        vertical-align: top;\n",
       "    }\n",
       "\n",
       "    .dataframe thead th {\n",
       "        text-align: right;\n",
       "    }\n",
       "</style>\n",
       "<table border=\"1\" class=\"dataframe\">\n",
       "  <thead>\n",
       "    <tr style=\"text-align: right;\">\n",
       "      <th></th>\n",
       "      <th>species</th>\n",
       "      <th>island</th>\n",
       "      <th>bill_length_mm</th>\n",
       "      <th>bill_depth_mm</th>\n",
       "      <th>flipper_length_mm</th>\n",
       "      <th>body_mass_g</th>\n",
       "      <th>sex</th>\n",
       "    </tr>\n",
       "  </thead>\n",
       "  <tbody>\n",
       "    <tr>\n",
       "      <th>0</th>\n",
       "      <td>Adelie</td>\n",
       "      <td>Torgersen</td>\n",
       "      <td>39.1</td>\n",
       "      <td>18.7</td>\n",
       "      <td>181.0</td>\n",
       "      <td>3750.0</td>\n",
       "      <td>Male</td>\n",
       "    </tr>\n",
       "    <tr>\n",
       "      <th>1</th>\n",
       "      <td>Adelie</td>\n",
       "      <td>Torgersen</td>\n",
       "      <td>39.5</td>\n",
       "      <td>17.4</td>\n",
       "      <td>186.0</td>\n",
       "      <td>3800.0</td>\n",
       "      <td>Female</td>\n",
       "    </tr>\n",
       "    <tr>\n",
       "      <th>2</th>\n",
       "      <td>Adelie</td>\n",
       "      <td>Torgersen</td>\n",
       "      <td>40.3</td>\n",
       "      <td>18.0</td>\n",
       "      <td>195.0</td>\n",
       "      <td>3250.0</td>\n",
       "      <td>Female</td>\n",
       "    </tr>\n",
       "    <tr>\n",
       "      <th>4</th>\n",
       "      <td>Adelie</td>\n",
       "      <td>Torgersen</td>\n",
       "      <td>36.7</td>\n",
       "      <td>19.3</td>\n",
       "      <td>193.0</td>\n",
       "      <td>3450.0</td>\n",
       "      <td>Female</td>\n",
       "    </tr>\n",
       "    <tr>\n",
       "      <th>5</th>\n",
       "      <td>Adelie</td>\n",
       "      <td>Torgersen</td>\n",
       "      <td>39.3</td>\n",
       "      <td>20.6</td>\n",
       "      <td>190.0</td>\n",
       "      <td>3650.0</td>\n",
       "      <td>Male</td>\n",
       "    </tr>\n",
       "  </tbody>\n",
       "</table>\n",
       "</div>"
      ],
      "text/plain": [
       "  species     island  bill_length_mm  bill_depth_mm  flipper_length_mm  \\\n",
       "0  Adelie  Torgersen            39.1           18.7              181.0   \n",
       "1  Adelie  Torgersen            39.5           17.4              186.0   \n",
       "2  Adelie  Torgersen            40.3           18.0              195.0   \n",
       "4  Adelie  Torgersen            36.7           19.3              193.0   \n",
       "5  Adelie  Torgersen            39.3           20.6              190.0   \n",
       "\n",
       "   body_mass_g     sex  \n",
       "0       3750.0    Male  \n",
       "1       3800.0  Female  \n",
       "2       3250.0  Female  \n",
       "4       3450.0  Female  \n",
       "5       3650.0    Male  "
      ]
     },
     "execution_count": 9,
     "metadata": {},
     "output_type": "execute_result"
    }
   ],
   "source": [
    "birds.head()"
   ]
  },
  {
   "cell_type": "markdown",
   "id": "7a134327",
   "metadata": {
    "slideshow": {
     "slide_type": "slide"
    }
   },
   "source": [
    "Going to use the other features to predict the body mass of a penguin"
   ]
  },
  {
   "cell_type": "code",
   "execution_count": 10,
   "id": "e099fd4d",
   "metadata": {
    "cell_style": "center",
    "slideshow": {
     "slide_type": "fragment"
    }
   },
   "outputs": [],
   "source": [
    "X = birds.drop('body_mass_g', axis=1)\n",
    "y = birds['body_mass_g']"
   ]
  },
  {
   "cell_type": "code",
   "execution_count": 11,
   "id": "f02e781c",
   "metadata": {
    "cell_style": "center",
    "slideshow": {
     "slide_type": "fragment"
    }
   },
   "outputs": [],
   "source": [
    "X_train, X_test, y_train, y_test = train_test_split(X ,y, random_state = 42)"
   ]
  },
  {
   "cell_type": "markdown",
   "id": "83127842",
   "metadata": {
    "slideshow": {
     "slide_type": "slide"
    }
   },
   "source": [
    "Let's one-hot encode the nominal categoricals"
   ]
  },
  {
   "cell_type": "code",
   "execution_count": 12,
   "id": "bbd4e29a",
   "metadata": {
    "cell_style": "center",
    "slideshow": {
     "slide_type": "fragment"
    }
   },
   "outputs": [
    {
     "data": {
      "text/html": [
       "<div>\n",
       "<style scoped>\n",
       "    .dataframe tbody tr th:only-of-type {\n",
       "        vertical-align: middle;\n",
       "    }\n",
       "\n",
       "    .dataframe tbody tr th {\n",
       "        vertical-align: top;\n",
       "    }\n",
       "\n",
       "    .dataframe thead th {\n",
       "        text-align: right;\n",
       "    }\n",
       "</style>\n",
       "<table border=\"1\" class=\"dataframe\">\n",
       "  <thead>\n",
       "    <tr style=\"text-align: right;\">\n",
       "      <th></th>\n",
       "      <th>species_Chinstrap</th>\n",
       "      <th>species_Gentoo</th>\n",
       "      <th>island_Dream</th>\n",
       "      <th>island_Torgersen</th>\n",
       "      <th>sex_Male</th>\n",
       "    </tr>\n",
       "  </thead>\n",
       "  <tbody>\n",
       "    <tr>\n",
       "      <th>321</th>\n",
       "      <td>0.0</td>\n",
       "      <td>1.0</td>\n",
       "      <td>0.0</td>\n",
       "      <td>0.0</td>\n",
       "      <td>1.0</td>\n",
       "    </tr>\n",
       "    <tr>\n",
       "      <th>265</th>\n",
       "      <td>0.0</td>\n",
       "      <td>1.0</td>\n",
       "      <td>0.0</td>\n",
       "      <td>0.0</td>\n",
       "      <td>0.0</td>\n",
       "    </tr>\n",
       "    <tr>\n",
       "      <th>36</th>\n",
       "      <td>0.0</td>\n",
       "      <td>0.0</td>\n",
       "      <td>1.0</td>\n",
       "      <td>0.0</td>\n",
       "      <td>1.0</td>\n",
       "    </tr>\n",
       "    <tr>\n",
       "      <th>308</th>\n",
       "      <td>0.0</td>\n",
       "      <td>1.0</td>\n",
       "      <td>0.0</td>\n",
       "      <td>0.0</td>\n",
       "      <td>0.0</td>\n",
       "    </tr>\n",
       "    <tr>\n",
       "      <th>191</th>\n",
       "      <td>1.0</td>\n",
       "      <td>0.0</td>\n",
       "      <td>1.0</td>\n",
       "      <td>0.0</td>\n",
       "      <td>1.0</td>\n",
       "    </tr>\n",
       "  </tbody>\n",
       "</table>\n",
       "</div>"
      ],
      "text/plain": [
       "     species_Chinstrap  species_Gentoo  island_Dream  island_Torgersen  \\\n",
       "321                0.0             1.0           0.0               0.0   \n",
       "265                0.0             1.0           0.0               0.0   \n",
       "36                 0.0             0.0           1.0               0.0   \n",
       "308                0.0             1.0           0.0               0.0   \n",
       "191                1.0             0.0           1.0               0.0   \n",
       "\n",
       "     sex_Male  \n",
       "321       1.0  \n",
       "265       0.0  \n",
       "36        1.0  \n",
       "308       0.0  \n",
       "191       1.0  "
      ]
     },
     "execution_count": 12,
     "metadata": {},
     "output_type": "execute_result"
    }
   ],
   "source": [
    "# Taking in other features (category)\n",
    "ohe = OneHotEncoder(drop='first')\n",
    "dummies = ohe.fit_transform(X_train[['species', 'island', 'sex']])\n",
    "\n",
    "# Getting a DF\n",
    "X_train_onehot = pd.DataFrame(dummies.todense(), columns=ohe.get_feature_names_out(), index=X_train.index)\n",
    "\n",
    "X_train_onehot.head()"
   ]
  },
  {
   "cell_type": "markdown",
   "id": "9072c0e6",
   "metadata": {
    "slideshow": {
     "slide_type": "slide"
    }
   },
   "source": [
    "Attach this to dataframe with numerical variables"
   ]
  },
  {
   "cell_type": "code",
   "execution_count": 13,
   "id": "67f8ee37",
   "metadata": {
    "slideshow": {
     "slide_type": "fragment"
    }
   },
   "outputs": [
    {
     "data": {
      "text/html": [
       "<div>\n",
       "<style scoped>\n",
       "    .dataframe tbody tr th:only-of-type {\n",
       "        vertical-align: middle;\n",
       "    }\n",
       "\n",
       "    .dataframe tbody tr th {\n",
       "        vertical-align: top;\n",
       "    }\n",
       "\n",
       "    .dataframe thead th {\n",
       "        text-align: right;\n",
       "    }\n",
       "</style>\n",
       "<table border=\"1\" class=\"dataframe\">\n",
       "  <thead>\n",
       "    <tr style=\"text-align: right;\">\n",
       "      <th></th>\n",
       "      <th>bill_length_mm</th>\n",
       "      <th>bill_depth_mm</th>\n",
       "      <th>flipper_length_mm</th>\n",
       "      <th>species_Chinstrap</th>\n",
       "      <th>species_Gentoo</th>\n",
       "      <th>island_Dream</th>\n",
       "      <th>island_Torgersen</th>\n",
       "      <th>sex_Male</th>\n",
       "    </tr>\n",
       "  </thead>\n",
       "  <tbody>\n",
       "    <tr>\n",
       "      <th>321</th>\n",
       "      <td>55.9</td>\n",
       "      <td>17.0</td>\n",
       "      <td>228.0</td>\n",
       "      <td>0.0</td>\n",
       "      <td>1.0</td>\n",
       "      <td>0.0</td>\n",
       "      <td>0.0</td>\n",
       "      <td>1.0</td>\n",
       "    </tr>\n",
       "    <tr>\n",
       "      <th>265</th>\n",
       "      <td>43.6</td>\n",
       "      <td>13.9</td>\n",
       "      <td>217.0</td>\n",
       "      <td>0.0</td>\n",
       "      <td>1.0</td>\n",
       "      <td>0.0</td>\n",
       "      <td>0.0</td>\n",
       "      <td>0.0</td>\n",
       "    </tr>\n",
       "    <tr>\n",
       "      <th>36</th>\n",
       "      <td>38.8</td>\n",
       "      <td>20.0</td>\n",
       "      <td>190.0</td>\n",
       "      <td>0.0</td>\n",
       "      <td>0.0</td>\n",
       "      <td>1.0</td>\n",
       "      <td>0.0</td>\n",
       "      <td>1.0</td>\n",
       "    </tr>\n",
       "    <tr>\n",
       "      <th>308</th>\n",
       "      <td>47.5</td>\n",
       "      <td>14.0</td>\n",
       "      <td>212.0</td>\n",
       "      <td>0.0</td>\n",
       "      <td>1.0</td>\n",
       "      <td>0.0</td>\n",
       "      <td>0.0</td>\n",
       "      <td>0.0</td>\n",
       "    </tr>\n",
       "    <tr>\n",
       "      <th>191</th>\n",
       "      <td>53.5</td>\n",
       "      <td>19.9</td>\n",
       "      <td>205.0</td>\n",
       "      <td>1.0</td>\n",
       "      <td>0.0</td>\n",
       "      <td>1.0</td>\n",
       "      <td>0.0</td>\n",
       "      <td>1.0</td>\n",
       "    </tr>\n",
       "  </tbody>\n",
       "</table>\n",
       "</div>"
      ],
      "text/plain": [
       "     bill_length_mm  bill_depth_mm  flipper_length_mm  species_Chinstrap  \\\n",
       "321            55.9           17.0              228.0                0.0   \n",
       "265            43.6           13.9              217.0                0.0   \n",
       "36             38.8           20.0              190.0                0.0   \n",
       "308            47.5           14.0              212.0                0.0   \n",
       "191            53.5           19.9              205.0                1.0   \n",
       "\n",
       "     species_Gentoo  island_Dream  island_Torgersen  sex_Male  \n",
       "321             1.0           0.0               0.0       1.0  \n",
       "265             1.0           0.0               0.0       0.0  \n",
       "36              0.0           1.0               0.0       1.0  \n",
       "308             1.0           0.0               0.0       0.0  \n",
       "191             0.0           1.0               0.0       1.0  "
      ]
     },
     "execution_count": 13,
     "metadata": {},
     "output_type": "execute_result"
    }
   ],
   "source": [
    "X_train_numeric = X_train[['bill_length_mm', 'bill_depth_mm', 'flipper_length_mm']]\n",
    "X_train_df = pd.concat([X_train_numeric, X_train_onehot], axis=1)\n",
    "X_train_df.head()"
   ]
  },
  {
   "cell_type": "markdown",
   "id": "6bbd822a",
   "metadata": {
    "slideshow": {
     "slide_type": "slide"
    }
   },
   "source": [
    "We have our training feature matrix:\n",
    "- Apply transformation fit_transformed on train set to test feature matrix."
   ]
  },
  {
   "cell_type": "code",
   "execution_count": 14,
   "id": "79229562",
   "metadata": {
    "slideshow": {
     "slide_type": "fragment"
    }
   },
   "outputs": [
    {
     "data": {
      "text/html": [
       "<div>\n",
       "<style scoped>\n",
       "    .dataframe tbody tr th:only-of-type {\n",
       "        vertical-align: middle;\n",
       "    }\n",
       "\n",
       "    .dataframe tbody tr th {\n",
       "        vertical-align: top;\n",
       "    }\n",
       "\n",
       "    .dataframe thead th {\n",
       "        text-align: right;\n",
       "    }\n",
       "</style>\n",
       "<table border=\"1\" class=\"dataframe\">\n",
       "  <thead>\n",
       "    <tr style=\"text-align: right;\">\n",
       "      <th></th>\n",
       "      <th>bill_length_mm</th>\n",
       "      <th>bill_depth_mm</th>\n",
       "      <th>flipper_length_mm</th>\n",
       "      <th>species_Chinstrap</th>\n",
       "      <th>species_Gentoo</th>\n",
       "      <th>island_Dream</th>\n",
       "      <th>island_Torgersen</th>\n",
       "      <th>sex_Male</th>\n",
       "    </tr>\n",
       "  </thead>\n",
       "  <tbody>\n",
       "    <tr>\n",
       "      <th>30</th>\n",
       "      <td>39.5</td>\n",
       "      <td>16.7</td>\n",
       "      <td>178.0</td>\n",
       "      <td>0.0</td>\n",
       "      <td>0.0</td>\n",
       "      <td>1.0</td>\n",
       "      <td>0.0</td>\n",
       "      <td>0.0</td>\n",
       "    </tr>\n",
       "    <tr>\n",
       "      <th>317</th>\n",
       "      <td>46.9</td>\n",
       "      <td>14.6</td>\n",
       "      <td>222.0</td>\n",
       "      <td>0.0</td>\n",
       "      <td>1.0</td>\n",
       "      <td>0.0</td>\n",
       "      <td>0.0</td>\n",
       "      <td>0.0</td>\n",
       "    </tr>\n",
       "    <tr>\n",
       "      <th>79</th>\n",
       "      <td>42.1</td>\n",
       "      <td>19.1</td>\n",
       "      <td>195.0</td>\n",
       "      <td>0.0</td>\n",
       "      <td>0.0</td>\n",
       "      <td>0.0</td>\n",
       "      <td>1.0</td>\n",
       "      <td>1.0</td>\n",
       "    </tr>\n",
       "    <tr>\n",
       "      <th>201</th>\n",
       "      <td>49.8</td>\n",
       "      <td>17.3</td>\n",
       "      <td>198.0</td>\n",
       "      <td>1.0</td>\n",
       "      <td>0.0</td>\n",
       "      <td>1.0</td>\n",
       "      <td>0.0</td>\n",
       "      <td>0.0</td>\n",
       "    </tr>\n",
       "    <tr>\n",
       "      <th>63</th>\n",
       "      <td>41.1</td>\n",
       "      <td>18.2</td>\n",
       "      <td>192.0</td>\n",
       "      <td>0.0</td>\n",
       "      <td>0.0</td>\n",
       "      <td>0.0</td>\n",
       "      <td>0.0</td>\n",
       "      <td>1.0</td>\n",
       "    </tr>\n",
       "  </tbody>\n",
       "</table>\n",
       "</div>"
      ],
      "text/plain": [
       "     bill_length_mm  bill_depth_mm  flipper_length_mm  species_Chinstrap  \\\n",
       "30             39.5           16.7              178.0                0.0   \n",
       "317            46.9           14.6              222.0                0.0   \n",
       "79             42.1           19.1              195.0                0.0   \n",
       "201            49.8           17.3              198.0                1.0   \n",
       "63             41.1           18.2              192.0                0.0   \n",
       "\n",
       "     species_Gentoo  island_Dream  island_Torgersen  sex_Male  \n",
       "30              0.0           1.0               0.0       0.0  \n",
       "317             1.0           0.0               0.0       0.0  \n",
       "79              0.0           0.0               1.0       1.0  \n",
       "201             0.0           1.0               0.0       0.0  \n",
       "63              0.0           0.0               0.0       1.0  "
      ]
     },
     "execution_count": 14,
     "metadata": {},
     "output_type": "execute_result"
    }
   ],
   "source": [
    "test_dummies = ohe.transform(X_test[['species', 'island', 'sex']])\n",
    "test_df = pd.DataFrame(test_dummies.todense(), columns=ohe.get_feature_names_out(),\n",
    "                       index=X_test.index)\n",
    "X_test_df = pd.concat([X_test[['bill_length_mm', 'bill_depth_mm',\n",
    "                              'flipper_length_mm']], test_df], axis=1)\n",
    "X_test_df.head()"
   ]
  },
  {
   "cell_type": "code",
   "execution_count": 15,
   "id": "f8a171ff",
   "metadata": {
    "slideshow": {
     "slide_type": "subslide"
    }
   },
   "outputs": [
    {
     "data": {
      "text/html": [
       "<style>#sk-container-id-1 {color: black;background-color: white;}#sk-container-id-1 pre{padding: 0;}#sk-container-id-1 div.sk-toggleable {background-color: white;}#sk-container-id-1 label.sk-toggleable__label {cursor: pointer;display: block;width: 100%;margin-bottom: 0;padding: 0.3em;box-sizing: border-box;text-align: center;}#sk-container-id-1 label.sk-toggleable__label-arrow:before {content: \"▸\";float: left;margin-right: 0.25em;color: #696969;}#sk-container-id-1 label.sk-toggleable__label-arrow:hover:before {color: black;}#sk-container-id-1 div.sk-estimator:hover label.sk-toggleable__label-arrow:before {color: black;}#sk-container-id-1 div.sk-toggleable__content {max-height: 0;max-width: 0;overflow: hidden;text-align: left;background-color: #f0f8ff;}#sk-container-id-1 div.sk-toggleable__content pre {margin: 0.2em;color: black;border-radius: 0.25em;background-color: #f0f8ff;}#sk-container-id-1 input.sk-toggleable__control:checked~div.sk-toggleable__content {max-height: 200px;max-width: 100%;overflow: auto;}#sk-container-id-1 input.sk-toggleable__control:checked~label.sk-toggleable__label-arrow:before {content: \"▾\";}#sk-container-id-1 div.sk-estimator input.sk-toggleable__control:checked~label.sk-toggleable__label {background-color: #d4ebff;}#sk-container-id-1 div.sk-label input.sk-toggleable__control:checked~label.sk-toggleable__label {background-color: #d4ebff;}#sk-container-id-1 input.sk-hidden--visually {border: 0;clip: rect(1px 1px 1px 1px);clip: rect(1px, 1px, 1px, 1px);height: 1px;margin: -1px;overflow: hidden;padding: 0;position: absolute;width: 1px;}#sk-container-id-1 div.sk-estimator {font-family: monospace;background-color: #f0f8ff;border: 1px dotted black;border-radius: 0.25em;box-sizing: border-box;margin-bottom: 0.5em;}#sk-container-id-1 div.sk-estimator:hover {background-color: #d4ebff;}#sk-container-id-1 div.sk-parallel-item::after {content: \"\";width: 100%;border-bottom: 1px solid gray;flex-grow: 1;}#sk-container-id-1 div.sk-label:hover label.sk-toggleable__label {background-color: #d4ebff;}#sk-container-id-1 div.sk-serial::before {content: \"\";position: absolute;border-left: 1px solid gray;box-sizing: border-box;top: 0;bottom: 0;left: 50%;z-index: 0;}#sk-container-id-1 div.sk-serial {display: flex;flex-direction: column;align-items: center;background-color: white;padding-right: 0.2em;padding-left: 0.2em;position: relative;}#sk-container-id-1 div.sk-item {position: relative;z-index: 1;}#sk-container-id-1 div.sk-parallel {display: flex;align-items: stretch;justify-content: center;background-color: white;position: relative;}#sk-container-id-1 div.sk-item::before, #sk-container-id-1 div.sk-parallel-item::before {content: \"\";position: absolute;border-left: 1px solid gray;box-sizing: border-box;top: 0;bottom: 0;left: 50%;z-index: -1;}#sk-container-id-1 div.sk-parallel-item {display: flex;flex-direction: column;z-index: 1;position: relative;background-color: white;}#sk-container-id-1 div.sk-parallel-item:first-child::after {align-self: flex-end;width: 50%;}#sk-container-id-1 div.sk-parallel-item:last-child::after {align-self: flex-start;width: 50%;}#sk-container-id-1 div.sk-parallel-item:only-child::after {width: 0;}#sk-container-id-1 div.sk-dashed-wrapped {border: 1px dashed gray;margin: 0 0.4em 0.5em 0.4em;box-sizing: border-box;padding-bottom: 0.4em;background-color: white;}#sk-container-id-1 div.sk-label label {font-family: monospace;font-weight: bold;display: inline-block;line-height: 1.2em;}#sk-container-id-1 div.sk-label-container {text-align: center;}#sk-container-id-1 div.sk-container {/* jupyter's `normalize.less` sets `[hidden] { display: none; }` but bootstrap.min.css set `[hidden] { display: none !important; }` so we also need the `!important` here to be able to override the default hidden behavior on the sphinx rendered scikit-learn.org. See: https://github.com/scikit-learn/scikit-learn/issues/21755 */display: inline-block !important;position: relative;}#sk-container-id-1 div.sk-text-repr-fallback {display: none;}</style><div id=\"sk-container-id-1\" class=\"sk-top-container\"><div class=\"sk-text-repr-fallback\"><pre>LinearRegression()</pre><b>In a Jupyter environment, please rerun this cell to show the HTML representation or trust the notebook. <br />On GitHub, the HTML representation is unable to render, please try loading this page with nbviewer.org.</b></div><div class=\"sk-container\" hidden><div class=\"sk-item\"><div class=\"sk-estimator sk-toggleable\"><input class=\"sk-toggleable__control sk-hidden--visually\" id=\"sk-estimator-id-1\" type=\"checkbox\" checked><label for=\"sk-estimator-id-1\" class=\"sk-toggleable__label sk-toggleable__label-arrow\">LinearRegression</label><div class=\"sk-toggleable__content\"><pre>LinearRegression()</pre></div></div></div></div></div>"
      ],
      "text/plain": [
       "LinearRegression()"
      ]
     },
     "execution_count": 15,
     "metadata": {},
     "output_type": "execute_result"
    }
   ],
   "source": [
    "lr1 = LinearRegression()\n",
    "lr1.fit(X_train_df, y_train)"
   ]
  },
  {
   "cell_type": "code",
   "execution_count": 16,
   "id": "74b82f9b",
   "metadata": {
    "scrolled": true,
    "slideshow": {
     "slide_type": "fragment"
    }
   },
   "outputs": [
    {
     "data": {
      "text/plain": [
       "0.8688983108974326"
      ]
     },
     "execution_count": 16,
     "metadata": {},
     "output_type": "execute_result"
    }
   ],
   "source": [
    "lr1.score(X_train_df, y_train)"
   ]
  },
  {
   "cell_type": "code",
   "execution_count": 17,
   "id": "39bec397",
   "metadata": {},
   "outputs": [
    {
     "data": {
      "text/plain": [
       "253.98121177477856"
      ]
     },
     "execution_count": 17,
     "metadata": {},
     "output_type": "execute_result"
    }
   ],
   "source": [
    "from sklearn.metrics import mean_squared_error\n",
    "y_pred = lr1.predict(X_test_df)\n",
    "np.sqrt(mean_squared_error(y_pred, y_test))"
   ]
  },
  {
   "cell_type": "markdown",
   "id": "03424149",
   "metadata": {
    "slideshow": {
     "slide_type": "slide"
    }
   },
   "source": [
    "Wow that's a good $R^2$ value!\n",
    "\n",
    "- Estimate how we are doing on unseen data with cross validation."
   ]
  },
  {
   "cell_type": "code",
   "execution_count": 18,
   "id": "b967516d",
   "metadata": {
    "slideshow": {
     "slide_type": "fragment"
    }
   },
   "outputs": [],
   "source": [
    "cv_results = cross_validate(X=X_train_df, y=y_train, estimator=lr1, cv=10, scoring=('r2', 'neg_mean_squared_error'),\n",
    "                return_train_score=True\n",
    ")"
   ]
  },
  {
   "cell_type": "markdown",
   "id": "983762c4",
   "metadata": {
    "slideshow": {
     "slide_type": "slide"
    }
   },
   "source": [
    "How well model explains training fold data in each iteration cross validation:"
   ]
  },
  {
   "cell_type": "code",
   "execution_count": 19,
   "id": "9a12213a",
   "metadata": {
    "slideshow": {
     "slide_type": "fragment"
    }
   },
   "outputs": [
    {
     "data": {
      "text/plain": [
       "array([0.86804859, 0.87184762, 0.86639447, 0.86902092, 0.86919768,\n",
       "       0.86625747, 0.86680671, 0.8768277 , 0.869645  , 0.86906114])"
      ]
     },
     "execution_count": 19,
     "metadata": {},
     "output_type": "execute_result"
    }
   ],
   "source": [
    "train_res = cv_results['train_r2']\n",
    "train_res"
   ]
  },
  {
   "cell_type": "markdown",
   "id": "cf2d2788",
   "metadata": {
    "slideshow": {
     "slide_type": "slide"
    }
   },
   "source": [
    "It's fitting well each time in the 10 iterations."
   ]
  },
  {
   "cell_type": "markdown",
   "id": "9613defb",
   "metadata": {
    "slideshow": {
     "slide_type": "subslide"
    }
   },
   "source": [
    "How does the validation look?"
   ]
  },
  {
   "cell_type": "code",
   "execution_count": 20,
   "id": "2e29199a",
   "metadata": {
    "cell_style": "split",
    "slideshow": {
     "slide_type": "fragment"
    }
   },
   "outputs": [
    {
     "data": {
      "text/plain": [
       "array([0.86092305, 0.68845759, 0.88730555, 0.85315477, 0.85555065,\n",
       "       0.88779582, 0.87796788, 0.71839192, 0.85080305, 0.86263277])"
      ]
     },
     "execution_count": 20,
     "metadata": {},
     "output_type": "execute_result"
    }
   ],
   "source": [
    "test_res = cv_results['test_r2']\n",
    "test_res"
   ]
  },
  {
   "cell_type": "code",
   "execution_count": 21,
   "id": "17733a51",
   "metadata": {
    "cell_style": "split",
    "slideshow": {
     "slide_type": "fragment"
    }
   },
   "outputs": [
    {
     "data": {
      "text/plain": [
       "0.8342983053829107"
      ]
     },
     "execution_count": 21,
     "metadata": {},
     "output_type": "execute_result"
    }
   ],
   "source": [
    "test_res.mean()"
   ]
  },
  {
   "cell_type": "code",
   "execution_count": 22,
   "id": "612080c5",
   "metadata": {
    "cell_style": "split",
    "slideshow": {
     "slide_type": "fragment"
    }
   },
   "outputs": [
    {
     "data": {
      "text/plain": [
       "0.07061156844065866"
      ]
     },
     "execution_count": 22,
     "metadata": {},
     "output_type": "execute_result"
    }
   ],
   "source": [
    "test_res.std(ddof = 1)"
   ]
  },
  {
   "cell_type": "markdown",
   "id": "2a86b87c",
   "metadata": {
    "slideshow": {
     "slide_type": "slide"
    }
   },
   "source": [
    "Good average test performance and relatively low variance."
   ]
  },
  {
   "cell_type": "code",
   "execution_count": 23,
   "id": "b2038f5d",
   "metadata": {
    "cell_style": "center",
    "slideshow": {
     "slide_type": "subslide"
    }
   },
   "outputs": [
    {
     "data": {
      "text/plain": [
       "array([294.39902869, 295.54794956, 295.83205215, 287.46270287,\n",
       "       298.1599986 , 295.74918118, 293.40476336, 291.7275227 ,\n",
       "       290.82138953, 292.37523149])"
      ]
     },
     "execution_count": 23,
     "metadata": {},
     "output_type": "execute_result"
    }
   ],
   "source": [
    "RMSE_train = np.sqrt(np.abs(cv_results['train_neg_mean_squared_error']))\n",
    "RMSE_train"
   ]
  },
  {
   "cell_type": "code",
   "execution_count": 24,
   "id": "b62a855a",
   "metadata": {
    "cell_style": "split",
    "slideshow": {
     "slide_type": "fragment"
    }
   },
   "outputs": [
    {
     "data": {
      "text/plain": [
       "293.54798201361626"
      ]
     },
     "execution_count": 24,
     "metadata": {},
     "output_type": "execute_result"
    }
   ],
   "source": [
    "RMSE_train.mean()"
   ]
  },
  {
   "cell_type": "code",
   "execution_count": 25,
   "id": "e2dcbee8",
   "metadata": {
    "cell_style": "split",
    "slideshow": {
     "slide_type": "fragment"
    }
   },
   "outputs": [
    {
     "data": {
      "text/plain": [
       "2.9194512852396004"
      ]
     },
     "execution_count": 25,
     "metadata": {},
     "output_type": "execute_result"
    }
   ],
   "source": [
    "RMSE_train.std()"
   ]
  },
  {
   "cell_type": "code",
   "execution_count": 26,
   "id": "a32d9d5c",
   "metadata": {
    "cell_style": "center",
    "slideshow": {
     "slide_type": "subslide"
    }
   },
   "outputs": [
    {
     "data": {
      "text/plain": [
       "array([297.90893127, 291.59992285, 281.7832529 , 358.30773939,\n",
       "       260.32367156, 281.50266999, 309.16756673, 319.73503557,\n",
       "       331.38649842, 316.03365957])"
      ]
     },
     "execution_count": 26,
     "metadata": {},
     "output_type": "execute_result"
    }
   ],
   "source": [
    "RMSE_test = np.sqrt(np.abs(cv_results['test_neg_mean_squared_error']))\n",
    "RMSE_test"
   ]
  },
  {
   "cell_type": "markdown",
   "id": "695703cf",
   "metadata": {
    "cell_style": "split",
    "slideshow": {
     "slide_type": "fragment"
    }
   },
   "source": [
    "Clearly larger average RMSE and variance of RMSE in the test set. But still pretty decent."
   ]
  },
  {
   "cell_type": "code",
   "execution_count": 27,
   "id": "bbebd585",
   "metadata": {
    "cell_style": "split",
    "slideshow": {
     "slide_type": "fragment"
    }
   },
   "outputs": [
    {
     "data": {
      "text/plain": [
       "304.77489482634076"
      ]
     },
     "execution_count": 27,
     "metadata": {},
     "output_type": "execute_result"
    }
   ],
   "source": [
    "RMSE_test.mean()"
   ]
  },
  {
   "cell_type": "code",
   "execution_count": 28,
   "id": "4ac50032",
   "metadata": {
    "cell_style": "split",
    "slideshow": {
     "slide_type": "fragment"
    }
   },
   "outputs": [
    {
     "data": {
      "text/plain": [
       "28.305179526794014"
      ]
     },
     "execution_count": 28,
     "metadata": {},
     "output_type": "execute_result"
    }
   ],
   "source": [
    "RMSE_test.std(ddof = 1)"
   ]
  },
  {
   "cell_type": "markdown",
   "id": "758cfd3e",
   "metadata": {
    "cell_style": "center",
    "slideshow": {
     "slide_type": "slide"
    }
   },
   "source": [
    "But...I'm a greedy man.\n",
    "\n",
    "I want to do better than this. \n",
    "- I'm going to add some polynomials to get a more complex model."
   ]
  },
  {
   "cell_type": "markdown",
   "id": "bffb6ed8",
   "metadata": {
    "slideshow": {
     "slide_type": "subslide"
    }
   },
   "source": [
    "My motivation:\n",
    "    \n",
    "- More complex model = better able to capture more complex relationships between mass and other variables.\n",
    "- Better prediction."
   ]
  },
  {
   "cell_type": "markdown",
   "id": "ab31c497",
   "metadata": {
    "slideshow": {
     "slide_type": "slide"
    }
   },
   "source": [
    "#### Adding model complexity"
   ]
  },
  {
   "cell_type": "code",
   "execution_count": 29,
   "id": "6b555934",
   "metadata": {},
   "outputs": [],
   "source": [
    "from sklearn.preprocessing import PolynomialFeatures"
   ]
  },
  {
   "cell_type": "code",
   "execution_count": 30,
   "id": "a2c2b759",
   "metadata": {
    "slideshow": {
     "slide_type": "fragment"
    }
   },
   "outputs": [],
   "source": [
    "pf = PolynomialFeatures(degree=3)\n",
    "X_poly_train = pd.DataFrame(pf.fit_transform(X_train_df))\n",
    "\n",
    "y_train.to_csv('X_penguin.csv')"
   ]
  },
  {
   "cell_type": "code",
   "execution_count": 31,
   "id": "bc2492b8",
   "metadata": {
    "slideshow": {
     "slide_type": "fragment"
    }
   },
   "outputs": [],
   "source": [
    "X_poly_test = pf.transform(X_test_df)"
   ]
  },
  {
   "cell_type": "code",
   "execution_count": 32,
   "id": "bfdce38e",
   "metadata": {
    "cell_style": "split",
    "slideshow": {
     "slide_type": "fragment"
    }
   },
   "outputs": [
    {
     "data": {
      "text/plain": [
       "(249, 8)"
      ]
     },
     "execution_count": 32,
     "metadata": {},
     "output_type": "execute_result"
    }
   ],
   "source": [
    "X_train_df.shape"
   ]
  },
  {
   "cell_type": "code",
   "execution_count": 33,
   "id": "9b6ac70f",
   "metadata": {
    "cell_style": "split",
    "slideshow": {
     "slide_type": "fragment"
    }
   },
   "outputs": [
    {
     "data": {
      "text/plain": [
       "(249, 165)"
      ]
     },
     "execution_count": 33,
     "metadata": {},
     "output_type": "execute_result"
    }
   ],
   "source": [
    "X_poly_train.shape"
   ]
  },
  {
   "cell_type": "code",
   "execution_count": 34,
   "id": "6e56ebaa",
   "metadata": {
    "slideshow": {
     "slide_type": "slide"
    }
   },
   "outputs": [
    {
     "data": {
      "text/html": [
       "<style>#sk-container-id-2 {color: black;background-color: white;}#sk-container-id-2 pre{padding: 0;}#sk-container-id-2 div.sk-toggleable {background-color: white;}#sk-container-id-2 label.sk-toggleable__label {cursor: pointer;display: block;width: 100%;margin-bottom: 0;padding: 0.3em;box-sizing: border-box;text-align: center;}#sk-container-id-2 label.sk-toggleable__label-arrow:before {content: \"▸\";float: left;margin-right: 0.25em;color: #696969;}#sk-container-id-2 label.sk-toggleable__label-arrow:hover:before {color: black;}#sk-container-id-2 div.sk-estimator:hover label.sk-toggleable__label-arrow:before {color: black;}#sk-container-id-2 div.sk-toggleable__content {max-height: 0;max-width: 0;overflow: hidden;text-align: left;background-color: #f0f8ff;}#sk-container-id-2 div.sk-toggleable__content pre {margin: 0.2em;color: black;border-radius: 0.25em;background-color: #f0f8ff;}#sk-container-id-2 input.sk-toggleable__control:checked~div.sk-toggleable__content {max-height: 200px;max-width: 100%;overflow: auto;}#sk-container-id-2 input.sk-toggleable__control:checked~label.sk-toggleable__label-arrow:before {content: \"▾\";}#sk-container-id-2 div.sk-estimator input.sk-toggleable__control:checked~label.sk-toggleable__label {background-color: #d4ebff;}#sk-container-id-2 div.sk-label input.sk-toggleable__control:checked~label.sk-toggleable__label {background-color: #d4ebff;}#sk-container-id-2 input.sk-hidden--visually {border: 0;clip: rect(1px 1px 1px 1px);clip: rect(1px, 1px, 1px, 1px);height: 1px;margin: -1px;overflow: hidden;padding: 0;position: absolute;width: 1px;}#sk-container-id-2 div.sk-estimator {font-family: monospace;background-color: #f0f8ff;border: 1px dotted black;border-radius: 0.25em;box-sizing: border-box;margin-bottom: 0.5em;}#sk-container-id-2 div.sk-estimator:hover {background-color: #d4ebff;}#sk-container-id-2 div.sk-parallel-item::after {content: \"\";width: 100%;border-bottom: 1px solid gray;flex-grow: 1;}#sk-container-id-2 div.sk-label:hover label.sk-toggleable__label {background-color: #d4ebff;}#sk-container-id-2 div.sk-serial::before {content: \"\";position: absolute;border-left: 1px solid gray;box-sizing: border-box;top: 0;bottom: 0;left: 50%;z-index: 0;}#sk-container-id-2 div.sk-serial {display: flex;flex-direction: column;align-items: center;background-color: white;padding-right: 0.2em;padding-left: 0.2em;position: relative;}#sk-container-id-2 div.sk-item {position: relative;z-index: 1;}#sk-container-id-2 div.sk-parallel {display: flex;align-items: stretch;justify-content: center;background-color: white;position: relative;}#sk-container-id-2 div.sk-item::before, #sk-container-id-2 div.sk-parallel-item::before {content: \"\";position: absolute;border-left: 1px solid gray;box-sizing: border-box;top: 0;bottom: 0;left: 50%;z-index: -1;}#sk-container-id-2 div.sk-parallel-item {display: flex;flex-direction: column;z-index: 1;position: relative;background-color: white;}#sk-container-id-2 div.sk-parallel-item:first-child::after {align-self: flex-end;width: 50%;}#sk-container-id-2 div.sk-parallel-item:last-child::after {align-self: flex-start;width: 50%;}#sk-container-id-2 div.sk-parallel-item:only-child::after {width: 0;}#sk-container-id-2 div.sk-dashed-wrapped {border: 1px dashed gray;margin: 0 0.4em 0.5em 0.4em;box-sizing: border-box;padding-bottom: 0.4em;background-color: white;}#sk-container-id-2 div.sk-label label {font-family: monospace;font-weight: bold;display: inline-block;line-height: 1.2em;}#sk-container-id-2 div.sk-label-container {text-align: center;}#sk-container-id-2 div.sk-container {/* jupyter's `normalize.less` sets `[hidden] { display: none; }` but bootstrap.min.css set `[hidden] { display: none !important; }` so we also need the `!important` here to be able to override the default hidden behavior on the sphinx rendered scikit-learn.org. See: https://github.com/scikit-learn/scikit-learn/issues/21755 */display: inline-block !important;position: relative;}#sk-container-id-2 div.sk-text-repr-fallback {display: none;}</style><div id=\"sk-container-id-2\" class=\"sk-top-container\"><div class=\"sk-text-repr-fallback\"><pre>LinearRegression()</pre><b>In a Jupyter environment, please rerun this cell to show the HTML representation or trust the notebook. <br />On GitHub, the HTML representation is unable to render, please try loading this page with nbviewer.org.</b></div><div class=\"sk-container\" hidden><div class=\"sk-item\"><div class=\"sk-estimator sk-toggleable\"><input class=\"sk-toggleable__control sk-hidden--visually\" id=\"sk-estimator-id-2\" type=\"checkbox\" checked><label for=\"sk-estimator-id-2\" class=\"sk-toggleable__label sk-toggleable__label-arrow\">LinearRegression</label><div class=\"sk-toggleable__content\"><pre>LinearRegression()</pre></div></div></div></div></div>"
      ],
      "text/plain": [
       "LinearRegression()"
      ]
     },
     "execution_count": 34,
     "metadata": {},
     "output_type": "execute_result"
    }
   ],
   "source": [
    "poly_lr = LinearRegression()\n",
    "poly_lr.fit(X_poly_train, y_train)"
   ]
  },
  {
   "cell_type": "code",
   "execution_count": 35,
   "id": "5f4423ed",
   "metadata": {
    "cell_style": "split",
    "slideshow": {
     "slide_type": "fragment"
    }
   },
   "outputs": [
    {
     "data": {
      "text/plain": [
       "0.8929837736158065"
      ]
     },
     "execution_count": 35,
     "metadata": {},
     "output_type": "execute_result"
    }
   ],
   "source": [
    "poly_lr.score(X_poly_train, y_train)"
   ]
  },
  {
   "cell_type": "code",
   "execution_count": 36,
   "id": "68f53de1",
   "metadata": {
    "cell_style": "split",
    "slideshow": {
     "slide_type": "fragment"
    }
   },
   "outputs": [
    {
     "data": {
      "text/plain": [
       "0.8688983108974326"
      ]
     },
     "execution_count": 36,
     "metadata": {},
     "output_type": "execute_result"
    }
   ],
   "source": [
    "lr1.score(X_train_df, y_train)"
   ]
  },
  {
   "cell_type": "markdown",
   "id": "1b99352e",
   "metadata": {
    "slideshow": {
     "slide_type": "slide"
    }
   },
   "source": [
    "About a 3% improvement: \n",
    "- that could mean money in other contexts."
   ]
  },
  {
   "cell_type": "code",
   "execution_count": 37,
   "id": "2b6b2724",
   "metadata": {
    "slideshow": {
     "slide_type": "subslide"
    }
   },
   "outputs": [],
   "source": [
    "poly_cv_results = cross_validate(\n",
    "                X=X_poly_train, \n",
    "                y=y_train,\n",
    "                estimator=poly_lr, \n",
    "                cv=10,\n",
    "                scoring=('r2', 'neg_mean_squared_error'),\n",
    "                return_train_score=True\n",
    ")"
   ]
  },
  {
   "cell_type": "code",
   "execution_count": 38,
   "id": "12e3720c",
   "metadata": {
    "slideshow": {
     "slide_type": "subslide"
    }
   },
   "outputs": [
    {
     "data": {
      "text/plain": [
       "array([0.86804859, 0.87184762, 0.86639447, 0.86902092, 0.86919768,\n",
       "       0.86625747, 0.86680671, 0.8768277 , 0.869645  , 0.86906114])"
      ]
     },
     "execution_count": 38,
     "metadata": {},
     "output_type": "execute_result"
    }
   ],
   "source": [
    "poly_train_res = poly_cv_results['train_r2']\n",
    "train_res"
   ]
  },
  {
   "cell_type": "code",
   "execution_count": 39,
   "id": "fde2e53a",
   "metadata": {
    "cell_style": "split",
    "slideshow": {
     "slide_type": "fragment"
    }
   },
   "outputs": [
    {
     "data": {
      "text/plain": [
       "0.8719073666483537"
      ]
     },
     "execution_count": 39,
     "metadata": {},
     "output_type": "execute_result"
    }
   ],
   "source": [
    "poly_train_res.mean()"
   ]
  },
  {
   "cell_type": "code",
   "execution_count": 40,
   "id": "e346fc76",
   "metadata": {
    "cell_style": "split",
    "slideshow": {
     "slide_type": "fragment"
    }
   },
   "outputs": [
    {
     "data": {
      "text/plain": [
       "0.03638066905817189"
      ]
     },
     "execution_count": 40,
     "metadata": {},
     "output_type": "execute_result"
    }
   ],
   "source": [
    "poly_train_res.std(ddof =1)"
   ]
  },
  {
   "cell_type": "markdown",
   "id": "99963559",
   "metadata": {
    "slideshow": {
     "slide_type": "subslide"
    }
   },
   "source": [
    "Wow...I'm ready to brag to my boss.\n",
    "\n",
    "- But let's check the performance on the validation folds."
   ]
  },
  {
   "cell_type": "code",
   "execution_count": 41,
   "id": "513a58fa",
   "metadata": {
    "cell_style": "center",
    "slideshow": {
     "slide_type": "subslide"
    }
   },
   "outputs": [
    {
     "data": {
      "text/plain": [
       "array([ 0.58415872, -0.98181975,  0.57883718,  0.67200795,  0.13603471,\n",
       "        0.51348527,  0.11073345,  0.17470151,  0.81904845,  0.56611481])"
      ]
     },
     "execution_count": 41,
     "metadata": {},
     "output_type": "execute_result"
    }
   ],
   "source": [
    "poly_valid_res = poly_cv_results['test_r2']\n",
    "poly_valid_res"
   ]
  },
  {
   "cell_type": "code",
   "execution_count": 42,
   "id": "64beacb9",
   "metadata": {
    "cell_style": "split",
    "slideshow": {
     "slide_type": "fragment"
    }
   },
   "outputs": [
    {
     "data": {
      "text/plain": [
       "0.3173302298131132"
      ]
     },
     "execution_count": 42,
     "metadata": {},
     "output_type": "execute_result"
    }
   ],
   "source": [
    "poly_valid_res.mean()"
   ]
  },
  {
   "cell_type": "code",
   "execution_count": 43,
   "id": "ca4bb5c4",
   "metadata": {
    "cell_style": "split",
    "slideshow": {
     "slide_type": "fragment"
    }
   },
   "outputs": [
    {
     "data": {
      "text/plain": [
       "0.4900158417121331"
      ]
     },
     "execution_count": 43,
     "metadata": {},
     "output_type": "execute_result"
    }
   ],
   "source": [
    "poly_valid_res.std()"
   ]
  },
  {
   "cell_type": "code",
   "execution_count": 44,
   "id": "265c2d92",
   "metadata": {
    "cell_style": "center",
    "slideshow": {
     "slide_type": "subslide"
    }
   },
   "outputs": [
    {
     "data": {
      "text/plain": [
       "array([515.13344146, 735.4631128 , 544.7395853 , 535.49808828,\n",
       "       636.6547837 , 586.1732543 , 834.58934134, 547.36017392,\n",
       "       364.95220746, 561.66735358])"
      ]
     },
     "execution_count": 44,
     "metadata": {},
     "output_type": "execute_result"
    }
   ],
   "source": [
    "RMSE_polytest = np.sqrt(np.abs(poly_cv_results['test_neg_mean_squared_error']))\n",
    "RMSE_polytest"
   ]
  },
  {
   "cell_type": "code",
   "execution_count": 45,
   "id": "44768992",
   "metadata": {
    "cell_style": "split",
    "slideshow": {
     "slide_type": "fragment"
    }
   },
   "outputs": [
    {
     "data": {
      "text/plain": [
       "586.2231342140067"
      ]
     },
     "execution_count": 45,
     "metadata": {},
     "output_type": "execute_result"
    }
   ],
   "source": [
    "RMSE_polytest.mean()"
   ]
  },
  {
   "cell_type": "code",
   "execution_count": 46,
   "id": "8e35df06",
   "metadata": {
    "cell_style": "split",
    "slideshow": {
     "slide_type": "fragment"
    }
   },
   "outputs": [
    {
     "data": {
      "text/plain": [
       "127.76866961150323"
      ]
     },
     "execution_count": 46,
     "metadata": {},
     "output_type": "execute_result"
    }
   ],
   "source": [
    "RMSE_polytest.std(ddof=1)"
   ]
  },
  {
   "cell_type": "markdown",
   "id": "1d2e7e28",
   "metadata": {
    "slideshow": {
     "slide_type": "subslide"
    }
   },
   "source": [
    "<center><img src = \"Images/punch_chuck_norris.gif\" width = 400/></center>\n",
    "<center>You just got punched in the face by the bias-variance problem.</center>"
   ]
  },
  {
   "cell_type": "markdown",
   "id": "8b269524",
   "metadata": {
    "cell_style": "center",
    "slideshow": {
     "slide_type": "slide"
    }
   },
   "source": [
    "Fit an overly complex model:\n",
    "- Doesn't generalize well."
   ]
  },
  {
   "cell_type": "markdown",
   "id": "82adb691",
   "metadata": {
    "slideshow": {
     "slide_type": "slide"
    }
   },
   "source": [
    "Let's try regularizing polynomial model:\n",
    "$$ L = |\\textbf{y} - X \\textbf{w}|_2^2 + \\lambda |\\textbf{w}|_2^2 $$"
   ]
  },
  {
   "cell_type": "markdown",
   "id": "ca1c7cf3",
   "metadata": {
    "cell_style": "split",
    "slideshow": {
     "slide_type": "fragment"
    }
   },
   "source": [
    "\n",
    "- reduce the floppiness/complexity of model\n",
    "- but still keep *some* of the complexity added by these polynomial features."
   ]
  },
  {
   "cell_type": "markdown",
   "id": "cbec4ee4",
   "metadata": {
    "cell_style": "split",
    "slideshow": {
     "slide_type": "fragment"
    }
   },
   "source": [
    "- Reduce Var[$\\textbf{w}$].\n",
    "- Get model predictions more representative of population."
   ]
  },
  {
   "cell_type": "code",
   "execution_count": 47,
   "id": "186734db",
   "metadata": {
    "hidden": true,
    "slideshow": {
     "slide_type": "slide"
    }
   },
   "outputs": [],
   "source": [
    "ss = StandardScaler()\n",
    "pf = PolynomialFeatures(degree=3)\n",
    "\n",
    "# You should always be sure to _standardize_ your data before\n",
    "# applying regularization!\n",
    "\n",
    "X_train_processed = ss.fit_transform(pf.fit_transform(X_train_df))\n",
    "X_test_processed = ss.transform(pf.transform(X_test_df))"
   ]
  },
  {
   "cell_type": "markdown",
   "id": "2265328c",
   "metadata": {
    "slideshow": {
     "slide_type": "slide"
    }
   },
   "source": [
    "Absolutely need to standardize/normalize features:"
   ]
  },
  {
   "cell_type": "markdown",
   "id": "29a6111c",
   "metadata": {
    "slideshow": {
     "slide_type": "fragment"
    }
   },
   "source": [
    " $$ L = |\\textbf{y} - X \\textbf{w}|_2^2 + \\lambda |\\textbf{w}|_2^2 $$"
   ]
  },
  {
   "cell_type": "markdown",
   "id": "14509987",
   "metadata": {
    "slideshow": {
     "slide_type": "fragment"
    }
   },
   "source": [
    "L2 regularization cost function makes no sense otherwise. \n",
    "- Weights will be on different scales if features not normalized."
   ]
  },
  {
   "cell_type": "code",
   "execution_count": 48,
   "id": "9240df57",
   "metadata": {
    "cell_style": "center",
    "slideshow": {
     "slide_type": "slide"
    }
   },
   "outputs": [
    {
     "data": {
      "text/html": [
       "<style>#sk-container-id-3 {color: black;background-color: white;}#sk-container-id-3 pre{padding: 0;}#sk-container-id-3 div.sk-toggleable {background-color: white;}#sk-container-id-3 label.sk-toggleable__label {cursor: pointer;display: block;width: 100%;margin-bottom: 0;padding: 0.3em;box-sizing: border-box;text-align: center;}#sk-container-id-3 label.sk-toggleable__label-arrow:before {content: \"▸\";float: left;margin-right: 0.25em;color: #696969;}#sk-container-id-3 label.sk-toggleable__label-arrow:hover:before {color: black;}#sk-container-id-3 div.sk-estimator:hover label.sk-toggleable__label-arrow:before {color: black;}#sk-container-id-3 div.sk-toggleable__content {max-height: 0;max-width: 0;overflow: hidden;text-align: left;background-color: #f0f8ff;}#sk-container-id-3 div.sk-toggleable__content pre {margin: 0.2em;color: black;border-radius: 0.25em;background-color: #f0f8ff;}#sk-container-id-3 input.sk-toggleable__control:checked~div.sk-toggleable__content {max-height: 200px;max-width: 100%;overflow: auto;}#sk-container-id-3 input.sk-toggleable__control:checked~label.sk-toggleable__label-arrow:before {content: \"▾\";}#sk-container-id-3 div.sk-estimator input.sk-toggleable__control:checked~label.sk-toggleable__label {background-color: #d4ebff;}#sk-container-id-3 div.sk-label input.sk-toggleable__control:checked~label.sk-toggleable__label {background-color: #d4ebff;}#sk-container-id-3 input.sk-hidden--visually {border: 0;clip: rect(1px 1px 1px 1px);clip: rect(1px, 1px, 1px, 1px);height: 1px;margin: -1px;overflow: hidden;padding: 0;position: absolute;width: 1px;}#sk-container-id-3 div.sk-estimator {font-family: monospace;background-color: #f0f8ff;border: 1px dotted black;border-radius: 0.25em;box-sizing: border-box;margin-bottom: 0.5em;}#sk-container-id-3 div.sk-estimator:hover {background-color: #d4ebff;}#sk-container-id-3 div.sk-parallel-item::after {content: \"\";width: 100%;border-bottom: 1px solid gray;flex-grow: 1;}#sk-container-id-3 div.sk-label:hover label.sk-toggleable__label {background-color: #d4ebff;}#sk-container-id-3 div.sk-serial::before {content: \"\";position: absolute;border-left: 1px solid gray;box-sizing: border-box;top: 0;bottom: 0;left: 50%;z-index: 0;}#sk-container-id-3 div.sk-serial {display: flex;flex-direction: column;align-items: center;background-color: white;padding-right: 0.2em;padding-left: 0.2em;position: relative;}#sk-container-id-3 div.sk-item {position: relative;z-index: 1;}#sk-container-id-3 div.sk-parallel {display: flex;align-items: stretch;justify-content: center;background-color: white;position: relative;}#sk-container-id-3 div.sk-item::before, #sk-container-id-3 div.sk-parallel-item::before {content: \"\";position: absolute;border-left: 1px solid gray;box-sizing: border-box;top: 0;bottom: 0;left: 50%;z-index: -1;}#sk-container-id-3 div.sk-parallel-item {display: flex;flex-direction: column;z-index: 1;position: relative;background-color: white;}#sk-container-id-3 div.sk-parallel-item:first-child::after {align-self: flex-end;width: 50%;}#sk-container-id-3 div.sk-parallel-item:last-child::after {align-self: flex-start;width: 50%;}#sk-container-id-3 div.sk-parallel-item:only-child::after {width: 0;}#sk-container-id-3 div.sk-dashed-wrapped {border: 1px dashed gray;margin: 0 0.4em 0.5em 0.4em;box-sizing: border-box;padding-bottom: 0.4em;background-color: white;}#sk-container-id-3 div.sk-label label {font-family: monospace;font-weight: bold;display: inline-block;line-height: 1.2em;}#sk-container-id-3 div.sk-label-container {text-align: center;}#sk-container-id-3 div.sk-container {/* jupyter's `normalize.less` sets `[hidden] { display: none; }` but bootstrap.min.css set `[hidden] { display: none !important; }` so we also need the `!important` here to be able to override the default hidden behavior on the sphinx rendered scikit-learn.org. See: https://github.com/scikit-learn/scikit-learn/issues/21755 */display: inline-block !important;position: relative;}#sk-container-id-3 div.sk-text-repr-fallback {display: none;}</style><div id=\"sk-container-id-3\" class=\"sk-top-container\"><div class=\"sk-text-repr-fallback\"><pre>Ridge(alpha=100, random_state=42)</pre><b>In a Jupyter environment, please rerun this cell to show the HTML representation or trust the notebook. <br />On GitHub, the HTML representation is unable to render, please try loading this page with nbviewer.org.</b></div><div class=\"sk-container\" hidden><div class=\"sk-item\"><div class=\"sk-estimator sk-toggleable\"><input class=\"sk-toggleable__control sk-hidden--visually\" id=\"sk-estimator-id-3\" type=\"checkbox\" checked><label for=\"sk-estimator-id-3\" class=\"sk-toggleable__label sk-toggleable__label-arrow\">Ridge</label><div class=\"sk-toggleable__content\"><pre>Ridge(alpha=100, random_state=42)</pre></div></div></div></div></div>"
      ],
      "text/plain": [
       "Ridge(alpha=100, random_state=42)"
      ]
     },
     "execution_count": 48,
     "metadata": {},
     "output_type": "execute_result"
    }
   ],
   "source": [
    "# 'Lambda' is the standard variable for the strength of the\n",
    "# regularization (as in the above formulas), but since lambda\n",
    "# is a key word in Python, these sklearn regularization tools\n",
    "# use 'alpha' instead.\n",
    "\n",
    "rr = Ridge(alpha=100, random_state=42)\n",
    "\n",
    "rr.fit(X_train_processed, y_train)"
   ]
  },
  {
   "cell_type": "code",
   "execution_count": 49,
   "id": "4897904a",
   "metadata": {
    "cell_style": "split",
    "slideshow": {
     "slide_type": "fragment"
    }
   },
   "outputs": [
    {
     "data": {
      "text/plain": [
       "0.8779959660236704"
      ]
     },
     "execution_count": 49,
     "metadata": {},
     "output_type": "execute_result"
    }
   ],
   "source": [
    "rr.score(X_train_processed, y_train)"
   ]
  },
  {
   "cell_type": "code",
   "execution_count": 50,
   "id": "39bc1c8a",
   "metadata": {
    "cell_style": "split",
    "slideshow": {
     "slide_type": "fragment"
    }
   },
   "outputs": [
    {
     "data": {
      "text/plain": [
       "0.8688983108974326"
      ]
     },
     "execution_count": 50,
     "metadata": {},
     "output_type": "execute_result"
    }
   ],
   "source": [
    "lr1.score(X_train_df, y_train)"
   ]
  },
  {
   "cell_type": "markdown",
   "id": "96142a7a",
   "metadata": {
    "slideshow": {
     "slide_type": "slide"
    }
   },
   "source": [
    "Let' s cross validate this."
   ]
  },
  {
   "cell_type": "code",
   "execution_count": 51,
   "id": "fcaf4315",
   "metadata": {
    "slideshow": {
     "slide_type": "fragment"
    }
   },
   "outputs": [],
   "source": [
    "rr_cv_results = cross_validate(\n",
    "                X=X_train_processed, \n",
    "                y=y_train,\n",
    "                estimator=rr, \n",
    "                cv=10,\n",
    "                scoring=('r2', 'neg_mean_squared_error'),\n",
    "                return_train_score=True\n",
    ")"
   ]
  },
  {
   "cell_type": "markdown",
   "id": "3097e9d0",
   "metadata": {
    "slideshow": {
     "slide_type": "slide"
    }
   },
   "source": [
    "Get $R^2$ on train folds of cross validation trials:"
   ]
  },
  {
   "cell_type": "code",
   "execution_count": 52,
   "id": "58f7d719",
   "metadata": {
    "slideshow": {
     "slide_type": "fragment"
    }
   },
   "outputs": [
    {
     "data": {
      "text/plain": [
       "array([0.87977146, 0.87970469, 0.876429  , 0.87642756, 0.88021874,\n",
       "       0.87622491, 0.87579992, 0.88214655, 0.87664117, 0.87828403])"
      ]
     },
     "execution_count": 52,
     "metadata": {},
     "output_type": "execute_result"
    }
   ],
   "source": [
    "rr_cv_results['train_r2']"
   ]
  },
  {
   "cell_type": "markdown",
   "id": "b9891b0b",
   "metadata": {
    "slideshow": {
     "slide_type": "slide"
    }
   },
   "source": [
    "Get $R^2$ on validation folds of cross validation trials:"
   ]
  },
  {
   "cell_type": "code",
   "execution_count": 53,
   "id": "2b16b428",
   "metadata": {
    "slideshow": {
     "slide_type": "subslide"
    }
   },
   "outputs": [
    {
     "data": {
      "text/plain": [
       "array([0.84898184, 0.74427443, 0.88848562, 0.86469707, 0.83703133,\n",
       "       0.8880763 , 0.8812204 , 0.78927846, 0.86461765, 0.86093542])"
      ]
     },
     "execution_count": 53,
     "metadata": {},
     "output_type": "execute_result"
    }
   ],
   "source": [
    "rr_cv_results['test_r2']"
   ]
  },
  {
   "cell_type": "code",
   "execution_count": 54,
   "id": "c018ea9b",
   "metadata": {
    "cell_style": "split",
    "slideshow": {
     "slide_type": "fragment"
    }
   },
   "outputs": [
    {
     "data": {
      "text/plain": [
       "0.8467598511501903"
      ]
     },
     "execution_count": 54,
     "metadata": {},
     "output_type": "execute_result"
    }
   ],
   "source": [
    "rr_cv_results['test_r2'].mean()"
   ]
  },
  {
   "cell_type": "code",
   "execution_count": 55,
   "id": "b0502ae6",
   "metadata": {
    "cell_style": "split",
    "slideshow": {
     "slide_type": "fragment"
    }
   },
   "outputs": [
    {
     "data": {
      "text/plain": [
       "0.04640900821543648"
      ]
     },
     "execution_count": 55,
     "metadata": {},
     "output_type": "execute_result"
    }
   ],
   "source": [
    "rr_cv_results['test_r2'].std(ddof = 1)"
   ]
  },
  {
   "cell_type": "code",
   "execution_count": 56,
   "id": "4f668e8c",
   "metadata": {
    "slideshow": {
     "slide_type": "slide"
    }
   },
   "outputs": [
    {
     "data": {
      "text/plain": [
       "array([310.43489762, 264.18971214, 280.30403816, 343.93776202,\n",
       "       276.50813898, 281.15061239, 305.01962929, 276.58087018,\n",
       "       315.67185431, 317.98016693])"
      ]
     },
     "execution_count": 56,
     "metadata": {},
     "output_type": "execute_result"
    }
   ],
   "source": [
    "RMSE_rrtest = np.sqrt(np.abs(rr_cv_results['test_neg_mean_squared_error']))\n",
    "RMSE_rrtest"
   ]
  },
  {
   "cell_type": "code",
   "execution_count": 57,
   "id": "b6145010",
   "metadata": {
    "cell_style": "split",
    "slideshow": {
     "slide_type": "fragment"
    }
   },
   "outputs": [
    {
     "data": {
      "text/plain": [
       "297.17776820191693"
      ]
     },
     "execution_count": 57,
     "metadata": {},
     "output_type": "execute_result"
    }
   ],
   "source": [
    "RMSE_rrtest.mean()"
   ]
  },
  {
   "cell_type": "code",
   "execution_count": 58,
   "id": "b4796d90",
   "metadata": {
    "cell_style": "split",
    "slideshow": {
     "slide_type": "fragment"
    }
   },
   "outputs": [
    {
     "data": {
      "text/plain": [
       "23.832298280881606"
      ]
     },
     "execution_count": 58,
     "metadata": {},
     "output_type": "execute_result"
    }
   ],
   "source": [
    "RMSE_rrtest.std()"
   ]
  },
  {
   "cell_type": "markdown",
   "id": "77155102",
   "metadata": {
    "cell_style": "split",
    "slideshow": {
     "slide_type": "slide"
    }
   },
   "source": [
    "L2 regularized polynomial model:\n",
    "- A little bit worse than my basic linear model.\n",
    "- Much much better than the un-regularized polynomial model."
   ]
  },
  {
   "cell_type": "markdown",
   "id": "d059e368",
   "metadata": {
    "cell_style": "split",
    "slideshow": {
     "slide_type": "fragment"
    }
   },
   "source": [
    "Could I do better? Possibly.\n",
    "\n",
    "- Tune hyperparameter $\\lambda$."
   ]
  },
  {
   "cell_type": "markdown",
   "id": "5b0fe796",
   "metadata": {
    "cell_style": "split",
    "slideshow": {
     "slide_type": "slide"
    }
   },
   "source": [
    "#### Tuning hyperparameters\n",
    "\n",
    "- Don't know what $\\lambda$ will allow model to perform best on validation sets.\n",
    "- Need to tune this."
   ]
  },
  {
   "cell_type": "markdown",
   "id": "310bb513",
   "metadata": {
    "cell_style": "split",
    "slideshow": {
     "slide_type": "fragment"
    }
   },
   "source": [
    "- Adjust model stiffness/regularization parameter\n",
    "- Assess model performance in validation testing."
   ]
  },
  {
   "cell_type": "markdown",
   "id": "134e0dd0",
   "metadata": {
    "slideshow": {
     "slide_type": "slide"
    }
   },
   "source": [
    "#### The most basic hyperparameter tuning method:"
   ]
  },
  {
   "cell_type": "markdown",
   "id": "b2adceda",
   "metadata": {
    "slideshow": {
     "slide_type": "subslide"
    }
   },
   "source": [
    "Make a loop:"
   ]
  },
  {
   "cell_type": "code",
   "execution_count": 59,
   "id": "2bc79f54",
   "metadata": {
    "cell_style": "center",
    "slideshow": {
     "slide_type": "subslide"
    }
   },
   "outputs": [],
   "source": [
    "alphas = [1e-3, 1e-2, 1e-1, 1, 10, 100, 1e3, 1e4]\n",
    "cv_scores = []\n",
    "\n",
    "for alpha in alphas:\n",
    "    rr = Ridge(alpha=alpha, random_state=42)\n",
    "    cv_loop_results = cross_validate(\n",
    "                X=X_train_processed, \n",
    "                y=y_train,\n",
    "                estimator=rr, \n",
    "                cv=10,\n",
    "                scoring=('neg_mean_squared_error'))\n",
    "    cv_scores.append(np.mean(np.sqrt(np.abs(cv_loop_results['test_score']))))"
   ]
  },
  {
   "cell_type": "code",
   "execution_count": 60,
   "id": "1e0ad821",
   "metadata": {
    "scrolled": true,
    "slideshow": {
     "slide_type": "subslide"
    }
   },
   "outputs": [
    {
     "name": "stderr",
     "output_type": "stream",
     "text": [
      "C:\\Users\\Praveen\\anaconda3\\Lib\\site-packages\\seaborn\\_oldcore.py:1119: FutureWarning: use_inf_as_na option is deprecated and will be removed in a future version. Convert inf values to NaN before operating instead.\n",
      "  with pd.option_context('mode.use_inf_as_na', True):\n",
      "C:\\Users\\Praveen\\anaconda3\\Lib\\site-packages\\seaborn\\_oldcore.py:1119: FutureWarning: use_inf_as_na option is deprecated and will be removed in a future version. Convert inf values to NaN before operating instead.\n",
      "  with pd.option_context('mode.use_inf_as_na', True):\n"
     ]
    },
    {
     "data": {
      "image/png": "[encoded data removed]",
      "text/plain": [
       "<Figure size 640x480 with 1 Axes>"
      ]
     },
     "metadata": {},
     "output_type": "display_data"
    }
   ],
   "source": [
    "fig, ax = plt.subplots()\n",
    "sns.lineplot(x = np.log10(alphas), y = cv_scores, marker = 's', ax = ax)\n",
    "ax.set_xlabel('Log(lambda)')\n",
    "ax.set_ylabel('Mean RMSE')\n",
    "ax.set_title('RMSE averaged on validation folds')\n",
    "plt.show()"
   ]
  },
  {
   "cell_type": "markdown",
   "id": "c176c935",
   "metadata": {
    "slideshow": {
     "slide_type": "fragment"
    }
   },
   "source": [
    "Could fine tune:\n",
    "- But of hyperparameter values tried $\\lambda = 100$ is best."
   ]
  },
  {
   "cell_type": "markdown",
   "id": "24158bcb",
   "metadata": {
    "slideshow": {
     "slide_type": "slide"
    }
   },
   "source": [
    "Now we *finally* report results on the true test set:\n",
    "- We have not fit / optimized on it.\n",
    "- Have not tuned hyperparameters to see how well it performs on validation folds.\n",
    "\n",
    "**Test/hold-out set is our true final gold standard**"
   ]
  },
  {
   "cell_type": "code",
   "execution_count": 61,
   "id": "aba9d2b6",
   "metadata": {
    "slideshow": {
     "slide_type": "subslide"
    }
   },
   "outputs": [
    {
     "data": {
      "text/html": [
       "<style>#sk-container-id-4 {color: black;background-color: white;}#sk-container-id-4 pre{padding: 0;}#sk-container-id-4 div.sk-toggleable {background-color: white;}#sk-container-id-4 label.sk-toggleable__label {cursor: pointer;display: block;width: 100%;margin-bottom: 0;padding: 0.3em;box-sizing: border-box;text-align: center;}#sk-container-id-4 label.sk-toggleable__label-arrow:before {content: \"▸\";float: left;margin-right: 0.25em;color: #696969;}#sk-container-id-4 label.sk-toggleable__label-arrow:hover:before {color: black;}#sk-container-id-4 div.sk-estimator:hover label.sk-toggleable__label-arrow:before {color: black;}#sk-container-id-4 div.sk-toggleable__content {max-height: 0;max-width: 0;overflow: hidden;text-align: left;background-color: #f0f8ff;}#sk-container-id-4 div.sk-toggleable__content pre {margin: 0.2em;color: black;border-radius: 0.25em;background-color: #f0f8ff;}#sk-container-id-4 input.sk-toggleable__control:checked~div.sk-toggleable__content {max-height: 200px;max-width: 100%;overflow: auto;}#sk-container-id-4 input.sk-toggleable__control:checked~label.sk-toggleable__label-arrow:before {content: \"▾\";}#sk-container-id-4 div.sk-estimator input.sk-toggleable__control:checked~label.sk-toggleable__label {background-color: #d4ebff;}#sk-container-id-4 div.sk-label input.sk-toggleable__control:checked~label.sk-toggleable__label {background-color: #d4ebff;}#sk-container-id-4 input.sk-hidden--visually {border: 0;clip: rect(1px 1px 1px 1px);clip: rect(1px, 1px, 1px, 1px);height: 1px;margin: -1px;overflow: hidden;padding: 0;position: absolute;width: 1px;}#sk-container-id-4 div.sk-estimator {font-family: monospace;background-color: #f0f8ff;border: 1px dotted black;border-radius: 0.25em;box-sizing: border-box;margin-bottom: 0.5em;}#sk-container-id-4 div.sk-estimator:hover {background-color: #d4ebff;}#sk-container-id-4 div.sk-parallel-item::after {content: \"\";width: 100%;border-bottom: 1px solid gray;flex-grow: 1;}#sk-container-id-4 div.sk-label:hover label.sk-toggleable__label {background-color: #d4ebff;}#sk-container-id-4 div.sk-serial::before {content: \"\";position: absolute;border-left: 1px solid gray;box-sizing: border-box;top: 0;bottom: 0;left: 50%;z-index: 0;}#sk-container-id-4 div.sk-serial {display: flex;flex-direction: column;align-items: center;background-color: white;padding-right: 0.2em;padding-left: 0.2em;position: relative;}#sk-container-id-4 div.sk-item {position: relative;z-index: 1;}#sk-container-id-4 div.sk-parallel {display: flex;align-items: stretch;justify-content: center;background-color: white;position: relative;}#sk-container-id-4 div.sk-item::before, #sk-container-id-4 div.sk-parallel-item::before {content: \"\";position: absolute;border-left: 1px solid gray;box-sizing: border-box;top: 0;bottom: 0;left: 50%;z-index: -1;}#sk-container-id-4 div.sk-parallel-item {display: flex;flex-direction: column;z-index: 1;position: relative;background-color: white;}#sk-container-id-4 div.sk-parallel-item:first-child::after {align-self: flex-end;width: 50%;}#sk-container-id-4 div.sk-parallel-item:last-child::after {align-self: flex-start;width: 50%;}#sk-container-id-4 div.sk-parallel-item:only-child::after {width: 0;}#sk-container-id-4 div.sk-dashed-wrapped {border: 1px dashed gray;margin: 0 0.4em 0.5em 0.4em;box-sizing: border-box;padding-bottom: 0.4em;background-color: white;}#sk-container-id-4 div.sk-label label {font-family: monospace;font-weight: bold;display: inline-block;line-height: 1.2em;}#sk-container-id-4 div.sk-label-container {text-align: center;}#sk-container-id-4 div.sk-container {/* jupyter's `normalize.less` sets `[hidden] { display: none; }` but bootstrap.min.css set `[hidden] { display: none !important; }` so we also need the `!important` here to be able to override the default hidden behavior on the sphinx rendered scikit-learn.org. See: https://github.com/scikit-learn/scikit-learn/issues/21755 */display: inline-block !important;position: relative;}#sk-container-id-4 div.sk-text-repr-fallback {display: none;}</style><div id=\"sk-container-id-4\" class=\"sk-top-container\"><div class=\"sk-text-repr-fallback\"><pre>Ridge(alpha=100, random_state=42)</pre><b>In a Jupyter environment, please rerun this cell to show the HTML representation or trust the notebook. <br />On GitHub, the HTML representation is unable to render, please try loading this page with nbviewer.org.</b></div><div class=\"sk-container\" hidden><div class=\"sk-item\"><div class=\"sk-estimator sk-toggleable\"><input class=\"sk-toggleable__control sk-hidden--visually\" id=\"sk-estimator-id-4\" type=\"checkbox\" checked><label for=\"sk-estimator-id-4\" class=\"sk-toggleable__label sk-toggleable__label-arrow\">Ridge</label><div class=\"sk-toggleable__content\"><pre>Ridge(alpha=100, random_state=42)</pre></div></div></div></div></div>"
      ],
      "text/plain": [
       "Ridge(alpha=100, random_state=42)"
      ]
     },
     "execution_count": 61,
     "metadata": {},
     "output_type": "execute_result"
    }
   ],
   "source": [
    "rr = Ridge(alpha = 100, random_state = 42)\n",
    "rr.fit(X_train_processed, y_train)"
   ]
  },
  {
   "cell_type": "code",
   "execution_count": 62,
   "id": "a5ea6a91",
   "metadata": {
    "cell_style": "center",
    "slideshow": {
     "slide_type": "fragment"
    }
   },
   "outputs": [],
   "source": [
    "y_pred = rr.predict(X_test_processed)"
   ]
  },
  {
   "cell_type": "code",
   "execution_count": 63,
   "id": "c3fac083",
   "metadata": {
    "cell_style": "split",
    "slideshow": {
     "slide_type": "subslide"
    }
   },
   "outputs": [
    {
     "data": {
      "text/plain": [
       "251.33583285719834"
      ]
     },
     "execution_count": 63,
     "metadata": {},
     "output_type": "execute_result"
    }
   ],
   "source": [
    "from sklearn.metrics import mean_squared_error\n",
    "ridge_RMSE_holdout = np.sqrt(mean_squared_error(y_pred, y_test))\n",
    "ridge_RMSE_holdout"
   ]
  },
  {
   "cell_type": "markdown",
   "id": "ff7444db",
   "metadata": {
    "cell_style": "split",
    "slideshow": {
     "slide_type": "fragment"
    }
   },
   "source": [
    "Given the scale of the penguin body mass (g): this is good."
   ]
  },
  {
   "cell_type": "code",
   "execution_count": 64,
   "id": "95174519",
   "metadata": {
    "cell_style": "split",
    "slideshow": {
     "slide_type": "fragment"
    }
   },
   "outputs": [
    {
     "name": "stderr",
     "output_type": "stream",
     "text": [
      "C:\\Users\\Praveen\\anaconda3\\Lib\\site-packages\\seaborn\\_oldcore.py:1119: FutureWarning: use_inf_as_na option is deprecated and will be removed in a future version. Convert inf values to NaN before operating instead.\n",
      "  with pd.option_context('mode.use_inf_as_na', True):\n"
     ]
    },
    {
     "data": {
      "text/plain": [
       "<Axes: xlabel='body_mass_g', ylabel='Count'>"
      ]
     },
     "execution_count": 64,
     "metadata": {},
     "output_type": "execute_result"
    },
    {
     "data": {
      "image/png": "[encoded data removed]",
      "text/plain": [
       "<Figure size 640x480 with 1 Axes>"
      ]
     },
     "metadata": {},
     "output_type": "display_data"
    }
   ],
   "source": [
    "sns.histplot(y)"
   ]
  },
  {
   "cell_type": "markdown",
   "id": "09604ad8",
   "metadata": {
    "slideshow": {
     "slide_type": "slide"
    }
   },
   "source": [
    "#### Takeaways of what we just did"
   ]
  },
  {
   "cell_type": "markdown",
   "id": "fc7030d2",
   "metadata": {
    "slideshow": {
     "slide_type": "subslide"
    }
   },
   "source": [
    "- Polynomial model: poor prediction performance.\n",
    "- L2 regularized the polynomial regression model (Ridge regression) + tuning\n",
    "- **Much** better test performance than unregularized polynomial model."
   ]
  },
  {
   "cell_type": "markdown",
   "id": "e36b7f5b",
   "metadata": {
    "cell_style": "split",
    "slideshow": {
     "slide_type": "fragment"
    }
   },
   "source": [
    "But:\n",
    "    \n",
    "- Our simple linear model with no polynomial worked well.\n",
    "- Almost as well as polynomial features\n",
    "- Think carefully before adding model complexity."
   ]
  },
  {
   "cell_type": "markdown",
   "id": "adb74a08",
   "metadata": {
    "cell_style": "split",
    "slideshow": {
     "slide_type": "fragment"
    }
   },
   "source": [
    "A simple model with less number of good quality predictive features may work as well if not better."
   ]
  },
  {
   "cell_type": "markdown",
   "id": "7ad4e40f",
   "metadata": {
    "slideshow": {
     "slide_type": "subslide"
    }
   },
   "source": [
    "Logical extension:\n",
    "- Features that are correlated but don't want to throw them away.\n",
    "- L2 regularized linear model + tuning:\n",
    "    - don't throw out features.\n",
    "    - get better test performance than OLS by reducing weight variance.\n"
   ]
  },
  {
   "cell_type": "markdown",
   "id": "0b8d5e7d",
   "metadata": {
    "slideshow": {
     "slide_type": "subslide"
    }
   },
   "source": [
    "Sometimes though: throwing away features might work better:\n",
    "- Learn good features only with high predictive power\n",
    "- Chuck the rest."
   ]
  },
  {
   "cell_type": "markdown",
   "id": "8f92a67c",
   "metadata": {
    "slideshow": {
     "slide_type": "slide"
    }
   },
   "source": [
    "#### L1 Regularization (LASSO)"
   ]
  },
  {
   "cell_type": "markdown",
   "id": "b7a2b5f4",
   "metadata": {
    "slideshow": {
     "slide_type": "subslide"
    }
   },
   "source": [
    "$$ L = |\\textbf{y} - X \\textbf{w}|_2^2 + \\lambda |\\textbf{w}|_1 $$\n",
    "\n",
    "with $|\\textbf{w}|_1 = |w_1| + |w_2| + ... + |w_m|$ as sum of absolute magnitude of the feature weights."
   ]
  },
  {
   "cell_type": "markdown",
   "id": "a2c66c03",
   "metadata": {
    "slideshow": {
     "slide_type": "slide"
    }
   },
   "source": [
    "Taxi cab vs Euclidean distance:"
   ]
  },
  {
   "cell_type": "markdown",
   "id": "f2d12cd8",
   "metadata": {
    "slideshow": {
     "slide_type": "subslide"
    }
   },
   "source": [
    "<img src = \"Images/metrics.png\" width = 450/>"
   ]
  },
  {
   "cell_type": "markdown",
   "id": "555609e1",
   "metadata": {
    "cell_style": "split",
    "slideshow": {
     "slide_type": "slide"
    }
   },
   "source": [
    "Circle in terms of L2 vs L1 distance:"
   ]
  },
  {
   "cell_type": "markdown",
   "id": "d0bb0240",
   "metadata": {
    "cell_style": "split",
    "slideshow": {
     "slide_type": "fragment"
    }
   },
   "source": [
    "\"Circle\" in L1:\n",
    "<img src = \"Images/taxcabgeometry.jpg\" width = 400/>"
   ]
  },
  {
   "cell_type": "markdown",
   "id": "240fcdfd",
   "metadata": {
    "cell_style": "split",
    "slideshow": {
     "slide_type": "slide"
    }
   },
   "source": [
    "General $L^p$ norm:\n",
    "\n",
    "$$ |\\textbf{w}|_P =  \\sqrt[p]{|w_1|^p + |w_2|^p + ... + |w_m|^p} $$"
   ]
  },
  {
   "cell_type": "markdown",
   "id": "75cb0914",
   "metadata": {
    "cell_style": "split",
    "slideshow": {
     "slide_type": "fragment"
    }
   },
   "source": [
    "\"Circles\" for different metrics\n",
    "\n",
    "<img src = \"Images/circles.png\" width = 400/>"
   ]
  },
  {
   "cell_type": "markdown",
   "id": "c9c03c0a",
   "metadata": {
    "slideshow": {
     "slide_type": "slide"
    }
   },
   "source": [
    "Why use the L1 magnitude $|\\textbf{w}|_1$ for regularization?"
   ]
  },
  {
   "cell_type": "markdown",
   "id": "9cd08c7c",
   "metadata": {
    "slideshow": {
     "slide_type": "subslide"
    }
   },
   "source": [
    "LASSO encourages model weight sparsity: \n",
    "- prefers to drive weights $w_i$ for features with little predictive power to 0."
   ]
  },
  {
   "cell_type": "markdown",
   "id": "743c89e8",
   "metadata": {
    "slideshow": {
     "slide_type": "fragment"
    }
   },
   "source": [
    "<img src = \"Images/different_metric_regularization.png\" width = 600 />"
   ]
  },
  {
   "cell_type": "markdown",
   "id": "4bc13e5e",
   "metadata": {
    "slideshow": {
     "slide_type": "slide"
    }
   },
   "source": [
    "Perform LASSO regression with scikit-learn:"
   ]
  },
  {
   "cell_type": "markdown",
   "id": "65397bca",
   "metadata": {
    "slideshow": {
     "slide_type": "slide"
    }
   },
   "source": [
    "with a general cost function:"
   ]
  },
  {
   "cell_type": "code",
   "execution_count": 65,
   "id": "9b05e734",
   "metadata": {
    "slideshow": {
     "slide_type": "fragment"
    }
   },
   "outputs": [],
   "source": [
    "from sklearn.linear_model import Lasso"
   ]
  },
  {
   "cell_type": "markdown",
   "id": "f9719204",
   "metadata": {
    "slideshow": {
     "slide_type": "slide"
    }
   },
   "source": [
    "Find the best LASSO model: tune regularization hyperparameter."
   ]
  },
  {
   "cell_type": "code",
   "execution_count": 66,
   "id": "d8b9aa65",
   "metadata": {
    "slideshow": {
     "slide_type": "subslide"
    }
   },
   "outputs": [],
   "source": [
    "alphas = [1, 10, 100, 1e3, 1e4]\n",
    "cv_lasso_scores = []\n",
    "\n",
    "for alpha in alphas:\n",
    "    lasso = Lasso(alpha=alpha, random_state=42, max_iter = 10000)\n",
    "    cv_loop_results = cross_validate(\n",
    "                X=X_train_processed, \n",
    "                y=y_train,\n",
    "                estimator=lasso, \n",
    "                cv=10,\n",
    "                scoring=('neg_mean_squared_error'))\n",
    "    cv_lasso_scores.append(np.mean(np.sqrt(np.abs(cv_loop_results['test_score']))))"
   ]
  },
  {
   "cell_type": "code",
   "execution_count": 67,
   "id": "87ac7411",
   "metadata": {
    "cell_style": "split",
    "slideshow": {
     "slide_type": "fragment"
    }
   },
   "outputs": [
    {
     "data": {
      "text/plain": [
       "[1, 10, 100, 1000.0, 10000.0]"
      ]
     },
     "execution_count": 67,
     "metadata": {},
     "output_type": "execute_result"
    }
   ],
   "source": [
    "alphas"
   ]
  },
  {
   "cell_type": "code",
   "execution_count": 68,
   "id": "2b8dab90",
   "metadata": {
    "cell_style": "split",
    "slideshow": {
     "slide_type": "fragment"
    }
   },
   "outputs": [
    {
     "data": {
      "text/plain": [
       "[298.5755245979475,\n",
       " 293.52749450324234,\n",
       " 331.897380822252,\n",
       " 811.3632576452586,\n",
       " 811.3632576452586]"
      ]
     },
     "execution_count": 68,
     "metadata": {},
     "output_type": "execute_result"
    }
   ],
   "source": [
    "cv_lasso_scores"
   ]
  },
  {
   "cell_type": "markdown",
   "id": "02e4d7a9",
   "metadata": {
    "slideshow": {
     "slide_type": "slide"
    }
   },
   "source": [
    "The best LASSO model:"
   ]
  },
  {
   "cell_type": "code",
   "execution_count": 69,
   "id": "342e20bc",
   "metadata": {
    "slideshow": {
     "slide_type": "subslide"
    }
   },
   "outputs": [],
   "source": [
    "lasso_opt = Lasso(alpha=10, random_state=42,  max_iter = 100000)\n",
    "lasso_opt.fit(X_train_processed, y_train)\n",
    "\n",
    "y_pred = lasso_opt.predict(X_test_processed) # get final test prediction"
   ]
  },
  {
   "cell_type": "code",
   "execution_count": 70,
   "id": "f131c4a9",
   "metadata": {
    "cell_style": "split",
    "slideshow": {
     "slide_type": "fragment"
    }
   },
   "outputs": [
    {
     "data": {
      "text/plain": [
       "251.40153687338284"
      ]
     },
     "execution_count": 70,
     "metadata": {},
     "output_type": "execute_result"
    }
   ],
   "source": [
    "lasso_RMSE = np.sqrt(mean_squared_error(y_pred, y_test))\n",
    "lasso_RMSE"
   ]
  },
  {
   "cell_type": "code",
   "execution_count": 71,
   "id": "8832e94a",
   "metadata": {
    "cell_style": "split",
    "slideshow": {
     "slide_type": "fragment"
    }
   },
   "outputs": [
    {
     "data": {
      "text/plain": [
       "251.33583285719834"
      ]
     },
     "execution_count": 71,
     "metadata": {},
     "output_type": "execute_result"
    }
   ],
   "source": [
    "ridge_RMSE_holdout"
   ]
  },
  {
   "cell_type": "markdown",
   "id": "d961f1e9",
   "metadata": {
    "slideshow": {
     "slide_type": "slide"
    }
   },
   "source": [
    "Comparable between ridge and LASSO. LASSO tends to have higher weight variance than ridge.\n",
    "\n",
    "But what's the real difference?"
   ]
  },
  {
   "cell_type": "code",
   "execution_count": 72,
   "id": "18b019d5",
   "metadata": {
    "cell_style": "center",
    "scrolled": false,
    "slideshow": {
     "slide_type": "subslide"
    }
   },
   "outputs": [
    {
     "name": "stdout",
     "output_type": "stream",
     "text": [
      "[  0.          17.44523238  -4.45055857  36.05263908  -1.66234612\n",
      "  31.44972239  -2.85831978   0.3346665   17.88003171  12.58997788\n",
      "   8.99929726  24.59505937  -3.90403185  28.15157126  -3.89613504\n",
      "  -0.70926875  11.71712564  -3.16833619  19.61017631  -0.74478461\n",
      "  30.49170879  -1.14946962   0.10962052  16.80368655  34.67414145\n",
      "  -0.10564885  30.25296601  -1.5367463   -1.62213062  17.18467182\n",
      "  -1.66234612   0.          -1.66234612   0.         -17.81397136\n",
      "  31.44972239   0.           0.           2.55795215  -2.85831978\n",
      "   0.           6.11383003   0.3346665   -1.78809681  17.88003171\n",
      "   7.59528742   8.15118216  16.93640922  -5.98727772  24.26504558\n",
      "  -5.40816162  -1.65687232   5.28712646   3.99606686  20.21252675\n",
      "  -2.89402422  26.64129127  -2.35078538  -0.91777895  10.89502043\n",
      "  26.44390416  -2.09271358  26.6824834   -2.30082152  -2.6819083\n",
      "  11.0149719   -3.90403185   0.          -3.90403185   0.\n",
      " -17.69866424  28.15157126   0.           0.           0.16082146\n",
      "  -3.89613504   0.           0.77788261  -0.70926875  -1.77334928\n",
      "  11.71712564  -1.86901552   7.83274073   0.09919412  29.06572286\n",
      "   0.06127781  -0.24889596  15.65732248  34.70547165   1.03779455\n",
      "  29.04354188   0.28611923  -1.78561519  16.66386623  -0.74478461\n",
      "   0.          -0.74478461   0.         -17.16161012  30.49170879\n",
      "   0.           0.           0.67111465  -1.14946962   0.\n",
      "   4.34239862   0.10962052  -2.49929727  16.80368655  33.16348513\n",
      "   1.57589167  28.92712506  -0.06106641  -3.61183891  15.99379234\n",
      "  -0.10564885   0.          -0.10564885   0.         -14.15202553\n",
      "  30.25296601   0.           0.           0.64410567  -1.5367463\n",
      "   0.           7.96742208  -1.62213062  -3.17741221  17.18467182\n",
      "  -1.66234612   0.          -1.66234612   0.         -17.81397136\n",
      "   0.           0.           0.           0.          -1.66234612\n",
      "   0.         -17.81397136   0.           0.         -17.81397136\n",
      "  31.44972239   0.           0.           2.55795215   0.\n",
      "   0.           0.           0.           0.           2.55795215\n",
      "  -2.85831978   0.           6.11383003   0.           0.\n",
      "   6.11383003   0.3346665   -1.78809681  -1.78809681  17.88003171]\n"
     ]
    }
   ],
   "source": [
    "print(rr.coef_)"
   ]
  },
  {
   "cell_type": "code",
   "execution_count": 73,
   "id": "c9f96d93",
   "metadata": {
    "slideshow": {
     "slide_type": "subslide"
    }
   },
   "outputs": [
    {
     "data": {
      "text/plain": [
       "array([ 0.00000000e+00,  0.00000000e+00, -0.00000000e+00,  1.77927493e+01,\n",
       "       -0.00000000e+00,  2.25018309e+02, -0.00000000e+00, -0.00000000e+00,\n",
       "        1.98341720e+02,  0.00000000e+00,  0.00000000e+00,  0.00000000e+00,\n",
       "       -0.00000000e+00,  1.08904187e+02, -0.00000000e+00, -0.00000000e+00,\n",
       "        0.00000000e+00, -0.00000000e+00,  0.00000000e+00, -0.00000000e+00,\n",
       "        1.29622330e+02, -0.00000000e+00, -0.00000000e+00,  0.00000000e+00,\n",
       "        0.00000000e+00, -0.00000000e+00,  0.00000000e+00, -0.00000000e+00,\n",
       "       -0.00000000e+00,  0.00000000e+00, -0.00000000e+00,  0.00000000e+00,\n",
       "       -0.00000000e+00,  0.00000000e+00, -3.26634037e+01,  0.00000000e+00,\n",
       "        0.00000000e+00,  0.00000000e+00,  0.00000000e+00, -0.00000000e+00,\n",
       "        0.00000000e+00,  0.00000000e+00, -0.00000000e+00, -0.00000000e+00,\n",
       "        2.59466258e+01,  0.00000000e+00,  0.00000000e+00,  0.00000000e+00,\n",
       "       -0.00000000e+00,  0.00000000e+00, -0.00000000e+00, -0.00000000e+00,\n",
       "        0.00000000e+00,  0.00000000e+00,  0.00000000e+00, -0.00000000e+00,\n",
       "        0.00000000e+00, -0.00000000e+00, -0.00000000e+00,  0.00000000e+00,\n",
       "        1.24791213e+02, -0.00000000e+00,  0.00000000e+00, -0.00000000e+00,\n",
       "       -0.00000000e+00,  0.00000000e+00, -0.00000000e+00,  0.00000000e+00,\n",
       "       -0.00000000e+00,  0.00000000e+00, -0.00000000e+00,  0.00000000e+00,\n",
       "        0.00000000e+00,  0.00000000e+00,  0.00000000e+00, -0.00000000e+00,\n",
       "        0.00000000e+00,  0.00000000e+00, -0.00000000e+00, -0.00000000e+00,\n",
       "        0.00000000e+00, -0.00000000e+00,  0.00000000e+00, -0.00000000e+00,\n",
       "        0.00000000e+00, -0.00000000e+00, -0.00000000e+00,  0.00000000e+00,\n",
       "        1.21569367e+02, -0.00000000e+00,  0.00000000e+00, -0.00000000e+00,\n",
       "       -0.00000000e+00,  0.00000000e+00, -0.00000000e+00,  0.00000000e+00,\n",
       "       -0.00000000e+00,  0.00000000e+00, -0.00000000e+00,  3.35119227e+01,\n",
       "        0.00000000e+00,  0.00000000e+00,  0.00000000e+00, -0.00000000e+00,\n",
       "        0.00000000e+00,  0.00000000e+00, -0.00000000e+00, -0.00000000e+00,\n",
       "        0.00000000e+00,  0.00000000e+00, -0.00000000e+00,  0.00000000e+00,\n",
       "       -0.00000000e+00, -0.00000000e+00,  0.00000000e+00, -0.00000000e+00,\n",
       "        0.00000000e+00, -0.00000000e+00,  0.00000000e+00, -0.00000000e+00,\n",
       "        0.00000000e+00,  0.00000000e+00,  0.00000000e+00,  0.00000000e+00,\n",
       "       -0.00000000e+00,  0.00000000e+00,  0.00000000e+00, -0.00000000e+00,\n",
       "       -1.21200936e+01,  0.00000000e+00, -0.00000000e+00,  0.00000000e+00,\n",
       "       -0.00000000e+00,  0.00000000e+00, -6.77961753e+01,  0.00000000e+00,\n",
       "        0.00000000e+00,  0.00000000e+00,  0.00000000e+00, -0.00000000e+00,\n",
       "        0.00000000e+00, -1.16809801e-11,  0.00000000e+00,  0.00000000e+00,\n",
       "       -0.00000000e+00,  0.00000000e+00,  0.00000000e+00,  0.00000000e+00,\n",
       "        0.00000000e+00,  0.00000000e+00,  0.00000000e+00,  0.00000000e+00,\n",
       "        0.00000000e+00,  0.00000000e+00,  0.00000000e+00, -0.00000000e+00,\n",
       "        0.00000000e+00,  0.00000000e+00,  0.00000000e+00,  0.00000000e+00,\n",
       "        0.00000000e+00, -0.00000000e+00, -0.00000000e+00, -0.00000000e+00,\n",
       "        1.30745240e+00])"
      ]
     },
     "execution_count": 73,
     "metadata": {},
     "output_type": "execute_result"
    }
   ],
   "source": [
    "lasso_opt.coef_"
   ]
  },
  {
   "cell_type": "markdown",
   "id": "f16e39e3",
   "metadata": {
    "cell_style": "split",
    "slideshow": {
     "slide_type": "slide"
    }
   },
   "source": [
    "#### Ridge \n",
    "When we introduce many features that:\n",
    "- we believe may all have some predictive power.\n",
    "- want to heavily penalize weight variance"
   ]
  },
  {
   "cell_type": "markdown",
   "id": "5fbc2f51",
   "metadata": {
    "cell_style": "split",
    "slideshow": {
     "slide_type": "fragment"
    }
   },
   "source": [
    "#### LASSO"
   ]
  },
  {
   "cell_type": "markdown",
   "id": "46b47f3a",
   "metadata": {
    "cell_style": "split",
    "slideshow": {
     "slide_type": "fragment"
    }
   },
   "source": [
    "We have dataset with many highly correlated features:\n",
    "- believe many are not actually adding to predictive power.\n",
    "- willing to cut away marginally unimportant features.\n"
   ]
  },
  {
   "cell_type": "markdown",
   "id": "eab46955",
   "metadata": {
    "slideshow": {
     "slide_type": "slide"
    }
   },
   "source": [
    "Which is better:\n",
    "- depends on dataset\n",
    "- modeling goal "
   ]
  }
 ],
 "metadata": {
  "celltoolbar": "Slideshow",
  "kernelspec": {
   "display_name": "Python 3 (ipykernel)",
   "language": "python",
   "name": "python3"
  },
  "language_info": {
   "codemirror_mode": {
    "name": "ipython",
    "version": 3
   },
   "file_extension": ".py",
   "mimetype": "text/x-python",
   "name": "python",
   "nbconvert_exporter": "python",
   "pygments_lexer": "ipython3",
   "version": "3.11.7"
  }
 },
 "nbformat": 4,
 "nbformat_minor": 5
}
