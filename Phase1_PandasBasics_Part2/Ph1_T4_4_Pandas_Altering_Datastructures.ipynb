{
 "cells": [
  {
   "cell_type": "markdown",
   "id": "f928ad70",
   "metadata": {
    "slideshow": {
     "slide_type": "slide"
    }
   },
   "source": [
    "<div style=\"color:white;\n",
    "           display:fill;\n",
    "           border-radius:5px;\n",
    "           background-color:#5642C5;\n",
    "           font-size:200%;\n",
    "           font-family:Arial;letter-spacing:0.5px\">\n",
    "\n",
    "<p width = 20%, style=\"padding: 10px;\n",
    "              color:white;\">\n",
    "Pandas: Basic Manipulation of Series/DataFrames\n",
    "</p>\n",
    "</div>\n",
    "\n",
    "Data Science Cohort Live NYC Aug 2024\n",
    "<p>Phase 1</p>\n",
    "<br>\n",
    "<br>\n",
    "\n",
    "<div align = \"right\">\n",
    "<img src=\"Images/flatiron-school-logo.png\" align = \"right\" width=\"200\"/>\n",
    "</div>\n",
    "    "
   ]
  },
  {
   "cell_type": "markdown",
   "id": "91d9ebda",
   "metadata": {
    "slideshow": {
     "slide_type": "slide"
    }
   },
   "source": [
    "#### pandas Series and DataFrames: changing attributes and values\n",
    "- Cleaning and altering column/index names\n",
    "- Creating and removing columns/rows\n",
    "- Altering values \n",
    "- Changing datatypes\n"
   ]
  },
  {
   "cell_type": "markdown",
   "id": "aa2c9855",
   "metadata": {
    "slideshow": {
     "slide_type": "slide"
    }
   },
   "source": [
    "Import our libraries:"
   ]
  },
  {
   "cell_type": "code",
   "execution_count": 1,
   "id": "788f5ba6",
   "metadata": {
    "slideshow": {
     "slide_type": "-"
    }
   },
   "outputs": [],
   "source": [
    "import numpy as np\n",
    "import pandas as pd"
   ]
  },
  {
   "cell_type": "markdown",
   "id": "590a55b5",
   "metadata": {
    "slideshow": {
     "slide_type": "slide"
    }
   },
   "source": [
    "Load in our trusty cereal dataset again:"
   ]
  },
  {
   "cell_type": "code",
   "execution_count": 12,
   "id": "8b98315e",
   "metadata": {
    "slideshow": {
     "slide_type": "-"
    }
   },
   "outputs": [
    {
     "data": {
      "text/plain": [
       "Index(['name', 'mfr', 'type', 'calories', 'protein', 'fat', 'sodium', 'fiber',\n",
       "       'carbo', 'sugars', 'potass', 'vitamins', 'shelf', 'weight', 'cups',\n",
       "       'rating'],\n",
       "      dtype='object')"
      ]
     },
     "execution_count": 12,
     "metadata": {},
     "output_type": "execute_result"
    }
   ],
   "source": [
    "cereal_df = pd.read_csv('Data/cereal.csv')\n",
    "cereal_df.columns "
   ]
  },
  {
   "cell_type": "markdown",
   "id": "b9c0688c",
   "metadata": {
    "slideshow": {
     "slide_type": "fragment"
    }
   },
   "source": [
    "Want to rename some of these columns."
   ]
  },
  {
   "cell_type": "markdown",
   "id": "7f24c0c6",
   "metadata": {
    "slideshow": {
     "slide_type": "slide"
    }
   },
   "source": [
    "#### Renaming columns \n",
    "\n",
    "- DataFrame.rename(columns = ___)\n",
    "- columns takes in a dict that maps column names."
   ]
  },
  {
   "cell_type": "code",
   "execution_count": 3,
   "id": "22144711",
   "metadata": {
    "slideshow": {
     "slide_type": "subslide"
    }
   },
   "outputs": [
    {
     "data": {
      "text/html": [
       "<div>\n",
       "<style scoped>\n",
       "    .dataframe tbody tr th:only-of-type {\n",
       "        vertical-align: middle;\n",
       "    }\n",
       "\n",
       "    .dataframe tbody tr th {\n",
       "        vertical-align: top;\n",
       "    }\n",
       "\n",
       "    .dataframe thead th {\n",
       "        text-align: right;\n",
       "    }\n",
       "</style>\n",
       "<table border=\"1\" class=\"dataframe\">\n",
       "  <thead>\n",
       "    <tr style=\"text-align: right;\">\n",
       "      <th></th>\n",
       "      <th>name</th>\n",
       "      <th>manufacturer</th>\n",
       "      <th>type</th>\n",
       "      <th>calories</th>\n",
       "      <th>protein</th>\n",
       "      <th>fat</th>\n",
       "      <th>sodium</th>\n",
       "      <th>fiber</th>\n",
       "      <th>carbohydate</th>\n",
       "      <th>sugars</th>\n",
       "      <th>potassium</th>\n",
       "      <th>vitamins</th>\n",
       "      <th>shelf</th>\n",
       "      <th>weight</th>\n",
       "      <th>cups</th>\n",
       "      <th>rating</th>\n",
       "    </tr>\n",
       "  </thead>\n",
       "  <tbody>\n",
       "    <tr>\n",
       "      <th>0</th>\n",
       "      <td>100% Bran</td>\n",
       "      <td>N</td>\n",
       "      <td>C</td>\n",
       "      <td>70</td>\n",
       "      <td>4</td>\n",
       "      <td>1</td>\n",
       "      <td>130</td>\n",
       "      <td>10.0</td>\n",
       "      <td>5.0</td>\n",
       "      <td>6</td>\n",
       "      <td>280</td>\n",
       "      <td>25</td>\n",
       "      <td>3</td>\n",
       "      <td>1.0</td>\n",
       "      <td>0.33</td>\n",
       "      <td>68.402973</td>\n",
       "    </tr>\n",
       "    <tr>\n",
       "      <th>1</th>\n",
       "      <td>100% Natural Bran</td>\n",
       "      <td>Q</td>\n",
       "      <td>C</td>\n",
       "      <td>120</td>\n",
       "      <td>3</td>\n",
       "      <td>5</td>\n",
       "      <td>15</td>\n",
       "      <td>2.0</td>\n",
       "      <td>8.0</td>\n",
       "      <td>8</td>\n",
       "      <td>135</td>\n",
       "      <td>0</td>\n",
       "      <td>3</td>\n",
       "      <td>1.0</td>\n",
       "      <td>1.00</td>\n",
       "      <td>33.983679</td>\n",
       "    </tr>\n",
       "    <tr>\n",
       "      <th>2</th>\n",
       "      <td>All-Bran</td>\n",
       "      <td>K</td>\n",
       "      <td>C</td>\n",
       "      <td>70</td>\n",
       "      <td>4</td>\n",
       "      <td>1</td>\n",
       "      <td>260</td>\n",
       "      <td>9.0</td>\n",
       "      <td>7.0</td>\n",
       "      <td>5</td>\n",
       "      <td>320</td>\n",
       "      <td>25</td>\n",
       "      <td>3</td>\n",
       "      <td>1.0</td>\n",
       "      <td>0.33</td>\n",
       "      <td>59.425505</td>\n",
       "    </tr>\n",
       "    <tr>\n",
       "      <th>3</th>\n",
       "      <td>All-Bran with Extra Fiber</td>\n",
       "      <td>K</td>\n",
       "      <td>C</td>\n",
       "      <td>50</td>\n",
       "      <td>4</td>\n",
       "      <td>0</td>\n",
       "      <td>140</td>\n",
       "      <td>14.0</td>\n",
       "      <td>8.0</td>\n",
       "      <td>0</td>\n",
       "      <td>330</td>\n",
       "      <td>25</td>\n",
       "      <td>3</td>\n",
       "      <td>1.0</td>\n",
       "      <td>0.50</td>\n",
       "      <td>93.704912</td>\n",
       "    </tr>\n",
       "    <tr>\n",
       "      <th>4</th>\n",
       "      <td>Almond Delight</td>\n",
       "      <td>R</td>\n",
       "      <td>C</td>\n",
       "      <td>110</td>\n",
       "      <td>2</td>\n",
       "      <td>2</td>\n",
       "      <td>200</td>\n",
       "      <td>1.0</td>\n",
       "      <td>14.0</td>\n",
       "      <td>8</td>\n",
       "      <td>-1</td>\n",
       "      <td>25</td>\n",
       "      <td>3</td>\n",
       "      <td>1.0</td>\n",
       "      <td>0.75</td>\n",
       "      <td>34.384843</td>\n",
       "    </tr>\n",
       "    <tr>\n",
       "      <th>...</th>\n",
       "      <td>...</td>\n",
       "      <td>...</td>\n",
       "      <td>...</td>\n",
       "      <td>...</td>\n",
       "      <td>...</td>\n",
       "      <td>...</td>\n",
       "      <td>...</td>\n",
       "      <td>...</td>\n",
       "      <td>...</td>\n",
       "      <td>...</td>\n",
       "      <td>...</td>\n",
       "      <td>...</td>\n",
       "      <td>...</td>\n",
       "      <td>...</td>\n",
       "      <td>...</td>\n",
       "      <td>...</td>\n",
       "    </tr>\n",
       "    <tr>\n",
       "      <th>72</th>\n",
       "      <td>Triples</td>\n",
       "      <td>G</td>\n",
       "      <td>C</td>\n",
       "      <td>110</td>\n",
       "      <td>2</td>\n",
       "      <td>1</td>\n",
       "      <td>250</td>\n",
       "      <td>0.0</td>\n",
       "      <td>21.0</td>\n",
       "      <td>3</td>\n",
       "      <td>60</td>\n",
       "      <td>25</td>\n",
       "      <td>3</td>\n",
       "      <td>1.0</td>\n",
       "      <td>0.75</td>\n",
       "      <td>39.106174</td>\n",
       "    </tr>\n",
       "    <tr>\n",
       "      <th>73</th>\n",
       "      <td>Trix</td>\n",
       "      <td>G</td>\n",
       "      <td>C</td>\n",
       "      <td>110</td>\n",
       "      <td>1</td>\n",
       "      <td>1</td>\n",
       "      <td>140</td>\n",
       "      <td>0.0</td>\n",
       "      <td>13.0</td>\n",
       "      <td>12</td>\n",
       "      <td>25</td>\n",
       "      <td>25</td>\n",
       "      <td>2</td>\n",
       "      <td>1.0</td>\n",
       "      <td>1.00</td>\n",
       "      <td>27.753301</td>\n",
       "    </tr>\n",
       "    <tr>\n",
       "      <th>74</th>\n",
       "      <td>Wheat Chex</td>\n",
       "      <td>R</td>\n",
       "      <td>C</td>\n",
       "      <td>100</td>\n",
       "      <td>3</td>\n",
       "      <td>1</td>\n",
       "      <td>230</td>\n",
       "      <td>3.0</td>\n",
       "      <td>17.0</td>\n",
       "      <td>3</td>\n",
       "      <td>115</td>\n",
       "      <td>25</td>\n",
       "      <td>1</td>\n",
       "      <td>1.0</td>\n",
       "      <td>0.67</td>\n",
       "      <td>49.787445</td>\n",
       "    </tr>\n",
       "    <tr>\n",
       "      <th>75</th>\n",
       "      <td>Wheaties</td>\n",
       "      <td>G</td>\n",
       "      <td>C</td>\n",
       "      <td>100</td>\n",
       "      <td>3</td>\n",
       "      <td>1</td>\n",
       "      <td>200</td>\n",
       "      <td>3.0</td>\n",
       "      <td>17.0</td>\n",
       "      <td>3</td>\n",
       "      <td>110</td>\n",
       "      <td>25</td>\n",
       "      <td>1</td>\n",
       "      <td>1.0</td>\n",
       "      <td>1.00</td>\n",
       "      <td>51.592193</td>\n",
       "    </tr>\n",
       "    <tr>\n",
       "      <th>76</th>\n",
       "      <td>Wheaties Honey Gold</td>\n",
       "      <td>G</td>\n",
       "      <td>C</td>\n",
       "      <td>110</td>\n",
       "      <td>2</td>\n",
       "      <td>1</td>\n",
       "      <td>200</td>\n",
       "      <td>1.0</td>\n",
       "      <td>16.0</td>\n",
       "      <td>8</td>\n",
       "      <td>60</td>\n",
       "      <td>25</td>\n",
       "      <td>1</td>\n",
       "      <td>1.0</td>\n",
       "      <td>0.75</td>\n",
       "      <td>36.187559</td>\n",
       "    </tr>\n",
       "  </tbody>\n",
       "</table>\n",
       "<p>77 rows × 16 columns</p>\n",
       "</div>"
      ],
      "text/plain": [
       "                         name manufacturer type  calories  protein  fat  \\\n",
       "0                   100% Bran            N    C        70        4    1   \n",
       "1           100% Natural Bran            Q    C       120        3    5   \n",
       "2                    All-Bran            K    C        70        4    1   \n",
       "3   All-Bran with Extra Fiber            K    C        50        4    0   \n",
       "4              Almond Delight            R    C       110        2    2   \n",
       "..                        ...          ...  ...       ...      ...  ...   \n",
       "72                    Triples            G    C       110        2    1   \n",
       "73                       Trix            G    C       110        1    1   \n",
       "74                 Wheat Chex            R    C       100        3    1   \n",
       "75                   Wheaties            G    C       100        3    1   \n",
       "76        Wheaties Honey Gold            G    C       110        2    1   \n",
       "\n",
       "    sodium  fiber  carbohydate  sugars  potassium    vitamins  shelf  weight  \\\n",
       "0      130   10.0          5.0       6          280        25      3     1.0   \n",
       "1       15    2.0          8.0       8          135         0      3     1.0   \n",
       "2      260    9.0          7.0       5          320        25      3     1.0   \n",
       "3      140   14.0          8.0       0          330        25      3     1.0   \n",
       "4      200    1.0         14.0       8           -1        25      3     1.0   \n",
       "..     ...    ...          ...     ...          ...       ...    ...     ...   \n",
       "72     250    0.0         21.0       3           60        25      3     1.0   \n",
       "73     140    0.0         13.0      12           25        25      2     1.0   \n",
       "74     230    3.0         17.0       3          115        25      1     1.0   \n",
       "75     200    3.0         17.0       3          110        25      1     1.0   \n",
       "76     200    1.0         16.0       8           60        25      1     1.0   \n",
       "\n",
       "    cups     rating  \n",
       "0   0.33  68.402973  \n",
       "1   1.00  33.983679  \n",
       "2   0.33  59.425505  \n",
       "3   0.50  93.704912  \n",
       "4   0.75  34.384843  \n",
       "..   ...        ...  \n",
       "72  0.75  39.106174  \n",
       "73  1.00  27.753301  \n",
       "74  0.67  49.787445  \n",
       "75  1.00  51.592193  \n",
       "76  0.75  36.187559  \n",
       "\n",
       "[77 rows x 16 columns]"
      ]
     },
     "execution_count": 3,
     "metadata": {},
     "output_type": "execute_result"
    }
   ],
   "source": [
    "cereal_df.rename(columns = {'mfr': 'manufacturer', 'carbo': 'carbohydate', 'potass': 'potassium  '})"
   ]
  },
  {
   "cell_type": "code",
   "execution_count": 4,
   "id": "cdcfb768",
   "metadata": {
    "slideshow": {
     "slide_type": "subslide"
    }
   },
   "outputs": [
    {
     "data": {
      "text/html": [
       "<div>\n",
       "<style scoped>\n",
       "    .dataframe tbody tr th:only-of-type {\n",
       "        vertical-align: middle;\n",
       "    }\n",
       "\n",
       "    .dataframe tbody tr th {\n",
       "        vertical-align: top;\n",
       "    }\n",
       "\n",
       "    .dataframe thead th {\n",
       "        text-align: right;\n",
       "    }\n",
       "</style>\n",
       "<table border=\"1\" class=\"dataframe\">\n",
       "  <thead>\n",
       "    <tr style=\"text-align: right;\">\n",
       "      <th></th>\n",
       "      <th>name</th>\n",
       "      <th>mfr</th>\n",
       "      <th>type</th>\n",
       "      <th>calories</th>\n",
       "      <th>protein</th>\n",
       "      <th>fat</th>\n",
       "      <th>sodium</th>\n",
       "      <th>fiber</th>\n",
       "      <th>carbo</th>\n",
       "      <th>sugars</th>\n",
       "      <th>potass</th>\n",
       "      <th>vitamins</th>\n",
       "      <th>shelf</th>\n",
       "      <th>weight</th>\n",
       "      <th>cups</th>\n",
       "      <th>rating</th>\n",
       "    </tr>\n",
       "  </thead>\n",
       "  <tbody>\n",
       "    <tr>\n",
       "      <th>0</th>\n",
       "      <td>100% Bran</td>\n",
       "      <td>N</td>\n",
       "      <td>C</td>\n",
       "      <td>70</td>\n",
       "      <td>4</td>\n",
       "      <td>1</td>\n",
       "      <td>130</td>\n",
       "      <td>10.0</td>\n",
       "      <td>5.0</td>\n",
       "      <td>6</td>\n",
       "      <td>280</td>\n",
       "      <td>25</td>\n",
       "      <td>3</td>\n",
       "      <td>1.0</td>\n",
       "      <td>0.33</td>\n",
       "      <td>68.402973</td>\n",
       "    </tr>\n",
       "    <tr>\n",
       "      <th>1</th>\n",
       "      <td>100% Natural Bran</td>\n",
       "      <td>Q</td>\n",
       "      <td>C</td>\n",
       "      <td>120</td>\n",
       "      <td>3</td>\n",
       "      <td>5</td>\n",
       "      <td>15</td>\n",
       "      <td>2.0</td>\n",
       "      <td>8.0</td>\n",
       "      <td>8</td>\n",
       "      <td>135</td>\n",
       "      <td>0</td>\n",
       "      <td>3</td>\n",
       "      <td>1.0</td>\n",
       "      <td>1.00</td>\n",
       "      <td>33.983679</td>\n",
       "    </tr>\n",
       "  </tbody>\n",
       "</table>\n",
       "</div>"
      ],
      "text/plain": [
       "                name mfr type  calories  protein  fat  sodium  fiber  carbo  \\\n",
       "0          100% Bran   N    C        70        4    1     130   10.0    5.0   \n",
       "1  100% Natural Bran   Q    C       120        3    5      15    2.0    8.0   \n",
       "\n",
       "   sugars  potass  vitamins  shelf  weight  cups     rating  \n",
       "0       6     280        25      3     1.0  0.33  68.402973  \n",
       "1       8     135         0      3     1.0  1.00  33.983679  "
      ]
     },
     "execution_count": 4,
     "metadata": {},
     "output_type": "execute_result"
    }
   ],
   "source": [
    "cereal_df.head(2)"
   ]
  },
  {
   "cell_type": "markdown",
   "id": "ffd941a9",
   "metadata": {
    "slideshow": {
     "slide_type": "fragment"
    }
   },
   "source": [
    "Column names are still the same. What gives?"
   ]
  },
  {
   "cell_type": "markdown",
   "id": "c8039ac4",
   "metadata": {
    "slideshow": {
     "slide_type": "slide"
    }
   },
   "source": [
    "Dataframe.rename() method creates new dataframe by default."
   ]
  },
  {
   "cell_type": "code",
   "execution_count": 5,
   "id": "d7a12eb7",
   "metadata": {
    "cell_style": "center"
   },
   "outputs": [],
   "source": [
    "cereal_df = cereal_df.rename(columns = {'mfr': 'manufacturer', 'carbo': 'carbohydate', 'potass': 'potassium  '})"
   ]
  },
  {
   "cell_type": "markdown",
   "id": "567f1f63",
   "metadata": {
    "slideshow": {
     "slide_type": "fragment"
    }
   },
   "source": [
    "This is equivalent to reassigning (inplace = ... argument)"
   ]
  },
  {
   "cell_type": "code",
   "execution_count": 13,
   "id": "5465c579",
   "metadata": {},
   "outputs": [],
   "source": [
    "cereal_df.rename(columns = {'mfr': 'manufacturer', 'carbo': 'carbohydate', 'potass': 'potassium  '}, inplace = True)"
   ]
  },
  {
   "cell_type": "code",
   "execution_count": 14,
   "id": "b410f1ec",
   "metadata": {
    "slideshow": {
     "slide_type": "subslide"
    }
   },
   "outputs": [
    {
     "data": {
      "text/html": [
       "<div>\n",
       "<style scoped>\n",
       "    .dataframe tbody tr th:only-of-type {\n",
       "        vertical-align: middle;\n",
       "    }\n",
       "\n",
       "    .dataframe tbody tr th {\n",
       "        vertical-align: top;\n",
       "    }\n",
       "\n",
       "    .dataframe thead th {\n",
       "        text-align: right;\n",
       "    }\n",
       "</style>\n",
       "<table border=\"1\" class=\"dataframe\">\n",
       "  <thead>\n",
       "    <tr style=\"text-align: right;\">\n",
       "      <th></th>\n",
       "      <th>name</th>\n",
       "      <th>manufacturer</th>\n",
       "      <th>type</th>\n",
       "      <th>calories</th>\n",
       "      <th>protein</th>\n",
       "      <th>fat</th>\n",
       "      <th>sodium</th>\n",
       "      <th>fiber</th>\n",
       "      <th>carbohydate</th>\n",
       "      <th>sugars</th>\n",
       "      <th>potassium</th>\n",
       "      <th>vitamins</th>\n",
       "      <th>shelf</th>\n",
       "      <th>weight</th>\n",
       "      <th>cups</th>\n",
       "      <th>rating</th>\n",
       "    </tr>\n",
       "  </thead>\n",
       "  <tbody>\n",
       "    <tr>\n",
       "      <th>0</th>\n",
       "      <td>100% Bran</td>\n",
       "      <td>N</td>\n",
       "      <td>C</td>\n",
       "      <td>70</td>\n",
       "      <td>4</td>\n",
       "      <td>1</td>\n",
       "      <td>130</td>\n",
       "      <td>10.0</td>\n",
       "      <td>5.0</td>\n",
       "      <td>6</td>\n",
       "      <td>280</td>\n",
       "      <td>25</td>\n",
       "      <td>3</td>\n",
       "      <td>1.0</td>\n",
       "      <td>0.33</td>\n",
       "      <td>68.402973</td>\n",
       "    </tr>\n",
       "    <tr>\n",
       "      <th>1</th>\n",
       "      <td>100% Natural Bran</td>\n",
       "      <td>Q</td>\n",
       "      <td>C</td>\n",
       "      <td>120</td>\n",
       "      <td>3</td>\n",
       "      <td>5</td>\n",
       "      <td>15</td>\n",
       "      <td>2.0</td>\n",
       "      <td>8.0</td>\n",
       "      <td>8</td>\n",
       "      <td>135</td>\n",
       "      <td>0</td>\n",
       "      <td>3</td>\n",
       "      <td>1.0</td>\n",
       "      <td>1.00</td>\n",
       "      <td>33.983679</td>\n",
       "    </tr>\n",
       "  </tbody>\n",
       "</table>\n",
       "</div>"
      ],
      "text/plain": [
       "                name manufacturer type  calories  protein  fat  sodium  fiber  \\\n",
       "0          100% Bran            N    C        70        4    1     130   10.0   \n",
       "1  100% Natural Bran            Q    C       120        3    5      15    2.0   \n",
       "\n",
       "   carbohydate  sugars  potassium    vitamins  shelf  weight  cups     rating  \n",
       "0          5.0       6          280        25      3     1.0  0.33  68.402973  \n",
       "1          8.0       8          135         0      3     1.0  1.00  33.983679  "
      ]
     },
     "execution_count": 14,
     "metadata": {},
     "output_type": "execute_result"
    }
   ],
   "source": [
    "cereal_df.head(2)"
   ]
  },
  {
   "cell_type": "markdown",
   "id": "d3e05fcb",
   "metadata": {
    "slideshow": {
     "slide_type": "slide"
    }
   },
   "source": [
    "Let's take a look at the potassium column."
   ]
  },
  {
   "cell_type": "code",
   "execution_count": 15,
   "id": "16f05863",
   "metadata": {
    "scrolled": true,
    "slideshow": {
     "slide_type": "subslide"
    }
   },
   "outputs": [
    {
     "ename": "KeyError",
     "evalue": "'potassium'",
     "output_type": "error",
     "traceback": [
      "\u001b[1;31m---------------------------------------------------------------------------\u001b[0m",
      "\u001b[1;31mKeyError\u001b[0m                                  Traceback (most recent call last)",
      "File \u001b[1;32m~\\anaconda3\\Lib\\site-packages\\pandas\\core\\indexes\\base.py:3791\u001b[0m, in \u001b[0;36mIndex.get_loc\u001b[1;34m(self, key)\u001b[0m\n\u001b[0;32m   3790\u001b[0m \u001b[38;5;28;01mtry\u001b[39;00m:\n\u001b[1;32m-> 3791\u001b[0m     \u001b[38;5;28;01mreturn\u001b[39;00m \u001b[38;5;28mself\u001b[39m\u001b[38;5;241m.\u001b[39m_engine\u001b[38;5;241m.\u001b[39mget_loc(casted_key)\n\u001b[0;32m   3792\u001b[0m \u001b[38;5;28;01mexcept\u001b[39;00m \u001b[38;5;167;01mKeyError\u001b[39;00m \u001b[38;5;28;01mas\u001b[39;00m err:\n",
      "File \u001b[1;32mindex.pyx:152\u001b[0m, in \u001b[0;36mpandas._libs.index.IndexEngine.get_loc\u001b[1;34m()\u001b[0m\n",
      "File \u001b[1;32mindex.pyx:181\u001b[0m, in \u001b[0;36mpandas._libs.index.IndexEngine.get_loc\u001b[1;34m()\u001b[0m\n",
      "File \u001b[1;32mpandas\\_libs\\hashtable_class_helper.pxi:7080\u001b[0m, in \u001b[0;36mpandas._libs.hashtable.PyObjectHashTable.get_item\u001b[1;34m()\u001b[0m\n",
      "File \u001b[1;32mpandas\\_libs\\hashtable_class_helper.pxi:7088\u001b[0m, in \u001b[0;36mpandas._libs.hashtable.PyObjectHashTable.get_item\u001b[1;34m()\u001b[0m\n",
      "\u001b[1;31mKeyError\u001b[0m: 'potassium'",
      "\nThe above exception was the direct cause of the following exception:\n",
      "\u001b[1;31mKeyError\u001b[0m                                  Traceback (most recent call last)",
      "Cell \u001b[1;32mIn[15], line 1\u001b[0m\n\u001b[1;32m----> 1\u001b[0m cereal_df[\u001b[38;5;124m'\u001b[39m\u001b[38;5;124mpotassium\u001b[39m\u001b[38;5;124m'\u001b[39m]\n",
      "File \u001b[1;32m~\\anaconda3\\Lib\\site-packages\\pandas\\core\\frame.py:3893\u001b[0m, in \u001b[0;36mDataFrame.__getitem__\u001b[1;34m(self, key)\u001b[0m\n\u001b[0;32m   3891\u001b[0m \u001b[38;5;28;01mif\u001b[39;00m \u001b[38;5;28mself\u001b[39m\u001b[38;5;241m.\u001b[39mcolumns\u001b[38;5;241m.\u001b[39mnlevels \u001b[38;5;241m>\u001b[39m \u001b[38;5;241m1\u001b[39m:\n\u001b[0;32m   3892\u001b[0m     \u001b[38;5;28;01mreturn\u001b[39;00m \u001b[38;5;28mself\u001b[39m\u001b[38;5;241m.\u001b[39m_getitem_multilevel(key)\n\u001b[1;32m-> 3893\u001b[0m indexer \u001b[38;5;241m=\u001b[39m \u001b[38;5;28mself\u001b[39m\u001b[38;5;241m.\u001b[39mcolumns\u001b[38;5;241m.\u001b[39mget_loc(key)\n\u001b[0;32m   3894\u001b[0m \u001b[38;5;28;01mif\u001b[39;00m is_integer(indexer):\n\u001b[0;32m   3895\u001b[0m     indexer \u001b[38;5;241m=\u001b[39m [indexer]\n",
      "File \u001b[1;32m~\\anaconda3\\Lib\\site-packages\\pandas\\core\\indexes\\base.py:3798\u001b[0m, in \u001b[0;36mIndex.get_loc\u001b[1;34m(self, key)\u001b[0m\n\u001b[0;32m   3793\u001b[0m     \u001b[38;5;28;01mif\u001b[39;00m \u001b[38;5;28misinstance\u001b[39m(casted_key, \u001b[38;5;28mslice\u001b[39m) \u001b[38;5;129;01mor\u001b[39;00m (\n\u001b[0;32m   3794\u001b[0m         \u001b[38;5;28misinstance\u001b[39m(casted_key, abc\u001b[38;5;241m.\u001b[39mIterable)\n\u001b[0;32m   3795\u001b[0m         \u001b[38;5;129;01mand\u001b[39;00m \u001b[38;5;28many\u001b[39m(\u001b[38;5;28misinstance\u001b[39m(x, \u001b[38;5;28mslice\u001b[39m) \u001b[38;5;28;01mfor\u001b[39;00m x \u001b[38;5;129;01min\u001b[39;00m casted_key)\n\u001b[0;32m   3796\u001b[0m     ):\n\u001b[0;32m   3797\u001b[0m         \u001b[38;5;28;01mraise\u001b[39;00m InvalidIndexError(key)\n\u001b[1;32m-> 3798\u001b[0m     \u001b[38;5;28;01mraise\u001b[39;00m \u001b[38;5;167;01mKeyError\u001b[39;00m(key) \u001b[38;5;28;01mfrom\u001b[39;00m \u001b[38;5;21;01merr\u001b[39;00m\n\u001b[0;32m   3799\u001b[0m \u001b[38;5;28;01mexcept\u001b[39;00m \u001b[38;5;167;01mTypeError\u001b[39;00m:\n\u001b[0;32m   3800\u001b[0m     \u001b[38;5;66;03m# If we have a listlike key, _check_indexing_error will raise\u001b[39;00m\n\u001b[0;32m   3801\u001b[0m     \u001b[38;5;66;03m#  InvalidIndexError. Otherwise we fall through and re-raise\u001b[39;00m\n\u001b[0;32m   3802\u001b[0m     \u001b[38;5;66;03m#  the TypeError.\u001b[39;00m\n\u001b[0;32m   3803\u001b[0m     \u001b[38;5;28mself\u001b[39m\u001b[38;5;241m.\u001b[39m_check_indexing_error(key)\n",
      "\u001b[1;31mKeyError\u001b[0m: 'potassium'"
     ]
    }
   ],
   "source": [
    "cereal_df['potassium']"
   ]
  },
  {
   "cell_type": "markdown",
   "id": "6de94dd3",
   "metadata": {
    "slideshow": {
     "slide_type": "subslide"
    }
   },
   "source": [
    "What happened?"
   ]
  },
  {
   "cell_type": "code",
   "execution_count": 17,
   "id": "53199d4d",
   "metadata": {
    "slideshow": {
     "slide_type": "slide"
    }
   },
   "outputs": [
    {
     "data": {
      "text/plain": [
       "Index(['name', 'manufacturer', 'type', 'calories', 'protein', 'fat', 'sodium',\n",
       "       'fiber', 'carbohydate', 'sugars', 'potassium  ', 'vitamins', 'shelf',\n",
       "       'weight', 'cups', 'rating'],\n",
       "      dtype='object')"
      ]
     },
     "execution_count": 17,
     "metadata": {},
     "output_type": "execute_result"
    }
   ],
   "source": [
    "cereal_df.columns"
   ]
  },
  {
   "cell_type": "markdown",
   "id": "c5ddd00c",
   "metadata": {
    "slideshow": {
     "slide_type": "fragment"
    }
   },
   "source": [
    "Note the trailing white space. Many imports from files have this problem.\n",
    "\n",
    "What string command do we need to trim white space?"
   ]
  },
  {
   "cell_type": "markdown",
   "id": "6f55da1d",
   "metadata": {
    "slideshow": {
     "slide_type": "slide"
    }
   },
   "source": [
    "The way NOT to do it (works but not efficient):"
   ]
  },
  {
   "cell_type": "code",
   "execution_count": 9,
   "id": "4601190b",
   "metadata": {
    "slideshow": {
     "slide_type": "fragment"
    }
   },
   "outputs": [
    {
     "data": {
      "text/plain": [
       "['name',\n",
       " 'manufacturer',\n",
       " 'type',\n",
       " 'calories',\n",
       " 'protein',\n",
       " 'fat',\n",
       " 'sodium',\n",
       " 'fiber',\n",
       " 'carbohydate',\n",
       " 'sugars',\n",
       " 'potassium',\n",
       " 'vitamins',\n",
       " 'shelf',\n",
       " 'weight',\n",
       " 'cups',\n",
       " 'rating']"
      ]
     },
     "execution_count": 9,
     "metadata": {},
     "output_type": "execute_result"
    }
   ],
   "source": [
    "[col.strip() for col in cereal_df.columns]"
   ]
  },
  {
   "cell_type": "markdown",
   "id": "5f72aac4",
   "metadata": {
    "slideshow": {
     "slide_type": "slide"
    }
   },
   "source": [
    "The way to take advantage of Pandas speed (vectorized str method):"
   ]
  },
  {
   "cell_type": "code",
   "execution_count": 19,
   "id": "201b6c78",
   "metadata": {
    "slideshow": {
     "slide_type": "fragment"
    }
   },
   "outputs": [
    {
     "name": "stdout",
     "output_type": "stream",
     "text": [
      "Index(['name', 'manufacturer', 'type', 'calories', 'protein', 'fat', 'sodium',\n",
      "       'fiber', 'carbohydate', 'sugars', 'potassium', 'vitamins', 'shelf',\n",
      "       'weight', 'cups', 'rating'],\n",
      "      dtype='object')\n"
     ]
    }
   ],
   "source": [
    "cereal_df.columns = cereal_df.columns.str.strip()\n",
    "print(cereal_df.columns)"
   ]
  },
  {
   "cell_type": "markdown",
   "id": "6f4f41a5",
   "metadata": {
    "slideshow": {
     "slide_type": "fragment"
    }
   },
   "source": [
    "Now look at potassium column:"
   ]
  },
  {
   "cell_type": "code",
   "execution_count": 20,
   "id": "2fad96ec",
   "metadata": {
    "slideshow": {
     "slide_type": "-"
    }
   },
   "outputs": [
    {
     "data": {
      "text/plain": [
       "0    280\n",
       "1    135\n",
       "2    320\n",
       "Name: potassium, dtype: int64"
      ]
     },
     "execution_count": 20,
     "metadata": {},
     "output_type": "execute_result"
    }
   ],
   "source": [
    "cereal_df['potassium'].head(3)"
   ]
  },
  {
   "cell_type": "markdown",
   "id": "144d221b",
   "metadata": {
    "slideshow": {
     "slide_type": "slide"
    }
   },
   "source": [
    "#### Removing Columns\n",
    "\n",
    "The `shelf` column: shelf in cereal aisle of particular grocery store.\n",
    "\n",
    "- We dont care about this column.   "
   ]
  },
  {
   "cell_type": "code",
   "execution_count": 21,
   "id": "63601d29",
   "metadata": {
    "slideshow": {
     "slide_type": "subslide"
    }
   },
   "outputs": [
    {
     "data": {
      "text/plain": [
       "Index(['name', 'manufacturer', 'type', 'calories', 'protein', 'fat', 'sodium',\n",
       "       'fiber', 'carbohydate', 'sugars', 'potassium', 'vitamins', 'weight',\n",
       "       'cups', 'rating'],\n",
       "      dtype='object')"
      ]
     },
     "execution_count": 21,
     "metadata": {},
     "output_type": "execute_result"
    }
   ],
   "source": [
    "cereal_df.drop(columns = ['shelf'], inplace = True)\n",
    "cereal_df.columns"
   ]
  },
  {
   "cell_type": "markdown",
   "id": "fbff757f",
   "metadata": {
    "slideshow": {
     "slide_type": "slide"
    }
   },
   "source": [
    "#### Creating new columns\n",
    "\n",
    "The 'type' column has only two unique entries 'C' and 'H' (cold or hot cereal?):\n",
    "\n",
    "- Can use Boolean condition to create a series (Pandas magic)."
   ]
  },
  {
   "cell_type": "markdown",
   "id": "a767cbd5",
   "metadata": {
    "slideshow": {
     "slide_type": "subslide"
    }
   },
   "source": [
    "Is this a hot cereal? Convert Boolean to integer.\n",
    "\n",
    "- False = 0\n",
    "- True = 1"
   ]
  },
  {
   "cell_type": "code",
   "execution_count": 33,
   "id": "67ccae38",
   "metadata": {
    "scrolled": false,
    "slideshow": {
     "slide_type": "-"
    }
   },
   "outputs": [
    {
     "data": {
      "text/plain": [
       "pandas.core.series.Series"
      ]
     },
     "execution_count": 33,
     "metadata": {},
     "output_type": "execute_result"
    }
   ],
   "source": [
    "is_hot = (cereal_df.type == 'H').astype('int')\n",
    "is_hot\n",
    "\n",
    "# print(is_hot)\n",
    "type(is_hot)"
   ]
  },
  {
   "cell_type": "markdown",
   "id": "2d55b4b9",
   "metadata": {
    "slideshow": {
     "slide_type": "slide"
    }
   },
   "source": [
    "Store this as a new column by:\n",
    "- DataFrame[new_column_name] = series"
   ]
  },
  {
   "cell_type": "code",
   "execution_count": 40,
   "id": "842d9b6c",
   "metadata": {
    "slideshow": {
     "slide_type": "subslide"
    }
   },
   "outputs": [
    {
     "data": {
      "text/html": [
       "<div>\n",
       "<style scoped>\n",
       "    .dataframe tbody tr th:only-of-type {\n",
       "        vertical-align: middle;\n",
       "    }\n",
       "\n",
       "    .dataframe tbody tr th {\n",
       "        vertical-align: top;\n",
       "    }\n",
       "\n",
       "    .dataframe thead th {\n",
       "        text-align: right;\n",
       "    }\n",
       "</style>\n",
       "<table border=\"1\" class=\"dataframe\">\n",
       "  <thead>\n",
       "    <tr style=\"text-align: right;\">\n",
       "      <th></th>\n",
       "      <th>name</th>\n",
       "      <th>manufacturer</th>\n",
       "      <th>type</th>\n",
       "      <th>calories</th>\n",
       "      <th>protein</th>\n",
       "      <th>fat</th>\n",
       "      <th>sodium</th>\n",
       "      <th>fiber</th>\n",
       "      <th>carbohydate</th>\n",
       "      <th>sugars</th>\n",
       "      <th>potassium</th>\n",
       "      <th>vitamins</th>\n",
       "      <th>weight</th>\n",
       "      <th>cups</th>\n",
       "      <th>rating</th>\n",
       "      <th>is_hot</th>\n",
       "      <th>new_cal_meas</th>\n",
       "    </tr>\n",
       "  </thead>\n",
       "  <tbody>\n",
       "    <tr>\n",
       "      <th>0</th>\n",
       "      <td>100% Bran</td>\n",
       "      <td>N</td>\n",
       "      <td>C</td>\n",
       "      <td>70</td>\n",
       "      <td>4</td>\n",
       "      <td>1</td>\n",
       "      <td>130</td>\n",
       "      <td>10.0</td>\n",
       "      <td>5.0</td>\n",
       "      <td>6</td>\n",
       "      <td>280</td>\n",
       "      <td>25</td>\n",
       "      <td>1.0</td>\n",
       "      <td>0.33</td>\n",
       "      <td>68.402973</td>\n",
       "      <td>0</td>\n",
       "      <td>105.6</td>\n",
       "    </tr>\n",
       "    <tr>\n",
       "      <th>1</th>\n",
       "      <td>100% Natural Bran</td>\n",
       "      <td>Q</td>\n",
       "      <td>C</td>\n",
       "      <td>120</td>\n",
       "      <td>3</td>\n",
       "      <td>5</td>\n",
       "      <td>15</td>\n",
       "      <td>2.0</td>\n",
       "      <td>8.0</td>\n",
       "      <td>8</td>\n",
       "      <td>135</td>\n",
       "      <td>0</td>\n",
       "      <td>1.0</td>\n",
       "      <td>1.00</td>\n",
       "      <td>33.983679</td>\n",
       "      <td>0</td>\n",
       "      <td>179.6</td>\n",
       "    </tr>\n",
       "    <tr>\n",
       "      <th>2</th>\n",
       "      <td>All-Bran</td>\n",
       "      <td>K</td>\n",
       "      <td>C</td>\n",
       "      <td>70</td>\n",
       "      <td>4</td>\n",
       "      <td>1</td>\n",
       "      <td>260</td>\n",
       "      <td>9.0</td>\n",
       "      <td>7.0</td>\n",
       "      <td>5</td>\n",
       "      <td>320</td>\n",
       "      <td>25</td>\n",
       "      <td>1.0</td>\n",
       "      <td>0.33</td>\n",
       "      <td>59.425505</td>\n",
       "      <td>0</td>\n",
       "      <td>105.6</td>\n",
       "    </tr>\n",
       "    <tr>\n",
       "      <th>3</th>\n",
       "      <td>All-Bran with Extra Fiber</td>\n",
       "      <td>K</td>\n",
       "      <td>C</td>\n",
       "      <td>50</td>\n",
       "      <td>4</td>\n",
       "      <td>0</td>\n",
       "      <td>140</td>\n",
       "      <td>14.0</td>\n",
       "      <td>8.0</td>\n",
       "      <td>0</td>\n",
       "      <td>330</td>\n",
       "      <td>25</td>\n",
       "      <td>1.0</td>\n",
       "      <td>0.50</td>\n",
       "      <td>93.704912</td>\n",
       "      <td>0</td>\n",
       "      <td>76.0</td>\n",
       "    </tr>\n",
       "    <tr>\n",
       "      <th>4</th>\n",
       "      <td>Almond Delight</td>\n",
       "      <td>R</td>\n",
       "      <td>C</td>\n",
       "      <td>110</td>\n",
       "      <td>2</td>\n",
       "      <td>2</td>\n",
       "      <td>200</td>\n",
       "      <td>1.0</td>\n",
       "      <td>14.0</td>\n",
       "      <td>8</td>\n",
       "      <td>-1</td>\n",
       "      <td>25</td>\n",
       "      <td>1.0</td>\n",
       "      <td>0.75</td>\n",
       "      <td>34.384843</td>\n",
       "      <td>0</td>\n",
       "      <td>164.8</td>\n",
       "    </tr>\n",
       "    <tr>\n",
       "      <th>...</th>\n",
       "      <td>...</td>\n",
       "      <td>...</td>\n",
       "      <td>...</td>\n",
       "      <td>...</td>\n",
       "      <td>...</td>\n",
       "      <td>...</td>\n",
       "      <td>...</td>\n",
       "      <td>...</td>\n",
       "      <td>...</td>\n",
       "      <td>...</td>\n",
       "      <td>...</td>\n",
       "      <td>...</td>\n",
       "      <td>...</td>\n",
       "      <td>...</td>\n",
       "      <td>...</td>\n",
       "      <td>...</td>\n",
       "      <td>...</td>\n",
       "    </tr>\n",
       "    <tr>\n",
       "      <th>72</th>\n",
       "      <td>Triples</td>\n",
       "      <td>G</td>\n",
       "      <td>C</td>\n",
       "      <td>110</td>\n",
       "      <td>2</td>\n",
       "      <td>1</td>\n",
       "      <td>250</td>\n",
       "      <td>0.0</td>\n",
       "      <td>21.0</td>\n",
       "      <td>3</td>\n",
       "      <td>60</td>\n",
       "      <td>25</td>\n",
       "      <td>1.0</td>\n",
       "      <td>0.75</td>\n",
       "      <td>39.106174</td>\n",
       "      <td>0</td>\n",
       "      <td>164.8</td>\n",
       "    </tr>\n",
       "    <tr>\n",
       "      <th>73</th>\n",
       "      <td>Trix</td>\n",
       "      <td>G</td>\n",
       "      <td>C</td>\n",
       "      <td>110</td>\n",
       "      <td>1</td>\n",
       "      <td>1</td>\n",
       "      <td>140</td>\n",
       "      <td>0.0</td>\n",
       "      <td>13.0</td>\n",
       "      <td>12</td>\n",
       "      <td>25</td>\n",
       "      <td>25</td>\n",
       "      <td>1.0</td>\n",
       "      <td>1.00</td>\n",
       "      <td>27.753301</td>\n",
       "      <td>0</td>\n",
       "      <td>164.8</td>\n",
       "    </tr>\n",
       "    <tr>\n",
       "      <th>74</th>\n",
       "      <td>Wheat Chex</td>\n",
       "      <td>R</td>\n",
       "      <td>C</td>\n",
       "      <td>100</td>\n",
       "      <td>3</td>\n",
       "      <td>1</td>\n",
       "      <td>230</td>\n",
       "      <td>3.0</td>\n",
       "      <td>17.0</td>\n",
       "      <td>3</td>\n",
       "      <td>115</td>\n",
       "      <td>25</td>\n",
       "      <td>1.0</td>\n",
       "      <td>0.67</td>\n",
       "      <td>49.787445</td>\n",
       "      <td>0</td>\n",
       "      <td>150.0</td>\n",
       "    </tr>\n",
       "    <tr>\n",
       "      <th>75</th>\n",
       "      <td>Wheaties</td>\n",
       "      <td>G</td>\n",
       "      <td>C</td>\n",
       "      <td>100</td>\n",
       "      <td>3</td>\n",
       "      <td>1</td>\n",
       "      <td>200</td>\n",
       "      <td>3.0</td>\n",
       "      <td>17.0</td>\n",
       "      <td>3</td>\n",
       "      <td>110</td>\n",
       "      <td>25</td>\n",
       "      <td>1.0</td>\n",
       "      <td>1.00</td>\n",
       "      <td>51.592193</td>\n",
       "      <td>0</td>\n",
       "      <td>150.0</td>\n",
       "    </tr>\n",
       "    <tr>\n",
       "      <th>76</th>\n",
       "      <td>Wheaties Honey Gold</td>\n",
       "      <td>G</td>\n",
       "      <td>C</td>\n",
       "      <td>110</td>\n",
       "      <td>2</td>\n",
       "      <td>1</td>\n",
       "      <td>200</td>\n",
       "      <td>1.0</td>\n",
       "      <td>16.0</td>\n",
       "      <td>8</td>\n",
       "      <td>60</td>\n",
       "      <td>25</td>\n",
       "      <td>1.0</td>\n",
       "      <td>0.75</td>\n",
       "      <td>36.187559</td>\n",
       "      <td>0</td>\n",
       "      <td>164.8</td>\n",
       "    </tr>\n",
       "  </tbody>\n",
       "</table>\n",
       "<p>77 rows × 17 columns</p>\n",
       "</div>"
      ],
      "text/plain": [
       "                         name manufacturer type  calories  protein  fat  \\\n",
       "0                   100% Bran            N    C        70        4    1   \n",
       "1           100% Natural Bran            Q    C       120        3    5   \n",
       "2                    All-Bran            K    C        70        4    1   \n",
       "3   All-Bran with Extra Fiber            K    C        50        4    0   \n",
       "4              Almond Delight            R    C       110        2    2   \n",
       "..                        ...          ...  ...       ...      ...  ...   \n",
       "72                    Triples            G    C       110        2    1   \n",
       "73                       Trix            G    C       110        1    1   \n",
       "74                 Wheat Chex            R    C       100        3    1   \n",
       "75                   Wheaties            G    C       100        3    1   \n",
       "76        Wheaties Honey Gold            G    C       110        2    1   \n",
       "\n",
       "    sodium  fiber  carbohydate  sugars  potassium  vitamins  weight  cups  \\\n",
       "0      130   10.0          5.0       6        280        25     1.0  0.33   \n",
       "1       15    2.0          8.0       8        135         0     1.0  1.00   \n",
       "2      260    9.0          7.0       5        320        25     1.0  0.33   \n",
       "3      140   14.0          8.0       0        330        25     1.0  0.50   \n",
       "4      200    1.0         14.0       8         -1        25     1.0  0.75   \n",
       "..     ...    ...          ...     ...        ...       ...     ...   ...   \n",
       "72     250    0.0         21.0       3         60        25     1.0  0.75   \n",
       "73     140    0.0         13.0      12         25        25     1.0  1.00   \n",
       "74     230    3.0         17.0       3        115        25     1.0  0.67   \n",
       "75     200    3.0         17.0       3        110        25     1.0  1.00   \n",
       "76     200    1.0         16.0       8         60        25     1.0  0.75   \n",
       "\n",
       "       rating  is_hot  new_cal_meas  \n",
       "0   68.402973       0         105.6  \n",
       "1   33.983679       0         179.6  \n",
       "2   59.425505       0         105.6  \n",
       "3   93.704912       0          76.0  \n",
       "4   34.384843       0         164.8  \n",
       "..        ...     ...           ...  \n",
       "72  39.106174       0         164.8  \n",
       "73  27.753301       0         164.8  \n",
       "74  49.787445       0         150.0  \n",
       "75  51.592193       0         150.0  \n",
       "76  36.187559       0         164.8  \n",
       "\n",
       "[77 rows x 17 columns]"
      ]
     },
     "execution_count": 40,
     "metadata": {},
     "output_type": "execute_result"
    }
   ],
   "source": [
    "cereal_df['is_hot'] = is_hot\n",
    "cereal_df.head()\n",
    "\n",
    "\n",
    "cereal_df['new_cal_meas'] = 1.48*cereal_df['calories'] + 2\n",
    "#cereal_df['new_cal_meas'] = \n",
    "#cereal_df\n",
    "cereal_df"
   ]
  },
  {
   "cell_type": "markdown",
   "id": "de9506b8",
   "metadata": {
    "slideshow": {
     "slide_type": "slide"
    }
   },
   "source": [
    "#### Dealing with the index and rows:\n",
    "- Clearly, the 'name' column should be our index.\n",
    "- .set_index(col_name) will set that column to the row index.\n",
    "- .set_index() can also take in a list or an index object."
   ]
  },
  {
   "cell_type": "code",
   "execution_count": 41,
   "id": "e6b738a7",
   "metadata": {
    "slideshow": {
     "slide_type": "subslide"
    }
   },
   "outputs": [
    {
     "data": {
      "text/html": [
       "<div>\n",
       "<style scoped>\n",
       "    .dataframe tbody tr th:only-of-type {\n",
       "        vertical-align: middle;\n",
       "    }\n",
       "\n",
       "    .dataframe tbody tr th {\n",
       "        vertical-align: top;\n",
       "    }\n",
       "\n",
       "    .dataframe thead th {\n",
       "        text-align: right;\n",
       "    }\n",
       "</style>\n",
       "<table border=\"1\" class=\"dataframe\">\n",
       "  <thead>\n",
       "    <tr style=\"text-align: right;\">\n",
       "      <th></th>\n",
       "      <th>manufacturer</th>\n",
       "      <th>type</th>\n",
       "      <th>calories</th>\n",
       "      <th>protein</th>\n",
       "      <th>fat</th>\n",
       "      <th>sodium</th>\n",
       "      <th>fiber</th>\n",
       "      <th>carbohydate</th>\n",
       "      <th>sugars</th>\n",
       "      <th>potassium</th>\n",
       "      <th>vitamins</th>\n",
       "      <th>weight</th>\n",
       "      <th>cups</th>\n",
       "      <th>rating</th>\n",
       "      <th>is_hot</th>\n",
       "      <th>new_cal_meas</th>\n",
       "    </tr>\n",
       "    <tr>\n",
       "      <th>name</th>\n",
       "      <th></th>\n",
       "      <th></th>\n",
       "      <th></th>\n",
       "      <th></th>\n",
       "      <th></th>\n",
       "      <th></th>\n",
       "      <th></th>\n",
       "      <th></th>\n",
       "      <th></th>\n",
       "      <th></th>\n",
       "      <th></th>\n",
       "      <th></th>\n",
       "      <th></th>\n",
       "      <th></th>\n",
       "      <th></th>\n",
       "      <th></th>\n",
       "    </tr>\n",
       "  </thead>\n",
       "  <tbody>\n",
       "    <tr>\n",
       "      <th>100% Bran</th>\n",
       "      <td>N</td>\n",
       "      <td>C</td>\n",
       "      <td>70</td>\n",
       "      <td>4</td>\n",
       "      <td>1</td>\n",
       "      <td>130</td>\n",
       "      <td>10.0</td>\n",
       "      <td>5.0</td>\n",
       "      <td>6</td>\n",
       "      <td>280</td>\n",
       "      <td>25</td>\n",
       "      <td>1.0</td>\n",
       "      <td>0.33</td>\n",
       "      <td>68.402973</td>\n",
       "      <td>0</td>\n",
       "      <td>105.6</td>\n",
       "    </tr>\n",
       "    <tr>\n",
       "      <th>100% Natural Bran</th>\n",
       "      <td>Q</td>\n",
       "      <td>C</td>\n",
       "      <td>120</td>\n",
       "      <td>3</td>\n",
       "      <td>5</td>\n",
       "      <td>15</td>\n",
       "      <td>2.0</td>\n",
       "      <td>8.0</td>\n",
       "      <td>8</td>\n",
       "      <td>135</td>\n",
       "      <td>0</td>\n",
       "      <td>1.0</td>\n",
       "      <td>1.00</td>\n",
       "      <td>33.983679</td>\n",
       "      <td>0</td>\n",
       "      <td>179.6</td>\n",
       "    </tr>\n",
       "    <tr>\n",
       "      <th>All-Bran</th>\n",
       "      <td>K</td>\n",
       "      <td>C</td>\n",
       "      <td>70</td>\n",
       "      <td>4</td>\n",
       "      <td>1</td>\n",
       "      <td>260</td>\n",
       "      <td>9.0</td>\n",
       "      <td>7.0</td>\n",
       "      <td>5</td>\n",
       "      <td>320</td>\n",
       "      <td>25</td>\n",
       "      <td>1.0</td>\n",
       "      <td>0.33</td>\n",
       "      <td>59.425505</td>\n",
       "      <td>0</td>\n",
       "      <td>105.6</td>\n",
       "    </tr>\n",
       "    <tr>\n",
       "      <th>All-Bran with Extra Fiber</th>\n",
       "      <td>K</td>\n",
       "      <td>C</td>\n",
       "      <td>50</td>\n",
       "      <td>4</td>\n",
       "      <td>0</td>\n",
       "      <td>140</td>\n",
       "      <td>14.0</td>\n",
       "      <td>8.0</td>\n",
       "      <td>0</td>\n",
       "      <td>330</td>\n",
       "      <td>25</td>\n",
       "      <td>1.0</td>\n",
       "      <td>0.50</td>\n",
       "      <td>93.704912</td>\n",
       "      <td>0</td>\n",
       "      <td>76.0</td>\n",
       "    </tr>\n",
       "    <tr>\n",
       "      <th>Almond Delight</th>\n",
       "      <td>R</td>\n",
       "      <td>C</td>\n",
       "      <td>110</td>\n",
       "      <td>2</td>\n",
       "      <td>2</td>\n",
       "      <td>200</td>\n",
       "      <td>1.0</td>\n",
       "      <td>14.0</td>\n",
       "      <td>8</td>\n",
       "      <td>-1</td>\n",
       "      <td>25</td>\n",
       "      <td>1.0</td>\n",
       "      <td>0.75</td>\n",
       "      <td>34.384843</td>\n",
       "      <td>0</td>\n",
       "      <td>164.8</td>\n",
       "    </tr>\n",
       "  </tbody>\n",
       "</table>\n",
       "</div>"
      ],
      "text/plain": [
       "                          manufacturer type  calories  protein  fat  sodium  \\\n",
       "name                                                                          \n",
       "100% Bran                            N    C        70        4    1     130   \n",
       "100% Natural Bran                    Q    C       120        3    5      15   \n",
       "All-Bran                             K    C        70        4    1     260   \n",
       "All-Bran with Extra Fiber            K    C        50        4    0     140   \n",
       "Almond Delight                       R    C       110        2    2     200   \n",
       "\n",
       "                           fiber  carbohydate  sugars  potassium  vitamins  \\\n",
       "name                                                                         \n",
       "100% Bran                   10.0          5.0       6        280        25   \n",
       "100% Natural Bran            2.0          8.0       8        135         0   \n",
       "All-Bran                     9.0          7.0       5        320        25   \n",
       "All-Bran with Extra Fiber   14.0          8.0       0        330        25   \n",
       "Almond Delight               1.0         14.0       8         -1        25   \n",
       "\n",
       "                           weight  cups     rating  is_hot  new_cal_meas  \n",
       "name                                                                      \n",
       "100% Bran                     1.0  0.33  68.402973       0         105.6  \n",
       "100% Natural Bran             1.0  1.00  33.983679       0         179.6  \n",
       "All-Bran                      1.0  0.33  59.425505       0         105.6  \n",
       "All-Bran with Extra Fiber     1.0  0.50  93.704912       0          76.0  \n",
       "Almond Delight                1.0  0.75  34.384843       0         164.8  "
      ]
     },
     "execution_count": 41,
     "metadata": {},
     "output_type": "execute_result"
    }
   ],
   "source": [
    "cereal_df.set_index('name', inplace = True)\n",
    "cereal_df.head()"
   ]
  },
  {
   "cell_type": "markdown",
   "id": "e320b23d",
   "metadata": {
    "slideshow": {
     "slide_type": "slide"
    }
   },
   "source": [
    "- Sometimes we want to reset the index.\n",
    "- This takes index to a column again.\n",
    "- Dataframe index is integer-indexed."
   ]
  },
  {
   "cell_type": "code",
   "execution_count": 42,
   "id": "76357ddc",
   "metadata": {
    "slideshow": {
     "slide_type": "subslide"
    }
   },
   "outputs": [
    {
     "data": {
      "text/html": [
       "<div>\n",
       "<style scoped>\n",
       "    .dataframe tbody tr th:only-of-type {\n",
       "        vertical-align: middle;\n",
       "    }\n",
       "\n",
       "    .dataframe tbody tr th {\n",
       "        vertical-align: top;\n",
       "    }\n",
       "\n",
       "    .dataframe thead th {\n",
       "        text-align: right;\n",
       "    }\n",
       "</style>\n",
       "<table border=\"1\" class=\"dataframe\">\n",
       "  <thead>\n",
       "    <tr style=\"text-align: right;\">\n",
       "      <th></th>\n",
       "      <th>name</th>\n",
       "      <th>manufacturer</th>\n",
       "      <th>type</th>\n",
       "      <th>calories</th>\n",
       "      <th>protein</th>\n",
       "      <th>fat</th>\n",
       "      <th>sodium</th>\n",
       "      <th>fiber</th>\n",
       "      <th>carbohydate</th>\n",
       "      <th>sugars</th>\n",
       "      <th>potassium</th>\n",
       "      <th>vitamins</th>\n",
       "      <th>weight</th>\n",
       "      <th>cups</th>\n",
       "      <th>rating</th>\n",
       "      <th>is_hot</th>\n",
       "      <th>new_cal_meas</th>\n",
       "    </tr>\n",
       "  </thead>\n",
       "  <tbody>\n",
       "    <tr>\n",
       "      <th>0</th>\n",
       "      <td>100% Bran</td>\n",
       "      <td>N</td>\n",
       "      <td>C</td>\n",
       "      <td>70</td>\n",
       "      <td>4</td>\n",
       "      <td>1</td>\n",
       "      <td>130</td>\n",
       "      <td>10.0</td>\n",
       "      <td>5.0</td>\n",
       "      <td>6</td>\n",
       "      <td>280</td>\n",
       "      <td>25</td>\n",
       "      <td>1.0</td>\n",
       "      <td>0.33</td>\n",
       "      <td>68.402973</td>\n",
       "      <td>0</td>\n",
       "      <td>105.6</td>\n",
       "    </tr>\n",
       "    <tr>\n",
       "      <th>1</th>\n",
       "      <td>100% Natural Bran</td>\n",
       "      <td>Q</td>\n",
       "      <td>C</td>\n",
       "      <td>120</td>\n",
       "      <td>3</td>\n",
       "      <td>5</td>\n",
       "      <td>15</td>\n",
       "      <td>2.0</td>\n",
       "      <td>8.0</td>\n",
       "      <td>8</td>\n",
       "      <td>135</td>\n",
       "      <td>0</td>\n",
       "      <td>1.0</td>\n",
       "      <td>1.00</td>\n",
       "      <td>33.983679</td>\n",
       "      <td>0</td>\n",
       "      <td>179.6</td>\n",
       "    </tr>\n",
       "    <tr>\n",
       "      <th>2</th>\n",
       "      <td>All-Bran</td>\n",
       "      <td>K</td>\n",
       "      <td>C</td>\n",
       "      <td>70</td>\n",
       "      <td>4</td>\n",
       "      <td>1</td>\n",
       "      <td>260</td>\n",
       "      <td>9.0</td>\n",
       "      <td>7.0</td>\n",
       "      <td>5</td>\n",
       "      <td>320</td>\n",
       "      <td>25</td>\n",
       "      <td>1.0</td>\n",
       "      <td>0.33</td>\n",
       "      <td>59.425505</td>\n",
       "      <td>0</td>\n",
       "      <td>105.6</td>\n",
       "    </tr>\n",
       "    <tr>\n",
       "      <th>3</th>\n",
       "      <td>All-Bran with Extra Fiber</td>\n",
       "      <td>K</td>\n",
       "      <td>C</td>\n",
       "      <td>50</td>\n",
       "      <td>4</td>\n",
       "      <td>0</td>\n",
       "      <td>140</td>\n",
       "      <td>14.0</td>\n",
       "      <td>8.0</td>\n",
       "      <td>0</td>\n",
       "      <td>330</td>\n",
       "      <td>25</td>\n",
       "      <td>1.0</td>\n",
       "      <td>0.50</td>\n",
       "      <td>93.704912</td>\n",
       "      <td>0</td>\n",
       "      <td>76.0</td>\n",
       "    </tr>\n",
       "    <tr>\n",
       "      <th>4</th>\n",
       "      <td>Almond Delight</td>\n",
       "      <td>R</td>\n",
       "      <td>C</td>\n",
       "      <td>110</td>\n",
       "      <td>2</td>\n",
       "      <td>2</td>\n",
       "      <td>200</td>\n",
       "      <td>1.0</td>\n",
       "      <td>14.0</td>\n",
       "      <td>8</td>\n",
       "      <td>-1</td>\n",
       "      <td>25</td>\n",
       "      <td>1.0</td>\n",
       "      <td>0.75</td>\n",
       "      <td>34.384843</td>\n",
       "      <td>0</td>\n",
       "      <td>164.8</td>\n",
       "    </tr>\n",
       "  </tbody>\n",
       "</table>\n",
       "</div>"
      ],
      "text/plain": [
       "                        name manufacturer type  calories  protein  fat  \\\n",
       "0                  100% Bran            N    C        70        4    1   \n",
       "1          100% Natural Bran            Q    C       120        3    5   \n",
       "2                   All-Bran            K    C        70        4    1   \n",
       "3  All-Bran with Extra Fiber            K    C        50        4    0   \n",
       "4             Almond Delight            R    C       110        2    2   \n",
       "\n",
       "   sodium  fiber  carbohydate  sugars  potassium  vitamins  weight  cups  \\\n",
       "0     130   10.0          5.0       6        280        25     1.0  0.33   \n",
       "1      15    2.0          8.0       8        135         0     1.0  1.00   \n",
       "2     260    9.0          7.0       5        320        25     1.0  0.33   \n",
       "3     140   14.0          8.0       0        330        25     1.0  0.50   \n",
       "4     200    1.0         14.0       8         -1        25     1.0  0.75   \n",
       "\n",
       "      rating  is_hot  new_cal_meas  \n",
       "0  68.402973       0         105.6  \n",
       "1  33.983679       0         179.6  \n",
       "2  59.425505       0         105.6  \n",
       "3  93.704912       0          76.0  \n",
       "4  34.384843       0         164.8  "
      ]
     },
     "execution_count": 42,
     "metadata": {},
     "output_type": "execute_result"
    }
   ],
   "source": [
    "cereal_df.reset_index(inplace = True)\n",
    "cereal_df.head()"
   ]
  },
  {
   "cell_type": "markdown",
   "id": "9377c31c",
   "metadata": {
    "slideshow": {
     "slide_type": "slide"
    }
   },
   "source": [
    "Dropping rows by index name:"
   ]
  },
  {
   "cell_type": "code",
   "execution_count": 44,
   "id": "e4d8f5b3",
   "metadata": {
    "scrolled": true,
    "slideshow": {
     "slide_type": "subslide"
    }
   },
   "outputs": [
    {
     "data": {
      "text/html": [
       "<div>\n",
       "<style scoped>\n",
       "    .dataframe tbody tr th:only-of-type {\n",
       "        vertical-align: middle;\n",
       "    }\n",
       "\n",
       "    .dataframe tbody tr th {\n",
       "        vertical-align: top;\n",
       "    }\n",
       "\n",
       "    .dataframe thead th {\n",
       "        text-align: right;\n",
       "    }\n",
       "</style>\n",
       "<table border=\"1\" class=\"dataframe\">\n",
       "  <thead>\n",
       "    <tr style=\"text-align: right;\">\n",
       "      <th></th>\n",
       "      <th>manufacturer</th>\n",
       "      <th>type</th>\n",
       "      <th>calories</th>\n",
       "      <th>protein</th>\n",
       "      <th>fat</th>\n",
       "      <th>sodium</th>\n",
       "      <th>fiber</th>\n",
       "      <th>carbohydate</th>\n",
       "      <th>sugars</th>\n",
       "      <th>potassium</th>\n",
       "      <th>vitamins</th>\n",
       "      <th>weight</th>\n",
       "      <th>cups</th>\n",
       "      <th>rating</th>\n",
       "      <th>is_hot</th>\n",
       "      <th>new_cal_meas</th>\n",
       "    </tr>\n",
       "    <tr>\n",
       "      <th>name</th>\n",
       "      <th></th>\n",
       "      <th></th>\n",
       "      <th></th>\n",
       "      <th></th>\n",
       "      <th></th>\n",
       "      <th></th>\n",
       "      <th></th>\n",
       "      <th></th>\n",
       "      <th></th>\n",
       "      <th></th>\n",
       "      <th></th>\n",
       "      <th></th>\n",
       "      <th></th>\n",
       "      <th></th>\n",
       "      <th></th>\n",
       "      <th></th>\n",
       "    </tr>\n",
       "  </thead>\n",
       "  <tbody>\n",
       "    <tr>\n",
       "      <th>100% Bran</th>\n",
       "      <td>N</td>\n",
       "      <td>C</td>\n",
       "      <td>70</td>\n",
       "      <td>4</td>\n",
       "      <td>1</td>\n",
       "      <td>130</td>\n",
       "      <td>10.0</td>\n",
       "      <td>5.0</td>\n",
       "      <td>6</td>\n",
       "      <td>280</td>\n",
       "      <td>25</td>\n",
       "      <td>1.0</td>\n",
       "      <td>0.33</td>\n",
       "      <td>68.402973</td>\n",
       "      <td>0</td>\n",
       "      <td>105.6</td>\n",
       "    </tr>\n",
       "    <tr>\n",
       "      <th>100% Natural Bran</th>\n",
       "      <td>Q</td>\n",
       "      <td>C</td>\n",
       "      <td>120</td>\n",
       "      <td>3</td>\n",
       "      <td>5</td>\n",
       "      <td>15</td>\n",
       "      <td>2.0</td>\n",
       "      <td>8.0</td>\n",
       "      <td>8</td>\n",
       "      <td>135</td>\n",
       "      <td>0</td>\n",
       "      <td>1.0</td>\n",
       "      <td>1.00</td>\n",
       "      <td>33.983679</td>\n",
       "      <td>0</td>\n",
       "      <td>179.6</td>\n",
       "    </tr>\n",
       "    <tr>\n",
       "      <th>All-Bran with Extra Fiber</th>\n",
       "      <td>K</td>\n",
       "      <td>C</td>\n",
       "      <td>50</td>\n",
       "      <td>4</td>\n",
       "      <td>0</td>\n",
       "      <td>140</td>\n",
       "      <td>14.0</td>\n",
       "      <td>8.0</td>\n",
       "      <td>0</td>\n",
       "      <td>330</td>\n",
       "      <td>25</td>\n",
       "      <td>1.0</td>\n",
       "      <td>0.50</td>\n",
       "      <td>93.704912</td>\n",
       "      <td>0</td>\n",
       "      <td>76.0</td>\n",
       "    </tr>\n",
       "    <tr>\n",
       "      <th>Almond Delight</th>\n",
       "      <td>R</td>\n",
       "      <td>C</td>\n",
       "      <td>110</td>\n",
       "      <td>2</td>\n",
       "      <td>2</td>\n",
       "      <td>200</td>\n",
       "      <td>1.0</td>\n",
       "      <td>14.0</td>\n",
       "      <td>8</td>\n",
       "      <td>-1</td>\n",
       "      <td>25</td>\n",
       "      <td>1.0</td>\n",
       "      <td>0.75</td>\n",
       "      <td>34.384843</td>\n",
       "      <td>0</td>\n",
       "      <td>164.8</td>\n",
       "    </tr>\n",
       "  </tbody>\n",
       "</table>\n",
       "</div>"
      ],
      "text/plain": [
       "                          manufacturer type  calories  protein  fat  sodium  \\\n",
       "name                                                                          \n",
       "100% Bran                            N    C        70        4    1     130   \n",
       "100% Natural Bran                    Q    C       120        3    5      15   \n",
       "All-Bran with Extra Fiber            K    C        50        4    0     140   \n",
       "Almond Delight                       R    C       110        2    2     200   \n",
       "\n",
       "                           fiber  carbohydate  sugars  potassium  vitamins  \\\n",
       "name                                                                         \n",
       "100% Bran                   10.0          5.0       6        280        25   \n",
       "100% Natural Bran            2.0          8.0       8        135         0   \n",
       "All-Bran with Extra Fiber   14.0          8.0       0        330        25   \n",
       "Almond Delight               1.0         14.0       8         -1        25   \n",
       "\n",
       "                           weight  cups     rating  is_hot  new_cal_meas  \n",
       "name                                                                      \n",
       "100% Bran                     1.0  0.33  68.402973       0         105.6  \n",
       "100% Natural Bran             1.0  1.00  33.983679       0         179.6  \n",
       "All-Bran with Extra Fiber     1.0  0.50  93.704912       0          76.0  \n",
       "Almond Delight                1.0  0.75  34.384843       0         164.8  "
      ]
     },
     "execution_count": 44,
     "metadata": {},
     "output_type": "execute_result"
    }
   ],
   "source": [
    "#cereal_df.set_index('name', inplace = True)\n",
    "#cereal_df\n",
    "allbran_dropped = cereal_df.drop('All-Bran') # can also take a list of index names or an index object\n",
    "allbran_dropped.head(4)"
   ]
  },
  {
   "cell_type": "code",
   "execution_count": 45,
   "id": "fab78002",
   "metadata": {
    "slideshow": {
     "slide_type": "subslide"
    }
   },
   "outputs": [
    {
     "data": {
      "text/html": [
       "<div>\n",
       "<style scoped>\n",
       "    .dataframe tbody tr th:only-of-type {\n",
       "        vertical-align: middle;\n",
       "    }\n",
       "\n",
       "    .dataframe tbody tr th {\n",
       "        vertical-align: top;\n",
       "    }\n",
       "\n",
       "    .dataframe thead th {\n",
       "        text-align: right;\n",
       "    }\n",
       "</style>\n",
       "<table border=\"1\" class=\"dataframe\">\n",
       "  <thead>\n",
       "    <tr style=\"text-align: right;\">\n",
       "      <th></th>\n",
       "      <th>manufacturer</th>\n",
       "      <th>type</th>\n",
       "      <th>calories</th>\n",
       "      <th>protein</th>\n",
       "      <th>fat</th>\n",
       "      <th>sodium</th>\n",
       "      <th>fiber</th>\n",
       "      <th>carbohydate</th>\n",
       "      <th>sugars</th>\n",
       "      <th>potassium</th>\n",
       "      <th>vitamins</th>\n",
       "      <th>weight</th>\n",
       "      <th>cups</th>\n",
       "      <th>rating</th>\n",
       "      <th>is_hot</th>\n",
       "      <th>new_cal_meas</th>\n",
       "    </tr>\n",
       "    <tr>\n",
       "      <th>name</th>\n",
       "      <th></th>\n",
       "      <th></th>\n",
       "      <th></th>\n",
       "      <th></th>\n",
       "      <th></th>\n",
       "      <th></th>\n",
       "      <th></th>\n",
       "      <th></th>\n",
       "      <th></th>\n",
       "      <th></th>\n",
       "      <th></th>\n",
       "      <th></th>\n",
       "      <th></th>\n",
       "      <th></th>\n",
       "      <th></th>\n",
       "      <th></th>\n",
       "    </tr>\n",
       "  </thead>\n",
       "  <tbody>\n",
       "    <tr>\n",
       "      <th>100% Natural Bran</th>\n",
       "      <td>Q</td>\n",
       "      <td>C</td>\n",
       "      <td>120</td>\n",
       "      <td>3</td>\n",
       "      <td>5</td>\n",
       "      <td>15</td>\n",
       "      <td>2.0</td>\n",
       "      <td>8.0</td>\n",
       "      <td>8</td>\n",
       "      <td>135</td>\n",
       "      <td>0</td>\n",
       "      <td>1.0</td>\n",
       "      <td>1.00</td>\n",
       "      <td>33.983679</td>\n",
       "      <td>0</td>\n",
       "      <td>179.6</td>\n",
       "    </tr>\n",
       "    <tr>\n",
       "      <th>All-Bran</th>\n",
       "      <td>K</td>\n",
       "      <td>C</td>\n",
       "      <td>70</td>\n",
       "      <td>4</td>\n",
       "      <td>1</td>\n",
       "      <td>260</td>\n",
       "      <td>9.0</td>\n",
       "      <td>7.0</td>\n",
       "      <td>5</td>\n",
       "      <td>320</td>\n",
       "      <td>25</td>\n",
       "      <td>1.0</td>\n",
       "      <td>0.33</td>\n",
       "      <td>59.425505</td>\n",
       "      <td>0</td>\n",
       "      <td>105.6</td>\n",
       "    </tr>\n",
       "    <tr>\n",
       "      <th>All-Bran with Extra Fiber</th>\n",
       "      <td>K</td>\n",
       "      <td>C</td>\n",
       "      <td>50</td>\n",
       "      <td>4</td>\n",
       "      <td>0</td>\n",
       "      <td>140</td>\n",
       "      <td>14.0</td>\n",
       "      <td>8.0</td>\n",
       "      <td>0</td>\n",
       "      <td>330</td>\n",
       "      <td>25</td>\n",
       "      <td>1.0</td>\n",
       "      <td>0.50</td>\n",
       "      <td>93.704912</td>\n",
       "      <td>0</td>\n",
       "      <td>76.0</td>\n",
       "    </tr>\n",
       "    <tr>\n",
       "      <th>Apple Cinnamon Cheerios</th>\n",
       "      <td>G</td>\n",
       "      <td>C</td>\n",
       "      <td>110</td>\n",
       "      <td>2</td>\n",
       "      <td>2</td>\n",
       "      <td>180</td>\n",
       "      <td>1.5</td>\n",
       "      <td>10.5</td>\n",
       "      <td>10</td>\n",
       "      <td>70</td>\n",
       "      <td>25</td>\n",
       "      <td>1.0</td>\n",
       "      <td>0.75</td>\n",
       "      <td>29.509541</td>\n",
       "      <td>0</td>\n",
       "      <td>164.8</td>\n",
       "    </tr>\n",
       "    <tr>\n",
       "      <th>Apple Jacks</th>\n",
       "      <td>K</td>\n",
       "      <td>C</td>\n",
       "      <td>110</td>\n",
       "      <td>2</td>\n",
       "      <td>0</td>\n",
       "      <td>125</td>\n",
       "      <td>1.0</td>\n",
       "      <td>11.0</td>\n",
       "      <td>14</td>\n",
       "      <td>30</td>\n",
       "      <td>25</td>\n",
       "      <td>1.0</td>\n",
       "      <td>1.00</td>\n",
       "      <td>33.174094</td>\n",
       "      <td>0</td>\n",
       "      <td>164.8</td>\n",
       "    </tr>\n",
       "  </tbody>\n",
       "</table>\n",
       "</div>"
      ],
      "text/plain": [
       "                          manufacturer type  calories  protein  fat  sodium  \\\n",
       "name                                                                          \n",
       "100% Natural Bran                    Q    C       120        3    5      15   \n",
       "All-Bran                             K    C        70        4    1     260   \n",
       "All-Bran with Extra Fiber            K    C        50        4    0     140   \n",
       "Apple Cinnamon Cheerios              G    C       110        2    2     180   \n",
       "Apple Jacks                          K    C       110        2    0     125   \n",
       "\n",
       "                           fiber  carbohydate  sugars  potassium  vitamins  \\\n",
       "name                                                                         \n",
       "100% Natural Bran            2.0          8.0       8        135         0   \n",
       "All-Bran                     9.0          7.0       5        320        25   \n",
       "All-Bran with Extra Fiber   14.0          8.0       0        330        25   \n",
       "Apple Cinnamon Cheerios      1.5         10.5      10         70        25   \n",
       "Apple Jacks                  1.0         11.0      14         30        25   \n",
       "\n",
       "                           weight  cups     rating  is_hot  new_cal_meas  \n",
       "name                                                                      \n",
       "100% Natural Bran             1.0  1.00  33.983679       0         179.6  \n",
       "All-Bran                      1.0  0.33  59.425505       0         105.6  \n",
       "All-Bran with Extra Fiber     1.0  0.50  93.704912       0          76.0  \n",
       "Apple Cinnamon Cheerios       1.0  0.75  29.509541       0         164.8  \n",
       "Apple Jacks                   1.0  1.00  33.174094       0         164.8  "
      ]
     },
     "execution_count": 45,
     "metadata": {},
     "output_type": "execute_result"
    }
   ],
   "source": [
    "two_dropped = cereal_df.drop(['100% Bran', 'Almond Delight'])\n",
    "two_dropped.head()"
   ]
  },
  {
   "cell_type": "markdown",
   "id": "dbfc3c63",
   "metadata": {
    "slideshow": {
     "slide_type": "slide"
    }
   },
   "source": [
    "#### Altering dataframe/series values\n",
    "\n",
    "- It's really important to use the .loc[] accessor when assigning data to dataframe/series selections.\n",
    "- Here's why:"
   ]
  },
  {
   "cell_type": "markdown",
   "id": "42d28458",
   "metadata": {
    "slideshow": {
     "slide_type": "subslide"
    }
   },
   "source": [
    "Select all cold cereals and look at their rating:"
   ]
  },
  {
   "cell_type": "code",
   "execution_count": 26,
   "id": "087bf2b2",
   "metadata": {
    "slideshow": {
     "slide_type": "-"
    }
   },
   "outputs": [
    {
     "data": {
      "text/plain": [
       "name\n",
       "100% Bran                    68.402973\n",
       "100% Natural Bran            33.983679\n",
       "All-Bran                     59.425505\n",
       "All-Bran with Extra Fiber    93.704912\n",
       "Almond Delight               34.384843\n",
       "                               ...    \n",
       "Triples                      39.106174\n",
       "Trix                         27.753301\n",
       "Wheat Chex                   49.787445\n",
       "Wheaties                     51.592193\n",
       "Wheaties Honey Gold          36.187559\n",
       "Name: rating, Length: 74, dtype: float64"
      ]
     },
     "execution_count": 26,
     "metadata": {},
     "output_type": "execute_result"
    }
   ],
   "source": [
    "cereal_df[cereal_df[\"type\"] == 'C'][\"rating\"] "
   ]
  },
  {
   "cell_type": "markdown",
   "id": "d009df38",
   "metadata": {
    "slideshow": {
     "slide_type": "subslide"
    }
   },
   "source": [
    "Now, add 5 to this selection."
   ]
  },
  {
   "cell_type": "code",
   "execution_count": 27,
   "id": "8bc80662",
   "metadata": {
    "slideshow": {
     "slide_type": "-"
    }
   },
   "outputs": [
    {
     "data": {
      "text/plain": [
       "name\n",
       "100% Bran                    73.402973\n",
       "100% Natural Bran            38.983679\n",
       "All-Bran                     64.425505\n",
       "All-Bran with Extra Fiber    98.704912\n",
       "Almond Delight               39.384843\n",
       "                               ...    \n",
       "Triples                      44.106174\n",
       "Trix                         32.753301\n",
       "Wheat Chex                   54.787445\n",
       "Wheaties                     56.592193\n",
       "Wheaties Honey Gold          41.187559\n",
       "Name: rating, Length: 74, dtype: float64"
      ]
     },
     "execution_count": 27,
     "metadata": {},
     "output_type": "execute_result"
    }
   ],
   "source": [
    "cereal_df[cereal_df[\"type\"] == 'C'][\"rating\"] + 5"
   ]
  },
  {
   "cell_type": "markdown",
   "id": "aa5f7d21",
   "metadata": {
    "slideshow": {
     "slide_type": "subslide"
    }
   },
   "source": [
    "Assign this modification to our original selection:"
   ]
  },
  {
   "cell_type": "code",
   "execution_count": 28,
   "id": "8dcda1f0",
   "metadata": {
    "slideshow": {
     "slide_type": "-"
    }
   },
   "outputs": [
    {
     "name": "stderr",
     "output_type": "stream",
     "text": [
      "C:\\Users\\prave\\AppData\\Local\\Temp/ipykernel_23812/465635476.py:1: SettingWithCopyWarning: \n",
      "A value is trying to be set on a copy of a slice from a DataFrame.\n",
      "Try using .loc[row_indexer,col_indexer] = value instead\n",
      "\n",
      "See the caveats in the documentation: https://pandas.pydata.org/pandas-docs/stable/user_guide/indexing.html#returning-a-view-versus-a-copy\n",
      "  cereal_df[cereal_df[\"type\"] == 'C'][\"rating\"] = cereal_df[cereal_df[\"type\"] == 'C'][\"rating\"] + 5\n"
     ]
    }
   ],
   "source": [
    "cereal_df[cereal_df[\"type\"] == 'C'][\"rating\"] = cereal_df[cereal_df[\"type\"] == 'C'][\"rating\"] + 5 "
   ]
  },
  {
   "cell_type": "markdown",
   "id": "851b2b79",
   "metadata": {},
   "source": [
    "Uh...oh. A warning was issued. Let's see what our assignment did:"
   ]
  },
  {
   "cell_type": "code",
   "execution_count": 29,
   "id": "dde3ff79",
   "metadata": {
    "slideshow": {
     "slide_type": "subslide"
    }
   },
   "outputs": [
    {
     "data": {
      "text/plain": [
       "name\n",
       "100% Bran                    68.402973\n",
       "100% Natural Bran            33.983679\n",
       "All-Bran                     59.425505\n",
       "All-Bran with Extra Fiber    93.704912\n",
       "Almond Delight               34.384843\n",
       "                               ...    \n",
       "Triples                      39.106174\n",
       "Trix                         27.753301\n",
       "Wheat Chex                   49.787445\n",
       "Wheaties                     51.592193\n",
       "Wheaties Honey Gold          36.187559\n",
       "Name: rating, Length: 74, dtype: float64"
      ]
     },
     "execution_count": 29,
     "metadata": {},
     "output_type": "execute_result"
    }
   ],
   "source": [
    "cereal_df[cereal_df[\"type\"] == 'C'][\"rating\"]"
   ]
  },
  {
   "cell_type": "markdown",
   "id": "d76ae62c",
   "metadata": {
    "slideshow": {
     "slide_type": "slide"
    }
   },
   "source": [
    "No change was made to original dataframe.\n",
    "\n",
    ".loc accessor[] accesses original dataframe in memory. Thus:"
   ]
  },
  {
   "cell_type": "code",
   "execution_count": 46,
   "id": "b20336f6",
   "metadata": {
    "slideshow": {
     "slide_type": "subslide"
    }
   },
   "outputs": [
    {
     "data": {
      "text/plain": [
       "name\n",
       "100% Bran                    73.402973\n",
       "100% Natural Bran            38.983679\n",
       "All-Bran                     64.425505\n",
       "All-Bran with Extra Fiber    98.704912\n",
       "Almond Delight               39.384843\n",
       "                               ...    \n",
       "Triples                      44.106174\n",
       "Trix                         32.753301\n",
       "Wheat Chex                   54.787445\n",
       "Wheaties                     56.592193\n",
       "Wheaties Honey Gold          41.187559\n",
       "Name: rating, Length: 74, dtype: float64"
      ]
     },
     "execution_count": 46,
     "metadata": {},
     "output_type": "execute_result"
    }
   ],
   "source": [
    "cereal_df.loc[cereal_df[\"type\"] == 'C', \"rating\"] += 5\n",
    "cereal_df.loc[cereal_df[\"type\"] == 'C', \"rating\"]"
   ]
  },
  {
   "cell_type": "markdown",
   "id": "df40b70e",
   "metadata": {
    "cell_style": "center",
    "slideshow": {
     "slide_type": "slide"
    }
   },
   "source": [
    "#### Datetime indices\n",
    "- Pandas supports datetime types\n",
    "- Series/DataFrame index: special operations/functionality for datetimes\n",
    "\n",
    "Load MTA turnsile maintenance dataset to see pandas datetimes in action!"
   ]
  },
  {
   "cell_type": "code",
   "execution_count": 61,
   "id": "f4352d1d",
   "metadata": {
    "slideshow": {
     "slide_type": "slide"
    }
   },
   "outputs": [
    {
     "data": {
      "text/html": [
       "<div>\n",
       "<style scoped>\n",
       "    .dataframe tbody tr th:only-of-type {\n",
       "        vertical-align: middle;\n",
       "    }\n",
       "\n",
       "    .dataframe tbody tr th {\n",
       "        vertical-align: top;\n",
       "    }\n",
       "\n",
       "    .dataframe thead th {\n",
       "        text-align: right;\n",
       "    }\n",
       "</style>\n",
       "<table border=\"1\" class=\"dataframe\">\n",
       "  <thead>\n",
       "    <tr style=\"text-align: right;\">\n",
       "      <th></th>\n",
       "      <th>C/A</th>\n",
       "      <th>UNIT</th>\n",
       "      <th>SCP</th>\n",
       "      <th>STATION</th>\n",
       "      <th>LINENAME</th>\n",
       "      <th>DIVISION</th>\n",
       "      <th>DATE</th>\n",
       "      <th>TIME</th>\n",
       "      <th>DESC</th>\n",
       "      <th>ENTRIES</th>\n",
       "      <th>EXITS</th>\n",
       "    </tr>\n",
       "  </thead>\n",
       "  <tbody>\n",
       "    <tr>\n",
       "      <th>0</th>\n",
       "      <td>A002</td>\n",
       "      <td>R051</td>\n",
       "      <td>02-00-00</td>\n",
       "      <td>59 ST</td>\n",
       "      <td>NQR456W</td>\n",
       "      <td>BMT</td>\n",
       "      <td>08/25/2018</td>\n",
       "      <td>00:00:00</td>\n",
       "      <td>REGULAR</td>\n",
       "      <td>6736067</td>\n",
       "      <td>2283184</td>\n",
       "    </tr>\n",
       "    <tr>\n",
       "      <th>1</th>\n",
       "      <td>A002</td>\n",
       "      <td>R051</td>\n",
       "      <td>02-00-00</td>\n",
       "      <td>59 ST</td>\n",
       "      <td>NQR456W</td>\n",
       "      <td>BMT</td>\n",
       "      <td>08/25/2018</td>\n",
       "      <td>04:00:00</td>\n",
       "      <td>REGULAR</td>\n",
       "      <td>6736087</td>\n",
       "      <td>2283188</td>\n",
       "    </tr>\n",
       "  </tbody>\n",
       "</table>\n",
       "</div>"
      ],
      "text/plain": [
       "    C/A  UNIT       SCP STATION LINENAME DIVISION        DATE      TIME  \\\n",
       "0  A002  R051  02-00-00   59 ST  NQR456W      BMT  08/25/2018  00:00:00   \n",
       "1  A002  R051  02-00-00   59 ST  NQR456W      BMT  08/25/2018  04:00:00   \n",
       "\n",
       "      DESC  ENTRIES  \\\n",
       "0  REGULAR  6736067   \n",
       "1  REGULAR  6736087   \n",
       "\n",
       "   EXITS                                                                 \n",
       "0                                            2283184                     \n",
       "1                                            2283188                     "
      ]
     },
     "execution_count": 61,
     "metadata": {},
     "output_type": "execute_result"
    }
   ],
   "source": [
    "turnstile_df = pd.read_csv('Data/turnstile_180901.txt')\n",
    "turnstile_df.head(2)"
   ]
  },
  {
   "cell_type": "code",
   "execution_count": 62,
   "id": "fa88048d",
   "metadata": {
    "cell_style": "split",
    "slideshow": {
     "slide_type": "slide"
    }
   },
   "outputs": [
    {
     "data": {
      "text/plain": [
       "0         08/25/2018\n",
       "1         08/25/2018\n",
       "2         08/25/2018\n",
       "3         08/25/2018\n",
       "4         08/25/2018\n",
       "             ...    \n",
       "197620    08/31/2018\n",
       "197621    08/31/2018\n",
       "197622    08/31/2018\n",
       "197623    08/31/2018\n",
       "197624    08/31/2018\n",
       "Name: DATE, Length: 197625, dtype: object"
      ]
     },
     "execution_count": 62,
     "metadata": {},
     "output_type": "execute_result"
    }
   ],
   "source": [
    "turnstile_df['DATE']"
   ]
  },
  {
   "cell_type": "code",
   "execution_count": 63,
   "id": "902f2a52",
   "metadata": {
    "cell_style": "split",
    "slideshow": {
     "slide_type": "fragment"
    }
   },
   "outputs": [
    {
     "data": {
      "text/plain": [
       "0         00:00:00\n",
       "1         04:00:00\n",
       "2         08:00:00\n",
       "3         12:00:00\n",
       "4         16:00:00\n",
       "            ...   \n",
       "197620    05:00:00\n",
       "197621    09:00:00\n",
       "197622    13:00:00\n",
       "197623    17:00:00\n",
       "197624    21:00:00\n",
       "Name: TIME, Length: 197625, dtype: object"
      ]
     },
     "execution_count": 63,
     "metadata": {},
     "output_type": "execute_result"
    }
   ],
   "source": [
    "turnstile_df['TIME']"
   ]
  },
  {
   "cell_type": "markdown",
   "id": "228ff257",
   "metadata": {
    "slideshow": {
     "slide_type": "fragment"
    }
   },
   "source": [
    "Both in string format."
   ]
  },
  {
   "cell_type": "markdown",
   "id": "3e99dab2",
   "metadata": {
    "slideshow": {
     "slide_type": "slide"
    }
   },
   "source": [
    "- Join date and time.\n",
    "- Assign to new column."
   ]
  },
  {
   "cell_type": "code",
   "execution_count": 64,
   "id": "ff21a0fe",
   "metadata": {
    "scrolled": true,
    "slideshow": {
     "slide_type": "fragment"
    }
   },
   "outputs": [
    {
     "data": {
      "text/plain": [
       "0    08/25/2018 00:00:00\n",
       "1    08/25/2018 04:00:00\n",
       "2    08/25/2018 08:00:00\n",
       "3    08/25/2018 12:00:00\n",
       "4    08/25/2018 16:00:00\n",
       "Name: DATETIME, dtype: object"
      ]
     },
     "execution_count": 64,
     "metadata": {},
     "output_type": "execute_result"
    }
   ],
   "source": [
    "    turnstile_df['DATETIME'] = turnstile_df['DATE'] + ' ' + turnstile_df['TIME']\n",
    "    turnstile_df.drop(columns = ['DATE', 'TIME'], inplace = True)\n",
    "    turnstile_df['DATETIME'].head()"
   ]
  },
  {
   "cell_type": "code",
   "execution_count": 65,
   "id": "3cbbd8ac",
   "metadata": {},
   "outputs": [
    {
     "name": "stdout",
     "output_type": "stream",
     "text": [
      "<class 'pandas.core.frame.DataFrame'>\n",
      "RangeIndex: 197625 entries, 0 to 197624\n",
      "Data columns (total 10 columns):\n",
      " #   Column                                                                Non-Null Count   Dtype \n",
      "---  ------                                                                --------------   ----- \n",
      " 0   C/A                                                                   197625 non-null  object\n",
      " 1   UNIT                                                                  197625 non-null  object\n",
      " 2   SCP                                                                   197625 non-null  object\n",
      " 3   STATION                                                               197625 non-null  object\n",
      " 4   LINENAME                                                              197625 non-null  object\n",
      " 5   DIVISION                                                              197625 non-null  object\n",
      " 6   DESC                                                                  197625 non-null  object\n",
      " 7   ENTRIES                                                               197625 non-null  int64 \n",
      " 8   EXITS                                                                 197625 non-null  int64 \n",
      " 9   DATETIME                                                              197625 non-null  object\n",
      "dtypes: int64(2), object(8)\n",
      "memory usage: 15.1+ MB\n"
     ]
    }
   ],
   "source": [
    "turnstile_df.info()"
   ]
  },
  {
   "cell_type": "code",
   "execution_count": 66,
   "id": "58e02a0f",
   "metadata": {},
   "outputs": [
    {
     "data": {
      "text/plain": [
       "0         08/25/2018 00:00:00\n",
       "1         08/25/2018 04:00:00\n",
       "2         08/25/2018 08:00:00\n",
       "3         08/25/2018 12:00:00\n",
       "4         08/25/2018 16:00:00\n",
       "                 ...         \n",
       "197620    08/31/2018 05:00:00\n",
       "197621    08/31/2018 09:00:00\n",
       "197622    08/31/2018 13:00:00\n",
       "197623    08/31/2018 17:00:00\n",
       "197624    08/31/2018 21:00:00\n",
       "Name: DATETIME, Length: 197625, dtype: object"
      ]
     },
     "execution_count": 66,
     "metadata": {},
     "output_type": "execute_result"
    }
   ],
   "source": [
    "turnstile_df['DATETIME']"
   ]
  },
  {
   "cell_type": "markdown",
   "id": "15e2f991",
   "metadata": {
    "slideshow": {
     "slide_type": "subslide"
    }
   },
   "source": [
    "- Convert string to datetime type.\n",
    "- pd.to_datetime(): can intelligently parse various common datetime string formats\n",
    "- %m/%d/%Y date format parsing."
   ]
  },
  {
   "cell_type": "code",
   "execution_count": 67,
   "id": "27d8efc4",
   "metadata": {
    "slideshow": {
     "slide_type": "fragment"
    }
   },
   "outputs": [],
   "source": [
    " turnstile_df['DATETIME'] = pd.to_datetime(turnstile_df['DATETIME'])"
   ]
  },
  {
   "cell_type": "code",
   "execution_count": 68,
   "id": "fa9b29fe",
   "metadata": {
    "slideshow": {
     "slide_type": "slide"
    }
   },
   "outputs": [
    {
     "data": {
      "text/html": [
       "<div>\n",
       "<style scoped>\n",
       "    .dataframe tbody tr th:only-of-type {\n",
       "        vertical-align: middle;\n",
       "    }\n",
       "\n",
       "    .dataframe tbody tr th {\n",
       "        vertical-align: top;\n",
       "    }\n",
       "\n",
       "    .dataframe thead th {\n",
       "        text-align: right;\n",
       "    }\n",
       "</style>\n",
       "<table border=\"1\" class=\"dataframe\">\n",
       "  <thead>\n",
       "    <tr style=\"text-align: right;\">\n",
       "      <th></th>\n",
       "      <th>C/A</th>\n",
       "      <th>UNIT</th>\n",
       "      <th>SCP</th>\n",
       "      <th>STATION</th>\n",
       "      <th>LINENAME</th>\n",
       "      <th>DIVISION</th>\n",
       "      <th>DESC</th>\n",
       "      <th>ENTRIES</th>\n",
       "      <th>EXITS</th>\n",
       "      <th>DATETIME</th>\n",
       "    </tr>\n",
       "  </thead>\n",
       "  <tbody>\n",
       "    <tr>\n",
       "      <th>0</th>\n",
       "      <td>A002</td>\n",
       "      <td>R051</td>\n",
       "      <td>02-00-00</td>\n",
       "      <td>59 ST</td>\n",
       "      <td>NQR456W</td>\n",
       "      <td>BMT</td>\n",
       "      <td>REGULAR</td>\n",
       "      <td>6736067</td>\n",
       "      <td>2283184</td>\n",
       "      <td>2018-08-25 00:00:00</td>\n",
       "    </tr>\n",
       "    <tr>\n",
       "      <th>1</th>\n",
       "      <td>A002</td>\n",
       "      <td>R051</td>\n",
       "      <td>02-00-00</td>\n",
       "      <td>59 ST</td>\n",
       "      <td>NQR456W</td>\n",
       "      <td>BMT</td>\n",
       "      <td>REGULAR</td>\n",
       "      <td>6736087</td>\n",
       "      <td>2283188</td>\n",
       "      <td>2018-08-25 04:00:00</td>\n",
       "    </tr>\n",
       "    <tr>\n",
       "      <th>2</th>\n",
       "      <td>A002</td>\n",
       "      <td>R051</td>\n",
       "      <td>02-00-00</td>\n",
       "      <td>59 ST</td>\n",
       "      <td>NQR456W</td>\n",
       "      <td>BMT</td>\n",
       "      <td>REGULAR</td>\n",
       "      <td>6736105</td>\n",
       "      <td>2283229</td>\n",
       "      <td>2018-08-25 08:00:00</td>\n",
       "    </tr>\n",
       "    <tr>\n",
       "      <th>3</th>\n",
       "      <td>A002</td>\n",
       "      <td>R051</td>\n",
       "      <td>02-00-00</td>\n",
       "      <td>59 ST</td>\n",
       "      <td>NQR456W</td>\n",
       "      <td>BMT</td>\n",
       "      <td>REGULAR</td>\n",
       "      <td>6736180</td>\n",
       "      <td>2283314</td>\n",
       "      <td>2018-08-25 12:00:00</td>\n",
       "    </tr>\n",
       "    <tr>\n",
       "      <th>4</th>\n",
       "      <td>A002</td>\n",
       "      <td>R051</td>\n",
       "      <td>02-00-00</td>\n",
       "      <td>59 ST</td>\n",
       "      <td>NQR456W</td>\n",
       "      <td>BMT</td>\n",
       "      <td>REGULAR</td>\n",
       "      <td>6736349</td>\n",
       "      <td>2283384</td>\n",
       "      <td>2018-08-25 16:00:00</td>\n",
       "    </tr>\n",
       "  </tbody>\n",
       "</table>\n",
       "</div>"
      ],
      "text/plain": [
       "    C/A  UNIT       SCP STATION LINENAME DIVISION     DESC  ENTRIES  \\\n",
       "0  A002  R051  02-00-00   59 ST  NQR456W      BMT  REGULAR  6736067   \n",
       "1  A002  R051  02-00-00   59 ST  NQR456W      BMT  REGULAR  6736087   \n",
       "2  A002  R051  02-00-00   59 ST  NQR456W      BMT  REGULAR  6736105   \n",
       "3  A002  R051  02-00-00   59 ST  NQR456W      BMT  REGULAR  6736180   \n",
       "4  A002  R051  02-00-00   59 ST  NQR456W      BMT  REGULAR  6736349   \n",
       "\n",
       "   EXITS                                                                 \\\n",
       "0                                            2283184                      \n",
       "1                                            2283188                      \n",
       "2                                            2283229                      \n",
       "3                                            2283314                      \n",
       "4                                            2283384                      \n",
       "\n",
       "             DATETIME  \n",
       "0 2018-08-25 00:00:00  \n",
       "1 2018-08-25 04:00:00  \n",
       "2 2018-08-25 08:00:00  \n",
       "3 2018-08-25 12:00:00  \n",
       "4 2018-08-25 16:00:00  "
      ]
     },
     "execution_count": 68,
     "metadata": {},
     "output_type": "execute_result"
    }
   ],
   "source": [
    "turnstile_df.head()"
   ]
  },
  {
   "cell_type": "code",
   "execution_count": 69,
   "id": "b45b8be3",
   "metadata": {
    "slideshow": {
     "slide_type": "slide"
    }
   },
   "outputs": [
    {
     "data": {
      "text/plain": [
       "0        2018-08-25 00:00:00\n",
       "1        2018-08-25 04:00:00\n",
       "2        2018-08-25 08:00:00\n",
       "3        2018-08-25 12:00:00\n",
       "4        2018-08-25 16:00:00\n",
       "                 ...        \n",
       "197620   2018-08-31 05:00:00\n",
       "197621   2018-08-31 09:00:00\n",
       "197622   2018-08-31 13:00:00\n",
       "197623   2018-08-31 17:00:00\n",
       "197624   2018-08-31 21:00:00\n",
       "Name: DATETIME, Length: 197625, dtype: datetime64[ns]"
      ]
     },
     "execution_count": 69,
     "metadata": {},
     "output_type": "execute_result"
    }
   ],
   "source": [
    "turnstile_df['DATETIME']"
   ]
  },
  {
   "cell_type": "markdown",
   "id": "c8efc58f",
   "metadata": {
    "slideshow": {
     "slide_type": "slide"
    }
   },
   "source": [
    "This is a datetime series. Datetime series have vectorized methods and attributes that are very useful.\n",
    "- Round date to nearest start of week.\n",
    "- Get named day of week for date."
   ]
  },
  {
   "cell_type": "code",
   "execution_count": 70,
   "id": "eff7bf1e",
   "metadata": {
    "cell_style": "split",
    "slideshow": {
     "slide_type": "fragment"
    }
   },
   "outputs": [
    {
     "data": {
      "text/plain": [
       "0        2018-08-23\n",
       "1        2018-08-23\n",
       "2        2018-08-23\n",
       "3        2018-08-23\n",
       "4        2018-08-23\n",
       "            ...    \n",
       "197620   2018-08-30\n",
       "197621   2018-08-30\n",
       "197622   2018-08-30\n",
       "197623   2018-08-30\n",
       "197624   2018-08-30\n",
       "Name: DATETIME, Length: 197625, dtype: datetime64[ns]"
      ]
     },
     "execution_count": 70,
     "metadata": {},
     "output_type": "execute_result"
    }
   ],
   "source": [
    "turnstile_df['DATETIME'].dt.round('7D')"
   ]
  },
  {
   "cell_type": "code",
   "execution_count": 71,
   "id": "e8791079",
   "metadata": {
    "cell_style": "split",
    "slideshow": {
     "slide_type": "fragment"
    }
   },
   "outputs": [
    {
     "data": {
      "text/plain": [
       "0         Saturday\n",
       "1         Saturday\n",
       "2         Saturday\n",
       "3         Saturday\n",
       "4         Saturday\n",
       "            ...   \n",
       "197620      Friday\n",
       "197621      Friday\n",
       "197622      Friday\n",
       "197623      Friday\n",
       "197624      Friday\n",
       "Name: DATETIME, Length: 197625, dtype: object"
      ]
     },
     "execution_count": 71,
     "metadata": {},
     "output_type": "execute_result"
    }
   ],
   "source": [
    "turnstile_df['DATETIME'].dt.day_name()"
   ]
  },
  {
   "cell_type": "markdown",
   "id": "98ce70f5",
   "metadata": {
    "slideshow": {
     "slide_type": "slide"
    }
   },
   "source": [
    "Set column to our datetime index."
   ]
  },
  {
   "cell_type": "code",
   "execution_count": 72,
   "id": "f0daea5a",
   "metadata": {
    "slideshow": {
     "slide_type": "fragment"
    }
   },
   "outputs": [],
   "source": [
    "turnstile_df.set_index('DATETIME', inplace = True)"
   ]
  },
  {
   "cell_type": "code",
   "execution_count": 76,
   "id": "cfd7e9ff",
   "metadata": {},
   "outputs": [],
   "source": [
    "turnstile_df = turnstile_df.sort_index()"
   ]
  },
  {
   "cell_type": "markdown",
   "id": "dcfdc4ad",
   "metadata": {},
   "source": [
    "We now have a datetime index."
   ]
  },
  {
   "cell_type": "code",
   "execution_count": 85,
   "id": "c1783ad3",
   "metadata": {
    "slideshow": {
     "slide_type": "subslide"
    }
   },
   "outputs": [
    {
     "data": {
      "text/html": [
       "<div>\n",
       "<style scoped>\n",
       "    .dataframe tbody tr th:only-of-type {\n",
       "        vertical-align: middle;\n",
       "    }\n",
       "\n",
       "    .dataframe tbody tr th {\n",
       "        vertical-align: top;\n",
       "    }\n",
       "\n",
       "    .dataframe thead th {\n",
       "        text-align: right;\n",
       "    }\n",
       "</style>\n",
       "<table border=\"1\" class=\"dataframe\">\n",
       "  <thead>\n",
       "    <tr style=\"text-align: right;\">\n",
       "      <th></th>\n",
       "      <th>C/A</th>\n",
       "      <th>UNIT</th>\n",
       "      <th>SCP</th>\n",
       "      <th>STATION</th>\n",
       "      <th>LINENAME</th>\n",
       "      <th>DIVISION</th>\n",
       "      <th>DESC</th>\n",
       "      <th>ENTRIES</th>\n",
       "      <th>EXITS</th>\n",
       "    </tr>\n",
       "    <tr>\n",
       "      <th>DATETIME</th>\n",
       "      <th></th>\n",
       "      <th></th>\n",
       "      <th></th>\n",
       "      <th></th>\n",
       "      <th></th>\n",
       "      <th></th>\n",
       "      <th></th>\n",
       "      <th></th>\n",
       "      <th></th>\n",
       "    </tr>\n",
       "  </thead>\n",
       "  <tbody>\n",
       "    <tr>\n",
       "      <th>2018-08-25 00:00:00</th>\n",
       "      <td>A002</td>\n",
       "      <td>R051</td>\n",
       "      <td>02-00-00</td>\n",
       "      <td>59 ST</td>\n",
       "      <td>NQR456W</td>\n",
       "      <td>BMT</td>\n",
       "      <td>REGULAR</td>\n",
       "      <td>6736067</td>\n",
       "      <td>2283184</td>\n",
       "    </tr>\n",
       "    <tr>\n",
       "      <th>2018-08-25 00:00:00</th>\n",
       "      <td>R728</td>\n",
       "      <td>R226</td>\n",
       "      <td>00-00-01</td>\n",
       "      <td>GUN HILL RD</td>\n",
       "      <td>5</td>\n",
       "      <td>IRT</td>\n",
       "      <td>REGULAR</td>\n",
       "      <td>2530477</td>\n",
       "      <td>585174</td>\n",
       "    </tr>\n",
       "    <tr>\n",
       "      <th>2018-08-25 00:00:00</th>\n",
       "      <td>R606</td>\n",
       "      <td>R225</td>\n",
       "      <td>00-00-04</td>\n",
       "      <td>HOYT ST</td>\n",
       "      <td>23</td>\n",
       "      <td>IRT</td>\n",
       "      <td>REGULAR</td>\n",
       "      <td>1552288</td>\n",
       "      <td>3855944</td>\n",
       "    </tr>\n",
       "    <tr>\n",
       "      <th>2018-08-25 00:00:00</th>\n",
       "      <td>N535</td>\n",
       "      <td>R220</td>\n",
       "      <td>00-00-01</td>\n",
       "      <td>CARROLL ST</td>\n",
       "      <td>FG</td>\n",
       "      <td>IND</td>\n",
       "      <td>REGULAR</td>\n",
       "      <td>3815302</td>\n",
       "      <td>2414507</td>\n",
       "    </tr>\n",
       "    <tr>\n",
       "      <th>2018-08-25 00:00:00</th>\n",
       "      <td>N535</td>\n",
       "      <td>R220</td>\n",
       "      <td>00-00-02</td>\n",
       "      <td>CARROLL ST</td>\n",
       "      <td>FG</td>\n",
       "      <td>IND</td>\n",
       "      <td>REGULAR</td>\n",
       "      <td>16152865</td>\n",
       "      <td>3262980</td>\n",
       "    </tr>\n",
       "    <tr>\n",
       "      <th>...</th>\n",
       "      <td>...</td>\n",
       "      <td>...</td>\n",
       "      <td>...</td>\n",
       "      <td>...</td>\n",
       "      <td>...</td>\n",
       "      <td>...</td>\n",
       "      <td>...</td>\n",
       "      <td>...</td>\n",
       "      <td>...</td>\n",
       "    </tr>\n",
       "    <tr>\n",
       "      <th>2018-08-25 23:56:25</th>\n",
       "      <td>PTH03</td>\n",
       "      <td>R552</td>\n",
       "      <td>00-00-05</td>\n",
       "      <td>JOURNAL SQUARE</td>\n",
       "      <td>1</td>\n",
       "      <td>PTH</td>\n",
       "      <td>REGULAR</td>\n",
       "      <td>724614</td>\n",
       "      <td>120158</td>\n",
       "    </tr>\n",
       "    <tr>\n",
       "      <th>2018-08-25 23:56:32</th>\n",
       "      <td>PTH22</td>\n",
       "      <td>R540</td>\n",
       "      <td>00-03-03</td>\n",
       "      <td>PATH NEW WTC</td>\n",
       "      <td>1</td>\n",
       "      <td>PTH</td>\n",
       "      <td>REGULAR</td>\n",
       "      <td>220757</td>\n",
       "      <td>406424</td>\n",
       "    </tr>\n",
       "    <tr>\n",
       "      <th>2018-08-25 23:57:06</th>\n",
       "      <td>PTH16</td>\n",
       "      <td>R550</td>\n",
       "      <td>01-01-03</td>\n",
       "      <td>LACKAWANNA</td>\n",
       "      <td>1</td>\n",
       "      <td>PTH</td>\n",
       "      <td>REGULAR</td>\n",
       "      <td>359509</td>\n",
       "      <td>129350</td>\n",
       "    </tr>\n",
       "    <tr>\n",
       "      <th>2018-08-25 23:58:20</th>\n",
       "      <td>PTH16</td>\n",
       "      <td>R550</td>\n",
       "      <td>01-00-04</td>\n",
       "      <td>LACKAWANNA</td>\n",
       "      <td>1</td>\n",
       "      <td>PTH</td>\n",
       "      <td>REGULAR</td>\n",
       "      <td>248543</td>\n",
       "      <td>564446</td>\n",
       "    </tr>\n",
       "    <tr>\n",
       "      <th>2018-08-25 23:59:18</th>\n",
       "      <td>PTH11</td>\n",
       "      <td>R545</td>\n",
       "      <td>00-04-03</td>\n",
       "      <td>14TH STREET</td>\n",
       "      <td>1</td>\n",
       "      <td>PTH</td>\n",
       "      <td>REGULAR</td>\n",
       "      <td>9837</td>\n",
       "      <td>272801</td>\n",
       "    </tr>\n",
       "  </tbody>\n",
       "</table>\n",
       "<p>27767 rows × 9 columns</p>\n",
       "</div>"
      ],
      "text/plain": [
       "                       C/A  UNIT       SCP         STATION LINENAME DIVISION  \\\n",
       "DATETIME                                                                       \n",
       "2018-08-25 00:00:00   A002  R051  02-00-00           59 ST  NQR456W      BMT   \n",
       "2018-08-25 00:00:00   R728  R226  00-00-01     GUN HILL RD        5      IRT   \n",
       "2018-08-25 00:00:00   R606  R225  00-00-04         HOYT ST       23      IRT   \n",
       "2018-08-25 00:00:00   N535  R220  00-00-01      CARROLL ST       FG      IND   \n",
       "2018-08-25 00:00:00   N535  R220  00-00-02      CARROLL ST       FG      IND   \n",
       "...                    ...   ...       ...             ...      ...      ...   \n",
       "2018-08-25 23:56:25  PTH03  R552  00-00-05  JOURNAL SQUARE        1      PTH   \n",
       "2018-08-25 23:56:32  PTH22  R540  00-03-03    PATH NEW WTC        1      PTH   \n",
       "2018-08-25 23:57:06  PTH16  R550  01-01-03      LACKAWANNA        1      PTH   \n",
       "2018-08-25 23:58:20  PTH16  R550  01-00-04      LACKAWANNA        1      PTH   \n",
       "2018-08-25 23:59:18  PTH11  R545  00-04-03     14TH STREET        1      PTH   \n",
       "\n",
       "                        DESC   ENTRIES  \\\n",
       "DATETIME                                 \n",
       "2018-08-25 00:00:00  REGULAR   6736067   \n",
       "2018-08-25 00:00:00  REGULAR   2530477   \n",
       "2018-08-25 00:00:00  REGULAR   1552288   \n",
       "2018-08-25 00:00:00  REGULAR   3815302   \n",
       "2018-08-25 00:00:00  REGULAR  16152865   \n",
       "...                      ...       ...   \n",
       "2018-08-25 23:56:25  REGULAR    724614   \n",
       "2018-08-25 23:56:32  REGULAR    220757   \n",
       "2018-08-25 23:57:06  REGULAR    359509   \n",
       "2018-08-25 23:58:20  REGULAR    248543   \n",
       "2018-08-25 23:59:18  REGULAR      9837   \n",
       "\n",
       "                     EXITS                                                                 \n",
       "DATETIME                                                                                   \n",
       "2018-08-25 00:00:00                                            2283184                     \n",
       "2018-08-25 00:00:00                                             585174                     \n",
       "2018-08-25 00:00:00                                            3855944                     \n",
       "2018-08-25 00:00:00                                            2414507                     \n",
       "2018-08-25 00:00:00                                            3262980                     \n",
       "...                                                                ...                     \n",
       "2018-08-25 23:56:25                                             120158                     \n",
       "2018-08-25 23:56:32                                             406424                     \n",
       "2018-08-25 23:57:06                                             129350                     \n",
       "2018-08-25 23:58:20                                             564446                     \n",
       "2018-08-25 23:59:18                                             272801                     \n",
       "\n",
       "[27767 rows x 9 columns]"
      ]
     },
     "execution_count": 85,
     "metadata": {},
     "output_type": "execute_result"
    }
   ],
   "source": [
    "turnstile_df.loc['08/25/2018']"
   ]
  },
  {
   "cell_type": "markdown",
   "id": "19907e43",
   "metadata": {
    "slideshow": {
     "slide_type": "fragment"
    }
   },
   "source": [
    "Pandas datetime indexes: nice functionality for transforming time series.\n",
    "\n",
    "- Will get into this later."
   ]
  }
 ],
 "metadata": {
  "celltoolbar": "Slideshow",
  "kernelspec": {
   "display_name": "Python 3 (ipykernel)",
   "language": "python",
   "name": "python3"
  },
  "language_info": {
   "codemirror_mode": {
    "name": "ipython",
    "version": 3
   },
   "file_extension": ".py",
   "mimetype": "text/x-python",
   "name": "python",
   "nbconvert_exporter": "python",
   "pygments_lexer": "ipython3",
   "version": "3.11.7"
  }
 },
 "nbformat": 4,
 "nbformat_minor": 5
}
