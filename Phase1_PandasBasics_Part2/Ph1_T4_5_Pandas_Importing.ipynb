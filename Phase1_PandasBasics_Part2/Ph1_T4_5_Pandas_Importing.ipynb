{
 "cells": [
  {
   "cell_type": "markdown",
   "metadata": {
    "cell_style": "center",
    "slideshow": {
     "slide_type": "slide"
    }
   },
   "source": [
    "<div style=\"color:white;\n",
    "           display:fill;\n",
    "           border-radius:5px;\n",
    "           background-color:#5642C5;\n",
    "           font-size:200%;\n",
    "           font-family:Arial;letter-spacing:0.5px\">\n",
    "\n",
    "<p width = 20%, style=\"padding: 10px;\n",
    "              color:white;\">\n",
    "Pandas: Importing Data\n",
    "              \n",
    "</p>\n",
    "</div>\n",
    "\n",
    "Data Science Cohort Live NYC Aug 2024\n",
    "<p>Phase 1</p>\n",
    "<br>\n",
    "<br>\n",
    "\n",
    "<div align = \"right\">\n",
    "<img src=\"Images/flatiron-school-logo.png\" align = \"right\" width=\"200\"/>\n",
    "</div>\n",
    "    \n",
    "   "
   ]
  },
  {
   "cell_type": "markdown",
   "metadata": {
    "slideshow": {
     "slide_type": "slide"
    }
   },
   "source": [
    "Pandas can import/export data from/to a variety of file formats and sources:\n",
    "    \n",
    "- import data from CSV, JSON, Excel  spreadsheet  \n",
    "- Use pandas to export a DataFrame to a file\n"
   ]
  },
  {
   "cell_type": "code",
<<<<<<< HEAD
   "execution_count": 18,
=======
   "execution_count": 2,
   "id": "79f6ac56",
>>>>>>> upstream/main
   "metadata": {
    "slideshow": {
     "slide_type": "slide"
    }
   },
   "outputs": [],
   "source": [
    "# import our libraries\n",
    "import numpy as np\n",
    "import pandas as pd"
   ]
  },
  {
   "cell_type": "markdown",
   "metadata": {
    "slideshow": {
     "slide_type": "slide"
    }
   },
   "source": [
    "Pandas functions for importing files into (or creating) DataFrames:\n",
    "* `pd.read_csv()`\n",
    "* `pd.read_excel()`\n",
    "* `pd.read_json()`\n",
    "* `pd.DataFrame.from_dict()`\n",
    "\n",
    "CSV import:\n",
    "- Example: data on patient's blood pressure:\n",
    "`'bp.txt'`, stored in the `Data` folder."
   ]
  },
  {
   "cell_type": "code",
<<<<<<< HEAD
   "execution_count": 20,
=======
   "execution_count": 6,
   "id": "2f32b5b3",
>>>>>>> upstream/main
   "metadata": {
    "slideshow": {
     "slide_type": "slide"
    }
   },
   "outputs": [
    {
     "data": {
      "text/html": [
       "<div>\n",
       "<style scoped>\n",
       "    .dataframe tbody tr th:only-of-type {\n",
       "        vertical-align: middle;\n",
       "    }\n",
       "\n",
       "    .dataframe tbody tr th {\n",
       "        vertical-align: top;\n",
       "    }\n",
       "\n",
       "    .dataframe thead th {\n",
       "        text-align: right;\n",
       "    }\n",
       "</style>\n",
       "<table border=\"1\" class=\"dataframe\">\n",
       "  <thead>\n",
       "    <tr style=\"text-align: right;\">\n",
       "      <th></th>\n",
       "      <th>Pt</th>\n",
       "      <th>BP</th>\n",
       "      <th>Age</th>\n",
       "      <th>Weight</th>\n",
       "      <th>BSA</th>\n",
       "      <th>Dur</th>\n",
       "      <th>Pulse</th>\n",
       "      <th>Stress</th>\n",
       "    </tr>\n",
       "  </thead>\n",
       "  <tbody>\n",
       "    <tr>\n",
       "      <th>0</th>\n",
       "      <td>1</td>\n",
       "      <td>105</td>\n",
       "      <td>47</td>\n",
       "      <td>85.4</td>\n",
       "      <td>1.75</td>\n",
       "      <td>5.1</td>\n",
       "      <td>63</td>\n",
       "      <td>33</td>\n",
       "    </tr>\n",
       "    <tr>\n",
       "      <th>1</th>\n",
       "      <td>2</td>\n",
       "      <td>115</td>\n",
       "      <td>49</td>\n",
       "      <td>94.2</td>\n",
       "      <td>2.10</td>\n",
       "      <td>3.8</td>\n",
       "      <td>70</td>\n",
       "      <td>14</td>\n",
       "    </tr>\n",
       "    <tr>\n",
       "      <th>2</th>\n",
       "      <td>3</td>\n",
       "      <td>116</td>\n",
       "      <td>49</td>\n",
       "      <td>95.3</td>\n",
       "      <td>1.98</td>\n",
       "      <td>8.2</td>\n",
       "      <td>72</td>\n",
       "      <td>10</td>\n",
       "    </tr>\n",
       "    <tr>\n",
       "      <th>3</th>\n",
       "      <td>4</td>\n",
       "      <td>117</td>\n",
       "      <td>50</td>\n",
       "      <td>94.7</td>\n",
       "      <td>2.01</td>\n",
       "      <td>5.8</td>\n",
       "      <td>73</td>\n",
       "      <td>99</td>\n",
       "    </tr>\n",
       "    <tr>\n",
       "      <th>4</th>\n",
       "      <td>5</td>\n",
       "      <td>112</td>\n",
       "      <td>51</td>\n",
       "      <td>89.4</td>\n",
       "      <td>1.89</td>\n",
       "      <td>7.0</td>\n",
       "      <td>72</td>\n",
       "      <td>95</td>\n",
       "    </tr>\n",
       "    <tr>\n",
       "      <th>5</th>\n",
       "      <td>6</td>\n",
       "      <td>121</td>\n",
       "      <td>48</td>\n",
       "      <td>99.5</td>\n",
       "      <td>2.25</td>\n",
       "      <td>9.3</td>\n",
       "      <td>71</td>\n",
       "      <td>10</td>\n",
       "    </tr>\n",
       "    <tr>\n",
       "      <th>6</th>\n",
       "      <td>7</td>\n",
       "      <td>121</td>\n",
       "      <td>49</td>\n",
       "      <td>99.8</td>\n",
       "      <td>2.25</td>\n",
       "      <td>2.5</td>\n",
       "      <td>69</td>\n",
       "      <td>42</td>\n",
       "    </tr>\n",
       "    <tr>\n",
       "      <th>7</th>\n",
       "      <td>8</td>\n",
       "      <td>110</td>\n",
       "      <td>47</td>\n",
       "      <td>90.9</td>\n",
       "      <td>1.90</td>\n",
       "      <td>6.2</td>\n",
       "      <td>66</td>\n",
       "      <td>8</td>\n",
       "    </tr>\n",
       "    <tr>\n",
       "      <th>8</th>\n",
       "      <td>9</td>\n",
       "      <td>110</td>\n",
       "      <td>49</td>\n",
       "      <td>89.2</td>\n",
       "      <td>1.83</td>\n",
       "      <td>7.1</td>\n",
       "      <td>69</td>\n",
       "      <td>62</td>\n",
       "    </tr>\n",
       "    <tr>\n",
       "      <th>9</th>\n",
       "      <td>10</td>\n",
       "      <td>114</td>\n",
       "      <td>48</td>\n",
       "      <td>92.7</td>\n",
       "      <td>2.07</td>\n",
       "      <td>5.6</td>\n",
       "      <td>64</td>\n",
       "      <td>35</td>\n",
       "    </tr>\n",
       "    <tr>\n",
       "      <th>10</th>\n",
       "      <td>11</td>\n",
       "      <td>114</td>\n",
       "      <td>47</td>\n",
       "      <td>94.4</td>\n",
       "      <td>2.07</td>\n",
       "      <td>5.3</td>\n",
       "      <td>74</td>\n",
       "      <td>90</td>\n",
       "    </tr>\n",
       "    <tr>\n",
       "      <th>11</th>\n",
       "      <td>12</td>\n",
       "      <td>115</td>\n",
       "      <td>49</td>\n",
       "      <td>94.1</td>\n",
       "      <td>1.98</td>\n",
       "      <td>5.6</td>\n",
       "      <td>71</td>\n",
       "      <td>21</td>\n",
       "    </tr>\n",
       "    <tr>\n",
       "      <th>12</th>\n",
       "      <td>13</td>\n",
       "      <td>114</td>\n",
       "      <td>50</td>\n",
       "      <td>91.6</td>\n",
       "      <td>2.05</td>\n",
       "      <td>10.2</td>\n",
       "      <td>68</td>\n",
       "      <td>47</td>\n",
       "    </tr>\n",
       "    <tr>\n",
       "      <th>13</th>\n",
       "      <td>14</td>\n",
       "      <td>106</td>\n",
       "      <td>45</td>\n",
       "      <td>87.1</td>\n",
       "      <td>1.92</td>\n",
       "      <td>5.6</td>\n",
       "      <td>67</td>\n",
       "      <td>80</td>\n",
       "    </tr>\n",
       "    <tr>\n",
       "      <th>14</th>\n",
       "      <td>15</td>\n",
       "      <td>125</td>\n",
       "      <td>52</td>\n",
       "      <td>101.3</td>\n",
       "      <td>2.19</td>\n",
       "      <td>10.0</td>\n",
       "      <td>76</td>\n",
       "      <td>98</td>\n",
       "    </tr>\n",
       "    <tr>\n",
       "      <th>15</th>\n",
       "      <td>16</td>\n",
       "      <td>114</td>\n",
       "      <td>46</td>\n",
       "      <td>94.5</td>\n",
       "      <td>1.98</td>\n",
       "      <td>7.4</td>\n",
       "      <td>69</td>\n",
       "      <td>95</td>\n",
       "    </tr>\n",
       "    <tr>\n",
       "      <th>16</th>\n",
       "      <td>17</td>\n",
       "      <td>106</td>\n",
       "      <td>46</td>\n",
       "      <td>87.0</td>\n",
       "      <td>1.87</td>\n",
       "      <td>3.6</td>\n",
       "      <td>62</td>\n",
       "      <td>18</td>\n",
       "    </tr>\n",
       "    <tr>\n",
       "      <th>17</th>\n",
       "      <td>18</td>\n",
       "      <td>113</td>\n",
       "      <td>46</td>\n",
       "      <td>94.5</td>\n",
       "      <td>1.90</td>\n",
       "      <td>4.3</td>\n",
       "      <td>70</td>\n",
       "      <td>12</td>\n",
       "    </tr>\n",
       "    <tr>\n",
       "      <th>18</th>\n",
       "      <td>19</td>\n",
       "      <td>110</td>\n",
       "      <td>48</td>\n",
       "      <td>90.5</td>\n",
       "      <td>1.88</td>\n",
       "      <td>9.0</td>\n",
       "      <td>71</td>\n",
       "      <td>99</td>\n",
       "    </tr>\n",
       "    <tr>\n",
       "      <th>19</th>\n",
       "      <td>20</td>\n",
       "      <td>122</td>\n",
       "      <td>56</td>\n",
       "      <td>95.7</td>\n",
       "      <td>2.09</td>\n",
       "      <td>7.0</td>\n",
       "      <td>75</td>\n",
       "      <td>99</td>\n",
       "    </tr>\n",
       "  </tbody>\n",
       "</table>\n",
       "</div>"
      ],
      "text/plain": [
       "    Pt   BP  Age  Weight   BSA   Dur  Pulse  Stress\n",
       "0    1  105   47    85.4  1.75   5.1     63      33\n",
       "1    2  115   49    94.2  2.10   3.8     70      14\n",
       "2    3  116   49    95.3  1.98   8.2     72      10\n",
       "3    4  117   50    94.7  2.01   5.8     73      99\n",
       "4    5  112   51    89.4  1.89   7.0     72      95\n",
       "5    6  121   48    99.5  2.25   9.3     71      10\n",
       "6    7  121   49    99.8  2.25   2.5     69      42\n",
       "7    8  110   47    90.9  1.90   6.2     66       8\n",
       "8    9  110   49    89.2  1.83   7.1     69      62\n",
       "9   10  114   48    92.7  2.07   5.6     64      35\n",
       "10  11  114   47    94.4  2.07   5.3     74      90\n",
       "11  12  115   49    94.1  1.98   5.6     71      21\n",
       "12  13  114   50    91.6  2.05  10.2     68      47\n",
       "13  14  106   45    87.1  1.92   5.6     67      80\n",
       "14  15  125   52   101.3  2.19  10.0     76      98\n",
       "15  16  114   46    94.5  1.98   7.4     69      95\n",
       "16  17  106   46    87.0  1.87   3.6     62      18\n",
       "17  18  113   46    94.5  1.90   4.3     70      12\n",
       "18  19  110   48    90.5  1.88   9.0     71      99\n",
       "19  20  122   56    95.7  2.09   7.0     75      99"
      ]
     },
     "execution_count": 6,
     "metadata": {},
     "output_type": "execute_result"
    }
   ],
   "source": [
    "# Import 'bp.txt' file. Tab separated entries.\n",
    "df = pd.read_csv('Data/bp.txt', delimiter = '\\t')\n",
    "# if delimiter is not specified assumes ',' delimiter\n",
    "df"
   ]
  },
  {
   "cell_type": "code",
<<<<<<< HEAD
   "execution_count": 21,
=======
   "execution_count": 7,
   "id": "62d4a0c7",
>>>>>>> upstream/main
   "metadata": {
    "slideshow": {
     "slide_type": "subslide"
    }
   },
   "outputs": [
    {
     "data": {
      "text/html": [
       "<div>\n",
       "<style scoped>\n",
       "    .dataframe tbody tr th:only-of-type {\n",
       "        vertical-align: middle;\n",
       "    }\n",
       "\n",
       "    .dataframe tbody tr th {\n",
       "        vertical-align: top;\n",
       "    }\n",
       "\n",
       "    .dataframe thead th {\n",
       "        text-align: right;\n",
       "    }\n",
       "</style>\n",
       "<table border=\"1\" class=\"dataframe\">\n",
       "  <thead>\n",
       "    <tr style=\"text-align: right;\">\n",
       "      <th></th>\n",
       "      <th>Pt</th>\n",
       "      <th>BP</th>\n",
       "      <th>Age</th>\n",
       "      <th>Weight</th>\n",
       "      <th>BSA</th>\n",
       "      <th>Dur</th>\n",
       "      <th>Pulse</th>\n",
       "      <th>Stress</th>\n",
       "    </tr>\n",
       "  </thead>\n",
       "  <tbody>\n",
       "    <tr>\n",
       "      <th>0</th>\n",
       "      <td>1</td>\n",
       "      <td>105</td>\n",
       "      <td>47</td>\n",
       "      <td>85.4</td>\n",
       "      <td>1.75</td>\n",
       "      <td>5.1</td>\n",
       "      <td>63</td>\n",
       "      <td>33</td>\n",
       "    </tr>\n",
       "    <tr>\n",
       "      <th>1</th>\n",
       "      <td>2</td>\n",
       "      <td>115</td>\n",
       "      <td>49</td>\n",
       "      <td>94.2</td>\n",
       "      <td>2.10</td>\n",
       "      <td>3.8</td>\n",
       "      <td>70</td>\n",
       "      <td>14</td>\n",
       "    </tr>\n",
       "    <tr>\n",
       "      <th>2</th>\n",
       "      <td>3</td>\n",
       "      <td>116</td>\n",
       "      <td>49</td>\n",
       "      <td>95.3</td>\n",
       "      <td>1.98</td>\n",
       "      <td>8.2</td>\n",
       "      <td>72</td>\n",
       "      <td>10</td>\n",
       "    </tr>\n",
       "  </tbody>\n",
       "</table>\n",
       "</div>"
      ],
      "text/plain": [
       "   Pt   BP  Age  Weight   BSA  Dur  Pulse  Stress\n",
       "0   1  105   47    85.4  1.75  5.1     63      33\n",
       "1   2  115   49    94.2  2.10  3.8     70      14\n",
       "2   3  116   49    95.3  1.98  8.2     72      10"
      ]
     },
<<<<<<< HEAD
     "execution_count": 21,
=======
     "execution_count": 7,
>>>>>>> upstream/main
     "metadata": {},
     "output_type": "execute_result"
    }
   ],
   "source": [
    "# Look at the first 3 rows\n",
    "df.head(3)"
   ]
  },
  {
   "cell_type": "code",
   "execution_count": null,
   "metadata": {
    "slideshow": {
     "slide_type": "subslide"
    }
   },
   "outputs": [],
   "source": [
    "# Look at the last 4 rows\n",
    "df.tail(4)"
   ]
  },
  {
   "cell_type": "markdown",
   "metadata": {
    "slideshow": {
     "slide_type": "slide"
    }
   },
   "source": [
    "\n",
    "#### Skipping and Limiting Rows\n",
    "\n",
    "- Skipping rows: ignore metadata stored at the top of a file. Optional parameter `skiprows`. \n",
    "- Limit number of rows loaded: `nrows` parameter.\n",
    "\n",
    "Let's look at another dataset:"
   ]
  },
  {
   "cell_type": "code",
<<<<<<< HEAD
   "execution_count": 22,
=======
   "execution_count": 12,
   "id": "0e003eff",
>>>>>>> upstream/main
   "metadata": {
    "slideshow": {
     "slide_type": "subslide"
    }
   },
   "outputs": [
    {
     "data": {
      "text/html": [
       "<div>\n",
       "<style scoped>\n",
       "    .dataframe tbody tr th:only-of-type {\n",
       "        vertical-align: middle;\n",
       "    }\n",
       "\n",
       "    .dataframe tbody tr th {\n",
       "        vertical-align: top;\n",
       "    }\n",
       "\n",
       "    .dataframe thead th {\n",
       "        text-align: right;\n",
       "    }\n",
       "</style>\n",
       "<table border=\"1\" class=\"dataframe\">\n",
       "  <thead>\n",
       "    <tr style=\"text-align: right;\">\n",
       "      <th></th>\n",
       "      <th>GEO.id</th>\n",
       "      <th>GEO.id2</th>\n",
       "      <th>GEO.display-label</th>\n",
       "      <th>HD01_VD01</th>\n",
       "      <th>HD02_VD01</th>\n",
       "      <th>HD01_VD02</th>\n",
       "      <th>HD02_VD02</th>\n",
       "      <th>HD01_VD03</th>\n",
       "      <th>HD02_VD03</th>\n",
       "      <th>HD01_VD04</th>\n",
       "      <th>...</th>\n",
       "      <th>HD01_VD32</th>\n",
       "      <th>HD02_VD32</th>\n",
       "      <th>HD01_VD33</th>\n",
       "      <th>HD02_VD33</th>\n",
       "      <th>HD01_VD34</th>\n",
       "      <th>HD02_VD34</th>\n",
       "      <th>HD01_VD35</th>\n",
       "      <th>HD02_VD35</th>\n",
       "      <th>HD01_VD36</th>\n",
       "      <th>HD02_VD36</th>\n",
       "    </tr>\n",
       "  </thead>\n",
       "  <tbody>\n",
       "    <tr>\n",
       "      <th>0</th>\n",
       "      <td>Id</td>\n",
       "      <td>Id2</td>\n",
       "      <td>Geography</td>\n",
       "      <td>Estimate; Total:</td>\n",
       "      <td>Margin of Error; Total:</td>\n",
       "      <td>Estimate; Total: - Management, business, scien...</td>\n",
       "      <td>Margin of Error; Total: - Management, business...</td>\n",
       "      <td>Estimate; Total: - Management, business, scien...</td>\n",
       "      <td>Margin of Error; Total: - Management, business...</td>\n",
       "      <td>Estimate; Total: - Management, business, scien...</td>\n",
       "      <td>...</td>\n",
       "      <td>Estimate; Total: - Natural resources, construc...</td>\n",
       "      <td>Margin of Error; Total: - Natural resources, c...</td>\n",
       "      <td>Estimate; Total: - Production, transportation,...</td>\n",
       "      <td>Margin of Error; Total: - Production, transpor...</td>\n",
       "      <td>Estimate; Total: - Production, transportation,...</td>\n",
       "      <td>Margin of Error; Total: - Production, transpor...</td>\n",
       "      <td>Estimate; Total: - Production, transportation,...</td>\n",
       "      <td>Margin of Error; Total: - Production, transpor...</td>\n",
       "      <td>Estimate; Total: - Production, transportation,...</td>\n",
       "      <td>Margin of Error; Total: - Production, transpor...</td>\n",
       "    </tr>\n",
       "    <tr>\n",
       "      <th>1</th>\n",
       "      <td>0500000US01001</td>\n",
       "      <td>01001</td>\n",
       "      <td>Autauga County, Alabama</td>\n",
       "      <td>33267</td>\n",
       "      <td>2306</td>\n",
       "      <td>48819</td>\n",
       "      <td>1806</td>\n",
       "      <td>55557</td>\n",
       "      <td>4972</td>\n",
       "      <td>63333</td>\n",
       "      <td>...</td>\n",
       "      <td>31402</td>\n",
       "      <td>5135</td>\n",
       "      <td>35594</td>\n",
       "      <td>3034</td>\n",
       "      <td>36059</td>\n",
       "      <td>3893</td>\n",
       "      <td>47266</td>\n",
       "      <td>13608</td>\n",
       "      <td>19076</td>\n",
       "      <td>4808</td>\n",
       "    </tr>\n",
       "    <tr>\n",
       "      <th>2</th>\n",
       "      <td>0500000US01003</td>\n",
       "      <td>01003</td>\n",
       "      <td>Baldwin County, Alabama</td>\n",
       "      <td>31540</td>\n",
       "      <td>683</td>\n",
       "      <td>49524</td>\n",
       "      <td>1811</td>\n",
       "      <td>57150</td>\n",
       "      <td>6980</td>\n",
       "      <td>63422</td>\n",
       "      <td>...</td>\n",
       "      <td>35603</td>\n",
       "      <td>3882</td>\n",
       "      <td>30549</td>\n",
       "      <td>1606</td>\n",
       "      <td>29604</td>\n",
       "      <td>4554</td>\n",
       "      <td>35504</td>\n",
       "      <td>6260</td>\n",
       "      <td>24182</td>\n",
       "      <td>3580</td>\n",
       "    </tr>\n",
       "    <tr>\n",
       "      <th>3</th>\n",
       "      <td>0500000US01005</td>\n",
       "      <td>01005</td>\n",
       "      <td>Barbour County, Alabama</td>\n",
       "      <td>26575</td>\n",
       "      <td>1653</td>\n",
       "      <td>41652</td>\n",
       "      <td>2638</td>\n",
       "      <td>51797</td>\n",
       "      <td>5980</td>\n",
       "      <td>52775</td>\n",
       "      <td>...</td>\n",
       "      <td>37847</td>\n",
       "      <td>11189</td>\n",
       "      <td>26094</td>\n",
       "      <td>4884</td>\n",
       "      <td>25339</td>\n",
       "      <td>4900</td>\n",
       "      <td>37282</td>\n",
       "      <td>6017</td>\n",
       "      <td>16607</td>\n",
       "      <td>3497</td>\n",
       "    </tr>\n",
       "    <tr>\n",
       "      <th>4</th>\n",
       "      <td>0500000US01007</td>\n",
       "      <td>01007</td>\n",
       "      <td>Bibb County, Alabama</td>\n",
       "      <td>30088</td>\n",
       "      <td>2224</td>\n",
       "      <td>40787</td>\n",
       "      <td>2896</td>\n",
       "      <td>50069</td>\n",
       "      <td>12841</td>\n",
       "      <td>67917</td>\n",
       "      <td>...</td>\n",
       "      <td>45952</td>\n",
       "      <td>5622</td>\n",
       "      <td>28983</td>\n",
       "      <td>3401</td>\n",
       "      <td>31881</td>\n",
       "      <td>2317</td>\n",
       "      <td>26580</td>\n",
       "      <td>2901</td>\n",
       "      <td>23479</td>\n",
       "      <td>4942</td>\n",
       "    </tr>\n",
       "  </tbody>\n",
       "</table>\n",
       "<p>5 rows × 75 columns</p>\n",
       "</div>"
      ],
      "text/plain": [
       "           GEO.id GEO.id2        GEO.display-label         HD01_VD01  \\\n",
       "0              Id     Id2                Geography  Estimate; Total:   \n",
       "1  0500000US01001   01001  Autauga County, Alabama             33267   \n",
       "2  0500000US01003   01003  Baldwin County, Alabama             31540   \n",
       "3  0500000US01005   01005  Barbour County, Alabama             26575   \n",
       "4  0500000US01007   01007     Bibb County, Alabama             30088   \n",
       "\n",
       "                 HD02_VD01                                          HD01_VD02  \\\n",
       "0  Margin of Error; Total:  Estimate; Total: - Management, business, scien...   \n",
       "1                     2306                                              48819   \n",
       "2                      683                                              49524   \n",
       "3                     1653                                              41652   \n",
       "4                     2224                                              40787   \n",
       "\n",
       "                                           HD02_VD02  \\\n",
       "0  Margin of Error; Total: - Management, business...   \n",
       "1                                               1806   \n",
       "2                                               1811   \n",
       "3                                               2638   \n",
       "4                                               2896   \n",
       "\n",
       "                                           HD01_VD03  \\\n",
       "0  Estimate; Total: - Management, business, scien...   \n",
       "1                                              55557   \n",
       "2                                              57150   \n",
       "3                                              51797   \n",
       "4                                              50069   \n",
       "\n",
       "                                           HD02_VD03  \\\n",
       "0  Margin of Error; Total: - Management, business...   \n",
       "1                                               4972   \n",
       "2                                               6980   \n",
       "3                                               5980   \n",
       "4                                              12841   \n",
       "\n",
       "                                           HD01_VD04  ...  \\\n",
       "0  Estimate; Total: - Management, business, scien...  ...   \n",
       "1                                              63333  ...   \n",
       "2                                              63422  ...   \n",
       "3                                              52775  ...   \n",
       "4                                              67917  ...   \n",
       "\n",
       "                                           HD01_VD32  \\\n",
       "0  Estimate; Total: - Natural resources, construc...   \n",
       "1                                              31402   \n",
       "2                                              35603   \n",
       "3                                              37847   \n",
       "4                                              45952   \n",
       "\n",
       "                                           HD02_VD32  \\\n",
       "0  Margin of Error; Total: - Natural resources, c...   \n",
       "1                                               5135   \n",
       "2                                               3882   \n",
       "3                                              11189   \n",
       "4                                               5622   \n",
       "\n",
       "                                           HD01_VD33  \\\n",
       "0  Estimate; Total: - Production, transportation,...   \n",
       "1                                              35594   \n",
       "2                                              30549   \n",
       "3                                              26094   \n",
       "4                                              28983   \n",
       "\n",
       "                                           HD02_VD33  \\\n",
       "0  Margin of Error; Total: - Production, transpor...   \n",
       "1                                               3034   \n",
       "2                                               1606   \n",
       "3                                               4884   \n",
       "4                                               3401   \n",
       "\n",
       "                                           HD01_VD34  \\\n",
       "0  Estimate; Total: - Production, transportation,...   \n",
       "1                                              36059   \n",
       "2                                              29604   \n",
       "3                                              25339   \n",
       "4                                              31881   \n",
       "\n",
       "                                           HD02_VD34  \\\n",
       "0  Margin of Error; Total: - Production, transpor...   \n",
       "1                                               3893   \n",
       "2                                               4554   \n",
       "3                                               4900   \n",
       "4                                               2317   \n",
       "\n",
       "                                           HD01_VD35  \\\n",
       "0  Estimate; Total: - Production, transportation,...   \n",
       "1                                              47266   \n",
       "2                                              35504   \n",
       "3                                              37282   \n",
       "4                                              26580   \n",
       "\n",
       "                                           HD02_VD35  \\\n",
       "0  Margin of Error; Total: - Production, transpor...   \n",
       "1                                              13608   \n",
       "2                                               6260   \n",
       "3                                               6017   \n",
       "4                                               2901   \n",
       "\n",
       "                                           HD01_VD36  \\\n",
       "0  Estimate; Total: - Production, transportation,...   \n",
       "1                                              19076   \n",
       "2                                              24182   \n",
       "3                                              16607   \n",
       "4                                              23479   \n",
       "\n",
       "                                           HD02_VD36  \n",
       "0  Margin of Error; Total: - Production, transpor...  \n",
       "1                                               4808  \n",
       "2                                               3580  \n",
       "3                                               3497  \n",
       "4                                               4942  \n",
       "\n",
       "[5 rows x 75 columns]"
      ]
     },
<<<<<<< HEAD
     "execution_count": 22,
=======
     "execution_count": 12,
>>>>>>> upstream/main
     "metadata": {},
     "output_type": "execute_result"
    }
   ],
   "source": [
    "# Import the first 100 rows of 'ACS_16_5YR_B24011_with_ann.csv' file\n",
    "df = pd.read_csv('Data/ACS_16_5YR_B24011_with_ann.csv', nrows=100)\n",
    "\n",
    "df.head()"
   ]
  },
  {
   "cell_type": "markdown",
   "metadata": {
    "slideshow": {
     "slide_type": "slide"
    }
   },
   "source": [
    "#### Notice the first row is descriptions of the variables\n",
    "\n",
    "Could just drop the first row:"
   ]
  },
  {
   "cell_type": "code",
<<<<<<< HEAD
   "execution_count": 23,
=======
   "execution_count": 13,
   "id": "63ead770",
>>>>>>> upstream/main
   "metadata": {
    "slideshow": {
     "slide_type": "subslide"
    }
   },
   "outputs": [
    {
     "data": {
      "text/html": [
       "<div>\n",
       "<style scoped>\n",
       "    .dataframe tbody tr th:only-of-type {\n",
       "        vertical-align: middle;\n",
       "    }\n",
       "\n",
       "    .dataframe tbody tr th {\n",
       "        vertical-align: top;\n",
       "    }\n",
       "\n",
       "    .dataframe thead th {\n",
       "        text-align: right;\n",
       "    }\n",
       "</style>\n",
       "<table border=\"1\" class=\"dataframe\">\n",
       "  <thead>\n",
       "    <tr style=\"text-align: right;\">\n",
       "      <th></th>\n",
       "      <th>GEO.id</th>\n",
       "      <th>GEO.id2</th>\n",
       "      <th>GEO.display-label</th>\n",
       "      <th>HD01_VD01</th>\n",
       "      <th>HD02_VD01</th>\n",
       "      <th>HD01_VD02</th>\n",
       "      <th>HD02_VD02</th>\n",
       "      <th>HD01_VD03</th>\n",
       "      <th>HD02_VD03</th>\n",
       "      <th>HD01_VD04</th>\n",
       "      <th>...</th>\n",
       "      <th>HD01_VD32</th>\n",
       "      <th>HD02_VD32</th>\n",
       "      <th>HD01_VD33</th>\n",
       "      <th>HD02_VD33</th>\n",
       "      <th>HD01_VD34</th>\n",
       "      <th>HD02_VD34</th>\n",
       "      <th>HD01_VD35</th>\n",
       "      <th>HD02_VD35</th>\n",
       "      <th>HD01_VD36</th>\n",
       "      <th>HD02_VD36</th>\n",
       "    </tr>\n",
       "  </thead>\n",
       "  <tbody>\n",
       "    <tr>\n",
       "      <th>1</th>\n",
       "      <td>0500000US01001</td>\n",
       "      <td>01001</td>\n",
       "      <td>Autauga County, Alabama</td>\n",
       "      <td>33267</td>\n",
       "      <td>2306</td>\n",
       "      <td>48819</td>\n",
       "      <td>1806</td>\n",
       "      <td>55557</td>\n",
       "      <td>4972</td>\n",
       "      <td>63333</td>\n",
       "      <td>...</td>\n",
       "      <td>31402</td>\n",
       "      <td>5135</td>\n",
       "      <td>35594</td>\n",
       "      <td>3034</td>\n",
       "      <td>36059</td>\n",
       "      <td>3893</td>\n",
       "      <td>47266</td>\n",
       "      <td>13608</td>\n",
       "      <td>19076</td>\n",
       "      <td>4808</td>\n",
       "    </tr>\n",
       "    <tr>\n",
       "      <th>2</th>\n",
       "      <td>0500000US01003</td>\n",
       "      <td>01003</td>\n",
       "      <td>Baldwin County, Alabama</td>\n",
       "      <td>31540</td>\n",
       "      <td>683</td>\n",
       "      <td>49524</td>\n",
       "      <td>1811</td>\n",
       "      <td>57150</td>\n",
       "      <td>6980</td>\n",
       "      <td>63422</td>\n",
       "      <td>...</td>\n",
       "      <td>35603</td>\n",
       "      <td>3882</td>\n",
       "      <td>30549</td>\n",
       "      <td>1606</td>\n",
       "      <td>29604</td>\n",
       "      <td>4554</td>\n",
       "      <td>35504</td>\n",
       "      <td>6260</td>\n",
       "      <td>24182</td>\n",
       "      <td>3580</td>\n",
       "    </tr>\n",
       "  </tbody>\n",
       "</table>\n",
       "<p>2 rows × 75 columns</p>\n",
       "</div>"
      ],
      "text/plain": [
       "           GEO.id GEO.id2        GEO.display-label HD01_VD01 HD02_VD01  \\\n",
       "1  0500000US01001   01001  Autauga County, Alabama     33267      2306   \n",
       "2  0500000US01003   01003  Baldwin County, Alabama     31540       683   \n",
       "\n",
       "  HD01_VD02 HD02_VD02 HD01_VD03 HD02_VD03 HD01_VD04  ... HD01_VD32 HD02_VD32  \\\n",
       "1     48819      1806     55557      4972     63333  ...     31402      5135   \n",
       "2     49524      1811     57150      6980     63422  ...     35603      3882   \n",
       "\n",
       "  HD01_VD33 HD02_VD33 HD01_VD34 HD02_VD34 HD01_VD35 HD02_VD35 HD01_VD36  \\\n",
       "1     35594      3034     36059      3893     47266     13608     19076   \n",
       "2     30549      1606     29604      4554     35504      6260     24182   \n",
       "\n",
       "  HD02_VD36  \n",
       "1      4808  \n",
       "2      3580  \n",
       "\n",
       "[2 rows x 75 columns]"
      ]
     },
<<<<<<< HEAD
     "execution_count": 23,
=======
     "execution_count": 13,
>>>>>>> upstream/main
     "metadata": {},
     "output_type": "execute_result"
    }
   ],
   "source": [
    "# Delete the first row\n",
    "df = df.drop(0)\n",
    "df.head(2)"
   ]
  },
  {
   "cell_type": "markdown",
   "metadata": {
    "slideshow": {
     "slide_type": "slide"
    }
   },
   "source": [
    "Or if we knew from the start, we could use the skiprows argument:"
   ]
  },
  {
   "cell_type": "code",
<<<<<<< HEAD
   "execution_count": 26,
=======
   "execution_count": 24,
   "id": "7402fca7",
>>>>>>> upstream/main
   "metadata": {
    "slideshow": {
     "slide_type": "subslide"
    }
   },
   "outputs": [
    {
     "data": {
      "text/html": [
       "<div>\n",
       "<style scoped>\n",
       "    .dataframe tbody tr th:only-of-type {\n",
       "        vertical-align: middle;\n",
       "    }\n",
       "\n",
       "    .dataframe tbody tr th {\n",
       "        vertical-align: top;\n",
       "    }\n",
       "\n",
       "    .dataframe thead th {\n",
       "        text-align: right;\n",
       "    }\n",
       "</style>\n",
       "<table border=\"1\" class=\"dataframe\">\n",
       "  <thead>\n",
       "    <tr style=\"text-align: right;\">\n",
       "      <th></th>\n",
       "      <th>GEO.id</th>\n",
       "      <th>GEO.id2</th>\n",
       "      <th>GEO.display-label</th>\n",
       "      <th>HD01_VD01</th>\n",
       "      <th>HD02_VD01</th>\n",
       "      <th>HD01_VD02</th>\n",
       "      <th>HD02_VD02</th>\n",
       "      <th>HD01_VD03</th>\n",
       "      <th>HD02_VD03</th>\n",
       "      <th>HD01_VD04</th>\n",
       "      <th>...</th>\n",
       "      <th>HD01_VD32</th>\n",
       "      <th>HD02_VD32</th>\n",
       "      <th>HD01_VD33</th>\n",
       "      <th>HD02_VD33</th>\n",
       "      <th>HD01_VD34</th>\n",
       "      <th>HD02_VD34</th>\n",
       "      <th>HD01_VD35</th>\n",
       "      <th>HD02_VD35</th>\n",
       "      <th>HD01_VD36</th>\n",
       "      <th>HD02_VD36</th>\n",
       "    </tr>\n",
       "  </thead>\n",
       "  <tbody>\n",
       "    <tr>\n",
       "      <th>0</th>\n",
       "      <td>0500000US01001</td>\n",
       "      <td>1001</td>\n",
       "      <td>Autauga County, Alabama</td>\n",
       "      <td>33267</td>\n",
       "      <td>2306</td>\n",
       "      <td>48819</td>\n",
       "      <td>1806</td>\n",
       "      <td>55557</td>\n",
       "      <td>4972</td>\n",
       "      <td>63333</td>\n",
       "      <td>...</td>\n",
       "      <td>31402</td>\n",
       "      <td>5135</td>\n",
       "      <td>35594</td>\n",
       "      <td>3034</td>\n",
       "      <td>36059</td>\n",
       "      <td>3893</td>\n",
       "      <td>47266</td>\n",
       "      <td>13608</td>\n",
       "      <td>19076</td>\n",
       "      <td>4808</td>\n",
       "    </tr>\n",
       "    <tr>\n",
       "      <th>1</th>\n",
       "      <td>0500000US01003</td>\n",
       "      <td>1003</td>\n",
       "      <td>Baldwin County, Alabama</td>\n",
       "      <td>31540</td>\n",
       "      <td>683</td>\n",
       "      <td>49524</td>\n",
       "      <td>1811</td>\n",
       "      <td>57150</td>\n",
       "      <td>6980</td>\n",
       "      <td>63422</td>\n",
       "      <td>...</td>\n",
       "      <td>35603</td>\n",
       "      <td>3882</td>\n",
       "      <td>30549</td>\n",
       "      <td>1606</td>\n",
       "      <td>29604</td>\n",
       "      <td>4554</td>\n",
       "      <td>35504</td>\n",
       "      <td>6260</td>\n",
       "      <td>24182</td>\n",
       "      <td>3580</td>\n",
       "    </tr>\n",
       "    <tr>\n",
       "      <th>2</th>\n",
       "      <td>0500000US01005</td>\n",
       "      <td>1005</td>\n",
       "      <td>Barbour County, Alabama</td>\n",
       "      <td>26575</td>\n",
       "      <td>1653</td>\n",
       "      <td>41652</td>\n",
       "      <td>2638</td>\n",
       "      <td>51797</td>\n",
       "      <td>5980</td>\n",
       "      <td>52775</td>\n",
       "      <td>...</td>\n",
       "      <td>37847</td>\n",
       "      <td>11189</td>\n",
       "      <td>26094</td>\n",
       "      <td>4884</td>\n",
       "      <td>25339</td>\n",
       "      <td>4900</td>\n",
       "      <td>37282</td>\n",
       "      <td>6017</td>\n",
       "      <td>16607</td>\n",
       "      <td>3497</td>\n",
       "    </tr>\n",
       "    <tr>\n",
       "      <th>3</th>\n",
       "      <td>0500000US01007</td>\n",
       "      <td>1007</td>\n",
       "      <td>Bibb County, Alabama</td>\n",
       "      <td>30088</td>\n",
       "      <td>2224</td>\n",
       "      <td>40787</td>\n",
       "      <td>2896</td>\n",
       "      <td>50069</td>\n",
       "      <td>12841</td>\n",
       "      <td>67917</td>\n",
       "      <td>...</td>\n",
       "      <td>45952</td>\n",
       "      <td>5622</td>\n",
       "      <td>28983</td>\n",
       "      <td>3401</td>\n",
       "      <td>31881</td>\n",
       "      <td>2317</td>\n",
       "      <td>26580</td>\n",
       "      <td>2901</td>\n",
       "      <td>23479</td>\n",
       "      <td>4942</td>\n",
       "    </tr>\n",
       "    <tr>\n",
       "      <th>4</th>\n",
       "      <td>0500000US01009</td>\n",
       "      <td>1009</td>\n",
       "      <td>Blount County, Alabama</td>\n",
       "      <td>34900</td>\n",
       "      <td>2063</td>\n",
       "      <td>46593</td>\n",
       "      <td>2963</td>\n",
       "      <td>47003</td>\n",
       "      <td>6189</td>\n",
       "      <td>50991</td>\n",
       "      <td>...</td>\n",
       "      <td>42489</td>\n",
       "      <td>7176</td>\n",
       "      <td>32969</td>\n",
       "      <td>3767</td>\n",
       "      <td>31814</td>\n",
       "      <td>4551</td>\n",
       "      <td>41375</td>\n",
       "      <td>5280</td>\n",
       "      <td>26755</td>\n",
       "      <td>2963</td>\n",
       "    </tr>\n",
       "  </tbody>\n",
       "</table>\n",
       "<p>5 rows × 75 columns</p>\n",
       "</div>"
      ],
      "text/plain": [
       "           GEO.id  GEO.id2        GEO.display-label  HD01_VD01  HD02_VD01  \\\n",
       "0  0500000US01001     1001  Autauga County, Alabama      33267       2306   \n",
       "1  0500000US01003     1003  Baldwin County, Alabama      31540        683   \n",
       "2  0500000US01005     1005  Barbour County, Alabama      26575       1653   \n",
       "3  0500000US01007     1007     Bibb County, Alabama      30088       2224   \n",
       "4  0500000US01009     1009   Blount County, Alabama      34900       2063   \n",
       "\n",
       "   HD01_VD02  HD02_VD02  HD01_VD03  HD02_VD03  HD01_VD04  ...  HD01_VD32  \\\n",
       "0      48819       1806      55557       4972      63333  ...      31402   \n",
       "1      49524       1811      57150       6980      63422  ...      35603   \n",
       "2      41652       2638      51797       5980      52775  ...      37847   \n",
       "3      40787       2896      50069      12841      67917  ...      45952   \n",
       "4      46593       2963      47003       6189      50991  ...      42489   \n",
       "\n",
       "   HD02_VD32  HD01_VD33 HD02_VD33 HD01_VD34 HD02_VD34 HD01_VD35 HD02_VD35  \\\n",
       "0       5135      35594      3034     36059      3893     47266     13608   \n",
       "1       3882      30549      1606     29604      4554     35504      6260   \n",
       "2      11189      26094      4884     25339      4900     37282      6017   \n",
       "3       5622      28983      3401     31881      2317     26580      2901   \n",
       "4       7176      32969      3767     31814      4551     41375      5280   \n",
       "\n",
       "  HD01_VD36 HD02_VD36  \n",
       "0     19076      4808  \n",
       "1     24182      3580  \n",
       "2     16607      3497  \n",
       "3     23479      4942  \n",
       "4     26755      2963  \n",
       "\n",
       "[5 rows x 75 columns]"
      ]
     },
<<<<<<< HEAD
     "execution_count": 26,
=======
     "execution_count": 24,
>>>>>>> upstream/main
     "metadata": {},
     "output_type": "execute_result"
    }
   ],
   "source": [
    "# Import the first 100 rows of 'ACS_16_5YR_B24011_with_ann.csv' file while skipping the first row\n",
    "df = pd.read_csv('Data/ACS_16_5YR_B24011_with_ann.csv', skiprows= [1], nrows=100)\n",
    "df.head()"
   ]
  },
  {
   "cell_type": "markdown",
   "metadata": {
    "slideshow": {
     "slide_type": "slide"
    }
   },
   "source": [
    "#### Header\n",
    "\n",
    "Related to `skiprows` is the `header` parameter:\n",
    "- header = the row where column names are and starts importing data from that point.\n",
    "- Set data description row as our header for fun."
   ]
  },
  {
   "cell_type": "code",
<<<<<<< HEAD
   "execution_count": null,
=======
   "execution_count": 20,
   "id": "ba33e679",
>>>>>>> upstream/main
   "metadata": {
    "slideshow": {
     "slide_type": "subslide"
    }
   },
   "outputs": [
    {
     "ename": "UnicodeDecodeError",
     "evalue": "'utf-8' codec can't decode byte 0xf1 in position 23033: invalid continuation byte",
     "output_type": "error",
     "traceback": [
      "\u001b[1;31m---------------------------------------------------------------------------\u001b[0m",
      "\u001b[1;31mUnicodeDecodeError\u001b[0m                        Traceback (most recent call last)",
      "Cell \u001b[1;32mIn[20], line 2\u001b[0m\n\u001b[0;32m      1\u001b[0m \u001b[38;5;66;03m# Look at the error output once you run this cell. What type of error is it?\u001b[39;00m\n\u001b[1;32m----> 2\u001b[0m df \u001b[38;5;241m=\u001b[39m pd\u001b[38;5;241m.\u001b[39mread_csv(\u001b[38;5;124m'\u001b[39m\u001b[38;5;124mData/ACS_16_5YR_B24011_with_ann.csv\u001b[39m\u001b[38;5;124m'\u001b[39m, header\u001b[38;5;241m=\u001b[39m\u001b[38;5;241m1\u001b[39m)\n\u001b[0;32m      3\u001b[0m df\u001b[38;5;241m.\u001b[39mhead()\n",
      "File \u001b[1;32m~\\anaconda3\\Lib\\site-packages\\pandas\\io\\parsers\\readers.py:948\u001b[0m, in \u001b[0;36mread_csv\u001b[1;34m(filepath_or_buffer, sep, delimiter, header, names, index_col, usecols, dtype, engine, converters, true_values, false_values, skipinitialspace, skiprows, skipfooter, nrows, na_values, keep_default_na, na_filter, verbose, skip_blank_lines, parse_dates, infer_datetime_format, keep_date_col, date_parser, date_format, dayfirst, cache_dates, iterator, chunksize, compression, thousands, decimal, lineterminator, quotechar, quoting, doublequote, escapechar, comment, encoding, encoding_errors, dialect, on_bad_lines, delim_whitespace, low_memory, memory_map, float_precision, storage_options, dtype_backend)\u001b[0m\n\u001b[0;32m    935\u001b[0m kwds_defaults \u001b[38;5;241m=\u001b[39m _refine_defaults_read(\n\u001b[0;32m    936\u001b[0m     dialect,\n\u001b[0;32m    937\u001b[0m     delimiter,\n\u001b[1;32m   (...)\u001b[0m\n\u001b[0;32m    944\u001b[0m     dtype_backend\u001b[38;5;241m=\u001b[39mdtype_backend,\n\u001b[0;32m    945\u001b[0m )\n\u001b[0;32m    946\u001b[0m kwds\u001b[38;5;241m.\u001b[39mupdate(kwds_defaults)\n\u001b[1;32m--> 948\u001b[0m \u001b[38;5;28;01mreturn\u001b[39;00m _read(filepath_or_buffer, kwds)\n",
      "File \u001b[1;32m~\\anaconda3\\Lib\\site-packages\\pandas\\io\\parsers\\readers.py:617\u001b[0m, in \u001b[0;36m_read\u001b[1;34m(filepath_or_buffer, kwds)\u001b[0m\n\u001b[0;32m    614\u001b[0m     \u001b[38;5;28;01mreturn\u001b[39;00m parser\n\u001b[0;32m    616\u001b[0m \u001b[38;5;28;01mwith\u001b[39;00m parser:\n\u001b[1;32m--> 617\u001b[0m     \u001b[38;5;28;01mreturn\u001b[39;00m parser\u001b[38;5;241m.\u001b[39mread(nrows)\n",
      "File \u001b[1;32m~\\anaconda3\\Lib\\site-packages\\pandas\\io\\parsers\\readers.py:1748\u001b[0m, in \u001b[0;36mTextFileReader.read\u001b[1;34m(self, nrows)\u001b[0m\n\u001b[0;32m   1741\u001b[0m nrows \u001b[38;5;241m=\u001b[39m validate_integer(\u001b[38;5;124m\"\u001b[39m\u001b[38;5;124mnrows\u001b[39m\u001b[38;5;124m\"\u001b[39m, nrows)\n\u001b[0;32m   1742\u001b[0m \u001b[38;5;28;01mtry\u001b[39;00m:\n\u001b[0;32m   1743\u001b[0m     \u001b[38;5;66;03m# error: \"ParserBase\" has no attribute \"read\"\u001b[39;00m\n\u001b[0;32m   1744\u001b[0m     (\n\u001b[0;32m   1745\u001b[0m         index,\n\u001b[0;32m   1746\u001b[0m         columns,\n\u001b[0;32m   1747\u001b[0m         col_dict,\n\u001b[1;32m-> 1748\u001b[0m     ) \u001b[38;5;241m=\u001b[39m \u001b[38;5;28mself\u001b[39m\u001b[38;5;241m.\u001b[39m_engine\u001b[38;5;241m.\u001b[39mread(  \u001b[38;5;66;03m# type: ignore[attr-defined]\u001b[39;00m\n\u001b[0;32m   1749\u001b[0m         nrows\n\u001b[0;32m   1750\u001b[0m     )\n\u001b[0;32m   1751\u001b[0m \u001b[38;5;28;01mexcept\u001b[39;00m \u001b[38;5;167;01mException\u001b[39;00m:\n\u001b[0;32m   1752\u001b[0m     \u001b[38;5;28mself\u001b[39m\u001b[38;5;241m.\u001b[39mclose()\n",
      "File \u001b[1;32m~\\anaconda3\\Lib\\site-packages\\pandas\\io\\parsers\\c_parser_wrapper.py:234\u001b[0m, in \u001b[0;36mCParserWrapper.read\u001b[1;34m(self, nrows)\u001b[0m\n\u001b[0;32m    232\u001b[0m \u001b[38;5;28;01mtry\u001b[39;00m:\n\u001b[0;32m    233\u001b[0m     \u001b[38;5;28;01mif\u001b[39;00m \u001b[38;5;28mself\u001b[39m\u001b[38;5;241m.\u001b[39mlow_memory:\n\u001b[1;32m--> 234\u001b[0m         chunks \u001b[38;5;241m=\u001b[39m \u001b[38;5;28mself\u001b[39m\u001b[38;5;241m.\u001b[39m_reader\u001b[38;5;241m.\u001b[39mread_low_memory(nrows)\n\u001b[0;32m    235\u001b[0m         \u001b[38;5;66;03m# destructive to chunks\u001b[39;00m\n\u001b[0;32m    236\u001b[0m         data \u001b[38;5;241m=\u001b[39m _concatenate_chunks(chunks)\n",
      "File \u001b[1;32mparsers.pyx:843\u001b[0m, in \u001b[0;36mpandas._libs.parsers.TextReader.read_low_memory\u001b[1;34m()\u001b[0m\n",
      "File \u001b[1;32mparsers.pyx:904\u001b[0m, in \u001b[0;36mpandas._libs.parsers.TextReader._read_rows\u001b[1;34m()\u001b[0m\n",
      "File \u001b[1;32mparsers.pyx:879\u001b[0m, in \u001b[0;36mpandas._libs.parsers.TextReader._tokenize_rows\u001b[1;34m()\u001b[0m\n",
      "File \u001b[1;32mparsers.pyx:890\u001b[0m, in \u001b[0;36mpandas._libs.parsers.TextReader._check_tokenize_status\u001b[1;34m()\u001b[0m\n",
      "File \u001b[1;32mparsers.pyx:2050\u001b[0m, in \u001b[0;36mpandas._libs.parsers.raise_parser_error\u001b[1;34m()\u001b[0m\n",
      "\u001b[1;31mUnicodeDecodeError\u001b[0m: 'utf-8' codec can't decode byte 0xf1 in position 23033: invalid continuation byte"
     ]
    }
   ],
   "source": [
    "# Look at the error output once you run this cell. What type of error is it?\n",
    "df = pd.read_csv('Data/ACS_16_5YR_B24011_with_ann.csv', header=1)\n",
    "df.head()"
   ]
  },
  {
   "cell_type": "markdown",
   "metadata": {
    "slideshow": {
     "slide_type": "slide"
    }
   },
   "source": [
    "## Encoding\n",
    "\n",
    "Encoding errors:\n",
    "- Strings within the file are formatted according to encoding scheme. \n",
    "- Most common encoding: `utf-8` (default)\n",
    "- Second most common: `latin-1`\n"
   ]
  },
  {
   "cell_type": "code",
<<<<<<< HEAD
   "execution_count": null,
=======
   "execution_count": 21,
   "id": "d301698b",
>>>>>>> upstream/main
   "metadata": {
    "slideshow": {
     "slide_type": "subslide"
    }
   },
   "outputs": [
    {
     "data": {
      "text/html": [
       "<div>\n",
       "<style scoped>\n",
       "    .dataframe tbody tr th:only-of-type {\n",
       "        vertical-align: middle;\n",
       "    }\n",
       "\n",
       "    .dataframe tbody tr th {\n",
       "        vertical-align: top;\n",
       "    }\n",
       "\n",
       "    .dataframe thead th {\n",
       "        text-align: right;\n",
       "    }\n",
       "</style>\n",
       "<table border=\"1\" class=\"dataframe\">\n",
       "  <thead>\n",
       "    <tr style=\"text-align: right;\">\n",
       "      <th></th>\n",
       "      <th>Id</th>\n",
       "      <th>Id2</th>\n",
       "      <th>Geography</th>\n",
       "      <th>Estimate; Total:</th>\n",
       "      <th>Margin of Error; Total:</th>\n",
       "      <th>Estimate; Total: - Management, business, science, and arts occupations:</th>\n",
       "      <th>Margin of Error; Total: - Management, business, science, and arts occupations:</th>\n",
       "      <th>Estimate; Total: - Management, business, science, and arts occupations: - Management, business, and financial occupations:</th>\n",
       "      <th>Margin of Error; Total: - Management, business, science, and arts occupations: - Management, business, and financial occupations:</th>\n",
       "      <th>Estimate; Total: - Management, business, science, and arts occupations: - Management, business, and financial occupations: - Management occupations</th>\n",
       "      <th>...</th>\n",
       "      <th>Estimate; Total: - Natural resources, construction, and maintenance occupations: - Installation, maintenance, and repair occupations</th>\n",
       "      <th>Margin of Error; Total: - Natural resources, construction, and maintenance occupations: - Installation, maintenance, and repair occupations</th>\n",
       "      <th>Estimate; Total: - Production, transportation, and material moving occupations:</th>\n",
       "      <th>Margin of Error; Total: - Production, transportation, and material moving occupations:</th>\n",
       "      <th>Estimate; Total: - Production, transportation, and material moving occupations: - Production occupations</th>\n",
       "      <th>Margin of Error; Total: - Production, transportation, and material moving occupations: - Production occupations</th>\n",
       "      <th>Estimate; Total: - Production, transportation, and material moving occupations: - Transportation occupations</th>\n",
       "      <th>Margin of Error; Total: - Production, transportation, and material moving occupations: - Transportation occupations</th>\n",
       "      <th>Estimate; Total: - Production, transportation, and material moving occupations: - Material moving occupations</th>\n",
       "      <th>Margin of Error; Total: - Production, transportation, and material moving occupations: - Material moving occupations</th>\n",
       "    </tr>\n",
       "  </thead>\n",
       "  <tbody>\n",
       "    <tr>\n",
       "      <th>0</th>\n",
       "      <td>0500000US01001</td>\n",
       "      <td>1001</td>\n",
       "      <td>Autauga County, Alabama</td>\n",
       "      <td>33267</td>\n",
       "      <td>2306</td>\n",
       "      <td>48819</td>\n",
       "      <td>1806</td>\n",
       "      <td>55557</td>\n",
       "      <td>4972</td>\n",
       "      <td>63333</td>\n",
       "      <td>...</td>\n",
       "      <td>31402</td>\n",
       "      <td>5135</td>\n",
       "      <td>35594</td>\n",
       "      <td>3034</td>\n",
       "      <td>36059</td>\n",
       "      <td>3893</td>\n",
       "      <td>47266</td>\n",
       "      <td>13608</td>\n",
       "      <td>19076</td>\n",
       "      <td>4808</td>\n",
       "    </tr>\n",
       "    <tr>\n",
       "      <th>1</th>\n",
       "      <td>0500000US01003</td>\n",
       "      <td>1003</td>\n",
       "      <td>Baldwin County, Alabama</td>\n",
       "      <td>31540</td>\n",
       "      <td>683</td>\n",
       "      <td>49524</td>\n",
       "      <td>1811</td>\n",
       "      <td>57150</td>\n",
       "      <td>6980</td>\n",
       "      <td>63422</td>\n",
       "      <td>...</td>\n",
       "      <td>35603</td>\n",
       "      <td>3882</td>\n",
       "      <td>30549</td>\n",
       "      <td>1606</td>\n",
       "      <td>29604</td>\n",
       "      <td>4554</td>\n",
       "      <td>35504</td>\n",
       "      <td>6260</td>\n",
       "      <td>24182</td>\n",
       "      <td>3580</td>\n",
       "    </tr>\n",
       "    <tr>\n",
       "      <th>2</th>\n",
       "      <td>0500000US01005</td>\n",
       "      <td>1005</td>\n",
       "      <td>Barbour County, Alabama</td>\n",
       "      <td>26575</td>\n",
       "      <td>1653</td>\n",
       "      <td>41652</td>\n",
       "      <td>2638</td>\n",
       "      <td>51797</td>\n",
       "      <td>5980</td>\n",
       "      <td>52775</td>\n",
       "      <td>...</td>\n",
       "      <td>37847</td>\n",
       "      <td>11189</td>\n",
       "      <td>26094</td>\n",
       "      <td>4884</td>\n",
       "      <td>25339</td>\n",
       "      <td>4900</td>\n",
       "      <td>37282</td>\n",
       "      <td>6017</td>\n",
       "      <td>16607</td>\n",
       "      <td>3497</td>\n",
       "    </tr>\n",
       "    <tr>\n",
       "      <th>3</th>\n",
       "      <td>0500000US01007</td>\n",
       "      <td>1007</td>\n",
       "      <td>Bibb County, Alabama</td>\n",
       "      <td>30088</td>\n",
       "      <td>2224</td>\n",
       "      <td>40787</td>\n",
       "      <td>2896</td>\n",
       "      <td>50069</td>\n",
       "      <td>12841</td>\n",
       "      <td>67917</td>\n",
       "      <td>...</td>\n",
       "      <td>45952</td>\n",
       "      <td>5622</td>\n",
       "      <td>28983</td>\n",
       "      <td>3401</td>\n",
       "      <td>31881</td>\n",
       "      <td>2317</td>\n",
       "      <td>26580</td>\n",
       "      <td>2901</td>\n",
       "      <td>23479</td>\n",
       "      <td>4942</td>\n",
       "    </tr>\n",
       "    <tr>\n",
       "      <th>4</th>\n",
       "      <td>0500000US01009</td>\n",
       "      <td>1009</td>\n",
       "      <td>Blount County, Alabama</td>\n",
       "      <td>34900</td>\n",
       "      <td>2063</td>\n",
       "      <td>46593</td>\n",
       "      <td>2963</td>\n",
       "      <td>47003</td>\n",
       "      <td>6189</td>\n",
       "      <td>50991</td>\n",
       "      <td>...</td>\n",
       "      <td>42489</td>\n",
       "      <td>7176</td>\n",
       "      <td>32969</td>\n",
       "      <td>3767</td>\n",
       "      <td>31814</td>\n",
       "      <td>4551</td>\n",
       "      <td>41375</td>\n",
       "      <td>5280</td>\n",
       "      <td>26755</td>\n",
       "      <td>2963</td>\n",
       "    </tr>\n",
       "  </tbody>\n",
       "</table>\n",
       "<p>5 rows × 75 columns</p>\n",
       "</div>"
      ],
      "text/plain": [
       "               Id   Id2                Geography  Estimate; Total:  \\\n",
       "0  0500000US01001  1001  Autauga County, Alabama             33267   \n",
       "1  0500000US01003  1003  Baldwin County, Alabama             31540   \n",
       "2  0500000US01005  1005  Barbour County, Alabama             26575   \n",
       "3  0500000US01007  1007     Bibb County, Alabama             30088   \n",
       "4  0500000US01009  1009   Blount County, Alabama             34900   \n",
       "\n",
       "   Margin of Error; Total:  \\\n",
       "0                     2306   \n",
       "1                      683   \n",
       "2                     1653   \n",
       "3                     2224   \n",
       "4                     2063   \n",
       "\n",
       "   Estimate; Total: - Management, business, science, and arts occupations:  \\\n",
       "0                                              48819                         \n",
       "1                                              49524                         \n",
       "2                                              41652                         \n",
       "3                                              40787                         \n",
       "4                                              46593                         \n",
       "\n",
       "   Margin of Error; Total: - Management, business, science, and arts occupations:  \\\n",
       "0                                               1806                                \n",
       "1                                               1811                                \n",
       "2                                               2638                                \n",
       "3                                               2896                                \n",
       "4                                               2963                                \n",
       "\n",
       "   Estimate; Total: - Management, business, science, and arts occupations: - Management, business, and financial occupations:  \\\n",
       "0                                              55557                                                                            \n",
       "1                                              57150                                                                            \n",
       "2                                              51797                                                                            \n",
       "3                                              50069                                                                            \n",
       "4                                              47003                                                                            \n",
       "\n",
       "   Margin of Error; Total: - Management, business, science, and arts occupations: - Management, business, and financial occupations:  \\\n",
       "0                                               4972                                                                                   \n",
       "1                                               6980                                                                                   \n",
       "2                                               5980                                                                                   \n",
       "3                                              12841                                                                                   \n",
       "4                                               6189                                                                                   \n",
       "\n",
       "  Estimate; Total: - Management, business, science, and arts occupations: - Management, business, and financial occupations: - Management occupations  \\\n",
       "0                                              63333                                                                                                    \n",
       "1                                              63422                                                                                                    \n",
       "2                                              52775                                                                                                    \n",
       "3                                              67917                                                                                                    \n",
       "4                                              50991                                                                                                    \n",
       "\n",
       "   ...  \\\n",
       "0  ...   \n",
       "1  ...   \n",
       "2  ...   \n",
       "3  ...   \n",
       "4  ...   \n",
       "\n",
       "  Estimate; Total: - Natural resources, construction, and maintenance occupations: - Installation, maintenance, and repair occupations  \\\n",
       "0                                              31402                                                                                     \n",
       "1                                              35603                                                                                     \n",
       "2                                              37847                                                                                     \n",
       "3                                              45952                                                                                     \n",
       "4                                              42489                                                                                     \n",
       "\n",
       "  Margin of Error; Total: - Natural resources, construction, and maintenance occupations: - Installation, maintenance, and repair occupations  \\\n",
       "0                                               5135                                                                                            \n",
       "1                                               3882                                                                                            \n",
       "2                                              11189                                                                                            \n",
       "3                                               5622                                                                                            \n",
       "4                                               7176                                                                                            \n",
       "\n",
       "  Estimate; Total: - Production, transportation, and material moving occupations:  \\\n",
       "0                                              35594                                \n",
       "1                                              30549                                \n",
       "2                                              26094                                \n",
       "3                                              28983                                \n",
       "4                                              32969                                \n",
       "\n",
       "  Margin of Error; Total: - Production, transportation, and material moving occupations:  \\\n",
       "0                                               3034                                       \n",
       "1                                               1606                                       \n",
       "2                                               4884                                       \n",
       "3                                               3401                                       \n",
       "4                                               3767                                       \n",
       "\n",
       "  Estimate; Total: - Production, transportation, and material moving occupations: - Production occupations  \\\n",
       "0                                              36059                                                         \n",
       "1                                              29604                                                         \n",
       "2                                              25339                                                         \n",
       "3                                              31881                                                         \n",
       "4                                              31814                                                         \n",
       "\n",
       "  Margin of Error; Total: - Production, transportation, and material moving occupations: - Production occupations  \\\n",
       "0                                               3893                                                                \n",
       "1                                               4554                                                                \n",
       "2                                               4900                                                                \n",
       "3                                               2317                                                                \n",
       "4                                               4551                                                                \n",
       "\n",
       "  Estimate; Total: - Production, transportation, and material moving occupations: - Transportation occupations  \\\n",
       "0                                              47266                                                             \n",
       "1                                              35504                                                             \n",
       "2                                              37282                                                             \n",
       "3                                              26580                                                             \n",
       "4                                              41375                                                             \n",
       "\n",
       "  Margin of Error; Total: - Production, transportation, and material moving occupations: - Transportation occupations  \\\n",
       "0                                              13608                                                                    \n",
       "1                                               6260                                                                    \n",
       "2                                               6017                                                                    \n",
       "3                                               2901                                                                    \n",
       "4                                               5280                                                                    \n",
       "\n",
       "  Estimate; Total: - Production, transportation, and material moving occupations: - Material moving occupations  \\\n",
       "0                                              19076                                                              \n",
       "1                                              24182                                                              \n",
       "2                                              16607                                                              \n",
       "3                                              23479                                                              \n",
       "4                                              26755                                                              \n",
       "\n",
       "  Margin of Error; Total: - Production, transportation, and material moving occupations: - Material moving occupations  \n",
       "0                                               4808                                                                    \n",
       "1                                               3580                                                                    \n",
       "2                                               3497                                                                    \n",
       "3                                               4942                                                                    \n",
       "4                                               2963                                                                    \n",
       "\n",
       "[5 rows x 75 columns]"
      ]
     },
     "execution_count": 21,
     "metadata": {},
     "output_type": "execute_result"
    }
   ],
   "source": [
    "# Import the 'ACS_16_5YR_B24011_with_ann.csv' file using a proper encoding\n",
    "df = pd.read_csv('Data/ACS_16_5YR_B24011_with_ann.csv', header=1, encoding='latin-1')\n",
    "df.head()"
   ]
  },
  {
   "cell_type": "markdown",
   "metadata": {
    "slideshow": {
     "slide_type": "slide"
    }
   },
   "source": [
    "#### Selecting Specific Columns  \n",
    "\n",
    "You can also select specific columns if you only want to load specific features."
   ]
  },
  {
   "cell_type": "code",
<<<<<<< HEAD
   "execution_count": null,
=======
   "execution_count": 25,
   "id": "ee0cf5c2",
>>>>>>> upstream/main
   "metadata": {
    "slideshow": {
     "slide_type": "fragment"
    }
   },
   "outputs": [
    {
     "data": {
      "text/html": [
       "<div>\n",
       "<style scoped>\n",
       "    .dataframe tbody tr th:only-of-type {\n",
       "        vertical-align: middle;\n",
       "    }\n",
       "\n",
       "    .dataframe tbody tr th {\n",
       "        vertical-align: top;\n",
       "    }\n",
       "\n",
       "    .dataframe thead th {\n",
       "        text-align: right;\n",
       "    }\n",
       "</style>\n",
       "<table border=\"1\" class=\"dataframe\">\n",
       "  <thead>\n",
       "    <tr style=\"text-align: right;\">\n",
       "      <th></th>\n",
       "      <th>GEO.id</th>\n",
       "      <th>GEO.id2</th>\n",
       "      <th>GEO.display-label</th>\n",
       "      <th>HD01_VD02</th>\n",
       "      <th>HD02_VD02</th>\n",
       "    </tr>\n",
       "  </thead>\n",
       "  <tbody>\n",
       "    <tr>\n",
       "      <th>0</th>\n",
       "      <td>0500000US01001</td>\n",
       "      <td>1001</td>\n",
       "      <td>Autauga County, Alabama</td>\n",
       "      <td>48819</td>\n",
       "      <td>1806</td>\n",
       "    </tr>\n",
       "    <tr>\n",
       "      <th>1</th>\n",
       "      <td>0500000US01003</td>\n",
       "      <td>1003</td>\n",
       "      <td>Baldwin County, Alabama</td>\n",
       "      <td>49524</td>\n",
       "      <td>1811</td>\n",
       "    </tr>\n",
       "  </tbody>\n",
       "</table>\n",
       "</div>"
      ],
      "text/plain": [
       "           GEO.id  GEO.id2        GEO.display-label  HD01_VD02  HD02_VD02\n",
       "0  0500000US01001     1001  Autauga County, Alabama      48819       1806\n",
       "1  0500000US01003     1003  Baldwin County, Alabama      49524       1811"
      ]
     },
     "execution_count": 25,
     "metadata": {},
     "output_type": "execute_result"
    }
   ],
   "source": [
    "# Import the file with specific columns\n",
    "df = pd.read_csv('Data/ACS_16_5YR_B24011_with_ann.csv', \n",
    "                 usecols=[0, 1, 2, 5, 6], skiprows = [1], encoding='latin-1')\n",
    "df.head(2)"
   ]
  },
  {
   "cell_type": "markdown",
   "metadata": {
    "slideshow": {
     "slide_type": "subslide"
    }
   },
   "source": [
    "**or**"
   ]
  },
  {
   "cell_type": "code",
   "execution_count": null,
   "metadata": {
    "slideshow": {
     "slide_type": "fragment"
    }
   },
   "outputs": [],
   "source": [
    "# Import the file with specific columns\n",
    "df = pd.read_csv('Data/ACS_16_5YR_B24011_with_ann.csv', skiprows = [1], usecols=['GEO.id', 'GEO.id2', 'HD01_VD02', 'HD02_VD02'], encoding='latin-1')\n",
    "df.head(2)"
   ]
  },
  {
   "cell_type": "markdown",
   "metadata": {
    "collapsed": true,
    "slideshow": {
     "slide_type": "slide"
    }
   },
   "source": [
    "#### Importing Excel files\n",
    "Pretty similar to csv importing.\n",
    "\n",
    "Load in an excel file containing some Yelp reviews."
   ]
  },
  {
   "cell_type": "code",
   "execution_count": null,
   "metadata": {
    "slideshow": {
     "slide_type": "subslide"
    }
   },
   "outputs": [],
   "source": [
    "# Import an Excel file\n",
    "df1 = pd.read_excel('Data/Yelp_Selected_Businesses.xlsx', header=2)\n",
    "df1.head()"
   ]
  },
  {
   "cell_type": "markdown",
   "metadata": {
    "slideshow": {
     "slide_type": "slide"
    }
   },
   "source": [
    "But wait a minute...Excel file often has multiple sheets:\n",
    "\n",
    "- By default, Excel imports first sheet.\n",
    "- Excel file may contain multiple sheets.\n",
    "\n",
    "If we know which sheet we want to import by sheet number:"
   ]
  },
  {
   "cell_type": "code",
   "execution_count": null,
   "metadata": {
    "slideshow": {
     "slide_type": "subslide"
    }
   },
   "outputs": [],
   "source": [
    "# Import a specific sheet of an Excel file\n",
    "df2 = pd.read_excel('Data/Yelp_Selected_Businesses.xlsx', sheet_name=2, header=2)\n",
    "df2.head()"
   ]
  },
  {
   "cell_type": "markdown",
   "metadata": {
    "slideshow": {
     "slide_type": "subslide"
    }
   },
   "source": [
    "Or by sheet name:"
   ]
  },
  {
   "cell_type": "code",
   "execution_count": null,
   "metadata": {
    "slideshow": {
     "slide_type": "subslide"
    }
   },
   "outputs": [],
   "source": [
    "# Import a specific sheet of an Excel file\n",
    "df = pd.read_excel('Data/Yelp_Selected_Businesses.xlsx', sheet_name='Biz_id_RESDU', header=2)\n",
    "df.head()"
   ]
  },
  {
   "cell_type": "markdown",
   "metadata": {
    "slideshow": {
     "slide_type": "slide"
    }
   },
   "source": [
    "#### Loading a Full Workbook and Previewing Sheet Names\n",
    "Load entire excel workbook (which is a collection of spreadsheets) with the `pd.ExcelFile()` function."
   ]
  },
  {
   "cell_type": "code",
   "execution_count": null,
   "metadata": {
    "slideshow": {
     "slide_type": "fragment"
    }
   },
   "outputs": [],
   "source": [
    "# Import the names of Excel sheets in a workbook\n",
    "workbook = pd.ExcelFile('Data/Yelp_Selected_Businesses.xlsx')\n",
    "workbook.sheet_names "
   ]
  },
  {
   "cell_type": "code",
   "execution_count": null,
   "metadata": {
    "slideshow": {
     "slide_type": "subslide"
    }
   },
   "outputs": [],
   "source": [
    "# Import a specific sheet\n",
    "df = workbook.parse(sheet_name=1, header=2)\n",
    "df.head()"
   ]
  },
  {
   "cell_type": "code",
   "execution_count": null,
   "metadata": {
    "slideshow": {
     "slide_type": "subslide"
    }
   },
   "outputs": [],
   "source": [
    "df = workbook.parse(sheet_name='Biz_id_ujHia', header=2)\n",
    "df.head()"
   ]
  },
  {
   "cell_type": "markdown",
   "metadata": {
    "slideshow": {
     "slide_type": "slide"
    }
   },
   "source": [
    "#### Saving Data\n",
    "Once we have data loaded that we may want to export back out, we use the **`.to_csv()`** or **`.to_excel()`** methods of any DataFrame object."
   ]
  },
  {
   "cell_type": "code",
   "execution_count": null,
   "metadata": {
    "slideshow": {
     "slide_type": "-"
    }
   },
   "outputs": [],
   "source": [
    "# Write data to a CSV file \n",
    "# Notice how we have to pass index=False if we do not want it included in our output\n",
    "df.to_csv('NewSavedView.csv', index=False) "
   ]
  },
  {
   "cell_type": "code",
   "execution_count": null,
   "metadata": {
    "slideshow": {
     "slide_type": "-"
    }
   },
   "outputs": [],
   "source": [
    "# Write data to an Excel file \n",
    "df.to_excel('NewSavedView.xlsx')"
   ]
  },
  {
   "cell_type": "markdown",
   "metadata": {
    "collapsed": true,
    "slideshow": {
     "slide_type": "slide"
    }
   },
   "source": [
    "#### Summary\n",
    "\n",
    "Importing other file formats (JSONs, etc) into DataFrames are pretty similar. See pandas documentation for the rest."
   ]
  }
 ],
 "metadata": {
  "celltoolbar": "Slideshow",
  "kernelspec": {
   "display_name": "Python 3",
   "language": "python",
   "name": "python3"
  },
  "language_info": {
   "codemirror_mode": {
    "name": "ipython",
    "version": 3
   },
   "file_extension": ".py",
   "mimetype": "text/x-python",
   "name": "python",
   "nbconvert_exporter": "python",
   "pygments_lexer": "ipython3",
   "version": "3.8.5"
  }
 },
 "nbformat": 4,
 "nbformat_minor": 5
}
