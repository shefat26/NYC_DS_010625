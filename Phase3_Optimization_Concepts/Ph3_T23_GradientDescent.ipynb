{
 "cells": [
  {
   "cell_type": "markdown",
   "metadata": {
    "slideshow": {
     "slide_type": "slide"
    }
   },
   "source": [
    "<div style=\"color:white;\n",
    "           display:fill;\n",
    "           border-radius:5px;\n",
    "           background-color:#5642C5;\n",
    "           font-size:200%;\n",
    "           font-\\amily:Arial;letter-spacing:0.5px\">\n",
    "\n",
    "<p width = 20%, style=\"padding: 10px;\n",
    "              color:white;\">\n",
    "Gradient Descent\n",
    "              \n",
    "</p>\n",
    "</div>\n",
    "\n",
    "Data Science Cohort Live NYC Aug 2024\n",
    "<p>Phase 3: Topic 23</p>\n",
    "<br>\n",
    "<br>\n",
    "\n",
    "<div align = \"right\">\n",
    "<img src=\"Images/flatiron-school-logo.png\" align = \"right\" width=\"200\"/>\n",
    "</div>"
   ]
  },
  {
   "cell_type": "markdown",
   "metadata": {
    "cell_style": "split",
    "slideshow": {
     "slide_type": "slide"
    }
   },
   "source": [
    "In data science:\n",
    "- Supervised learning\n",
    "- Trying to train model or input/output predictive function\n",
    "- Learn model parameters/weights."
   ]
  },
  {
   "cell_type": "markdown",
   "metadata": {
    "cell_style": "split",
    "slideshow": {
     "slide_type": "fragment"
    }
   },
   "source": [
    "Optimal weights/parameters:\n",
    "    \n",
    "- where defined cost function L is at a minimum."
   ]
  },
  {
   "cell_type": "markdown",
   "metadata": {
    "cell_style": "split",
    "slideshow": {
     "slide_type": "slide"
    }
   },
   "source": [
    "With linear regression is squared loss:\n",
    "\n",
    "$$ L =  |\\textbf{y }- X \\textbf{w} |^2 $$\n",
    "\n",
    "for 1D linear regression is compact linear algebra notation for:\n",
    "\n",
    "$$ L =  \\sum_i|y_i - w_1 x_i - w_0 |^2 = \\\\ \\sum_i|y_i - \\hat{y}_i |^2  $$"
   ]
  },
  {
   "cell_type": "markdown",
   "metadata": {
    "cell_style": "split",
    "slideshow": {
     "slide_type": "slide"
    }
   },
   "source": [
    "Slope weight including bias. \n",
    "\n",
    "2D minimization problem.\n",
    "\n",
    "\n",
    "Parameters:\n",
    "- $w_0$, $w_1$"
   ]
  },
  {
   "cell_type": "markdown",
   "metadata": {
    "cell_style": "split",
    "slideshow": {
     "slide_type": "slide"
    }
   },
   "source": [
    "Let's find $w_0$ and $w_1$ that minimizes $L$:\n",
    "- Minimize partial derivatives: \n",
    "-  $\\frac{\\partial L}{\\partial w_0} = 0$ and $ \\frac{\\partial L}{\\partial w_1} = 0 $"
   ]
  },
  {
   "cell_type": "markdown",
   "metadata": {
    "cell_style": "split",
    "slideshow": {
     "slide_type": "slide"
    }
   },
   "source": [
    "<img src = \"images\\local_minimum.jpg\" width = 300 />\n",
    "\n",
    "Minimum: partial derivates in **both** directions vanish"
   ]
  },
  {
   "cell_type": "markdown",
   "metadata": {
    "slideshow": {
     "slide_type": "slide"
    }
   },
   "source": [
    "Import sympy and do some mathemagic:"
   ]
  },
  {
   "cell_type": "code",
   "execution_count": 27,
   "metadata": {
    "slideshow": {
     "slide_type": "fragment"
    }
   },
   "outputs": [],
   "source": [
    "from sympy import *\n",
    "from sympy.abc import x,y"
   ]
  },
  {
   "cell_type": "markdown",
   "metadata": {
    "slideshow": {
     "slide_type": "slide"
    }
   },
   "source": [
    "Define the loss function:"
   ]
  },
  {
   "cell_type": "code",
   "execution_count": 28,
   "metadata": {
    "slideshow": {
     "slide_type": "fragment"
    }
   },
   "outputs": [
    {
     "data": {
      "text/latex": [
       "$\\displaystyle \\sum_{i=1}^{N} \\left(- w_{0} - w_{1} {x}_{i} + {y}_{i}\\right)^{2}$"
      ],
      "text/plain": [
       "Sum((-w0 - w1*x[i] + y[i])**2, (i, 1, N))"
      ]
     },
     "execution_count": 28,
     "metadata": {},
     "output_type": "execute_result"
    }
   ],
   "source": [
    "x, y, i, N, w0, w1 = symbols(\"x, y, i, N, w0, w1\")\n",
    "L = summation((Indexed('y',i) - Indexed('x',i)*w1 - w0)**2 ,(i,1,N))\n",
    "L"
   ]
  },
  {
   "cell_type": "code",
   "execution_count": 29,
   "metadata": {
    "cell_style": "split",
    "slideshow": {
     "slide_type": "slide"
    }
   },
   "outputs": [
    {
     "data": {
      "text/latex": [
       "$\\displaystyle \\sum_{i=1}^{N} \\left(2 w_{0} + 2 w_{1} {x}_{i} - 2 {y}_{i}\\right)$"
      ],
      "text/plain": [
       "Sum(2*w0 + 2*w1*x[i] - 2*y[i], (i, 1, N))"
      ]
     },
     "execution_count": 29,
     "metadata": {},
     "output_type": "execute_result"
    }
   ],
   "source": [
    "grad1 = diff(L, w0)\n",
    "grad1"
   ]
  },
  {
   "cell_type": "code",
   "execution_count": 4,
   "metadata": {
    "cell_style": "split",
    "slideshow": {
     "slide_type": "fragment"
    }
   },
   "outputs": [
    {
     "data": {
      "text/latex": [
       "$\\displaystyle \\sum_{i=1}^{N} - 2 \\left(- w_{0} - w_{1} {x}_{i} + {y}_{i}\\right) {x}_{i}$"
      ],
      "text/plain": [
       "Sum(-2*(-w0 - w1*x[i] + y[i])*x[i], (i, 1, N))"
      ]
     },
     "execution_count": 4,
     "metadata": {},
     "output_type": "execute_result"
    }
   ],
   "source": [
    "grad2 = diff(L, w1)\n",
    "grad2"
   ]
  },
  {
   "cell_type": "markdown",
   "metadata": {
    "cell_style": "split",
    "slideshow": {
     "slide_type": "fragment"
    }
   },
   "source": [
    "Setting grad1 to 0, solve for $w_0$:\n",
    "$$ w_0 = \\bar{y} - w_1\\bar{x} $$"
   ]
  },
  {
   "cell_type": "markdown",
   "metadata": {
    "cell_style": "split",
    "slideshow": {
     "slide_type": "fragment"
    }
   },
   "source": [
    "Plug in $w_0$, solve for $w_1$ setting grad2 to 0.\n",
    "\n",
    "Algebra happened:\n",
    "\n",
    "\n",
    "$$ w_1 = \\frac{ \\Big(\\sum_i^Nx_iy_i) - N \\bar{y}\\bar{x} }{\\Big(\\sum_i^Nx_i^2\\Big) - N \\bar{x}^2}$$"
   ]
  },
  {
   "cell_type": "markdown",
   "metadata": {
    "cell_style": "center",
    "slideshow": {
     "slide_type": "slide"
    }
   },
   "source": [
    "With ordinary least squares linear regression: there's always a formula.\n",
    "- Minimizing cost function\n",
    "- Analytically find solution for model weights."
   ]
  },
  {
   "cell_type": "markdown",
   "metadata": {
    "slideshow": {
     "slide_type": "subslide"
    }
   },
   "source": [
    "Can also use a computer to iteratively converge to minimum and get weights.\n",
    "\n",
    "- Useful when you can't solve for weights analytically.\n",
    "- When cost function as a function of fit parameters is complex.\n",
    "- Most problems in machine learning.\n",
    "\n"
   ]
  },
  {
   "cell_type": "markdown",
   "metadata": {
    "slideshow": {
     "slide_type": "subslide"
    }
   },
   "source": [
    "**Solution: Gradient descent**"
   ]
  },
  {
   "cell_type": "markdown",
   "metadata": {
    "cell_style": "split",
    "slideshow": {
     "slide_type": "slide"
    }
   },
   "source": [
    "Look at it work for our simple linear regression:"
   ]
  },
  {
   "cell_type": "markdown",
   "metadata": {
    "cell_style": "split",
    "slideshow": {
     "slide_type": "fragment"
    }
   },
   "source": [
    "<center><img src = \"Images/simple_regression.gif\" width = 500/></center>\n",
    "<center>What's it doing?</center>"
   ]
  },
  {
   "cell_type": "markdown",
   "metadata": {
    "cell_style": "split",
    "slideshow": {
     "slide_type": "slide"
    }
   },
   "source": [
    "1. Randomly initialize weight vector $\\textbf{w} = \\textbf{w}^{(0)}$.\n",
    "2. Compute cost function $J(\\textbf{w}^{(0)})$.\n",
    "2. Compute gradient of cost $J$: Gradient is in direction of highest slope.\n",
    "3. Step weight vector in opposite direction for descent."
   ]
  },
  {
   "cell_type": "markdown",
   "metadata": {
    "cell_style": "split",
    "slideshow": {
     "slide_type": "fragment"
    }
   },
   "source": [
    "<center><img src = \"Images/grad_desc_2d.png\" width = 700/></center>\n"
   ]
  },
  {
   "cell_type": "markdown",
   "metadata": {
    "cell_style": "split",
    "slideshow": {
     "slide_type": "slide"
    }
   },
   "source": [
    "2. #### Engineering the weight vector step $\\Delta \\textbf{w}^{(0)}$\n",
    "\n",
    "- step weight vector in opposite direction of gradient for descent.\n",
    "- $\\Delta \\textbf{w}^{(0)}$ proportional to $ - \\nabla_\\textbf{w}J\\Big|_{\\textbf{w} = \\textbf{w}^{(0)}}$\n",
    "\n",
    "\n",
    "$$ \\textbf{w}^{(0)} \\rightarrow \\textbf{w}^{(0)} + \\Delta \\textbf{w}^{(0)} $$\n"
   ]
  },
  {
   "cell_type": "markdown",
   "metadata": {
    "cell_style": "split",
    "slideshow": {
     "slide_type": "fragment"
    }
   },
   "source": [
    "$$ \\textbf{w}^{(0)} \\rightarrow \\textbf{w}^{(0)} - \\alpha \\nabla_\\textbf{w}J\\Big|_{\\textbf{w} = \\textbf{w}^{(0)}} $$\n",
    "\n",
    "i.e., \n",
    "\n",
    "$$ \\Delta \\textbf{w}^{(0)} = - \\alpha \\nabla_\\textbf{w}J\\Big|_{\\textbf{w} = \\textbf{w}^{(0)}}$$\n",
    "\n",
    "where $\\alpha$ is a small parameter known as the **learning rate**."
   ]
  },
  {
   "cell_type": "markdown",
   "metadata": {
    "cell_style": "split",
    "slideshow": {
     "slide_type": "slide"
    }
   },
   "source": [
    "Or component-wise:\n",
    "\n",
    "$$ w_1^{(0)} \\rightarrow w_1^{(0)} - \\alpha \\frac{\\partial J}{\\partial w_1}\\Big|_{\\textbf{w} = \\textbf{w}^{(0)}} $$\n",
    "\n",
    "\n",
    "$$ w_2^{(0)} \\rightarrow w_2^{(0)} - \\alpha \\frac{\\partial J}{\\partial w_2}\\Big|_{\\textbf{w} = \\textbf{w}^{(0)}} $$"
   ]
  },
  {
   "cell_type": "markdown",
   "metadata": {
    "cell_style": "split",
    "slideshow": {
     "slide_type": "fragment"
    }
   },
   "source": [
    "<center><img src = \"Images/grad_desc_2d.png\" width = 700/></center>\n"
   ]
  },
  {
   "cell_type": "markdown",
   "metadata": {
    "cell_style": "split",
    "slideshow": {
     "slide_type": "slide"
    }
   },
   "source": [
    "Now at new weight vector $\\textbf{w}^{(1)} = \\begin{bmatrix}w_1^{(1)} & w_2^{(1)}\\end{bmatrix} $\n",
    "- Recompute cost function $J(w_1^{(1)}, w_2^{(1)})$\n",
    "- Recompute gradient vector  $\\nabla_\\textbf{w} J\\Big|_{\\textbf{w} = \\textbf{w}^{(1)}}$\n"
   ]
  },
  {
   "cell_type": "markdown",
   "metadata": {
    "cell_style": "split",
    "slideshow": {
     "slide_type": "fragment"
    }
   },
   "source": [
    "- Take step down in opposite gradient direction: $$ \\Delta \\textbf{w}^{(1)} = - \\alpha \\nabla_\\textbf{w} J\\Big|_{\\textbf{w} = \\textbf{w}^{(1)}} $$\n",
    "- Now we are at $\\textbf{w} = \\textbf{w}^{(2)}$"
   ]
  },
  {
   "cell_type": "markdown",
   "metadata": {
    "cell_style": "center",
    "slideshow": {
     "slide_type": "subslide"
    }
   },
   "source": [
    "Pictorially, we are doing this at each step:\n",
    "\n",
    "<center><img src = \"Images/gradient_anim.gif\" width = 700 /> <center>"
   ]
  },
  {
   "cell_type": "markdown",
   "metadata": {
    "slideshow": {
     "slide_type": "slide"
    }
   },
   "source": [
    "Play this game, until weights converge to minimum:\n",
    "- Closer to minimum: gradients gets small\n",
    "- weight updates get vanishingly small.\n",
    "- weights at/near optimal value.\n",
    "\n",
    "Kill the loop. We are done."
   ]
  },
  {
   "cell_type": "markdown",
   "metadata": {
    "cell_style": "center",
    "slideshow": {
     "slide_type": "slide"
    }
   },
   "source": [
    "<img src = \"Images/simple_regression.gif\" width = 500 /> "
   ]
  },
  {
   "cell_type": "markdown",
   "metadata": {
    "slideshow": {
     "slide_type": "slide"
    }
   },
   "source": [
    "- But let's do this ourselves. Step by step.\n",
    "- First create some data"
   ]
  },
  {
   "cell_type": "code",
   "execution_count": 5,
   "metadata": {
    "hidden": true,
    "slideshow": {
     "slide_type": "fragment"
    }
   },
   "outputs": [],
   "source": [
    "import statsmodels.api as sm\n",
    "import numpy as np\n",
    "# Randomly created data in x & y\n",
    "np.random.seed(27)\n",
    "\n",
    "X = np.random.rand(30, 1)\n",
    "X = sm.add_constant(X) # add a constant\n",
    "y = np.random.normal(0, 3, 30).reshape(-1,1)\n"
   ]
  },
  {
   "cell_type": "markdown",
   "metadata": {
    "slideshow": {
     "slide_type": "slide"
    }
   },
   "source": [
    "Step 1: Initialize weights randomly"
   ]
  },
  {
   "cell_type": "code",
   "execution_count": 6,
   "metadata": {
    "cell_style": "split",
    "slideshow": {
     "slide_type": "fragment"
    }
   },
   "outputs": [],
   "source": [
    "def init_weight(X):\n",
    "    num_features = X.shape[1]\n",
    "    w_0 = np.random.normal(loc =0 , \n",
    "                           scale = 4, \n",
    "                           size = (num_features,\n",
    "                                   1))\n",
    "    \n",
    "    return w_0\n",
    "    "
   ]
  },
  {
   "cell_type": "code",
   "execution_count": 7,
   "metadata": {
    "cell_style": "split",
    "slideshow": {
     "slide_type": "fragment"
    }
   },
   "outputs": [
    {
     "data": {
      "text/plain": [
       "array([[-0.14356018],\n",
       "       [-0.65190229]])"
      ]
     },
     "execution_count": 7,
     "metadata": {},
     "output_type": "execute_result"
    }
   ],
   "source": [
    "w_0 = init_weight(X)\n",
    "w_0"
   ]
  },
  {
   "cell_type": "markdown",
   "metadata": {
    "slideshow": {
     "slide_type": "slide"
    }
   },
   "source": [
    "Step 2: Compute cost function"
   ]
  },
  {
   "cell_type": "code",
   "execution_count": 8,
   "metadata": {
    "scrolled": true,
    "slideshow": {
     "slide_type": "fragment"
    }
   },
   "outputs": [
    {
     "data": {
      "text/latex": [
       "$\\displaystyle \\sum_{i=1}^{N} \\left(- w_{0} - w_{1} {x}_{i} + {y}_{i}\\right)^{2}$"
      ],
      "text/plain": [
       "Sum((-w0 - w1*x[i] + y[i])**2, (i, 1, N))"
      ]
     },
     "execution_count": 8,
     "metadata": {},
     "output_type": "execute_result"
    }
   ],
   "source": [
    "L"
   ]
  },
  {
   "cell_type": "markdown",
   "metadata": {
    "slideshow": {
     "slide_type": "fragment"
    }
   },
   "source": [
    "In vector form with augmented $X$ is:\n",
    " $$ (\\textbf{y} - X \\textbf{w})^T(\\textbf{y} - X \\textbf{w}) = |\\textbf{y} - X \\textbf{w}|^2 $$ "
   ]
  },
  {
   "cell_type": "code",
   "execution_count": 9,
   "metadata": {
    "slideshow": {
     "slide_type": "subslide"
    }
   },
   "outputs": [],
   "source": [
    "# in vectorized form \n",
    "\n",
    "def comp_cost(X, y, w):\n",
    "    \n",
    "    costfunc = (y - X@w).T @ (y - X@w)\n",
    "    \n",
    "    return costfunc[0][0]"
   ]
  },
  {
   "cell_type": "code",
   "execution_count": 10,
   "metadata": {
    "scrolled": true
   },
   "outputs": [
    {
     "data": {
      "text/plain": [
       "370.88335045802603"
      ]
     },
     "execution_count": 10,
     "metadata": {},
     "output_type": "execute_result"
    }
   ],
   "source": [
    "comp_cost(X, y, w_0)"
   ]
  },
  {
   "cell_type": "markdown",
   "metadata": {
    "slideshow": {
     "slide_type": "slide"
    }
   },
   "source": [
    "2. Define and compute the gradient:\n",
    "    - $\\nabla_\\textbf{w} |\\textbf{y}- X\\textbf{w}|^2 = - 2 ( X^T\\textbf{y} - X^TX \\textbf{w} )$"
   ]
  },
  {
   "cell_type": "code",
   "execution_count": 11,
   "metadata": {
    "slideshow": {
     "slide_type": "fragment"
    }
   },
   "outputs": [],
   "source": [
    "def compute_gradient(X,y,w):\n",
    "    \n",
    "    grad = 2*((X.T@X)@w - X.T@y)\n",
    "    \n",
    "    return grad"
   ]
  },
  {
   "cell_type": "code",
   "execution_count": 12,
   "metadata": {
    "slideshow": {
     "slide_type": "fragment"
    }
   },
   "outputs": [
    {
     "data": {
      "text/plain": [
       "array([[-111.59780406],\n",
       "       [ -55.5929707 ]])"
      ]
     },
     "execution_count": 12,
     "metadata": {},
     "output_type": "execute_result"
    }
   ],
   "source": [
    "q = compute_gradient(X,y,w_0)\n",
    "q"
   ]
  },
  {
   "cell_type": "markdown",
   "metadata": {
    "slideshow": {
     "slide_type": "slide"
    }
   },
   "source": [
    "3. Update your weights in the right direction."
   ]
  },
  {
   "cell_type": "code",
   "execution_count": 13,
   "metadata": {
    "slideshow": {
     "slide_type": "fragment"
    }
   },
   "outputs": [],
   "source": [
    "def update_weight(w, grad, learning_rate = 0.01):\n",
    "    dw = - learning_rate*grad \n",
    "    w_new = w + dw\n",
    "    \n",
    "    return w_new\n",
    "    "
   ]
  },
  {
   "cell_type": "code",
   "execution_count": 14,
   "metadata": {
    "cell_style": "split",
    "slideshow": {
     "slide_type": "fragment"
    }
   },
   "outputs": [
    {
     "data": {
      "text/plain": [
       "array([[-0.14356018],\n",
       "       [-0.65190229]])"
      ]
     },
     "execution_count": 14,
     "metadata": {},
     "output_type": "execute_result"
    }
   ],
   "source": [
    "w_0"
   ]
  },
  {
   "cell_type": "code",
   "execution_count": 15,
   "metadata": {
    "cell_style": "split",
    "slideshow": {
     "slide_type": "fragment"
    }
   },
   "outputs": [
    {
     "data": {
      "text/plain": [
       "array([[ 0.97241786],\n",
       "       [-0.09597258]])"
      ]
     },
     "execution_count": 15,
     "metadata": {},
     "output_type": "execute_result"
    }
   ],
   "source": [
    "update_weight(w_0, q)"
   ]
  },
  {
   "cell_type": "markdown",
   "metadata": {
    "slideshow": {
     "slide_type": "slide"
    }
   },
   "source": [
    "Now do all this in a loop and store cost function values and gradients along the way:"
   ]
  },
  {
   "cell_type": "code",
   "execution_count": 16,
   "metadata": {
    "slideshow": {
     "slide_type": "subslide"
    }
   },
   "outputs": [],
   "source": [
    "def gradient_descent_optimizer(X, y, learning_rate = 0.01, num_iter = 250):\n",
    "    \n",
    "    #initialize\n",
    "    J = {}\n",
    "    grads = {}\n",
    "    w_history = {}\n",
    "    \n",
    "    w = init_weight(X)\n",
    "    \n",
    "    for trial in range(num_iter):\n",
    "        \n",
    "        # compute and store cost in dictionary\n",
    "        J[trial] = comp_cost(X, y ,w) \n",
    "        \n",
    "        # compute the gradient of J at current w\n",
    "        grads[trial] = compute_gradient(X, y, w)\n",
    "        \n",
    "        w = update_weight(w, grads[trial], learning_rate = learning_rate)\n",
    "        w_history[trial] = w\n",
    "        \n",
    "    # return final weight and cache\n",
    "    cache = {'cost': J, 'gradients': grads, 'weight_history': w_history}\n",
    "    return w, cache\n",
    "        "
   ]
  },
  {
   "cell_type": "markdown",
   "metadata": {
    "slideshow": {
     "slide_type": "slide"
    }
   },
   "source": [
    "Let punch the button and run the gradient descent on our least squares problem:"
   ]
  },
  {
   "cell_type": "code",
   "execution_count": 17,
   "metadata": {
    "scrolled": false,
    "slideshow": {
     "slide_type": "fragment"
    }
   },
   "outputs": [],
   "source": [
    "w, cache = gradient_descent_optimizer(X, y, learning_rate = 0.005)"
   ]
  },
  {
   "cell_type": "code",
   "execution_count": 18,
   "metadata": {
    "cell_style": "split",
    "slideshow": {
     "slide_type": "slide"
    }
   },
   "outputs": [
    {
     "data": {
      "text/plain": [
       "array([[ 2.0812013 ],\n",
       "       [-1.34112543]])"
      ]
     },
     "execution_count": 18,
     "metadata": {},
     "output_type": "execute_result"
    }
   ],
   "source": [
    "w"
   ]
  },
  {
   "cell_type": "code",
   "execution_count": 19,
   "metadata": {
    "cell_style": "split",
    "slideshow": {
     "slide_type": "fragment"
    }
   },
   "outputs": [
    {
     "data": {
      "text/plain": [
       "{0: 1087.413966753362,\n",
       " 1: 573.3673315667468,\n",
       " 2: 382.0274100569621,\n",
       " 3: 310.7652584858595,\n",
       " 4: 284.18510494007865,\n",
       " 5: 274.2330364985171,\n",
       " 6: 270.4704513919421,\n",
       " 7: 269.0131861449842,\n",
       " 8: 268.4159044526648,\n",
       " 9: 268.1407301664389,\n",
       " 10: 267.98744485405433,\n",
       " 11: 267.88147138828197,\n",
       " 12: 267.7949851994443,\n",
       " 13: 267.71756065356794,\n",
       " 14: 267.6452488291298,\n",
       " 15: 267.57651338854146,\n",
       " 16: 267.51071826413033,\n",
       " 17: 267.4475648460096,\n",
       " 18: 267.3868824714166,\n",
       " 19: 267.3285503767326,\n",
       " 20: 267.27246856863354,\n",
       " 21: 267.2185469008237,\n",
       " 22: 267.1667009281009,\n",
       " 23: 267.11685028531633,\n",
       " 24: 267.06891800883375,\n",
       " 25: 267.02283021158036,\n",
       " 26: 266.9785158924534,\n",
       " 27: 266.93590679840077,\n",
       " 28: 266.8949373086787,\n",
       " 29: 266.8555443298404,\n",
       " 30: 266.8176671971016,\n",
       " 31: 266.7812475803702,\n",
       " 32: 266.74622939421533,\n",
       " 33: 266.7125587114217,\n",
       " 34: 266.6801836799143,\n",
       " 35: 266.64905444289707,\n",
       " 36: 266.6191230620706,\n",
       " 37: 266.5903434438071,\n",
       " 38: 266.5626712681664,\n",
       " 39: 266.5360639206443,\n",
       " 40: 266.510480426547,\n",
       " 41: 266.485881387891,\n",
       " 42: 266.46222892273147,\n",
       " 43: 266.4394866068244,\n",
       " 44: 266.4176194175346,\n",
       " 45: 266.39659367990106,\n",
       " 46: 266.3763770147791,\n",
       " 47: 266.35693828897655,\n",
       " 48: 266.3382475673097,\n",
       " 49: 266.3202760665037,\n",
       " 50: 266.302996110867,\n",
       " 51: 266.28638108967164,\n",
       " 52: 266.27040541617305,\n",
       " 53: 266.255044488207,\n",
       " 54: 266.2402746503034,\n",
       " 55: 266.22607315725656,\n",
       " 56: 266.2124181390992,\n",
       " 57: 266.1992885674221,\n",
       " 58: 266.1866642229916,\n",
       " 59: 266.17452566461213,\n",
       " 60: 266.1628541991872,\n",
       " 61: 266.15163185293284,\n",
       " 62: 266.1408413436978,\n",
       " 63: 266.1304660543499,\n",
       " 64: 266.1204900071858,\n",
       " 65: 266.11089783932607,\n",
       " 66: 266.10167477905605,\n",
       " 67: 266.09280662307845,\n",
       " 68: 266.0842797146401,\n",
       " 69: 266.07608092250115,\n",
       " 70: 266.06819762071336,\n",
       " 71: 266.06061766917594,\n",
       " 72: 266.05332939494065,\n",
       " 73: 266.0463215742354,\n",
       " 74: 266.0395834151799,\n",
       " 75: 266.03310454116655,\n",
       " 76: 266.0268749748808,\n",
       " 77: 266.0208851229361,\n",
       " 78: 266.0151257611002,\n",
       " 79: 266.0095880200905,\n",
       " 80: 266.0042633719152,\n",
       " 81: 265.99914361674035,\n",
       " 82: 265.9942208702628,\n",
       " 83: 265.98948755156766,\n",
       " 84: 265.9849363714548,\n",
       " 85: 265.98056032121326,\n",
       " 86: 265.9763526618277,\n",
       " 87: 265.97230691360113,\n",
       " 88: 265.9684168461756,\n",
       " 89: 265.9646764689382,\n",
       " 90: 265.96108002179534,\n",
       " 91: 265.95762196630244,\n",
       " 92: 265.9542969771348,\n",
       " 93: 265.9510999338867,\n",
       " 94: 265.9480259131863,\n",
       " 95: 265.9450701811136,\n",
       " 96: 265.9422281859099,\n",
       " 97: 265.9394955509693,\n",
       " 98: 265.93686806809774,\n",
       " 99: 265.93434169103284,\n",
       " 100: 265.9319125292131,\n",
       " 101: 265.9295768417859,\n",
       " 102: 265.92733103184725,\n",
       " 103: 265.92517164090225,\n",
       " 104: 265.92309534353933,\n",
       " 105: 265.92109894230896,\n",
       " 106: 265.91917936280004,\n",
       " 107: 265.91733364890473,\n",
       " 108: 265.9155589582669,\n",
       " 109: 265.9138525579044,\n",
       " 110: 265.9122118200005,\n",
       " 111: 265.91063421785714,\n",
       " 112: 265.9091173220038,\n",
       " 113: 265.9076587964565,\n",
       " 114: 265.9062563951198,\n",
       " 115: 265.9049079583284,\n",
       " 116: 265.9036114095212,\n",
       " 117: 265.90236475204324,\n",
       " 118: 265.90116606607114,\n",
       " 119: 265.9000135056566,\n",
       " 120: 265.8989052958834,\n",
       " 121: 265.8978397301345,\n",
       " 122: 265.8968151674633,\n",
       " 123: 265.89583003006743,\n",
       " 124: 265.89488280085817,\n",
       " 125: 265.89397202112474,\n",
       " 126: 265.8930962882876,\n",
       " 127: 265.89225425373866,\n",
       " 128: 265.8914446207644,\n",
       " 129: 265.8906661425488,\n",
       " 130: 265.88991762025375,\n",
       " 131: 265.8891979011724,\n",
       " 132: 265.88850587695407,\n",
       " 133: 265.8878404818977,\n",
       " 134: 265.8872006913104,\n",
       " 135: 265.88658551992967,\n",
       " 136: 265.88599402040586,\n",
       " 137: 265.8854252818436,\n",
       " 138: 265.8848784283988,\n",
       " 139: 265.8843526179299,\n",
       " 140: 265.88384704070097,\n",
       " 141: 265.88336091813494,\n",
       " 142: 265.8828935016145,\n",
       " 143: 265.8824440713291,\n",
       " 144: 265.8820119351665,\n",
       " 145: 265.88159642764714,\n",
       " 146: 265.88119690889914,\n",
       " 147: 265.88081276367313,\n",
       " 148: 265.88044340039414,\n",
       " 149: 265.88008825025156,\n",
       " 150: 265.8797467663224,\n",
       " 151: 265.8794184227294,\n",
       " 152: 265.879102713831,\n",
       " 153: 265.878799153443,\n",
       " 154: 265.8785072740895,\n",
       " 155: 265.878226626283,\n",
       " 156: 265.8779567778325,\n",
       " 157: 265.87769731317763,\n",
       " 158: 265.877447832749,\n",
       " 159: 265.8772079523525,\n",
       " 160: 265.8769773025779,\n",
       " 161: 265.87675552823,\n",
       " 162: 265.8765422877814,\n",
       " 163: 265.87633725284684,\n",
       " 164: 265.8761401076773,\n",
       " 165: 265.87595054867387,\n",
       " 166: 265.87576828392014,\n",
       " 167: 265.87559303273247,\n",
       " 168: 265.8754245252282,\n",
       " 169: 265.87526250190984,\n",
       " 170: 265.87510671326515,\n",
       " 171: 265.8749569193832,\n",
       " 172: 265.87481288958503,\n",
       " 173: 265.8746744020681,\n",
       " 174: 265.8745412435648,\n",
       " 175: 265.87441320901416,\n",
       " 176: 265.874290101246,\n",
       " 177: 265.87417173067723,\n",
       " 178: 265.87405791501993,\n",
       " 179: 265.8739484790006,\n",
       " 180: 265.8738432540904,\n",
       " 181: 265.87374207824536,\n",
       " 182: 265.8736447956571,\n",
       " 183: 265.87355125651266,\n",
       " 184: 265.873461316764,\n",
       " 185: 265.87337483790594,\n",
       " 186: 265.8732916867631,\n",
       " 187: 265.8732117352846,\n",
       " 188: 265.87313486034714,\n",
       " 189: 265.873060943565,\n",
       " 190: 265.87298987110813,\n",
       " 191: 265.87292153352666,\n",
       " 192: 265.8728558255822,\n",
       " 193: 265.87279264608605,\n",
       " 194: 265.8727318977433,\n",
       " 195: 265.872673487003,\n",
       " 196: 265.87261732391386,\n",
       " 197: 265.8725633219861,\n",
       " 198: 265.8725113980579,\n",
       " 199: 265.87246147216774,\n",
       " 200: 265.87241346743093,\n",
       " 201: 265.87236730992123,\n",
       " 202: 265.8723229285572,\n",
       " 203: 265.8722802549925,\n",
       " 204: 265.8722392235109,\n",
       " 205: 265.87219977092485,\n",
       " 206: 265.87216183647837,\n",
       " 207: 265.8721253617532,\n",
       " 208: 265.8720902905791,\n",
       " 209: 265.87205656894736,\n",
       " 210: 265.8720241449274,\n",
       " 211: 265.87199296858705,\n",
       " 212: 265.87196299191544,\n",
       " 213: 265.87193416874914,\n",
       " 214: 265.8719064547012,\n",
       " 215: 265.87187980709257,\n",
       " 216: 265.87185418488673,\n",
       " 217: 265.87182954862595,\n",
       " 218: 265.87180586037096,\n",
       " 219: 265.87178308364236,\n",
       " 220: 265.87176118336464,\n",
       " 221: 265.8717401258118,\n",
       " 222: 265.8717198785557,\n",
       " 223: 265.8717004104161,\n",
       " 224: 265.8716816914125,\n",
       " 225: 265.871663692718,\n",
       " 226: 265.87164638661517,\n",
       " 227: 265.87162974645287,\n",
       " 228: 265.8716137466057,\n",
       " 229: 265.8715983624342,\n",
       " 230: 265.87158357024725,\n",
       " 231: 265.8715693472652,\n",
       " 232: 265.8715556715849,\n",
       " 233: 265.8715425221461,\n",
       " 234: 265.8715298786991,\n",
       " 235: 265.8715177217732,\n",
       " 236: 265.871506032647,\n",
       " 237: 265.87149479331964,\n",
       " 238: 265.8714839864827,\n",
       " 239: 265.8714735954939,\n",
       " 240: 265.87146360435145,\n",
       " 241: 265.87145399766916,\n",
       " 242: 265.87144476065293,\n",
       " 243: 265.87143587907815,\n",
       " 244: 265.87142733926714,\n",
       " 245: 265.87141912806896,\n",
       " 246: 265.8714112328385,\n",
       " 247: 265.8714036414173,\n",
       " 248: 265.8713963421148,\n",
       " 249: 265.8713893236902}"
      ]
     },
     "execution_count": 19,
     "metadata": {},
     "output_type": "execute_result"
    }
   ],
   "source": [
    "cache['cost']"
   ]
  },
  {
   "cell_type": "markdown",
   "metadata": {
    "slideshow": {
     "slide_type": "slide"
    }
   },
   "source": [
    "A plot of the cost function as a function of iteration is helpful:"
   ]
  },
  {
   "cell_type": "code",
   "execution_count": 20,
   "metadata": {
    "slideshow": {
     "slide_type": "subslide"
    }
   },
   "outputs": [],
   "source": [
    "%%capture cost_plot\n",
    "import matplotlib.pyplot as plt\n",
    "import seaborn as sns\n",
    "\n",
    "sns.set_context('talk')\n",
    "\n",
    "trials = cache['cost'].keys()\n",
    "cost_history = cache['cost'].values()\n",
    "\n",
    "fig, ax = plt.subplots()\n",
    "sns.lineplot( x =trials, y = cost_history, marker = 's', linestyle = '--')\n",
    "ax.set_xlabel('Iteration number')\n",
    "ax.set_ylabel('Cost function')\n",
    "ax.set_title('Gradient descent: Cost Function')\n",
    "plt.show()"
   ]
  },
  {
   "cell_type": "code",
   "execution_count": 21,
   "metadata": {
    "cell_style": "center",
    "slideshow": {
     "slide_type": "subslide"
    }
   },
   "outputs": [
    {
     "data": {
      "image/png": "[encoded data removed]",
      "text/plain": [
       "<Figure size 640x480 with 1 Axes>"
      ]
     },
     "metadata": {},
     "output_type": "display_data"
    }
   ],
   "source": [
    "cost_plot()"
   ]
  },
  {
   "cell_type": "markdown",
   "metadata": {
    "slideshow": {
     "slide_type": "slide"
    }
   },
   "source": [
    "Compare result of gradient descent with analytical calculation:"
   ]
  },
  {
   "cell_type": "code",
   "execution_count": 22,
   "metadata": {
    "cell_style": "split",
    "slideshow": {
     "slide_type": "fragment"
    }
   },
   "outputs": [
    {
     "data": {
      "text/plain": [
       "array([[ 2.0812013 ],\n",
       "       [-1.34112543]])"
      ]
     },
     "execution_count": 22,
     "metadata": {},
     "output_type": "execute_result"
    }
   ],
   "source": [
    "#gradient descent\n",
    "w"
   ]
  },
  {
   "cell_type": "code",
   "execution_count": 23,
   "metadata": {
    "cell_style": "split",
    "slideshow": {
     "slide_type": "fragment"
    }
   },
   "outputs": [
    {
     "data": {
      "text/plain": [
       "array([[ 2.08579266],\n",
       "       [-1.34923161]])"
      ]
     },
     "execution_count": 23,
     "metadata": {},
     "output_type": "execute_result"
    }
   ],
   "source": [
    "#formula\n",
    "import numpy as np\n",
    "w_analyt =np.linalg.solve(X.T@X, X.T@y)\n",
    "w0_true, w1_true = w_analyt\n",
    "w_analyt"
   ]
  },
  {
   "cell_type": "code",
   "execution_count": 24,
   "metadata": {
    "slideshow": {
     "slide_type": "fragment"
    }
   },
   "outputs": [
    {
     "data": {
      "text/plain": [
       "array([[ 2.08579266, -1.34923161]])"
      ]
     },
     "execution_count": 24,
     "metadata": {},
     "output_type": "execute_result"
    }
   ],
   "source": [
    "from sklearn.linear_model import LinearRegression\n",
    "lr = LinearRegression(fit_intercept = False)\n",
    "lr.fit(X,y)\n",
    "lr.coef_"
   ]
  },
  {
   "cell_type": "markdown",
   "metadata": {
    "slideshow": {
     "slide_type": "slide"
    }
   },
   "source": [
    "Now let's look at how the weights get iteratively optimized."
   ]
  },
  {
   "cell_type": "code",
   "execution_count": 25,
   "metadata": {
    "slideshow": {
     "slide_type": "subslide"
    }
   },
   "outputs": [],
   "source": [
    "w, cache = gradient_descent_optimizer(X, y, learning_rate = 0.001, num_iter = 1000)"
   ]
  },
  {
   "cell_type": "code",
   "execution_count": 26,
   "metadata": {
    "slideshow": {
     "slide_type": "fragment"
    }
   },
   "outputs": [
    {
     "data": {
      "image/png": "[encoded data removed]",
      "text/plain": [
       "<Figure size 640x480 with 1 Axes>"
      ]
     },
     "metadata": {},
     "output_type": "display_data"
    }
   ],
   "source": [
    "w_0list = []\n",
    "w_1list = []\n",
    "for iteration, weight in cache['weight_history'].items():\n",
    "    w_0list.append(weight[0][0])\n",
    "    w_1list.append(weight[1][0])\n",
    "\n",
    "fig, ax = plt.subplots()\n",
    "sns.scatterplot(x = w_0list, y = w_1list, ax = ax, label = 'Gradient descent')\n",
    "ax.scatter(w0_true, w1_true, s = 150, c ='r', label = 'Analytical')\n",
    "ax.set_ylabel('$w_1$')\n",
    "ax.set_xlabel('$w_0$')\n",
    "ax.legend()\n",
    "ax.set_title('History of weight optimization')\n",
    "plt.show()"
   ]
  },
  {
   "cell_type": "markdown",
   "metadata": {
    "slideshow": {
     "slide_type": "slide"
    }
   },
   "source": [
    "Effect of the learning rate:\n",
    "    \n",
    "- Obviously affects step size\n",
    "\n",
    "$$ \\Delta \\textbf{w} = - \\alpha \\nabla_\\textbf{w} J$$"
   ]
  },
  {
   "cell_type": "markdown",
   "metadata": {
    "hidden": true,
    "slideshow": {
     "slide_type": "fragment"
    }
   },
   "source": [
    "If our steps are _too big_, we risk skipping over the minimum value (optimal parameters).\n",
    "\n",
    "If our steps are _too small_, it might take us too long to reach the minimum value."
   ]
  },
  {
   "cell_type": "markdown",
   "metadata": {
    "hidden": true,
    "slideshow": {
     "slide_type": "subslide"
    }
   },
   "source": [
    "![learning_rate](https://www.jeremyjordan.me/content/images/2018/02/Screen-Shot-2018-02-24-at-11.47.09-AM.png)"
   ]
  },
  {
   "cell_type": "markdown",
   "metadata": {
    "hidden": true,
    "slideshow": {
     "slide_type": "slide"
    }
   },
   "source": [
    "Optimization can be made better: \n",
    "\n",
    "- many ways to improve the way we take steps\n",
    "- how we use our training data via sampling can help a lot\n"
   ]
  },
  {
   "cell_type": "markdown",
   "metadata": {
    "slideshow": {
     "slide_type": "slide"
    }
   },
   "source": [
    "Most importantly\n",
    "\n",
    "- Gradient descent:\n",
    "    - will be using under the hood for most algorithms from now on.\n",
    "    - but in many cases want to tune how algorithm optimizes\n",
    "    - sometimes need to pop the hood and mess around."
   ]
  }
 ],
 "metadata": {
  "celltoolbar": "Slideshow",
  "kernelspec": {
   "display_name": "Python 3 (ipykernel)",
   "language": "python",
   "name": "python3"
  },
  "language_info": {
   "codemirror_mode": {
    "name": "ipython",
    "version": 3
   },
   "file_extension": ".py",
   "mimetype": "text/x-python",
   "name": "python",
   "nbconvert_exporter": "python",
   "pygments_lexer": "ipython3",
   "version": "3.11.7"
  },
  "toc": {
   "base_numbering": 1,
   "nav_menu": {},
   "number_sections": true,
   "sideBar": true,
   "skip_h1_title": false,
   "title_cell": "Table of Contents",
   "title_sidebar": "TOC",
   "toc_cell": true,
   "toc_position": {
    "height": "calc(100% - 180px)",
    "left": "10px",
    "top": "150px",
    "width": "288px"
   },
   "toc_section_display": true,
   "toc_window_display": true
  }
 },
 "nbformat": 4,
 "nbformat_minor": 4
}
