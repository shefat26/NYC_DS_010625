{
 "cells": [
  {
   "cell_type": "markdown",
   "id": "72b59ac9",
   "metadata": {
    "cell_style": "center",
    "slideshow": {
     "slide_type": "slide"
    }
   },
   "source": [
    "<div style=\"color:white;\n",
    "           display:fill;\n",
    "           border-radius:5px;\n",
    "           background-color:#5642C5;\n",
    "           font-size:200%;\n",
    "           font-family:Arial;letter-spacing:0.5px\">\n",
    "\n",
    "<p width = 20%, style=\"padding: 10px;\n",
    "              color:white;\">\n",
    "Inference and Prediction\n",
    "              \n",
    "</p>\n",
    "</div>\n",
    "\n",
    "Data Science Cohort Live NYC Aug 2024\n",
    "<p>Phase 3: Topic 19</p>\n",
    "<br>\n",
    "<br>\n",
    "\n",
    "<div align = \"right\">\n",
    "<img src=\"Images/flatiron-school-logo.png\" align = \"right\" width=\"200\"/>\n",
    "</div>\n",
    "    \n",
    "    "
   ]
  },
  {
   "cell_type": "markdown",
   "id": "a57c41d2",
   "metadata": {
    "cell_style": "center",
    "slideshow": {
     "slide_type": "slide"
    }
   },
   "source": [
    "**Inference**\n",
    "\n",
    "- Hypothesis testing based on limited information."
   ]
  },
  {
   "cell_type": "markdown",
   "id": "3a65bc12",
   "metadata": {
    "cell_style": "center",
    "slideshow": {
     "slide_type": "slide"
    }
   },
   "source": [
    "**In the context of t-testing on means**:"
   ]
  },
  {
   "cell_type": "markdown",
   "id": "5e6a4fbd",
   "metadata": {
    "cell_style": "split",
    "slideshow": {
     "slide_type": "fragment"
    }
   },
   "source": [
    "The **sample mean** of the Gabonese elephants vs. the mean of the savannah population.\n",
    "\n",
    "Is there a significant difference between the Gabonese and general Savannah population?"
   ]
  },
  {
   "cell_type": "markdown",
   "id": "a49c29cb",
   "metadata": {
    "cell_style": "split",
    "slideshow": {
     "slide_type": "fragment"
    }
   },
   "source": [
    "<center><img src = \"Images/elephants.jpg\" align = center width = 400></center>\n",
    "<center>Forest vs. Savannah elephants</center>"
   ]
  },
  {
   "cell_type": "markdown",
   "id": "cb566d5a",
   "metadata": {
    "slideshow": {
     "slide_type": "slide"
    }
   },
   "source": [
    "**In the context of chi-squared testing**:"
   ]
  },
  {
   "cell_type": "markdown",
   "id": "75eb780e",
   "metadata": {
    "cell_style": "split",
    "slideshow": {
     "slide_type": "fragment"
    }
   },
   "source": [
    "Character classes preferences for MMORPG players:\n",
    "- UK **sample count distribution**.\n",
    "- Expected from US population.\n",
    "\n",
    "Is there a significant difference in class preferences between UK and US users?"
   ]
  },
  {
   "cell_type": "markdown",
   "id": "e299ef4f",
   "metadata": {
    "cell_style": "split",
    "slideshow": {
     "slide_type": "fragment"
    }
   },
   "source": [
    "<center><img src = \"Images/mmorpg.png\" align = \"center\" width = 800 /></center>\n",
    "<center>Bombergirl looks like some fun.</center>"
   ]
  },
  {
   "cell_type": "markdown",
   "id": "72612bc8",
   "metadata": {
    "slideshow": {
     "slide_type": "slide"
    }
   },
   "source": [
    "**In the context of linear regression**:"
   ]
  },
  {
   "cell_type": "markdown",
   "id": "c90c8400",
   "metadata": {
    "cell_style": "split",
    "slideshow": {
     "slide_type": "fragment"
    }
   },
   "source": [
    "\n",
    "\n",
    "- Does the total population in a country have any correlation with its average life expectancy?\n",
    "- Which factors can be said to have **statistically significant** effects on explaining the variance in life expectancy?\n",
    "- What is the weight of each factor? What is our uncertainty in this weight?"
   ]
  },
  {
   "cell_type": "markdown",
   "id": "1a3fd0c0",
   "metadata": {
    "cell_style": "split",
    "slideshow": {
     "slide_type": "fragment"
    }
   },
   "source": [
    "<center><img src = \"Images/jaffer.png\" width = 400></center>\n",
    "<center>You are keeping him waiting for answers...</center>"
   ]
  },
  {
   "cell_type": "markdown",
   "id": "15444642",
   "metadata": {
    "cell_style": "center",
    "slideshow": {
     "slide_type": "slide"
    }
   },
   "source": [
    "- Get data.\n",
    "- Make inference from a statistic/estimator based off the data (sample):\n",
    "    - sample mean $\\bar{X}$\n",
    "    - sample median\n",
    "    - $\\hat{\\beta}_1$, $\\hat{\\beta}_0$ from linear regression on dataset."
   ]
  },
  {
   "cell_type": "code",
   "execution_count": 1,
   "id": "79268396",
   "metadata": {
    "cell_style": "center",
    "slideshow": {
     "slide_type": "fragment"
    }
   },
   "outputs": [],
   "source": [
    "import pandas as pd\n",
    "import numpy as np\n",
    "#load WHO dataset: all countries health data 2001-2015\n",
    "WHO_df = pd.read_csv('Data/WHO_life.csv').dropna()\n",
    "\n",
    "# stripping white space on column names\n",
    "WHO_df.columns = WHO_df.columns.str.strip()"
   ]
  },
  {
   "cell_type": "code",
   "execution_count": 2,
   "id": "adf8fe18",
   "metadata": {
    "cell_style": "center",
    "scrolled": false,
    "slideshow": {
     "slide_type": "subslide"
    }
   },
   "outputs": [
    {
     "name": "stdout",
     "output_type": "stream",
     "text": [
      "<class 'pandas.core.frame.DataFrame'>\n",
      "Index: 1649 entries, 0 to 2937\n",
      "Data columns (total 22 columns):\n",
      " #   Column                           Non-Null Count  Dtype  \n",
      "---  ------                           --------------  -----  \n",
      " 0   Country                          1649 non-null   object \n",
      " 1   Year                             1649 non-null   int64  \n",
      " 2   Status                           1649 non-null   object \n",
      " 3   Life expectancy                  1649 non-null   float64\n",
      " 4   Adult Mortality                  1649 non-null   float64\n",
      " 5   infant deaths                    1649 non-null   int64  \n",
      " 6   Alcohol                          1649 non-null   float64\n",
      " 7   percentage expenditure           1649 non-null   float64\n",
      " 8   Hepatitis B                      1649 non-null   float64\n",
      " 9   Measles                          1649 non-null   int64  \n",
      " 10  BMI                              1649 non-null   float64\n",
      " 11  under-five deaths                1649 non-null   int64  \n",
      " 12  Polio                            1649 non-null   float64\n",
      " 13  Total expenditure                1649 non-null   float64\n",
      " 14  Diphtheria                       1649 non-null   float64\n",
      " 15  HIV/AIDS                         1649 non-null   float64\n",
      " 16  GDP                              1649 non-null   float64\n",
      " 17  Population                       1649 non-null   float64\n",
      " 18  thinness  1-19 years             1649 non-null   float64\n",
      " 19  thinness 5-9 years               1649 non-null   float64\n",
      " 20  Income composition of resources  1649 non-null   float64\n",
      " 21  Schooling                        1649 non-null   float64\n",
      "dtypes: float64(16), int64(4), object(2)\n",
      "memory usage: 296.3+ KB\n"
     ]
    }
   ],
   "source": [
    "WHO_df.info()"
   ]
  },
  {
   "cell_type": "code",
   "execution_count": 3,
   "id": "f7548105",
   "metadata": {
    "cell_style": "center"
   },
   "outputs": [],
   "source": [
    "feature_cols = ['HIV/AIDS', 'BMI', 'Population', 'Polio', 'Population', 'Alcohol', 'GDP']\n",
    "X = WHO_df[feature_cols]\n",
    "# standardize features\n",
    "X_standard = X.apply(lambda x: (x - x.mean())/x.std() )\n",
    "y = WHO_df['Life expectancy']\n",
    "y_standard = (y - y.mean())/y.std()"
   ]
  },
  {
   "cell_type": "markdown",
   "id": "d998918a",
   "metadata": {
    "slideshow": {
     "slide_type": "slide"
    }
   },
   "source": [
    "Which of these factors affect life expectancy? Their relative weights?\n",
    "\n",
    "- Confidence intervals of weights\n",
    "- Key here is *understanding* of relationships between dependent and independent variables.\n",
    "- Minimal model explaining variance.\n",
    "\n",
    "We did this kind of statistical inference with statsmodels."
   ]
  },
  {
   "cell_type": "code",
   "execution_count": 4,
   "id": "bb11c6d5",
   "metadata": {},
   "outputs": [],
   "source": [
    "import statsmodels.api as sm\n",
    "X_aug = sm.add_constant(X_standard)\n",
    "res = sm.OLS(y_standard, X_aug).fit()"
   ]
  },
  {
   "cell_type": "code",
   "execution_count": 5,
   "id": "14be3476",
   "metadata": {
    "slideshow": {
     "slide_type": "subslide"
    }
   },
   "outputs": [
    {
     "data": {
      "text/html": [
       "<table class=\"simpletable\">\n",
       "<caption>OLS Regression Results</caption>\n",
       "<tr>\n",
       "  <th>Dep. Variable:</th>     <td>Life expectancy</td> <th>  R-squared:         </th> <td>   0.656</td>\n",
       "</tr>\n",
       "<tr>\n",
       "  <th>Model:</th>                   <td>OLS</td>       <th>  Adj. R-squared:    </th> <td>   0.655</td>\n",
       "</tr>\n",
       "<tr>\n",
       "  <th>Method:</th>             <td>Least Squares</td>  <th>  F-statistic:       </th> <td>   522.0</td>\n",
       "</tr>\n",
       "<tr>\n",
       "  <th>Date:</th>             <td>Fri, 04 Oct 2024</td> <th>  Prob (F-statistic):</th>  <td>  0.00</td> \n",
       "</tr>\n",
       "<tr>\n",
       "  <th>Time:</th>                 <td>15:19:33</td>     <th>  Log-Likelihood:    </th> <td> -1459.3</td>\n",
       "</tr>\n",
       "<tr>\n",
       "  <th>No. Observations:</th>      <td>  1649</td>      <th>  AIC:               </th> <td>   2933.</td>\n",
       "</tr>\n",
       "<tr>\n",
       "  <th>Df Residuals:</th>          <td>  1642</td>      <th>  BIC:               </th> <td>   2971.</td>\n",
       "</tr>\n",
       "<tr>\n",
       "  <th>Df Model:</th>              <td>     6</td>      <th>                     </th>     <td> </td>   \n",
       "</tr>\n",
       "<tr>\n",
       "  <th>Covariance Type:</th>      <td>nonrobust</td>    <th>                     </th>     <td> </td>   \n",
       "</tr>\n",
       "</table>\n",
       "<table class=\"simpletable\">\n",
       "<tr>\n",
       "       <td></td>         <th>coef</th>     <th>std err</th>      <th>t</th>      <th>P>|t|</th>  <th>[0.025</th>    <th>0.975]</th>  \n",
       "</tr>\n",
       "<tr>\n",
       "  <th>const</th>      <td> 7.303e-16</td> <td>    0.014</td> <td> 5.05e-14</td> <td> 1.000</td> <td>   -0.028</td> <td>    0.028</td>\n",
       "</tr>\n",
       "<tr>\n",
       "  <th>HIV/AIDS</th>   <td>   -0.4849</td> <td>    0.015</td> <td>  -32.453</td> <td> 0.000</td> <td>   -0.514</td> <td>   -0.456</td>\n",
       "</tr>\n",
       "<tr>\n",
       "  <th>BMI</th>        <td>    0.3010</td> <td>    0.016</td> <td>   18.751</td> <td> 0.000</td> <td>    0.270</td> <td>    0.332</td>\n",
       "</tr>\n",
       "<tr>\n",
       "  <th>Population</th> <td>    0.0021</td> <td>    0.007</td> <td>    0.294</td> <td> 0.769</td> <td>   -0.012</td> <td>    0.016</td>\n",
       "</tr>\n",
       "<tr>\n",
       "  <th>Polio</th>      <td>    0.1486</td> <td>    0.015</td> <td>    9.858</td> <td> 0.000</td> <td>    0.119</td> <td>    0.178</td>\n",
       "</tr>\n",
       "<tr>\n",
       "  <th>Population</th> <td>    0.0021</td> <td>    0.007</td> <td>    0.294</td> <td> 0.769</td> <td>   -0.012</td> <td>    0.016</td>\n",
       "</tr>\n",
       "<tr>\n",
       "  <th>Alcohol</th>    <td>    0.1506</td> <td>    0.017</td> <td>    8.820</td> <td> 0.000</td> <td>    0.117</td> <td>    0.184</td>\n",
       "</tr>\n",
       "<tr>\n",
       "  <th>GDP</th>        <td>    0.2188</td> <td>    0.016</td> <td>   13.382</td> <td> 0.000</td> <td>    0.187</td> <td>    0.251</td>\n",
       "</tr>\n",
       "</table>\n",
       "<table class=\"simpletable\">\n",
       "<tr>\n",
       "  <th>Omnibus:</th>       <td>19.852</td> <th>  Durbin-Watson:     </th> <td>   0.588</td>\n",
       "</tr>\n",
       "<tr>\n",
       "  <th>Prob(Omnibus):</th> <td> 0.000</td> <th>  Jarque-Bera (JB):  </th> <td>  26.909</td>\n",
       "</tr>\n",
       "<tr>\n",
       "  <th>Skew:</th>          <td>-0.145</td> <th>  Prob(JB):          </th> <td>1.43e-06</td>\n",
       "</tr>\n",
       "<tr>\n",
       "  <th>Kurtosis:</th>      <td> 3.555</td> <th>  Cond. No.          </th> <td>2.00e+16</td>\n",
       "</tr>\n",
       "</table><br/><br/>Notes:<br/>[1] Standard Errors assume that the covariance matrix of the errors is correctly specified.<br/>[2] The smallest eigenvalue is 8.52e-30. This might indicate that there are<br/>strong multicollinearity problems or that the design matrix is singular."
      ],
      "text/latex": [
       "\\begin{center}\n",
       "\\begin{tabular}{lclc}\n",
       "\\toprule\n",
       "\\textbf{Dep. Variable:}    & Life expectancy  & \\textbf{  R-squared:         } &     0.656   \\\\\n",
       "\\textbf{Model:}            &       OLS        & \\textbf{  Adj. R-squared:    } &     0.655   \\\\\n",
       "\\textbf{Method:}           &  Least Squares   & \\textbf{  F-statistic:       } &     522.0   \\\\\n",
       "\\textbf{Date:}             & Fri, 04 Oct 2024 & \\textbf{  Prob (F-statistic):} &     0.00    \\\\\n",
       "\\textbf{Time:}             &     15:19:33     & \\textbf{  Log-Likelihood:    } &   -1459.3   \\\\\n",
       "\\textbf{No. Observations:} &        1649      & \\textbf{  AIC:               } &     2933.   \\\\\n",
       "\\textbf{Df Residuals:}     &        1642      & \\textbf{  BIC:               } &     2971.   \\\\\n",
       "\\textbf{Df Model:}         &           6      & \\textbf{                     } &             \\\\\n",
       "\\textbf{Covariance Type:}  &    nonrobust     & \\textbf{                     } &             \\\\\n",
       "\\bottomrule\n",
       "\\end{tabular}\n",
       "\\begin{tabular}{lcccccc}\n",
       "                    & \\textbf{coef} & \\textbf{std err} & \\textbf{t} & \\textbf{P$> |$t$|$} & \\textbf{[0.025} & \\textbf{0.975]}  \\\\\n",
       "\\midrule\n",
       "\\textbf{const}      &    7.303e-16  &        0.014     &  5.05e-14  &         1.000        &       -0.028    &        0.028     \\\\\n",
       "\\textbf{HIV/AIDS}   &      -0.4849  &        0.015     &   -32.453  &         0.000        &       -0.514    &       -0.456     \\\\\n",
       "\\textbf{BMI}        &       0.3010  &        0.016     &    18.751  &         0.000        &        0.270    &        0.332     \\\\\n",
       "\\textbf{Population} &       0.0021  &        0.007     &     0.294  &         0.769        &       -0.012    &        0.016     \\\\\n",
       "\\textbf{Polio}      &       0.1486  &        0.015     &     9.858  &         0.000        &        0.119    &        0.178     \\\\\n",
       "\\textbf{Population} &       0.0021  &        0.007     &     0.294  &         0.769        &       -0.012    &        0.016     \\\\\n",
       "\\textbf{Alcohol}    &       0.1506  &        0.017     &     8.820  &         0.000        &        0.117    &        0.184     \\\\\n",
       "\\textbf{GDP}        &       0.2188  &        0.016     &    13.382  &         0.000        &        0.187    &        0.251     \\\\\n",
       "\\bottomrule\n",
       "\\end{tabular}\n",
       "\\begin{tabular}{lclc}\n",
       "\\textbf{Omnibus:}       & 19.852 & \\textbf{  Durbin-Watson:     } &    0.588  \\\\\n",
       "\\textbf{Prob(Omnibus):} &  0.000 & \\textbf{  Jarque-Bera (JB):  } &   26.909  \\\\\n",
       "\\textbf{Skew:}          & -0.145 & \\textbf{  Prob(JB):          } & 1.43e-06  \\\\\n",
       "\\textbf{Kurtosis:}      &  3.555 & \\textbf{  Cond. No.          } & 2.00e+16  \\\\\n",
       "\\bottomrule\n",
       "\\end{tabular}\n",
       "%\\caption{OLS Regression Results}\n",
       "\\end{center}\n",
       "\n",
       "Notes: \\newline\n",
       " [1] Standard Errors assume that the covariance matrix of the errors is correctly specified. \\newline\n",
       " [2] The smallest eigenvalue is 8.52e-30. This might indicate that there are \\newline\n",
       " strong multicollinearity problems or that the design matrix is singular."
      ],
      "text/plain": [
       "<class 'statsmodels.iolib.summary.Summary'>\n",
       "\"\"\"\n",
       "                            OLS Regression Results                            \n",
       "==============================================================================\n",
       "Dep. Variable:        Life expectancy   R-squared:                       0.656\n",
       "Model:                            OLS   Adj. R-squared:                  0.655\n",
       "Method:                 Least Squares   F-statistic:                     522.0\n",
       "Date:                Fri, 04 Oct 2024   Prob (F-statistic):               0.00\n",
       "Time:                        15:19:33   Log-Likelihood:                -1459.3\n",
       "No. Observations:                1649   AIC:                             2933.\n",
       "Df Residuals:                    1642   BIC:                             2971.\n",
       "Df Model:                           6                                         \n",
       "Covariance Type:            nonrobust                                         \n",
       "==============================================================================\n",
       "                 coef    std err          t      P>|t|      [0.025      0.975]\n",
       "------------------------------------------------------------------------------\n",
       "const       7.303e-16      0.014   5.05e-14      1.000      -0.028       0.028\n",
       "HIV/AIDS      -0.4849      0.015    -32.453      0.000      -0.514      -0.456\n",
       "BMI            0.3010      0.016     18.751      0.000       0.270       0.332\n",
       "Population     0.0021      0.007      0.294      0.769      -0.012       0.016\n",
       "Polio          0.1486      0.015      9.858      0.000       0.119       0.178\n",
       "Population     0.0021      0.007      0.294      0.769      -0.012       0.016\n",
       "Alcohol        0.1506      0.017      8.820      0.000       0.117       0.184\n",
       "GDP            0.2188      0.016     13.382      0.000       0.187       0.251\n",
       "==============================================================================\n",
       "Omnibus:                       19.852   Durbin-Watson:                   0.588\n",
       "Prob(Omnibus):                  0.000   Jarque-Bera (JB):               26.909\n",
       "Skew:                          -0.145   Prob(JB):                     1.43e-06\n",
       "Kurtosis:                       3.555   Cond. No.                     2.00e+16\n",
       "==============================================================================\n",
       "\n",
       "Notes:\n",
       "[1] Standard Errors assume that the covariance matrix of the errors is correctly specified.\n",
       "[2] The smallest eigenvalue is 8.52e-30. This might indicate that there are\n",
       "strong multicollinearity problems or that the design matrix is singular.\n",
       "\"\"\""
      ]
     },
     "execution_count": 5,
     "metadata": {},
     "output_type": "execute_result"
    }
   ],
   "source": [
    "res.summary()"
   ]
  },
  {
   "cell_type": "markdown",
   "id": "ff774575",
   "metadata": {
    "slideshow": {
     "slide_type": "slide"
    }
   },
   "source": [
    "#### Prediction"
   ]
  },
  {
   "cell_type": "markdown",
   "id": "fdfb4d5d",
   "metadata": {
    "slideshow": {
     "slide_type": "subslide"
    }
   },
   "source": [
    "Emphasis is different:\n",
    "- Want to build a little machine:"
   ]
  },
  {
   "cell_type": "markdown",
   "id": "bcfac754",
   "metadata": {
    "slideshow": {
     "slide_type": "fragment"
    }
   },
   "source": [
    "<center><img src = \"Images/machine-learning-prediction.png\" /></center>"
   ]
  },
  {
   "cell_type": "markdown",
   "id": "f2295ad9",
   "metadata": {
    "slideshow": {
     "slide_type": "subslide"
    }
   },
   "source": [
    "E.g.,\n",
    "\n",
    "- Input: Features reflecting socioeconomic factors of Zamunda  \n",
    "    \n",
    "- Output: Life expectancy of Zamunda\n",
    "\n",
    "<center><img src = \"Images/machine-learning-prediction.png\" /></center>"
   ]
  },
  {
   "cell_type": "markdown",
   "id": "fe93b818",
   "metadata": {
    "cell_style": "center",
    "slideshow": {
     "slide_type": "fragment"
    }
   },
   "source": [
    "- Getting good estimates of feature weights, their confidence intervals matter less here.\n",
    "- Less emphasis on building minimal explanatory model.\n",
    "- As long as it improves performance of machine, add more predictors\n"
   ]
  },
  {
   "cell_type": "markdown",
   "id": "05339666",
   "metadata": {
    "cell_style": "center",
    "slideshow": {
     "slide_type": "slide"
    }
   },
   "source": [
    "**Prediction Mode**\n",
    "1. Use data (sample) to train model.\n",
    "2. How well, on the average, does model **simulate** process (population) that generated sample? Evaluate/test model.\n",
    "3. Use model to make prediction on new data."
   ]
  },
  {
   "cell_type": "markdown",
   "id": "5102720a",
   "metadata": {
    "cell_style": "split",
    "slideshow": {
     "slide_type": "subslide"
    }
   },
   "source": [
    "Statsmodels good for statistical inference.\n",
    "- Scikit-learn good for training/testing/prediction.\n",
    "- Designed as general machine-learning framework"
   ]
  },
  {
   "cell_type": "markdown",
   "id": "dfb92eb2",
   "metadata": {
    "cell_style": "split",
    "slideshow": {
     "slide_type": "fragment"
    }
   },
   "source": [
    "<img src = \"Images/sklearn.png\" width = 600/>"
   ]
  },
  {
   "cell_type": "markdown",
   "id": "8e343ac6",
   "metadata": {
    "slideshow": {
     "slide_type": "fragment"
    }
   },
   "source": [
    "Let's use linear regression in scikit-learn."
   ]
  },
  {
   "cell_type": "code",
   "execution_count": 6,
   "id": "d1e1bd9c",
   "metadata": {
    "slideshow": {
     "slide_type": "slide"
    }
   },
   "outputs": [],
   "source": [
    "from sklearn.linear_model import LinearRegression\n",
    "from sklearn.model_selection import train_test_split\n",
    "\n",
    "from sklearn.metrics import mean_absolute_error\n",
    "from sklearn.metrics import mean_squared_error"
   ]
  },
  {
   "cell_type": "markdown",
   "id": "496418e4",
   "metadata": {
    "slideshow": {
     "slide_type": "subslide"
    }
   },
   "source": [
    "Define the linear regression model"
   ]
  },
  {
   "cell_type": "code",
   "execution_count": 7,
   "id": "e22fe74e",
   "metadata": {
    "slideshow": {
     "slide_type": "fragment"
    }
   },
   "outputs": [
    {
     "data": {
      "text/html": [
       "<style>#sk-container-id-1 {color: black;background-color: white;}#sk-container-id-1 pre{padding: 0;}#sk-container-id-1 div.sk-toggleable {background-color: white;}#sk-container-id-1 label.sk-toggleable__label {cursor: pointer;display: block;width: 100%;margin-bottom: 0;padding: 0.3em;box-sizing: border-box;text-align: center;}#sk-container-id-1 label.sk-toggleable__label-arrow:before {content: \"▸\";float: left;margin-right: 0.25em;color: #696969;}#sk-container-id-1 label.sk-toggleable__label-arrow:hover:before {color: black;}#sk-container-id-1 div.sk-estimator:hover label.sk-toggleable__label-arrow:before {color: black;}#sk-container-id-1 div.sk-toggleable__content {max-height: 0;max-width: 0;overflow: hidden;text-align: left;background-color: #f0f8ff;}#sk-container-id-1 div.sk-toggleable__content pre {margin: 0.2em;color: black;border-radius: 0.25em;background-color: #f0f8ff;}#sk-container-id-1 input.sk-toggleable__control:checked~div.sk-toggleable__content {max-height: 200px;max-width: 100%;overflow: auto;}#sk-container-id-1 input.sk-toggleable__control:checked~label.sk-toggleable__label-arrow:before {content: \"▾\";}#sk-container-id-1 div.sk-estimator input.sk-toggleable__control:checked~label.sk-toggleable__label {background-color: #d4ebff;}#sk-container-id-1 div.sk-label input.sk-toggleable__control:checked~label.sk-toggleable__label {background-color: #d4ebff;}#sk-container-id-1 input.sk-hidden--visually {border: 0;clip: rect(1px 1px 1px 1px);clip: rect(1px, 1px, 1px, 1px);height: 1px;margin: -1px;overflow: hidden;padding: 0;position: absolute;width: 1px;}#sk-container-id-1 div.sk-estimator {font-family: monospace;background-color: #f0f8ff;border: 1px dotted black;border-radius: 0.25em;box-sizing: border-box;margin-bottom: 0.5em;}#sk-container-id-1 div.sk-estimator:hover {background-color: #d4ebff;}#sk-container-id-1 div.sk-parallel-item::after {content: \"\";width: 100%;border-bottom: 1px solid gray;flex-grow: 1;}#sk-container-id-1 div.sk-label:hover label.sk-toggleable__label {background-color: #d4ebff;}#sk-container-id-1 div.sk-serial::before {content: \"\";position: absolute;border-left: 1px solid gray;box-sizing: border-box;top: 0;bottom: 0;left: 50%;z-index: 0;}#sk-container-id-1 div.sk-serial {display: flex;flex-direction: column;align-items: center;background-color: white;padding-right: 0.2em;padding-left: 0.2em;position: relative;}#sk-container-id-1 div.sk-item {position: relative;z-index: 1;}#sk-container-id-1 div.sk-parallel {display: flex;align-items: stretch;justify-content: center;background-color: white;position: relative;}#sk-container-id-1 div.sk-item::before, #sk-container-id-1 div.sk-parallel-item::before {content: \"\";position: absolute;border-left: 1px solid gray;box-sizing: border-box;top: 0;bottom: 0;left: 50%;z-index: -1;}#sk-container-id-1 div.sk-parallel-item {display: flex;flex-direction: column;z-index: 1;position: relative;background-color: white;}#sk-container-id-1 div.sk-parallel-item:first-child::after {align-self: flex-end;width: 50%;}#sk-container-id-1 div.sk-parallel-item:last-child::after {align-self: flex-start;width: 50%;}#sk-container-id-1 div.sk-parallel-item:only-child::after {width: 0;}#sk-container-id-1 div.sk-dashed-wrapped {border: 1px dashed gray;margin: 0 0.4em 0.5em 0.4em;box-sizing: border-box;padding-bottom: 0.4em;background-color: white;}#sk-container-id-1 div.sk-label label {font-family: monospace;font-weight: bold;display: inline-block;line-height: 1.2em;}#sk-container-id-1 div.sk-label-container {text-align: center;}#sk-container-id-1 div.sk-container {/* jupyter's `normalize.less` sets `[hidden] { display: none; }` but bootstrap.min.css set `[hidden] { display: none !important; }` so we also need the `!important` here to be able to override the default hidden behavior on the sphinx rendered scikit-learn.org. See: https://github.com/scikit-learn/scikit-learn/issues/21755 */display: inline-block !important;position: relative;}#sk-container-id-1 div.sk-text-repr-fallback {display: none;}</style><div id=\"sk-container-id-1\" class=\"sk-top-container\"><div class=\"sk-text-repr-fallback\"><pre>LinearRegression()</pre><b>In a Jupyter environment, please rerun this cell to show the HTML representation or trust the notebook. <br />On GitHub, the HTML representation is unable to render, please try loading this page with nbviewer.org.</b></div><div class=\"sk-container\" hidden><div class=\"sk-item\"><div class=\"sk-estimator sk-toggleable\"><input class=\"sk-toggleable__control sk-hidden--visually\" id=\"sk-estimator-id-1\" type=\"checkbox\" checked><label for=\"sk-estimator-id-1\" class=\"sk-toggleable__label sk-toggleable__label-arrow\">LinearRegression</label><div class=\"sk-toggleable__content\"><pre>LinearRegression()</pre></div></div></div></div></div>"
      ],
      "text/plain": [
       "LinearRegression()"
      ]
     },
     "execution_count": 7,
     "metadata": {},
     "output_type": "execute_result"
    }
   ],
   "source": [
    "lr = LinearRegression()\n",
    "lr"
   ]
  },
  {
   "cell_type": "markdown",
   "id": "cae180ff",
   "metadata": {
    "cell_style": "split",
    "slideshow": {
     "slide_type": "slide"
    }
   },
   "source": [
    "Training a model\n",
    "- Training: model optimizes parameters to best fit the training data.\n",
    "- In this case: fit regression coefficients minimizing least squared error.\n",
    "- Essentially creates your prediction machine."
   ]
  },
  {
   "cell_type": "markdown",
   "id": "c4fc8d86",
   "metadata": {
    "cell_style": "split",
    "slideshow": {
     "slide_type": "fragment"
    }
   },
   "source": [
    "Testing a model\n",
    "- Take data model has never seen.\n",
    "- How well does modeling predict (generalize) on data it hasn't optimized to?"
   ]
  },
  {
   "cell_type": "markdown",
   "id": "a0435b55",
   "metadata": {
    "cell_style": "split",
    "slideshow": {
     "slide_type": "slide"
    }
   },
   "source": [
    "Need to do both.\n",
    "- In practice: split dataset into train and test sets.\n",
    "- Training set: optimize model on.\n",
    "- Test set: evaluate model performance."
   ]
  },
  {
   "cell_type": "markdown",
   "id": "e9731d8d",
   "metadata": {
    "cell_style": "split",
    "slideshow": {
     "slide_type": "fragment"
    }
   },
   "source": [
    "Scikit-learn:\n",
    "\n",
    "Has function to do this.\n",
    "\n",
    "train_test_split(X, y, test_size = ...)\n",
    "- Shuffles data\n",
    "- Leaves some fraction for testing and the rest for training."
   ]
  },
  {
   "cell_type": "code",
   "execution_count": 8,
   "id": "f54f626c",
   "metadata": {
    "scrolled": true,
    "slideshow": {
     "slide_type": "subslide"
    }
   },
   "outputs": [],
   "source": [
    "# For this, I haven't standardized. Want the actual life expectancy.\n",
    "# Take all the relevant columns \n",
    "col_selector = ['HIV/AIDS', 'Hepatitis B', 'BMI', 'Population', 'Polio',\n",
    "                'Alcohol', 'GDP', 'Measles','Total expenditure', 'Schooling', 'thinness  1-19 years']\n",
    "X = WHO_df[col_selector]\n",
    "X_train, X_test, y_train, y_test = train_test_split(X, y, test_size=0.3)"
   ]
  },
  {
   "cell_type": "code",
   "execution_count": 9,
   "id": "dc6ca5e0",
   "metadata": {
    "slideshow": {
     "slide_type": "fragment"
    }
   },
   "outputs": [
    {
     "name": "stdout",
     "output_type": "stream",
     "text": [
      "1154\n",
      "495\n"
     ]
    }
   ],
   "source": [
    "print(len(X_train))\n",
    "print(len(X_test))"
   ]
  },
  {
   "cell_type": "markdown",
   "id": "0b553cec",
   "metadata": {
    "slideshow": {
     "slide_type": "slide"
    }
   },
   "source": [
    "#### Creating our prediction machine\n",
    "- Train the model\n",
    "- .fit(X,y) method trains the model"
   ]
  },
  {
   "cell_type": "code",
   "execution_count": 10,
   "id": "2e3442fe",
   "metadata": {
    "slideshow": {
     "slide_type": "fragment"
    }
   },
   "outputs": [
    {
     "data": {
      "text/html": [
       "<style>#sk-container-id-2 {color: black;background-color: white;}#sk-container-id-2 pre{padding: 0;}#sk-container-id-2 div.sk-toggleable {background-color: white;}#sk-container-id-2 label.sk-toggleable__label {cursor: pointer;display: block;width: 100%;margin-bottom: 0;padding: 0.3em;box-sizing: border-box;text-align: center;}#sk-container-id-2 label.sk-toggleable__label-arrow:before {content: \"▸\";float: left;margin-right: 0.25em;color: #696969;}#sk-container-id-2 label.sk-toggleable__label-arrow:hover:before {color: black;}#sk-container-id-2 div.sk-estimator:hover label.sk-toggleable__label-arrow:before {color: black;}#sk-container-id-2 div.sk-toggleable__content {max-height: 0;max-width: 0;overflow: hidden;text-align: left;background-color: #f0f8ff;}#sk-container-id-2 div.sk-toggleable__content pre {margin: 0.2em;color: black;border-radius: 0.25em;background-color: #f0f8ff;}#sk-container-id-2 input.sk-toggleable__control:checked~div.sk-toggleable__content {max-height: 200px;max-width: 100%;overflow: auto;}#sk-container-id-2 input.sk-toggleable__control:checked~label.sk-toggleable__label-arrow:before {content: \"▾\";}#sk-container-id-2 div.sk-estimator input.sk-toggleable__control:checked~label.sk-toggleable__label {background-color: #d4ebff;}#sk-container-id-2 div.sk-label input.sk-toggleable__control:checked~label.sk-toggleable__label {background-color: #d4ebff;}#sk-container-id-2 input.sk-hidden--visually {border: 0;clip: rect(1px 1px 1px 1px);clip: rect(1px, 1px, 1px, 1px);height: 1px;margin: -1px;overflow: hidden;padding: 0;position: absolute;width: 1px;}#sk-container-id-2 div.sk-estimator {font-family: monospace;background-color: #f0f8ff;border: 1px dotted black;border-radius: 0.25em;box-sizing: border-box;margin-bottom: 0.5em;}#sk-container-id-2 div.sk-estimator:hover {background-color: #d4ebff;}#sk-container-id-2 div.sk-parallel-item::after {content: \"\";width: 100%;border-bottom: 1px solid gray;flex-grow: 1;}#sk-container-id-2 div.sk-label:hover label.sk-toggleable__label {background-color: #d4ebff;}#sk-container-id-2 div.sk-serial::before {content: \"\";position: absolute;border-left: 1px solid gray;box-sizing: border-box;top: 0;bottom: 0;left: 50%;z-index: 0;}#sk-container-id-2 div.sk-serial {display: flex;flex-direction: column;align-items: center;background-color: white;padding-right: 0.2em;padding-left: 0.2em;position: relative;}#sk-container-id-2 div.sk-item {position: relative;z-index: 1;}#sk-container-id-2 div.sk-parallel {display: flex;align-items: stretch;justify-content: center;background-color: white;position: relative;}#sk-container-id-2 div.sk-item::before, #sk-container-id-2 div.sk-parallel-item::before {content: \"\";position: absolute;border-left: 1px solid gray;box-sizing: border-box;top: 0;bottom: 0;left: 50%;z-index: -1;}#sk-container-id-2 div.sk-parallel-item {display: flex;flex-direction: column;z-index: 1;position: relative;background-color: white;}#sk-container-id-2 div.sk-parallel-item:first-child::after {align-self: flex-end;width: 50%;}#sk-container-id-2 div.sk-parallel-item:last-child::after {align-self: flex-start;width: 50%;}#sk-container-id-2 div.sk-parallel-item:only-child::after {width: 0;}#sk-container-id-2 div.sk-dashed-wrapped {border: 1px dashed gray;margin: 0 0.4em 0.5em 0.4em;box-sizing: border-box;padding-bottom: 0.4em;background-color: white;}#sk-container-id-2 div.sk-label label {font-family: monospace;font-weight: bold;display: inline-block;line-height: 1.2em;}#sk-container-id-2 div.sk-label-container {text-align: center;}#sk-container-id-2 div.sk-container {/* jupyter's `normalize.less` sets `[hidden] { display: none; }` but bootstrap.min.css set `[hidden] { display: none !important; }` so we also need the `!important` here to be able to override the default hidden behavior on the sphinx rendered scikit-learn.org. See: https://github.com/scikit-learn/scikit-learn/issues/21755 */display: inline-block !important;position: relative;}#sk-container-id-2 div.sk-text-repr-fallback {display: none;}</style><div id=\"sk-container-id-2\" class=\"sk-top-container\"><div class=\"sk-text-repr-fallback\"><pre>LinearRegression()</pre><b>In a Jupyter environment, please rerun this cell to show the HTML representation or trust the notebook. <br />On GitHub, the HTML representation is unable to render, please try loading this page with nbviewer.org.</b></div><div class=\"sk-container\" hidden><div class=\"sk-item\"><div class=\"sk-estimator sk-toggleable\"><input class=\"sk-toggleable__control sk-hidden--visually\" id=\"sk-estimator-id-2\" type=\"checkbox\" checked><label for=\"sk-estimator-id-2\" class=\"sk-toggleable__label sk-toggleable__label-arrow\">LinearRegression</label><div class=\"sk-toggleable__content\"><pre>LinearRegression()</pre></div></div></div></div></div>"
      ],
      "text/plain": [
       "LinearRegression()"
      ]
     },
     "execution_count": 10,
     "metadata": {},
     "output_type": "execute_result"
    }
   ],
   "source": [
    "lr.fit(X_train, y_train)"
   ]
  },
  {
   "cell_type": "markdown",
   "id": "77900a1f",
   "metadata": {
    "slideshow": {
     "slide_type": "slide"
    }
   },
   "source": [
    "Get the \"learned\" weights:\n",
    "- Minimizing least squares objective function on training data.\n",
    "- i.e. fit coefficients using training data."
   ]
  },
  {
   "cell_type": "code",
   "execution_count": 11,
   "id": "c099f6cc",
   "metadata": {
    "slideshow": {
     "slide_type": "fragment"
    }
   },
   "outputs": [
    {
     "data": {
      "text/plain": [
       "array([-6.24079507e-01, -5.64476719e-03,  4.95743526e-02,  2.20811283e-09,\n",
       "        2.68548448e-02, -1.22020001e-01,  1.02199469e-04, -1.06032196e-06,\n",
       "        8.94170095e-02,  1.52014238e+00, -1.02114546e-01])"
      ]
     },
     "execution_count": 11,
     "metadata": {},
     "output_type": "execute_result"
    }
   ],
   "source": [
    "lr.coef_"
   ]
  },
  {
   "cell_type": "code",
   "execution_count": 12,
   "id": "6feb21f4",
   "metadata": {
    "slideshow": {
     "slide_type": "fragment"
    }
   },
   "outputs": [
    {
     "data": {
      "text/plain": [
       "48.26265125781513"
      ]
     },
     "execution_count": 12,
     "metadata": {},
     "output_type": "execute_result"
    }
   ],
   "source": [
    "lr.intercept_"
   ]
  },
  {
   "cell_type": "code",
   "execution_count": 13,
   "id": "e07ae2e4",
   "metadata": {
    "slideshow": {
     "slide_type": "fragment"
    }
   },
   "outputs": [
    {
     "data": {
      "text/plain": [
       "Index(['HIV/AIDS', 'Hepatitis B', 'BMI', 'Population', 'Polio', 'Alcohol',\n",
       "       'GDP', 'Measles', 'Total expenditure', 'Schooling',\n",
       "       'thinness  1-19 years'],\n",
       "      dtype='object')"
      ]
     },
     "execution_count": 13,
     "metadata": {},
     "output_type": "execute_result"
    }
   ],
   "source": [
    "X_train.columns"
   ]
  },
  {
   "cell_type": "markdown",
   "id": "baa0b08e",
   "metadata": {
    "slideshow": {
     "slide_type": "slide"
    }
   },
   "source": [
    "Now, can also get $R^2$ on fit."
   ]
  },
  {
   "cell_type": "code",
   "execution_count": 14,
   "id": "b8bcafab",
   "metadata": {
    "slideshow": {
     "slide_type": "fragment"
    }
   },
   "outputs": [
    {
     "data": {
      "text/plain": [
       "0.7614184351978637"
      ]
     },
     "execution_count": 14,
     "metadata": {},
     "output_type": "execute_result"
    }
   ],
   "source": [
    "lr.score(X_train, y_train)"
   ]
  },
  {
   "cell_type": "markdown",
   "id": "370c869f",
   "metadata": {
    "cell_style": "split",
    "slideshow": {
     "slide_type": "slide"
    }
   },
   "source": [
    "Evaluating our model on the test data:\n",
    "- Get predictions of model.\n",
    "- Compare predictions of model to actual y (life expectancy)."
   ]
  },
  {
   "cell_type": "markdown",
   "id": "16dbfa22",
   "metadata": {
    "cell_style": "split",
    "slideshow": {
     "slide_type": "fragment"
    }
   },
   "source": [
    ".predict(X_test) method on trained model"
   ]
  },
  {
   "cell_type": "code",
   "execution_count": 32,
   "id": "a569dc7a",
   "metadata": {
    "slideshow": {
     "slide_type": "fragment"
    }
   },
   "outputs": [
    {
     "data": {
      "text/plain": [
       "array([77.20799779, 68.56416878, 58.2602593 , 80.84511038, 74.1722586 ,\n",
       "       78.68045028, 64.19049103, 74.06222777, 60.87608888, 77.51961191])"
      ]
     },
     "execution_count": 32,
     "metadata": {},
     "output_type": "execute_result"
    }
   ],
   "source": [
    "# This gets the predictions of model on test set.\n",
    "y_pred = lr.predict(X_test)\n",
    "#get first ten elements of prediction.\n",
    "y_pred[0:10]"
   ]
  },
  {
   "cell_type": "markdown",
   "id": "da27b6de",
   "metadata": {
    "slideshow": {
     "slide_type": "slide"
    }
   },
   "source": [
    "Evaluating the model:\n",
    "- We care about how good prediction on life expectancy is given X (features).\n",
    "- Compare $y_{pred}$ made on $X_{test}$ to actual $y_{test}$.\n",
    "- Some metrics for comparison: the mean absolute error, the root mean squared error."
   ]
  },
  {
   "cell_type": "markdown",
   "id": "522a6c3f",
   "metadata": {
    "cell_style": "split",
    "slideshow": {
     "slide_type": "slide"
    }
   },
   "source": [
    "Mean absolute error:\n",
    "$$ MAE = \\frac{1}{N}\\sum_i^N |y_{i}- \\hat{y}_i|$$\n",
    "\n",
    "where $\\hat{y}_i$ is our prediction."
   ]
  },
  {
   "cell_type": "markdown",
   "id": "b3da9238",
   "metadata": {
    "cell_style": "split",
    "slideshow": {
     "slide_type": "fragment"
    }
   },
   "source": [
    "Root means squared error:\n",
    "- More sensitive to outliers.\n",
    "\n",
    "$$ RMSE = \\sqrt{\\frac{1}{N}\\sum_i^N (y_{i}- \\hat{y}_i)^2} $$"
   ]
  },
  {
   "cell_type": "markdown",
   "id": "c2294e3c",
   "metadata": {
    "slideshow": {
     "slide_type": "slide"
    }
   },
   "source": [
    "Evaluate model prediction on test set:"
   ]
  },
  {
   "cell_type": "code",
   "execution_count": 16,
   "id": "adfb69d8",
   "metadata": {
    "cell_style": "split",
    "slideshow": {
     "slide_type": "fragment"
    }
   },
   "outputs": [
    {
     "data": {
      "text/plain": [
       "3.3755801553375666"
      ]
     },
     "execution_count": 16,
     "metadata": {},
     "output_type": "execute_result"
    }
   ],
   "source": [
    "MAE = mean_absolute_error(y_test, y_pred)\n",
    "MAE"
   ]
  },
  {
   "cell_type": "code",
   "execution_count": 17,
   "id": "606c92b5",
   "metadata": {
    "cell_style": "split",
    "slideshow": {
     "slide_type": "fragment"
    }
   },
   "outputs": [
    {
     "data": {
      "text/plain": [
       "4.27940221514575"
      ]
     },
     "execution_count": 17,
     "metadata": {},
     "output_type": "execute_result"
    }
   ],
   "source": [
    "RMSE = np.sqrt(mean_squared_error(y_pred, y_test))\n",
    "RMSE"
   ]
  },
  {
   "cell_type": "code",
   "execution_count": 18,
   "id": "73cc63bc",
   "metadata": {},
   "outputs": [],
   "source": [
    "import matplotlib.pyplot as plt"
   ]
  },
  {
   "cell_type": "code",
   "execution_count": 19,
   "id": "4d5f33e4",
   "metadata": {
    "scrolled": true,
    "slideshow": {
     "slide_type": "skip"
    }
   },
   "outputs": [],
   "source": [
    "%%capture life_test\n",
    "fig, ax = plt.subplots()\n",
    "y_test.hist(bins = 15, ax = ax)\n",
    "ax.set_xlabel('Life expectancy')\n",
    "ax.set_ylabel('Counts')\n",
    "ax.set_title('Life expectancy: test distribution')\n",
    "plt.show()"
   ]
  },
  {
   "cell_type": "code",
   "execution_count": 20,
   "id": "d66b92f9",
   "metadata": {
    "slideshow": {
     "slide_type": "fragment"
    }
   },
   "outputs": [
    {
     "data": {
      "image/png": "[encoded data removed]",
      "text/plain": [
       "<Figure size 640x480 with 1 Axes>"
      ]
     },
     "metadata": {},
     "output_type": "display_data"
    }
   ],
   "source": [
    "life_test()"
   ]
  },
  {
   "cell_type": "markdown",
   "id": "3a1f3a34",
   "metadata": {
    "slideshow": {
     "slide_type": "slide"
    }
   },
   "source": [
    "From the perspective of prediction and our tolerance: this is not shabby.\n",
    "- Seeing a few individual examples."
   ]
  },
  {
   "cell_type": "code",
   "execution_count": 21,
   "id": "eaae02be",
   "metadata": {
    "cell_style": "center",
    "slideshow": {
     "slide_type": "fragment"
    }
   },
   "outputs": [
    {
     "data": {
      "text/plain": [
       "HIV/AIDS                    31.9000\n",
       "Hepatitis B                  9.0000\n",
       "BMI                         31.6000\n",
       "Population              184339.0000\n",
       "Polio                       96.0000\n",
       "Alcohol                      5.5100\n",
       "GDP                       4163.6596\n",
       "Measles                     59.0000\n",
       "Total expenditure            4.6500\n",
       "Schooling                   11.8000\n",
       "thinness  1-19 years         1.9000\n",
       "Name: 348, dtype: float64"
      ]
     },
     "execution_count": 21,
     "metadata": {},
     "output_type": "execute_result"
    }
   ],
   "source": [
    "examp_idx = 18\n",
    "single_examp = X_test.iloc[examp_idx].values\n",
    "X_test.iloc[examp_idx]"
   ]
  },
  {
   "cell_type": "code",
   "execution_count": 38,
   "id": "de477f7e",
   "metadata": {},
   "outputs": [
    {
     "data": {
      "text/plain": [
       "(11,)"
      ]
     },
     "execution_count": 38,
     "metadata": {},
     "output_type": "execute_result"
    }
   ],
   "source": [
    "single_examp.shape"
   ]
  },
  {
   "cell_type": "code",
   "execution_count": 41,
   "id": "ded4993d",
   "metadata": {},
   "outputs": [
    {
     "data": {
      "text/plain": [
       "array([[3.1900000e+01, 9.0000000e+00, 3.1600000e+01, 1.8433900e+05,\n",
       "        9.6000000e+01, 5.5100000e+00, 4.1636596e+03, 5.9000000e+01,\n",
       "        4.6500000e+00, 1.1800000e+01, 1.9000000e+00]])"
      ]
     },
     "execution_count": 41,
     "metadata": {},
     "output_type": "execute_result"
    }
   ],
   "source": [
    "single_examp.reshape(1,-1)"
   ]
  },
  {
   "cell_type": "code",
   "execution_count": 42,
   "id": "59a9a275",
   "metadata": {
    "cell_style": "split",
    "scrolled": false,
    "slideshow": {
     "slide_type": "slide"
    }
   },
   "outputs": [
    {
     "name": "stderr",
     "output_type": "stream",
     "text": [
      "C:\\Users\\Praveen\\anaconda3\\Lib\\site-packages\\sklearn\\base.py:439: UserWarning: X does not have valid feature names, but LinearRegression was fitted with feature names\n",
      "  warnings.warn(\n"
     ]
    },
    {
     "data": {
      "text/plain": [
       "array([50.36131635])"
      ]
     },
     "execution_count": 42,
     "metadata": {},
     "output_type": "execute_result"
    }
   ],
   "source": [
    "lr.predict(single_examp.reshape(1,-1))"
   ]
  },
  {
   "cell_type": "code",
   "execution_count": 43,
   "id": "2e1056ea",
   "metadata": {
    "cell_style": "split",
    "slideshow": {
     "slide_type": "fragment"
    }
   },
   "outputs": [
    {
     "data": {
      "text/plain": [
       "46.4"
      ]
     },
     "execution_count": 43,
     "metadata": {},
     "output_type": "execute_result"
    }
   ],
   "source": [
    "y_test.iloc[examp_idx]"
   ]
  },
  {
   "cell_type": "markdown",
   "id": "e7c3b80c",
   "metadata": {
    "slideshow": {
     "slide_type": "slide"
    }
   },
   "source": [
    "#### Determinants of prediction error\n",
    "- Will talk about this in detail in a future lecture.\n",
    "\n",
    "Much of machine learning focuses on understanding sources of error.\n",
    "- Tuning model to get better prediction performance in test phase.\n",
    "- Balancing tradeoffs between various sources of error."
   ]
  },
  {
   "cell_type": "markdown",
   "id": "34684b1f",
   "metadata": {
    "slideshow": {
     "slide_type": "slide"
    }
   },
   "source": [
    "\n",
    "The king wants you to:\n",
    "- estimate the average life expectancy of his subjects. \n",
    "- speculate on what factors might be at play in determining the average life of his subject. \n",
    "\n"
   ]
  },
  {
   "cell_type": "markdown",
   "id": "004797e1",
   "metadata": {
    "slideshow": {
     "slide_type": "slide"
    }
   },
   "source": [
    "#### Answering the king's first question:"
   ]
  },
  {
   "cell_type": "code",
   "execution_count": 26,
   "id": "c32c7f11",
   "metadata": {
    "slideshow": {
     "slide_type": "fragment"
    }
   },
   "outputs": [
    {
     "data": {
      "text/plain": [
       "HIV/AIDS                     14.40\n",
       "Hepatitis B                  93.00\n",
       "BMI                          33.20\n",
       "Population              1884238.00\n",
       "Polio                        96.00\n",
       "Alcohol                       6.45\n",
       "GDP                        5374.00\n",
       "Measles                       6.00\n",
       "Total expenditure             4.93\n",
       "Schooling                    11.90\n",
       "thinness  1-19 years          9.60\n",
       "dtype: float64"
      ]
     },
     "execution_count": 26,
     "metadata": {},
     "output_type": "execute_result"
    }
   ],
   "source": [
    "zamunda_dict = {'HIV/AIDS': 14.4, 'Hepatitis B': 93, 'BMI': 33.2, 'Population': 1884238, 'Polio': 96, 'Alcohol': 6.45,\n",
    "       'GDP': 5374, 'Measles': 6, 'Total expenditure': 4.93, 'Schooling': 11.9, 'thinness  1-19 years': 9.6}\n",
    "\n",
    "X_zamunda = pd.Series(zamunda_dict)\n",
    "X_zamunda"
   ]
  },
  {
   "cell_type": "markdown",
   "id": "99082294",
   "metadata": {
    "slideshow": {
     "slide_type": "slide"
    }
   },
   "source": [
    "Let's put this into the model and get our prediction. For a single example need to:\n",
    "- convert to numpy array\n",
    "- do a reshape to get into form scikit learn likes."
   ]
  },
  {
   "cell_type": "code",
   "execution_count": 27,
   "id": "03de2bd0",
   "metadata": {
    "cell_style": "split",
    "slideshow": {
     "slide_type": "fragment"
    }
   },
   "outputs": [
    {
     "data": {
      "text/plain": [
       "array([1.440000e+01, 9.300000e+01, 3.320000e+01, 1.884238e+06,\n",
       "       9.600000e+01, 6.450000e+00, 5.374000e+03, 6.000000e+00,\n",
       "       4.930000e+00, 1.190000e+01, 9.600000e+00])"
      ]
     },
     "execution_count": 27,
     "metadata": {},
     "output_type": "execute_result"
    }
   ],
   "source": [
    "X_zam_np = X_zamunda.copy()\n",
    "X_zam_np.values"
   ]
  },
  {
   "cell_type": "code",
   "execution_count": 28,
   "id": "0c1f106e",
   "metadata": {
    "cell_style": "split",
    "slideshow": {
     "slide_type": "fragment"
    }
   },
   "outputs": [
    {
     "data": {
      "text/plain": [
       "array([[1.440000e+01, 9.300000e+01, 3.320000e+01, 1.884238e+06,\n",
       "        9.600000e+01, 6.450000e+00, 5.374000e+03, 6.000000e+00,\n",
       "        4.930000e+00, 1.190000e+01, 9.600000e+00]])"
      ]
     },
     "execution_count": 28,
     "metadata": {},
     "output_type": "execute_result"
    }
   ],
   "source": [
    "# predict() needs to take a 2D array\n",
    "X_zam_np.values.reshape(1,-1)"
   ]
  },
  {
   "cell_type": "markdown",
   "id": "68d5f51c",
   "metadata": {
    "slideshow": {
     "slide_type": "slide"
    }
   },
   "source": [
    "The model predicts a life expectancy for Zamunda of:"
   ]
  },
  {
   "cell_type": "code",
   "execution_count": 29,
   "id": "b73da13c",
   "metadata": {
    "cell_style": "split",
    "slideshow": {
     "slide_type": "fragment"
    }
   },
   "outputs": [
    {
     "name": "stderr",
     "output_type": "stream",
     "text": [
      "C:\\Users\\Praveen\\anaconda3\\Lib\\site-packages\\sklearn\\base.py:439: UserWarning: X does not have valid feature names, but LinearRegression was fitted with feature names\n",
      "  warnings.warn(\n"
     ]
    },
    {
     "data": {
      "text/plain": [
       "array([60.29144235])"
      ]
     },
     "execution_count": 29,
     "metadata": {},
     "output_type": "execute_result"
    }
   ],
   "source": [
    "lr.predict(X_zam_np.values.reshape(1,-1))"
   ]
  },
  {
   "cell_type": "markdown",
   "id": "bf8d01ca",
   "metadata": {
    "cell_style": "split",
    "slideshow": {
     "slide_type": "fragment"
    }
   },
   "source": [
    "Is this good? Is this bad? Compare to:"
   ]
  },
  {
   "cell_type": "code",
   "execution_count": 30,
   "id": "8d547b28",
   "metadata": {
    "cell_style": "split",
    "slideshow": {
     "slide_type": "fragment"
    }
   },
   "outputs": [
    {
     "data": {
      "image/png": "[encoded data removed]",
      "text/plain": [
       "<Figure size 640x480 with 1 Axes>"
      ]
     },
     "metadata": {},
     "output_type": "display_data"
    }
   ],
   "source": [
    "life_test()"
   ]
  },
  {
   "cell_type": "markdown",
   "id": "2bc0756a",
   "metadata": {
    "cell_style": "split",
    "slideshow": {
     "slide_type": "slide"
    }
   },
   "source": [
    "**Prediction**\n",
    "- What is the average life expectancy of his subjects?\n",
    "    - ~60 years.\n"
   ]
  },
  {
   "cell_type": "markdown",
   "id": "a232d928",
   "metadata": {
    "cell_style": "split",
    "slideshow": {
     "slide_type": "fragment"
    }
   },
   "source": [
    "**Inference**\n",
    "- HIV/AIDS prevalence and Schooling\n",
    "- High correlation with life expectancy"
   ]
  },
  {
   "cell_type": "markdown",
   "id": "245c104d",
   "metadata": {
    "slideshow": {
     "slide_type": "slide"
    }
   },
   "source": [
    "#### Next up\n",
    "\n",
    "- Improving model performance by:\n",
    "    - transforming features\n",
    "    - systematically understanding/correcting for sources of prediction error.\n"
   ]
  }
 ],
 "metadata": {
  "celltoolbar": "Slideshow",
  "kernelspec": {
   "display_name": "Python 3 (ipykernel)",
   "language": "python",
   "name": "python3"
  },
  "language_info": {
   "codemirror_mode": {
    "name": "ipython",
    "version": 3
   },
   "file_extension": ".py",
   "mimetype": "text/x-python",
   "name": "python",
   "nbconvert_exporter": "python",
   "pygments_lexer": "ipython3",
   "version": "3.11.7"
  }
 },
 "nbformat": 4,
 "nbformat_minor": 5
}
